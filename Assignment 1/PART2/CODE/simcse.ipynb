{
  "nbformat": 4,
  "nbformat_minor": 0,
  "metadata": {
    "colab": {
      "provenance": []
    },
    "kernelspec": {
      "name": "python3",
      "display_name": "Python 3"
    },
    "language_info": {
      "name": "python"
    }
  },
  "cells": [
    {
      "cell_type": "code",
      "source": [
        "import numpy as np\n",
        "from simcse import SimCSE\n",
        "\n",
        "with open('STS2016.input.plagiarism.txt') as f:\n",
        "    lines = str(f.readlines())\n",
        "s1=str(lines).split('\\\\n')\n",
        "line1=[]\n",
        "line2=[]\n",
        "for i in range(0,len(s1)-1):\n",
        "  line1.append(s1[i].split('\\\\t')[0])\n",
        "  line2.append(s1[i].split('\\\\t')[1])\n",
        "import re\n",
        "string1=[]\n",
        "for i in line1:\n",
        "  string1.append(re.sub(r\"[^a-zA-Z0-9]+\",' ',i))\n",
        "string2=[]\n",
        "for i in line2:\n",
        "  string2.append(re.sub(r\"[^a-zA-Z0-9]+\",' ',i))\n",
        "strin=string1 +string2\n",
        "\n",
        "\n",
        "model = SimCSE(\"princeton-nlp/sup-simcse-bert-base-uncased\")\n",
        "\n",
        "def cosine(u, v):\n",
        "    return np.dot(u, v) / (np.linalg.norm(u) * np.linalg.norm(v))\n",
        "\n",
        "x=0\n",
        "similar=[]\n",
        "for i in range(0, len(string1)-1):\n",
        "  sim = cosine(model.encode(string1[i]), model.encode(string2[i]))\n",
        "  print(\"Sentence = \", string1[i], string2[i], \"; similarity = \", sim)\n",
        "  similar.append(sim)\n",
        "  x=x+1\n"
      ],
      "metadata": {
        "id": "u1xOoZcZEv_A",
        "colab": {
          "base_uri": "https://localhost:8080/"
        },
        "outputId": "66ac3d4d-7a27-4abc-c503-178b9ebba608"
      },
      "execution_count": 14,
      "outputs": [
        {
          "output_type": "stream",
          "name": "stderr",
          "text": [
            "100%|██████████| 1/1 [00:00<00:00,  5.91it/s]\n",
            "100%|██████████| 1/1 [00:00<00:00,  9.39it/s]\n"
          ]
        },
        {
          "output_type": "stream",
          "name": "stdout",
          "text": [
            "Sentence =   The vector space model has some limitations 1  The vector space model are the documents which are represented as bags of words  ; similarity =  0.50013936\n"
          ]
        },
        {
          "output_type": "stream",
          "name": "stderr",
          "text": [
            "100%|██████████| 1/1 [00:00<00:00,  9.10it/s]\n",
            "100%|██████████| 1/1 [00:00<00:00, 10.71it/s]\n"
          ]
        },
        {
          "output_type": "stream",
          "name": "stdout",
          "text": [
            "Sentence =   Secondly to define the value of the optimal solution recursively  Define value of optimal solution recursively  ; similarity =  0.91465884\n"
          ]
        },
        {
          "output_type": "stream",
          "name": "stderr",
          "text": [
            "100%|██████████| 1/1 [00:00<00:00,  7.48it/s]\n",
            "100%|██████████| 1/1 [00:00<00:00,  8.62it/s]\n"
          ]
        },
        {
          "output_type": "stream",
          "name": "stdout",
          "text": [
            "Sentence =   Vector space representation results in the loss of the order which the terms are in the document  If a term occurs in the document the value will be non zero in the vector  ; similarity =  0.5270527\n"
          ]
        },
        {
          "output_type": "stream",
          "name": "stderr",
          "text": [
            "100%|██████████| 1/1 [00:00<00:00,  7.60it/s]\n",
            "100%|██████████| 1/1 [00:00<00:00,  8.26it/s]\n"
          ]
        },
        {
          "output_type": "stream",
          "name": "stdout",
          "text": [
            "Sentence =   P B is the prior or marginal probability of B and acts as a normalizing constant  P A or the probability that the student is a girl regardless of any other information  ; similarity =  0.3730159\n"
          ]
        },
        {
          "output_type": "stream",
          "name": "stderr",
          "text": [
            "100%|██████████| 1/1 [00:00<00:00,  7.52it/s]\n",
            "100%|██████████| 1/1 [00:00<00:00,  8.41it/s]\n"
          ]
        },
        {
          "output_type": "stream",
          "name": "stdout",
          "text": [
            "Sentence =   It is prior in the sense that it does not take into account any information about B  It is previous in the sense that it does not take into account any information about B  ; similarity =  0.95379853\n"
          ]
        },
        {
          "output_type": "stream",
          "name": "stderr",
          "text": [
            "100%|██████████| 1/1 [00:00<00:00,  9.23it/s]\n",
            "100%|██████████| 1/1 [00:00<00:00,  8.61it/s]\n"
          ]
        },
        {
          "output_type": "stream",
          "name": "stdout",
          "text": [
            "Sentence =   The vector space model has the following limitations 1  Models based on and extending the vector space model include Generalized vector space model  ; similarity =  0.6085254\n"
          ]
        },
        {
          "output_type": "stream",
          "name": "stderr",
          "text": [
            "100%|██████████| 1/1 [00:00<00:00,  8.82it/s]\n",
            "100%|██████████| 1/1 [00:00<00:00,  8.02it/s]\n"
          ]
        },
        {
          "output_type": "stream",
          "name": "stdout",
          "text": [
            "Sentence =   This general three step process can be used to solve a problem 1  In general we can solve a problem with optimal substructure using a three step process 1  ; similarity =  0.88582015\n"
          ]
        },
        {
          "output_type": "stream",
          "name": "stderr",
          "text": [
            "100%|██████████| 1/1 [00:00<00:00,  8.49it/s]\n",
            "100%|██████████| 1/1 [00:00<00:00,  7.98it/s]\n"
          ]
        },
        {
          "output_type": "stream",
          "name": "stdout",
          "text": [
            "Sentence =   One of the best known schemes is tf idf weighting see the example below  One of the best known schemes is tf idf term frequency inverse document frequency weighting  ; similarity =  0.85790306\n"
          ]
        },
        {
          "output_type": "stream",
          "name": "stderr",
          "text": [
            "100%|██████████| 1/1 [00:00<00:00,  8.15it/s]\n",
            "100%|██████████| 1/1 [00:00<00:00,  8.28it/s]\n"
          ]
        },
        {
          "output_type": "stream",
          "name": "stdout",
          "text": [
            "Sentence =   If a term occurs in the document its value in the vector is non zero  If a term appears in the document then its value in the vector is non zero  ; similarity =  0.9869278\n"
          ]
        },
        {
          "output_type": "stream",
          "name": "stderr",
          "text": [
            "100%|██████████| 1/1 [00:00<00:00,  7.63it/s]\n",
            "100%|██████████| 1/1 [00:00<00:00,  7.27it/s]\n"
          ]
        },
        {
          "output_type": "stream",
          "name": "stdout",
          "text": [
            "Sentence =   Inheritance in object oriented programming is a way to form new classes using classes that have already been defined  The peropos of inheritance in object oriented programming is to minimize the reuse of existing code without modification  ; similarity =  0.6220221\n"
          ]
        },
        {
          "output_type": "stream",
          "name": "stderr",
          "text": [
            "100%|██████████| 1/1 [00:00<00:00,  8.94it/s]\n",
            "100%|██████████| 1/1 [00:00<00:00, 11.07it/s]\n"
          ]
        },
        {
          "output_type": "stream",
          "name": "stdout",
          "text": [
            "Sentence =   To explain further vector space models basically a document is characterized by a vector  A document is represented as a vector  ; similarity =  0.8306863\n"
          ]
        },
        {
          "output_type": "stream",
          "name": "stderr",
          "text": [
            "100%|██████████| 1/1 [00:00<00:00,  7.80it/s]\n",
            "100%|██████████| 1/1 [00:00<00:00,  8.02it/s]\n"
          ]
        },
        {
          "output_type": "stream",
          "name": "stdout",
          "text": [
            "Sentence =   Bayes theorem was names after Rev Thomas Bayes and is a method used in probability theory  As an official theorem Bayes theorem is valid in all universal interpretations of probability  ; similarity =  0.4571797\n"
          ]
        },
        {
          "output_type": "stream",
          "name": "stderr",
          "text": [
            "100%|██████████| 1/1 [00:00<00:00,  9.29it/s]\n",
            "100%|██████████| 1/1 [00:00<00:00,  8.82it/s]\n"
          ]
        },
        {
          "output_type": "stream",
          "name": "stdout",
          "text": [
            "Sentence =   The typical example could be of a finalized schedule of events at an exhibition  For example a schedule of events at an exhibition is sometimes called a programme  ; similarity =  0.8265634\n"
          ]
        },
        {
          "output_type": "stream",
          "name": "stderr",
          "text": [
            "100%|██████████| 1/1 [00:00<00:00,  8.98it/s]\n",
            "100%|██████████| 1/1 [00:00<00:00, 11.15it/s]\n"
          ]
        },
        {
          "output_type": "stream",
          "name": "stdout",
          "text": [
            "Sentence =   P A B is the conditional probability of A given B  P A is the prior probability A  ; similarity =  0.77608263\n"
          ]
        },
        {
          "output_type": "stream",
          "name": "stderr",
          "text": [
            "100%|██████████| 1/1 [00:00<00:00,  8.59it/s]\n",
            "100%|██████████| 1/1 [00:00<00:00,  8.43it/s]\n"
          ]
        },
        {
          "output_type": "stream",
          "name": "stdout",
          "text": [
            "Sentence =   If a term appears in the document then its value in the vector is non zero  A document is represented as a vector and each dimension corresponds to a separate term  ; similarity =  0.64104736\n"
          ]
        },
        {
          "output_type": "stream",
          "name": "stderr",
          "text": [
            "100%|██████████| 1/1 [00:00<00:00,  8.31it/s]\n",
            "100%|██████████| 1/1 [00:00<00:00,  9.35it/s]\n"
          ]
        },
        {
          "output_type": "stream",
          "name": "stdout",
          "text": [
            "Sentence =   If a term occurs in the document its value in the vector is non zero  A document is represented as a vector  ; similarity =  0.58108807\n"
          ]
        },
        {
          "output_type": "stream",
          "name": "stderr",
          "text": [
            "100%|██████████| 1/1 [00:00<00:00,  9.42it/s]\n",
            "100%|██████████| 1/1 [00:00<00:00,  8.27it/s]\n"
          ]
        },
        {
          "output_type": "stream",
          "name": "stdout",
          "text": [
            "Sentence =   P B A is the conditional probability of B given A  P B a k a the normalizing constant is the prior or marginal probability of B  ; similarity =  0.84253585\n"
          ]
        },
        {
          "output_type": "stream",
          "name": "stderr",
          "text": [
            "100%|██████████| 1/1 [00:00<00:00,  8.48it/s]\n",
            "100%|██████████| 1/1 [00:00<00:00, 10.64it/s]\n"
          ]
        },
        {
          "output_type": "stream",
          "name": "stdout",
          "text": [
            "Sentence =   The basic idea is to represent each document as a vector of certain weighted word frequencies  A document can be represented as a vector  ; similarity =  0.7376768\n"
          ]
        },
        {
          "output_type": "stream",
          "name": "stderr",
          "text": [
            "100%|██████████| 1/1 [00:00<00:00,  8.02it/s]\n",
            "100%|██████████| 1/1 [00:00<00:00,  8.11it/s]\n"
          ]
        },
        {
          "output_type": "stream",
          "name": "stdout",
          "text": [
            "Sentence =   If a term exists in a document its value in the vector is not equal to zero  If the term doesn t occur within the document the value in the vector is zero  ; similarity =  0.75962555\n"
          ]
        },
        {
          "output_type": "stream",
          "name": "stderr",
          "text": [
            "100%|██████████| 1/1 [00:00<00:00, 10.25it/s]\n",
            "100%|██████████| 1/1 [00:00<00:00,  8.31it/s]\n"
          ]
        },
        {
          "output_type": "stream",
          "name": "stdout",
          "text": [
            "Sentence =   Generalise the structure of an optimal solution 2  Characterise structure of an optimal solution  ; similarity =  0.8096458\n"
          ]
        },
        {
          "output_type": "stream",
          "name": "stderr",
          "text": [
            "100%|██████████| 1/1 [00:00<00:00,  8.34it/s]\n",
            "100%|██████████| 1/1 [00:00<00:00,  9.03it/s]\n"
          ]
        },
        {
          "output_type": "stream",
          "name": "stdout",
          "text": [
            "Sentence =   P A B is the conditional probability of A given B   P B A is the conditional probability of B given A  ; similarity =  0.98315823\n"
          ]
        },
        {
          "output_type": "stream",
          "name": "stderr",
          "text": [
            "100%|██████████| 1/1 [00:00<00:00, 10.03it/s]\n",
            "100%|██████████| 1/1 [00:00<00:00,  8.89it/s]\n"
          ]
        },
        {
          "output_type": "stream",
          "name": "stdout",
          "text": [
            "Sentence =   The methodology takes much less time rather than naive methods  And thus the method takes much less time than more naive methods  ; similarity =  0.9242752\n"
          ]
        },
        {
          "output_type": "stream",
          "name": "stderr",
          "text": [
            "100%|██████████| 1/1 [00:00<00:00,  9.63it/s]\n",
            "100%|██████████| 1/1 [00:00<00:00,  8.12it/s]\n"
          ]
        },
        {
          "output_type": "stream",
          "name": "stdout",
          "text": [
            "Sentence =   P A B is the conditional probability of A given B  P A or the probability that the student is a girl regardless of any other information  ; similarity =  0.47685117\n"
          ]
        },
        {
          "output_type": "stream",
          "name": "stderr",
          "text": [
            "100%|██████████| 1/1 [00:00<00:00,  9.07it/s]\n",
            "100%|██████████| 1/1 [00:00<00:00,  8.58it/s]\n"
          ]
        },
        {
          "output_type": "stream",
          "name": "stdout",
          "text": [
            "Sentence =   P B A is the conditional probability of B given A   P A B is the conditional probability of A given B  ; similarity =  0.98315823\n"
          ]
        },
        {
          "output_type": "stream",
          "name": "stderr",
          "text": [
            "100%|██████████| 1/1 [00:00<00:00,  7.78it/s]\n",
            "100%|██████████| 1/1 [00:00<00:00, 10.74it/s]\n"
          ]
        },
        {
          "output_type": "stream",
          "name": "stdout",
          "text": [
            "Sentence =   Memoization is used in order to save time the solutions are stored rather than be recomputed  In some areas less information need to be stored  ; similarity =  0.52862006\n"
          ]
        },
        {
          "output_type": "stream",
          "name": "stderr",
          "text": [
            "100%|██████████| 1/1 [00:00<00:00,  8.68it/s]\n",
            "100%|██████████| 1/1 [00:00<00:00,  9.36it/s]\n"
          ]
        },
        {
          "output_type": "stream",
          "name": "stdout",
          "text": [
            "Sentence =   The differing application has a direct influence on what the definition of the term means  The way that a term is defined depends on the application  ; similarity =  0.82694954\n"
          ]
        },
        {
          "output_type": "stream",
          "name": "stderr",
          "text": [
            "100%|██████████| 1/1 [00:00<00:00,  8.11it/s]\n",
            "100%|██████████| 1/1 [00:00<00:00,  8.66it/s]\n"
          ]
        },
        {
          "output_type": "stream",
          "name": "stdout",
          "text": [
            "Sentence =   Thus the program is the optimal plan of action that is being produced  Thus the program is the optimal plan for action that is produced  ; similarity =  0.9868273\n"
          ]
        },
        {
          "output_type": "stream",
          "name": "stderr",
          "text": [
            "100%|██████████| 1/1 [00:00<00:00,  8.91it/s]\n",
            "100%|██████████| 1/1 [00:00<00:00,  7.54it/s]\n"
          ]
        },
        {
          "output_type": "stream",
          "name": "stdout",
          "text": [
            "Sentence =   Thus the program is the optimal plan for action that is produced  Therefore the program is the optimal plan for action that is produced  ; similarity =  0.99866414\n"
          ]
        },
        {
          "output_type": "stream",
          "name": "stderr",
          "text": [
            "100%|██████████| 1/1 [00:00<00:00,  8.50it/s]\n",
            "100%|██████████| 1/1 [00:00<00:00,  7.48it/s]\n"
          ]
        },
        {
          "output_type": "stream",
          "name": "stdout",
          "text": [
            "Sentence =   In object oriented programming inheritance is also dependant on access level modifiers  Object oriented programming is a style of programming that supports encapsulation inheritance and polymorphism  ; similarity =  0.80323285\n"
          ]
        },
        {
          "output_type": "stream",
          "name": "stderr",
          "text": [
            "100%|██████████| 1/1 [00:00<00:00,  8.49it/s]\n",
            "100%|██████████| 1/1 [00:00<00:00,  8.53it/s]\n"
          ]
        },
        {
          "output_type": "stream",
          "name": "stdout",
          "text": [
            "Sentence =   One of the best known schemes is tf idf weighting see the example below  One of the best known methods is called tf idf weighting  ; similarity =  0.89235383\n"
          ]
        },
        {
          "output_type": "stream",
          "name": "stderr",
          "text": [
            "100%|██████████| 1/1 [00:00<00:00, 10.37it/s]\n",
            "100%|██████████| 1/1 [00:00<00:00,  8.68it/s]\n"
          ]
        },
        {
          "output_type": "stream",
          "name": "stdout",
          "text": [
            "Sentence =   Each dimensions corresponds to a separate terms  A document is represented as a vector with each dimension corresponding to a separate term  ; similarity =  0.77592564\n"
          ]
        },
        {
          "output_type": "stream",
          "name": "stderr",
          "text": [
            "100%|██████████| 1/1 [00:00<00:00,  7.70it/s]\n",
            "100%|██████████| 1/1 [00:00<00:00,  8.05it/s]\n"
          ]
        },
        {
          "output_type": "stream",
          "name": "stdout",
          "text": [
            "Sentence =   The idea of inheritance is to reuse the existing code with little or no modification at all  It was intended to allow existing code to be used again with minimal or no alteration  ; similarity =  0.6946774\n"
          ]
        },
        {
          "output_type": "stream",
          "name": "stderr",
          "text": [
            "100%|██████████| 1/1 [00:00<00:00,  7.67it/s]\n",
            "100%|██████████| 1/1 [00:00<00:00,  8.58it/s]\n"
          ]
        },
        {
          "output_type": "stream",
          "name": "stdout",
          "text": [
            "Sentence =   It is previous in the sense that it does not take into account any information about B  It does not take into account any information about B and therefore is considered prior  ; similarity =  0.91722536\n"
          ]
        },
        {
          "output_type": "stream",
          "name": "stderr",
          "text": [
            "100%|██████████| 1/1 [00:00<00:00, 10.32it/s]\n",
            "100%|██████████| 1/1 [00:00<00:00, 10.67it/s]\n"
          ]
        },
        {
          "output_type": "stream",
          "name": "stdout",
          "text": [
            "Sentence =   Generalise the structure of an optimal solution 2  Construct an optimal solution from computed values  ; similarity =  0.72777045\n"
          ]
        },
        {
          "output_type": "stream",
          "name": "stderr",
          "text": [
            "100%|██████████| 1/1 [00:00<00:00, 10.72it/s]\n",
            "100%|██████████| 1/1 [00:00<00:00,  9.00it/s]\n"
          ]
        },
        {
          "output_type": "stream",
          "name": "stdout",
          "text": [
            "Sentence =   Each dimensions corresponds to a separate terms  A document is represented as a vector and each dimension corresponds to a separate term  ; similarity =  0.79487324\n"
          ]
        },
        {
          "output_type": "stream",
          "name": "stderr",
          "text": [
            "100%|██████████| 1/1 [00:00<00:00,  9.74it/s]\n",
            "100%|██████████| 1/1 [00:00<00:00,  7.81it/s]\n"
          ]
        },
        {
          "output_type": "stream",
          "name": "stdout",
          "text": [
            "Sentence =   The correct answer can be computed using Bayes theorem  Bayes theorem relates the conditional and marginal probabilities of two random events  ; similarity =  0.5283248\n"
          ]
        },
        {
          "output_type": "stream",
          "name": "stderr",
          "text": [
            "100%|██████████| 1/1 [00:00<00:00,  8.44it/s]\n",
            "100%|██████████| 1/1 [00:00<00:00,  8.53it/s]\n"
          ]
        },
        {
          "output_type": "stream",
          "name": "stdout",
          "text": [
            "Sentence =   Several different ways have been developed of calculating these values also known as term weights  Several different ways of computing these values also known as term weights have been developed  ; similarity =  0.97647655\n"
          ]
        },
        {
          "output_type": "stream",
          "name": "stderr",
          "text": [
            "100%|██████████| 1/1 [00:00<00:00,  7.34it/s]\n",
            "100%|██████████| 1/1 [00:00<00:00,  8.29it/s]\n"
          ]
        },
        {
          "output_type": "stream",
          "name": "stdout",
          "text": [
            "Sentence =   The algebraic model for representing text documents and objects as vectors of identifiers is called the vector space model  A possible use for a vector space model is for retrieval and filtering of information  ; similarity =  0.6862186\n"
          ]
        },
        {
          "output_type": "stream",
          "name": "stderr",
          "text": [
            "100%|██████████| 1/1 [00:00<00:00, 10.46it/s]\n",
            "100%|██████████| 1/1 [00:00<00:00,  9.14it/s]\n"
          ]
        },
        {
          "output_type": "stream",
          "name": "stdout",
          "text": [
            "Sentence =   The vector space model has some limitations 1  Models based on and extending the vector space model include Generalized vector space model  ; similarity =  0.6886374\n"
          ]
        },
        {
          "output_type": "stream",
          "name": "stderr",
          "text": [
            "100%|██████████| 1/1 [00:00<00:00,  7.59it/s]\n",
            "100%|██████████| 1/1 [00:00<00:00,  8.24it/s]\n"
          ]
        },
        {
          "output_type": "stream",
          "name": "stdout",
          "text": [
            "Sentence =   There is also Conditional Probability which is usually interested in the way variables relate to each other  The easiest way to look at inheritance is as an is a kind of relationship  ; similarity =  0.4254966\n"
          ]
        },
        {
          "output_type": "stream",
          "name": "stderr",
          "text": [
            "100%|██████████| 1/1 [00:00<00:00,  8.54it/s]\n",
            "100%|██████████| 1/1 [00:00<00:00,  8.69it/s]\n"
          ]
        },
        {
          "output_type": "stream",
          "name": "stdout",
          "text": [
            "Sentence =   The key to Dynamic Programming is to find the structure of optimal solutions  However the key in Dynamic Programming is to determine the structure of optimal solutions  ; similarity =  0.98728496\n"
          ]
        },
        {
          "output_type": "stream",
          "name": "stderr",
          "text": [
            "100%|██████████| 1/1 [00:00<00:00,  7.48it/s]\n",
            "100%|██████████| 1/1 [00:00<00:00,  7.63it/s]\n"
          ]
        },
        {
          "output_type": "stream",
          "name": "stdout",
          "text": [
            "Sentence =   This means that inheritance is used when types have common factors and these would be put into the superclass  Inheritance is useful for situations where several classes share common features such as needed functions or data variables  ; similarity =  0.7914755\n"
          ]
        },
        {
          "output_type": "stream",
          "name": "stderr",
          "text": [
            "100%|██████████| 1/1 [00:00<00:00,  8.70it/s]\n",
            "100%|██████████| 1/1 [00:00<00:00, 10.72it/s]\n"
          ]
        },
        {
          "output_type": "stream",
          "name": "stdout",
          "text": [
            "Sentence =   Secondly to define the value of the optimal solution recursively  Generalise the structure of an optimal solution 2  ; similarity =  0.7462612\n"
          ]
        },
        {
          "output_type": "stream",
          "name": "stderr",
          "text": [
            "100%|██████████| 1/1 [00:00<00:00,  6.40it/s]\n",
            "100%|██████████| 1/1 [00:00<00:00,  7.69it/s]\n"
          ]
        },
        {
          "output_type": "stream",
          "name": "stdout",
          "text": [
            "Sentence =   If this occurs then all of the non private methods and variables can be used by the most specialised class  When one class inherits from another class all the public variables and methods are available to the subclass  ; similarity =  0.5661981\n"
          ]
        },
        {
          "output_type": "stream",
          "name": "stderr",
          "text": [
            "100%|██████████| 1/1 [00:00<00:00, 10.50it/s]\n",
            "100%|██████████| 1/1 [00:00<00:00, 11.14it/s]\n"
          ]
        },
        {
          "output_type": "stream",
          "name": "stdout",
          "text": [
            "Sentence =   There are two main approaches for dynamic programming  There are four steps in Dynamic Programming 1  ; similarity =  0.6468771\n"
          ]
        },
        {
          "output_type": "stream",
          "name": "stderr",
          "text": [
            "100%|██████████| 1/1 [00:00<00:00,  8.34it/s]\n",
            "100%|██████████| 1/1 [00:00<00:00,  9.80it/s]\n"
          ]
        },
        {
          "output_type": "stream",
          "name": "stdout",
          "text": [
            "Sentence =   The value of a vector is non zero if a term occurs in the document  A document can be represented as a vector  ; similarity =  0.60042167\n"
          ]
        },
        {
          "output_type": "stream",
          "name": "stderr",
          "text": [
            "100%|██████████| 1/1 [00:00<00:00,  7.77it/s]\n",
            "100%|██████████| 1/1 [00:00<00:00,  6.99it/s]\n"
          ]
        },
        {
          "output_type": "stream",
          "name": "stdout",
          "text": [
            "Sentence =   P A or the probability that the student is a girl regardless of any other information  It is mainly used to calculate the probability of one event s outcome given that a previous event happened  ; similarity =  0.28672132\n"
          ]
        },
        {
          "output_type": "stream",
          "name": "stderr",
          "text": [
            "100%|██████████| 1/1 [00:00<00:00,  8.15it/s]\n",
            "100%|██████████| 1/1 [00:00<00:00,  8.32it/s]\n"
          ]
        },
        {
          "output_type": "stream",
          "name": "stdout",
          "text": [
            "Sentence =   Several different ways have been developed of calculating these values also known as term weights  Many different ways of calculating these values also known as term weights have been developed  ; similarity =  0.9787272\n"
          ]
        },
        {
          "output_type": "stream",
          "name": "stderr",
          "text": [
            "100%|██████████| 1/1 [00:00<00:00,  7.74it/s]\n",
            "100%|██████████| 1/1 [00:00<00:00,  8.29it/s]\n"
          ]
        },
        {
          "output_type": "stream",
          "name": "stdout",
          "text": [
            "Sentence =   The order in which the terms appear in the document is lost in the vector space representation  If a term occurs in the document its value in the vector is non zero  ; similarity =  0.63446736\n"
          ]
        },
        {
          "output_type": "stream",
          "name": "stderr",
          "text": [
            "100%|██████████| 1/1 [00:00<00:00,  7.19it/s]\n",
            "100%|██████████| 1/1 [00:00<00:00,  8.09it/s]\n"
          ]
        },
        {
          "output_type": "stream",
          "name": "stdout",
          "text": [
            "Sentence =   This means that inheritance is used when types have common factors and these would be put into the superclass  Most of these languages provide an extend keyword which is used to subclass another  ; similarity =  0.48958442\n"
          ]
        },
        {
          "output_type": "stream",
          "name": "stderr",
          "text": [
            "100%|██████████| 1/1 [00:00<00:00,  7.22it/s]\n",
            "100%|██████████| 1/1 [00:00<00:00,  9.10it/s]\n"
          ]
        },
        {
          "output_type": "stream",
          "name": "stdout",
          "text": [
            "Sentence =   Vector space representation results in the loss of the order which the terms are in the document  The limitations of the vector space model are thus  ; similarity =  0.53962725\n"
          ]
        },
        {
          "output_type": "stream",
          "name": "stderr",
          "text": [
            "100%|██████████| 1/1 [00:00<00:00,  8.36it/s]\n",
            "100%|██████████| 1/1 [00:00<00:00,  8.32it/s]\n"
          ]
        },
        {
          "output_type": "stream",
          "name": "stdout",
          "text": [
            "Sentence =   Like divide and conquer Dynamic Programming solves problems by combining solutions to sub problems  Dynamic programming is a problem solving method which solves recursive problems  ; similarity =  0.79516834\n"
          ]
        },
        {
          "output_type": "stream",
          "name": "stderr",
          "text": [
            "100%|██████████| 1/1 [00:00<00:00,  8.06it/s]\n",
            "100%|██████████| 1/1 [00:00<00:00,  8.54it/s]\n"
          ]
        },
        {
          "output_type": "stream",
          "name": "stdout",
          "text": [
            "Sentence =   If a term appears in the document the terms value in the vector is non zero  A document is represented as a vector and each dimension corresponds to a separate term  ; similarity =  0.6504846\n"
          ]
        },
        {
          "output_type": "stream",
          "name": "stderr",
          "text": [
            "100%|██████████| 1/1 [00:00<00:00,  8.86it/s]\n",
            "100%|██████████| 1/1 [00:00<00:00,  8.60it/s]\n"
          ]
        },
        {
          "output_type": "stream",
          "name": "stdout",
          "text": [
            "Sentence =   They do not have to be written in a computer language  The word Programming in the name has nothing to do with writing computer programs  ; similarity =  0.55137336\n"
          ]
        },
        {
          "output_type": "stream",
          "name": "stderr",
          "text": [
            "100%|██████████| 1/1 [00:00<00:00,  7.56it/s]\n",
            "100%|██████████| 1/1 [00:00<00:00,  8.70it/s]\n"
          ]
        },
        {
          "output_type": "stream",
          "name": "stdout",
          "text": [
            "Sentence =   For instance a events schedule at an exhibition is sometimes called a program  For instance a finalized schedule of events at an exhibition is sometimes called a program  ; similarity =  0.94562936\n"
          ]
        },
        {
          "output_type": "stream",
          "name": "stderr",
          "text": [
            "100%|██████████| 1/1 [00:00<00:00, 10.64it/s]\n",
            "100%|██████████| 1/1 [00:00<00:00, 11.03it/s]\n"
          ]
        },
        {
          "output_type": "stream",
          "name": "stdout",
          "text": [
            "Sentence =   The vector space model has some limitations 1  However the vector space model has limitations  ; similarity =  0.9596772\n"
          ]
        },
        {
          "output_type": "stream",
          "name": "stderr",
          "text": [
            "100%|██████████| 1/1 [00:00<00:00,  8.22it/s]\n",
            "100%|██████████| 1/1 [00:00<00:00,  8.37it/s]\n"
          ]
        },
        {
          "output_type": "stream",
          "name": "stdout",
          "text": [
            "Sentence =   This can be useful when the number of times a word appears is not considered important  One of the most important uses of page rank is its meaning to advertising  ; similarity =  0.36487177\n"
          ]
        },
        {
          "output_type": "stream",
          "name": "stderr",
          "text": [
            "100%|██████████| 1/1 [00:00<00:00,  7.97it/s]\n",
            "100%|██████████| 1/1 [00:00<00:00, 10.64it/s]\n"
          ]
        },
        {
          "output_type": "stream",
          "name": "stdout",
          "text": [
            "Sentence =   The vector space model is one of these methods and it is an algebraic model  The limitations of the vector space model are thus  ; similarity =  0.6504114\n"
          ]
        },
        {
          "output_type": "stream",
          "name": "stderr",
          "text": [
            "100%|██████████| 1/1 [00:00<00:00,  7.81it/s]\n",
            "100%|██████████| 1/1 [00:00<00:00, 10.45it/s]\n"
          ]
        },
        {
          "output_type": "stream",
          "name": "stdout",
          "text": [
            "Sentence =   When a document is represented as a vector each dimension corresponds to a separate term  Each and every dimension corresponds to a separate term  ; similarity =  0.76682955\n"
          ]
        },
        {
          "output_type": "stream",
          "name": "stderr",
          "text": [
            "100%|██████████| 1/1 [00:00<00:00, 10.88it/s]\n",
            "100%|██████████| 1/1 [00:00<00:00,  8.85it/s]\n"
          ]
        },
        {
          "output_type": "stream",
          "name": "stdout",
          "text": [
            "Sentence =   Programming means finding a plan of action  Programming in this sense means finding an acceptable plan of action an algorithm  ; similarity =  0.7738991\n"
          ]
        },
        {
          "output_type": "stream",
          "name": "stderr",
          "text": [
            "100%|██████████| 1/1 [00:00<00:00, 10.47it/s]\n",
            "100%|██████████| 1/1 [00:00<00:00, 10.25it/s]\n"
          ]
        },
        {
          "output_type": "stream",
          "name": "stdout",
          "text": [
            "Sentence =   Define value of optimal solution recursively  Characterise structure of an optimal solution  ; similarity =  0.72766775\n"
          ]
        },
        {
          "output_type": "stream",
          "name": "stderr",
          "text": [
            "100%|██████████| 1/1 [00:00<00:00,  9.09it/s]\n",
            "100%|██████████| 1/1 [00:00<00:00,  7.94it/s]\n"
          ]
        },
        {
          "output_type": "stream",
          "name": "stdout",
          "text": [
            "Sentence =   P A B is the conditional probability of A given B  P B is the prior or marginal probability of B and acts to normalise the probability  ; similarity =  0.86631626\n"
          ]
        },
        {
          "output_type": "stream",
          "name": "stderr",
          "text": [
            "100%|██████████| 1/1 [00:00<00:00,  6.95it/s]\n",
            "100%|██████████| 1/1 [00:00<00:00,  8.69it/s]\n"
          ]
        },
        {
          "output_type": "stream",
          "name": "stdout",
          "text": [
            "Sentence =   If a term appears in the document the terms value in the vector is non zero  When a document is represented as a vector each dimension corresponds to a separate term  ; similarity =  0.6614831\n"
          ]
        },
        {
          "output_type": "stream",
          "name": "stderr",
          "text": [
            "100%|██████████| 1/1 [00:00<00:00,  8.70it/s]\n",
            "100%|██████████| 1/1 [00:00<00:00,  8.54it/s]\n"
          ]
        },
        {
          "output_type": "stream",
          "name": "stdout",
          "text": [
            "Sentence =   Typically terms are single words keywords or sometimes even longer phrases  Single words keywords and occasionally longer phrases are used for terms  ; similarity =  0.9581421\n"
          ]
        },
        {
          "output_type": "stream",
          "name": "stderr",
          "text": [
            "100%|██████████| 1/1 [00:00<00:00, 10.82it/s]\n",
            "100%|██████████| 1/1 [00:00<00:00,  9.46it/s]\n"
          ]
        },
        {
          "output_type": "stream",
          "name": "stdout",
          "text": [
            "Sentence =   P A is the prior probability A   P B A is the conditional probability of B given A  ; similarity =  0.80544376\n"
          ]
        },
        {
          "output_type": "stream",
          "name": "stderr",
          "text": [
            "100%|██████████| 1/1 [00:00<00:00,  8.66it/s]\n",
            "100%|██████████| 1/1 [00:00<00:00,  7.11it/s]\n"
          ]
        },
        {
          "output_type": "stream",
          "name": "stdout",
          "text": [
            "Sentence =   Since the PageRank is the most important algorithms which is used in the Google engine  Finally the order in which the terms appear in the document is lost in the vector space representation  ; similarity =  0.15810652\n"
          ]
        },
        {
          "output_type": "stream",
          "name": "stderr",
          "text": [
            "100%|██████████| 1/1 [00:00<00:00,  9.05it/s]\n",
            "100%|██████████| 1/1 [00:00<00:00,  7.95it/s]\n"
          ]
        },
        {
          "output_type": "stream",
          "name": "stdout",
          "text": [
            "Sentence =   It was first used in the SMART Information Retrieval System  It is used in information retrieval and was first used in the SMART Information Retrieval System  ; similarity =  0.9739901\n"
          ]
        },
        {
          "output_type": "stream",
          "name": "stderr",
          "text": [
            "100%|██████████| 1/1 [00:00<00:00,  7.89it/s]\n",
            "100%|██████████| 1/1 [00:00<00:00, 10.45it/s]\n"
          ]
        },
        {
          "output_type": "stream",
          "name": "stdout",
          "text": [
            "Sentence =   A document is represented as a vector with each dimension corresponding to a separate term  A document can be represented as a vector  ; similarity =  0.8663911\n"
          ]
        },
        {
          "output_type": "stream",
          "name": "stderr",
          "text": [
            "100%|██████████| 1/1 [00:00<00:00,  7.43it/s]\n",
            "100%|██████████| 1/1 [00:00<00:00, 11.09it/s]\n"
          ]
        },
        {
          "output_type": "stream",
          "name": "stdout",
          "text": [
            "Sentence =   In vector space model the documents from which the information is to be retrieved are represented as vectors  The vector space model has several disadvantages  ; similarity =  0.4868553\n"
          ]
        },
        {
          "output_type": "stream",
          "name": "stderr",
          "text": [
            "100%|██████████| 1/1 [00:00<00:00,  7.20it/s]\n",
            "100%|██████████| 1/1 [00:00<00:00, 11.27it/s]\n"
          ]
        },
        {
          "output_type": "stream",
          "name": "stdout",
          "text": [
            "Sentence =   P B is the prior or marginal probability of B and acts to normalise the probability  P A is the prior probability A  ; similarity =  0.76516956\n"
          ]
        },
        {
          "output_type": "stream",
          "name": "stderr",
          "text": [
            "100%|██████████| 1/1 [00:00<00:00,  7.55it/s]\n",
            "100%|██████████| 1/1 [00:00<00:00,  9.08it/s]\n"
          ]
        },
        {
          "output_type": "stream",
          "name": "stdout",
          "text": [
            "Sentence =   P A or the probability that the student is a girl regardless of any other information  P B A is the conditional probability of B given A  ; similarity =  0.4875696\n"
          ]
        },
        {
          "output_type": "stream",
          "name": "stderr",
          "text": [
            "100%|██████████| 1/1 [00:00<00:00,  8.01it/s]\n",
            "100%|██████████| 1/1 [00:00<00:00,  8.07it/s]\n"
          ]
        },
        {
          "output_type": "stream",
          "name": "stdout",
          "text": [
            "Sentence =   A term which occurs in the document has a value in the vector of non zero  The order in which the terms appear in the document is lost in the vector space representation  ; similarity =  0.6237845\n"
          ]
        },
        {
          "output_type": "stream",
          "name": "stderr",
          "text": [
            "100%|██████████| 1/1 [00:00<00:00, 10.30it/s]\n",
            "100%|██████████| 1/1 [00:00<00:00,  9.09it/s]\n"
          ]
        },
        {
          "output_type": "stream",
          "name": "stdout",
          "text": [
            "Sentence =   Programming means finding a plan of action  Programming in this sense means finding an acceptable plan an algorithm  ; similarity =  0.7448925\n"
          ]
        },
        {
          "output_type": "stream",
          "name": "stderr",
          "text": [
            "100%|██████████| 1/1 [00:00<00:00,  7.78it/s]\n",
            "100%|██████████| 1/1 [00:00<00:00,  8.11it/s]\n"
          ]
        },
        {
          "output_type": "stream",
          "name": "stdout",
          "text": [
            "Sentence =   Vector space representation results in the loss of the order which the terms are in the document  In the vector space model a document is represented as a vector  ; similarity =  0.67443377\n"
          ]
        },
        {
          "output_type": "stream",
          "name": "stderr",
          "text": [
            "100%|██████████| 1/1 [00:00<00:00,  9.10it/s]\n",
            "100%|██████████| 1/1 [00:00<00:00,  6.64it/s]\n"
          ]
        },
        {
          "output_type": "stream",
          "name": "stdout",
          "text": [
            "Sentence =   Dynamic programming is a problem solving method which solves recursive problems  Dynamic Programming is a method of solving problems that exhibit the properties of overlapping subproblems and optimal substructure  ; similarity =  0.8768604\n"
          ]
        },
        {
          "output_type": "stream",
          "name": "stderr",
          "text": [
            "100%|██████████| 1/1 [00:00<00:00,  8.30it/s]\n",
            "100%|██████████| 1/1 [00:00<00:00,  8.58it/s]\n"
          ]
        },
        {
          "output_type": "stream",
          "name": "stdout",
          "text": [
            "Sentence =   To explain further vector space models basically a document is characterized by a vector  Models based on and extending the vector space model include Generalized vector space model  ; similarity =  0.756879\n"
          ]
        },
        {
          "output_type": "stream",
          "name": "stderr",
          "text": [
            "100%|██████████| 1/1 [00:00<00:00,  9.15it/s]\n",
            "100%|██████████| 1/1 [00:00<00:00,  7.41it/s]\n"
          ]
        },
        {
          "output_type": "stream",
          "name": "stdout",
          "text": [
            "Sentence =   P B A is the conditional probability of B given A  P B is the prior or marginal probability of B and acts to normalise the probability  ; similarity =  0.85331506\n"
          ]
        },
        {
          "output_type": "stream",
          "name": "stderr",
          "text": [
            "100%|██████████| 1/1 [00:00<00:00,  7.92it/s]\n",
            "100%|██████████| 1/1 [00:00<00:00,  9.23it/s]\n"
          ]
        },
        {
          "output_type": "stream",
          "name": "stdout",
          "text": [
            "Sentence =   The easiest way to look at inheritance is as an is a kind of relationship  An example of this gain in efficiency is a path finding problem  ; similarity =  0.28525487\n"
          ]
        },
        {
          "output_type": "stream",
          "name": "stderr",
          "text": [
            "100%|██████████| 1/1 [00:00<00:00, 10.61it/s]\n",
            "100%|██████████| 1/1 [00:00<00:00, 10.03it/s]\n"
          ]
        },
        {
          "output_type": "stream",
          "name": "stdout",
          "text": [
            "Sentence =   Define value of optimal solution recursively  Generalise the structure of an optimal solution 2  ; similarity =  0.71179074\n"
          ]
        },
        {
          "output_type": "stream",
          "name": "stderr",
          "text": [
            "100%|██████████| 1/1 [00:00<00:00,  7.96it/s]\n",
            "100%|██████████| 1/1 [00:00<00:00,  9.28it/s]\n"
          ]
        },
        {
          "output_type": "stream",
          "name": "stdout",
          "text": [
            "Sentence =   A document is represented as a vector and each dimension corresponds to a separate term  A document can be represented as a vector  ; similarity =  0.85708994\n"
          ]
        },
        {
          "output_type": "stream",
          "name": "stderr",
          "text": [
            "100%|██████████| 1/1 [00:00<00:00,  9.05it/s]\n",
            "100%|██████████| 1/1 [00:00<00:00, 10.40it/s]\n"
          ]
        },
        {
          "output_type": "stream",
          "name": "stdout",
          "text": [
            "Sentence =   Firstly long documents are represented badly because they have poor similarity values  Due to poor similarity values long documents are poorly represented  ; similarity =  0.94037765\n"
          ]
        },
        {
          "output_type": "stream",
          "name": "stderr",
          "text": [
            "100%|██████████| 1/1 [00:00<00:00,  8.13it/s]\n",
            "100%|██████████| 1/1 [00:00<00:00,  7.88it/s]\n"
          ]
        },
        {
          "output_type": "stream",
          "name": "stdout",
          "text": [
            "Sentence =   With little or no modification it is intended to help reuse existing code  It was intended to allow existing code to be used again with minimal or no alteration  ; similarity =  0.84544706\n"
          ]
        },
        {
          "output_type": "stream",
          "name": "stderr",
          "text": [
            "100%|██████████| 1/1 [00:00<00:00,  7.76it/s]\n",
            "100%|██████████| 1/1 [00:00<00:00,  8.45it/s]\n"
          ]
        },
        {
          "output_type": "stream",
          "name": "stdout",
          "text": [
            "Sentence =   Several different ways have been developed of calculating these values also known as term weights  Many different methods of calculating these values sometimes known as term weights have been developed  ; similarity =  0.97448766\n"
          ]
        },
        {
          "output_type": "stream",
          "name": "stderr",
          "text": [
            "100%|██████████| 1/1 [00:00<00:00,  8.97it/s]\n",
            "100%|██████████| 1/1 [00:00<00:00,  8.99it/s]\n"
          ]
        },
        {
          "output_type": "stream",
          "name": "stdout",
          "text": [
            "Sentence =   tf idf weighting is one of the most well known schemes  One of the best known methods is called tf idf weighting  ; similarity =  0.8971674\n"
          ]
        },
        {
          "output_type": "stream",
          "name": "stderr",
          "text": [
            "100%|██████████| 1/1 [00:00<00:00,  7.84it/s]\n",
            "100%|██████████| 1/1 [00:00<00:00,  8.20it/s]\n"
          ]
        },
        {
          "output_type": "stream",
          "name": "stdout",
          "text": [
            "Sentence =   If a term appears in the document then its value in the vector is non zero  The value of a vector is non zero if a term occurs in the document  ; similarity =  0.960516\n"
          ]
        },
        {
          "output_type": "stream",
          "name": "stderr",
          "text": [
            "100%|██████████| 1/1 [00:00<00:00,  6.95it/s]\n",
            "100%|██████████| 1/1 [00:00<00:00,  8.78it/s]\n"
          ]
        },
        {
          "output_type": "stream",
          "name": "stdout",
          "text": [
            "Sentence =   In order to prevent spamming Google releases little information on the way in which a PageRank is calculated  A website s page rank is how important it is on the web  ; similarity =  0.42346016\n"
          ]
        },
        {
          "output_type": "stream",
          "name": "stderr",
          "text": [
            "100%|██████████| 1/1 [00:00<00:00,  7.81it/s]\n",
            "100%|██████████| 1/1 [00:00<00:00,  8.45it/s]\n"
          ]
        },
        {
          "output_type": "stream",
          "name": "stdout",
          "text": [
            "Sentence =   Several different ways of computing these values also known as term weights have been developed  Several different ways have been developed of calculating these values also known as term weights  ; similarity =  0.97647655\n"
          ]
        },
        {
          "output_type": "stream",
          "name": "stderr",
          "text": [
            "100%|██████████| 1/1 [00:00<00:00,  7.40it/s]\n",
            "100%|██████████| 1/1 [00:00<00:00,  7.63it/s]\n"
          ]
        },
        {
          "output_type": "stream",
          "name": "stdout",
          "text": [
            "Sentence =   If a term exists in a document its value in the vector is not equal to zero  A document is represented as a vector with each dimension corresponding to a separate term  ; similarity =  0.79504716\n"
          ]
        },
        {
          "output_type": "stream",
          "name": "stderr",
          "text": [
            "100%|██████████| 1/1 [00:00<00:00,  8.66it/s]\n",
            "100%|██████████| 1/1 [00:00<00:00,  9.17it/s]\n"
          ]
        },
        {
          "output_type": "stream",
          "name": "stdout",
          "text": [
            "Sentence =   Models based on and extending the vector space model include Generalized vector space model  The limitations of the vector space model are thus  ; similarity =  0.65362483\n"
          ]
        },
        {
          "output_type": "stream",
          "name": "stderr",
          "text": [
            "100%|██████████| 1/1 [00:00<00:00,  7.17it/s]\n",
            "100%|██████████| 1/1 [00:00<00:00,  6.78it/s]\n"
          ]
        },
        {
          "output_type": "stream",
          "name": "stdout",
          "text": [
            "Sentence =   The actual Google PageRank algorithm is much more complex than this but follows the same underlying principles  The PageRank is a recursive algorithm used by Google to determine which webpages are more important than others  ; similarity =  0.70109296\n"
          ]
        },
        {
          "output_type": "stream",
          "name": "stderr",
          "text": [
            "100%|██████████| 1/1 [00:00<00:00,  7.77it/s]\n",
            "100%|██████████| 1/1 [00:00<00:00,  8.49it/s]\n"
          ]
        },
        {
          "output_type": "stream",
          "name": "stdout",
          "text": [
            "Sentence =   Vector space representation results in the loss of the order which the terms are in the document  Since the PageRank is the most important algorithms which is used in the Google engine  ; similarity =  0.22418933\n"
          ]
        },
        {
          "output_type": "stream",
          "name": "stderr",
          "text": [
            "100%|██████████| 1/1 [00:00<00:00,  8.00it/s]\n",
            "100%|██████████| 1/1 [00:00<00:00,  8.83it/s]\n"
          ]
        },
        {
          "output_type": "stream",
          "name": "stdout",
          "text": [
            "Sentence =   For example a schedule of events at an exhibition is sometimes called a programme  For example a finalized schedule of events at an exhibition is sometimes called a program  ; similarity =  0.9027443\n"
          ]
        },
        {
          "output_type": "stream",
          "name": "stderr",
          "text": [
            "100%|██████████| 1/1 [00:00<00:00,  8.44it/s]\n",
            "100%|██████████| 1/1 [00:00<00:00,  8.34it/s]\n"
          ]
        },
        {
          "output_type": "stream",
          "name": "stdout",
          "text": [
            "Sentence =   A document is represented as a vector with each dimension corresponding to a separate term  The basic idea is to represent each document as a vector of certain weighted word frequencies  ; similarity =  0.75994736\n"
          ]
        },
        {
          "output_type": "stream",
          "name": "stderr",
          "text": [
            "100%|██████████| 1/1 [00:00<00:00,  8.15it/s]\n",
            "100%|██████████| 1/1 [00:00<00:00, 10.04it/s]\n"
          ]
        },
        {
          "output_type": "stream",
          "name": "stdout",
          "text": [
            "Sentence =   The vector space model is one of these methods and it is an algebraic model  LIMITATION There is some limitation of vector space model  ; similarity =  0.70602113\n"
          ]
        },
        {
          "output_type": "stream",
          "name": "stderr",
          "text": [
            "100%|██████████| 1/1 [00:00<00:00,  8.82it/s]\n",
            "100%|██████████| 1/1 [00:00<00:00,  8.62it/s]\n"
          ]
        },
        {
          "output_type": "stream",
          "name": "stdout",
          "text": [
            "Sentence =   Other ways of computing these values or weights have been developed  Many different ways of calculating these values also known as term weights have been developed  ; similarity =  0.85293233\n"
          ]
        },
        {
          "output_type": "stream",
          "name": "stderr",
          "text": [
            "100%|██████████| 1/1 [00:00<00:00,  8.31it/s]\n",
            "100%|██████████| 1/1 [00:00<00:00,  8.92it/s]\n"
          ]
        },
        {
          "output_type": "stream",
          "name": "stdout",
          "text": [
            "Sentence =   Thus the program is the optimal plan for action that is produced  After this it is using this to pick the best overall path  ; similarity =  0.4234795\n"
          ]
        },
        {
          "output_type": "stream",
          "name": "stderr",
          "text": [
            "100%|██████████| 1/1 [00:00<00:00,  7.54it/s]\n",
            "100%|██████████| 1/1 [00:00<00:00,  7.88it/s]\n"
          ]
        },
        {
          "output_type": "stream",
          "name": "stdout",
          "text": [
            "Sentence =   If the term doesn t occur within the document the value in the vector is zero  If a term appears in the document then its value in the vector is non zero  ; similarity =  0.8804334\n"
          ]
        },
        {
          "output_type": "stream",
          "name": "stderr",
          "text": [
            "100%|██████████| 1/1 [00:00<00:00,  8.57it/s]\n",
            "100%|██████████| 1/1 [00:00<00:00,  7.99it/s]\n"
          ]
        },
        {
          "output_type": "stream",
          "name": "stdout",
          "text": [
            "Sentence =   The typical example could be of a finalized schedule of events at an exhibition  For instance a events schedule at an exhibition is sometimes called a program  ; similarity =  0.7987823\n"
          ]
        },
        {
          "output_type": "stream",
          "name": "stderr",
          "text": [
            "100%|██████████| 1/1 [00:00<00:00, 10.74it/s]\n",
            "100%|██████████| 1/1 [00:00<00:00,  8.71it/s]\n"
          ]
        },
        {
          "output_type": "stream",
          "name": "stdout",
          "text": [
            "Sentence =   A document is represented as a vector  The vector space model are the documents which are represented as bags of words  ; similarity =  0.76287276\n"
          ]
        },
        {
          "output_type": "stream",
          "name": "stderr",
          "text": [
            "100%|██████████| 1/1 [00:00<00:00,  8.68it/s]\n",
            "100%|██████████| 1/1 [00:00<00:00,  8.66it/s]\n"
          ]
        },
        {
          "output_type": "stream",
          "name": "stdout",
          "text": [
            "Sentence =   For instance a events schedule at an exhibition is sometimes called a program  For example a finalized schedule of events at an exhibition is sometimes called a program  ; similarity =  0.94374186\n"
          ]
        },
        {
          "output_type": "stream",
          "name": "stderr",
          "text": [
            "100%|██████████| 1/1 [00:00<00:00,  7.90it/s]\n",
            "100%|██████████| 1/1 [00:00<00:00,  8.16it/s]\n"
          ]
        },
        {
          "output_type": "stream",
          "name": "stdout",
          "text": [
            "Sentence =   It was used in the first time in the SMART Information Retrieval System  It is used in information retrieval and was first used in the SMART Information Retrieval System  ; similarity =  0.9091004\n"
          ]
        },
        {
          "output_type": "stream",
          "name": "stderr",
          "text": [
            "100%|██████████| 1/1 [00:00<00:00,  7.66it/s]\n",
            "100%|██████████| 1/1 [00:00<00:00,  7.75it/s]\n"
          ]
        },
        {
          "output_type": "stream",
          "name": "stdout",
          "text": [
            "Sentence =   This can be useful when the number of times a word appears is not considered important  Terms are basically the words or any indexing unit used to identify the contents of a text  ; similarity =  0.5025425\n"
          ]
        },
        {
          "output_type": "stream",
          "name": "stderr",
          "text": [
            "100%|██████████| 1/1 [00:00<00:00,  7.39it/s]\n",
            "100%|██████████| 1/1 [00:00<00:00, 11.09it/s]\n"
          ]
        },
        {
          "output_type": "stream",
          "name": "stdout",
          "text": [
            "Sentence =   The other method is the top down approach which is a method that combines memorization and recursion  The first is the bottom up approach  ; similarity =  0.49280062\n"
          ]
        },
        {
          "output_type": "stream",
          "name": "stderr",
          "text": [
            "100%|██████████| 1/1 [00:00<00:00,  8.13it/s]\n",
            "100%|██████████| 1/1 [00:00<00:00,  8.02it/s]\n"
          ]
        },
        {
          "output_type": "stream",
          "name": "stdout",
          "text": [
            "Sentence =   The value of a vector is non zero if a term occurs in the document  In the vector space model a document is represented as a vector  ; similarity =  0.6262869\n"
          ]
        },
        {
          "output_type": "stream",
          "name": "stderr",
          "text": [
            "100%|██████████| 1/1 [00:00<00:00,  8.13it/s]\n",
            "100%|██████████| 1/1 [00:00<00:00,  7.73it/s]\n"
          ]
        },
        {
          "output_type": "stream",
          "name": "stdout",
          "text": [
            "Sentence =   The value of a vector is non zero if a term occurs in the document  A term which occurs in the document has a value in the vector of non zero  ; similarity =  0.8875722\n"
          ]
        },
        {
          "output_type": "stream",
          "name": "stderr",
          "text": [
            "100%|██████████| 1/1 [00:00<00:00,  7.40it/s]\n",
            "100%|██████████| 1/1 [00:00<00:00,  7.58it/s]\n"
          ]
        },
        {
          "output_type": "stream",
          "name": "stdout",
          "text": [
            "Sentence =   The PageRank is derived from a theoretical probability value on a logarithmic scale like the Richter Scale  is derived from a theoretical probability value on a logarithmic scale like the Richter Scale  ; similarity =  0.846973\n"
          ]
        },
        {
          "output_type": "stream",
          "name": "stderr",
          "text": [
            "100%|██████████| 1/1 [00:00<00:00,  7.28it/s]\n",
            "100%|██████████| 1/1 [00:00<00:00,  8.73it/s]\n"
          ]
        },
        {
          "output_type": "stream",
          "name": "stdout",
          "text": [
            "Sentence =   A page that is linked to by many pages with high PageRank receives a high rank itself  A link to a page is seen as a vote of support  ; similarity =  0.5390181\n"
          ]
        },
        {
          "output_type": "stream",
          "name": "stderr",
          "text": [
            "100%|██████████| 1/1 [00:00<00:00,  6.61it/s]\n",
            "100%|██████████| 1/1 [00:00<00:00,  8.88it/s]\n"
          ]
        },
        {
          "output_type": "stream",
          "name": "stdout",
          "text": [
            "Sentence =   Several different ways of computing these values also known as term weights have been developed  Other ways of computing these values or weights have been developed  ; similarity =  0.87756574\n"
          ]
        },
        {
          "output_type": "stream",
          "name": "stderr",
          "text": [
            "100%|██████████| 1/1 [00:00<00:00,  8.39it/s]\n",
            "100%|██████████| 1/1 [00:00<00:00,  8.47it/s]\n"
          ]
        },
        {
          "output_type": "stream",
          "name": "stdout",
          "text": [
            "Sentence =   To explain further vector space models basically a document is characterized by a vector  A document is represented as a vector and each dimension corresponds to a separate term  ; similarity =  0.8332218\n"
          ]
        },
        {
          "output_type": "stream",
          "name": "stderr",
          "text": [
            "100%|██████████| 1/1 [00:00<00:00,  7.09it/s]\n",
            "100%|██████████| 1/1 [00:00<00:00,  8.63it/s]\n"
          ]
        },
        {
          "output_type": "stream",
          "name": "stdout",
          "text": [
            "Sentence =   The peropos of inheritance in object oriented programming is to minimize the reuse of existing code without modification  Inheritance is one of the basic concepts of Object Oriented Programming  ; similarity =  0.6087737\n"
          ]
        },
        {
          "output_type": "stream",
          "name": "stderr",
          "text": [
            "100%|██████████| 1/1 [00:00<00:00,  7.15it/s]\n",
            "100%|██████████| 1/1 [00:00<00:00,  8.44it/s]\n"
          ]
        },
        {
          "output_type": "stream",
          "name": "stdout",
          "text": [
            "Sentence =   In vector space model the documents from which the information is to be retrieved are represented as vectors  The limitations of the vector space model are thus  ; similarity =  0.48935062\n"
          ]
        },
        {
          "output_type": "stream",
          "name": "stderr",
          "text": [
            "100%|██████████| 1/1 [00:00<00:00,  9.53it/s]\n",
            "100%|██████████| 1/1 [00:00<00:00,  7.39it/s]\n"
          ]
        },
        {
          "output_type": "stream",
          "name": "stdout",
          "text": [
            "Sentence =   Animals can be treated cast to living things  Each object except java lang Object can be cast to an object of one of its superclasses  ; similarity =  0.3210921\n"
          ]
        },
        {
          "output_type": "stream",
          "name": "stderr",
          "text": [
            "100%|██████████| 1/1 [00:00<00:00,  8.34it/s]\n",
            "100%|██████████| 1/1 [00:00<00:00,  8.05it/s]\n"
          ]
        },
        {
          "output_type": "stream",
          "name": "stdout",
          "text": [
            "Sentence =   Single words keywords and occasionally longer phrases are used for terms  A normal term is usually a single word keywords or longer phrases  ; similarity =  0.8591807\n"
          ]
        },
        {
          "output_type": "stream",
          "name": "stderr",
          "text": [
            "100%|██████████| 1/1 [00:00<00:00,  7.38it/s]\n",
            "100%|██████████| 1/1 [00:00<00:00,  5.44it/s]\n"
          ]
        },
        {
          "output_type": "stream",
          "name": "stdout",
          "text": [
            "Sentence =   A document is represented as a vector with each dimension corresponding to a separate term  The value of a vector is non zero if a term occurs in the document  ; similarity =  0.6570998\n"
          ]
        },
        {
          "output_type": "stream",
          "name": "stderr",
          "text": [
            "100%|██████████| 1/1 [00:00<00:00,  4.17it/s]\n",
            "100%|██████████| 1/1 [00:00<00:00,  5.53it/s]\n"
          ]
        },
        {
          "output_type": "stream",
          "name": "stdout",
          "text": [
            "Sentence =   The PageRank is a recursive algorithm used by Google to determine which webpages are more important than others  Most of these languages provide an extend keyword which is used to subclass another  ; similarity =  0.29367533\n"
          ]
        },
        {
          "output_type": "stream",
          "name": "stderr",
          "text": [
            "100%|██████████| 1/1 [00:00<00:00,  6.48it/s]\n",
            "100%|██████████| 1/1 [00:00<00:00,  7.87it/s]\n"
          ]
        },
        {
          "output_type": "stream",
          "name": "stdout",
          "text": [
            "Sentence =   P A B is the conditional probability of A given B  P A is the prior probability A  ; similarity =  0.77608263\n"
          ]
        },
        {
          "output_type": "stream",
          "name": "stderr",
          "text": [
            "100%|██████████| 1/1 [00:00<00:00,  7.45it/s]\n",
            "100%|██████████| 1/1 [00:00<00:00,  7.21it/s]\n"
          ]
        },
        {
          "output_type": "stream",
          "name": "stdout",
          "text": [
            "Sentence =   Each dimensions corresponds to a separate terms  Each and every dimension corresponds to a separate term  ; similarity =  0.90761733\n"
          ]
        },
        {
          "output_type": "stream",
          "name": "stderr",
          "text": [
            "100%|██████████| 1/1 [00:00<00:00,  6.16it/s]\n",
            "100%|██████████| 1/1 [00:00<00:00,  5.81it/s]\n"
          ]
        },
        {
          "output_type": "stream",
          "name": "stdout",
          "text": [
            "Sentence =   It is valid in all common interpretations of probability  As a formal theorem Bayes theorem is valid in all common interpretations of probability  ; similarity =  0.820923\n"
          ]
        },
        {
          "output_type": "stream",
          "name": "stderr",
          "text": [
            "100%|██████████| 1/1 [00:00<00:00,  6.78it/s]\n",
            "100%|██████████| 1/1 [00:00<00:00,  6.10it/s]\n"
          ]
        },
        {
          "output_type": "stream",
          "name": "stdout",
          "text": [
            "Sentence =   Typically terms are keywords single words or longer phrases  A normal term is usually a single word keywords or longer phrases  ; similarity =  0.88401955\n"
          ]
        },
        {
          "output_type": "stream",
          "name": "stderr",
          "text": [
            "100%|██████████| 1/1 [00:00<00:00,  5.34it/s]\n",
            "100%|██████████| 1/1 [00:00<00:00,  5.44it/s]\n"
          ]
        },
        {
          "output_type": "stream",
          "name": "stdout",
          "text": [
            "Sentence =   P B a k a the normalizing constant is the prior or marginal probability of B  P B is the prior or marginal probability of B and acts as a normalizing constant  ; similarity =  0.9497748\n"
          ]
        },
        {
          "output_type": "stream",
          "name": "stderr",
          "text": [
            "100%|██████████| 1/1 [00:00<00:00,  6.42it/s]\n",
            "100%|██████████| 1/1 [00:00<00:00,  5.57it/s]\n"
          ]
        },
        {
          "output_type": "stream",
          "name": "stdout",
          "text": [
            "Sentence =   Generlisation also some time known as inheritance  This can be known as one of the advantages of inheritance  ; similarity =  0.7149269\n"
          ]
        },
        {
          "output_type": "stream",
          "name": "stderr",
          "text": [
            "100%|██████████| 1/1 [00:00<00:00,  6.36it/s]\n",
            "100%|██████████| 1/1 [00:00<00:00,  5.82it/s]\n"
          ]
        },
        {
          "output_type": "stream",
          "name": "stdout",
          "text": [
            "Sentence =   Every dimension is precisely related to a separate term  When a document is represented as a vector each dimension corresponds to a separate term  ; similarity =  0.6839229\n"
          ]
        },
        {
          "output_type": "stream",
          "name": "stderr",
          "text": [
            "100%|██████████| 1/1 [00:00<00:00,  5.65it/s]\n",
            "100%|██████████| 1/1 [00:00<00:00,  7.44it/s]\n"
          ]
        },
        {
          "output_type": "stream",
          "name": "stdout",
          "text": [
            "Sentence =   A document is represented as a vector and each dimension corresponds to a separate term  A document is represented as a vector  ; similarity =  0.85220075\n"
          ]
        },
        {
          "output_type": "stream",
          "name": "stderr",
          "text": [
            "100%|██████████| 1/1 [00:00<00:00,  4.56it/s]\n",
            "100%|██████████| 1/1 [00:00<00:00,  5.19it/s]\n"
          ]
        },
        {
          "output_type": "stream",
          "name": "stdout",
          "text": [
            "Sentence =   The PageRank is computed iteratively and it is found that the PageRank values converge fairly rapidly  The PageRank depends on the PageRank rating and number of all pages that have links to it  ; similarity =  0.6554223\n"
          ]
        },
        {
          "output_type": "stream",
          "name": "stderr",
          "text": [
            "100%|██████████| 1/1 [00:00<00:00,  5.19it/s]\n",
            "100%|██████████| 1/1 [00:00<00:00,  4.69it/s]\n"
          ]
        },
        {
          "output_type": "stream",
          "name": "stdout",
          "text": [
            "Sentence =   Since the PageRank is the most important algorithms which is used in the Google engine  In order to prevent spamming Google releases little information on the way in which a PageRank is calculated  ; similarity =  0.5356039\n"
          ]
        },
        {
          "output_type": "stream",
          "name": "stderr",
          "text": [
            "100%|██████████| 1/1 [00:00<00:00,  5.46it/s]\n",
            "100%|██████████| 1/1 [00:00<00:00,  4.55it/s]\n"
          ]
        },
        {
          "output_type": "stream",
          "name": "stdout",
          "text": [
            "Sentence =   The differing application has a direct influence on what the definition of the term means  A variation of the PageRank method bases the importance of a webpage on how many visits the page gets  ; similarity =  0.28494504\n"
          ]
        },
        {
          "output_type": "stream",
          "name": "stderr",
          "text": [
            "100%|██████████| 1/1 [00:00<00:00,  5.06it/s]\n",
            "100%|██████████| 1/1 [00:00<00:00,  5.11it/s]\n"
          ]
        },
        {
          "output_type": "stream",
          "name": "stdout",
          "text": [
            "Sentence =   Construct an optimal solution using the computed optimal subproblems for the original problem  The last point would be to construct an optimal solution from the computed values  ; similarity =  0.71172374\n"
          ]
        },
        {
          "output_type": "stream",
          "name": "stderr",
          "text": [
            "100%|██████████| 1/1 [00:00<00:00,  4.78it/s]\n",
            "100%|██████████| 1/1 [00:00<00:00,  5.01it/s]\n"
          ]
        },
        {
          "output_type": "stream",
          "name": "stdout",
          "text": [
            "Sentence =   In general we can solve a problem with optimal substructure using a three step process 1  In a word we can solve a problem with optimal substructure using a three step process  ; similarity =  0.967192\n"
          ]
        },
        {
          "output_type": "stream",
          "name": "stderr",
          "text": [
            "100%|██████████| 1/1 [00:00<00:00,  5.17it/s]\n",
            "100%|██████████| 1/1 [00:00<00:00,  8.21it/s]\n"
          ]
        },
        {
          "output_type": "stream",
          "name": "stdout",
          "text": [
            "Sentence =   Compute the optimal solution values either top down with caching or bottom up using a table 4  Compute optimal solution values either top down with caching or bottom up in a table  ; similarity =  0.88201576\n"
          ]
        },
        {
          "output_type": "stream",
          "name": "stderr",
          "text": [
            "100%|██████████| 1/1 [00:00<00:00,  8.01it/s]\n",
            "100%|██████████| 1/1 [00:00<00:00,  7.69it/s]\n"
          ]
        },
        {
          "output_type": "stream",
          "name": "stdout",
          "text": [
            "Sentence =   Instead a new object is made to inherit properties of objects which already exist  In defining this inheritance hierarchy we have already defined certain restrictions not all of which are desirable  ; similarity =  0.38514054\n"
          ]
        },
        {
          "output_type": "stream",
          "name": "stderr",
          "text": [
            "100%|██████████| 1/1 [00:00<00:00,  7.10it/s]\n",
            "100%|██████████| 1/1 [00:00<00:00,  7.11it/s]\n"
          ]
        },
        {
          "output_type": "stream",
          "name": "stdout",
          "text": [
            "Sentence =   The algebraic model for representing text documents and objects as vectors of identifiers is called the vector space model  In vector space model the documents from which the information is to be retrieved are represented as vectors  ; similarity =  0.84379274\n"
          ]
        },
        {
          "output_type": "stream",
          "name": "stderr",
          "text": [
            "100%|██████████| 1/1 [00:00<00:00,  7.20it/s]\n",
            "100%|██████████| 1/1 [00:00<00:00,  7.19it/s]\n"
          ]
        },
        {
          "output_type": "stream",
          "name": "stdout",
          "text": [
            "Sentence =   In vector space model the documents from which the information is to be retrieved are represented as vectors  A Vector space model is an algebraic model for representing text documents as vectors of identifiers  ; similarity =  0.8454665\n"
          ]
        },
        {
          "output_type": "stream",
          "name": "stderr",
          "text": [
            "100%|██████████| 1/1 [00:00<00:00,  8.05it/s]\n",
            "100%|██████████| 1/1 [00:00<00:00,  9.13it/s]\n"
          ]
        },
        {
          "output_type": "stream",
          "name": "stdout",
          "text": [
            "Sentence =   Several different ways have been developed of calculating these values also known as term weights  Other ways of computing these values or weights have been developed  ; similarity =  0.8454581\n"
          ]
        },
        {
          "output_type": "stream",
          "name": "stderr",
          "text": [
            "100%|██████████| 1/1 [00:00<00:00,  7.99it/s]\n",
            "100%|██████████| 1/1 [00:00<00:00,  7.73it/s]\n"
          ]
        },
        {
          "output_type": "stream",
          "name": "stdout",
          "text": [
            "Sentence =   The order in which terms appear in the document is lost in a vector space representation  Finally the order in which the terms appear in the document is lost in the vector space representation  ; similarity =  0.98168236\n"
          ]
        },
        {
          "output_type": "stream",
          "name": "stderr",
          "text": [
            "100%|██████████| 1/1 [00:00<00:00,  7.73it/s]\n",
            "100%|██████████| 1/1 [00:00<00:00,  8.50it/s]\n"
          ]
        },
        {
          "output_type": "stream",
          "name": "stdout",
          "text": [
            "Sentence =   One of the most popular schemes is tf idf weighting  One of the best known methods is called tf idf weighting  ; similarity =  0.8838265\n"
          ]
        },
        {
          "output_type": "stream",
          "name": "stderr",
          "text": [
            "100%|██████████| 1/1 [00:00<00:00,  8.55it/s]\n",
            "100%|██████████| 1/1 [00:00<00:00,  7.16it/s]\n"
          ]
        },
        {
          "output_type": "stream",
          "name": "stdout",
          "text": [
            "Sentence =   Since it is a formal theorem Bayes theorem holds in all popular interpretations of probability  Bayes Theorem is a theorem of probability theory originally stated by the Reverend Thomas Bayes  ; similarity =  0.62452435\n"
          ]
        },
        {
          "output_type": "stream",
          "name": "stderr",
          "text": [
            "100%|██████████| 1/1 [00:00<00:00,  8.37it/s]\n",
            "100%|██████████| 1/1 [00:00<00:00,  8.11it/s]\n"
          ]
        },
        {
          "output_type": "stream",
          "name": "stdout",
          "text": [
            "Sentence =   In the vector space model a document is represented as a vector  A possible use for a vector space model is for retrieval and filtering of information  ; similarity =  0.62207186\n"
          ]
        },
        {
          "output_type": "stream",
          "name": "stderr",
          "text": [
            "100%|██████████| 1/1 [00:00<00:00,  8.26it/s]\n",
            "100%|██████████| 1/1 [00:00<00:00,  8.23it/s]\n"
          ]
        },
        {
          "output_type": "stream",
          "name": "stdout",
          "text": [
            "Sentence =   One of its uses is calculating posterior probabilities given observations  It is usually used to calculate posterior probabilities given observations  ; similarity =  0.93097305\n"
          ]
        },
        {
          "output_type": "stream",
          "name": "stderr",
          "text": [
            "100%|██████████| 1/1 [00:00<00:00, 10.22it/s]\n",
            "100%|██████████| 1/1 [00:00<00:00,  7.91it/s]\n"
          ]
        },
        {
          "output_type": "stream",
          "name": "stdout",
          "text": [
            "Sentence =   A document is represented as a vector  A document is represented as a vector with each dimension corresponding to a separate term  ; similarity =  0.8641483\n"
          ]
        },
        {
          "output_type": "stream",
          "name": "stderr",
          "text": [
            "100%|██████████| 1/1 [00:00<00:00,  7.05it/s]\n",
            "100%|██████████| 1/1 [00:00<00:00,  7.38it/s]\n"
          ]
        },
        {
          "output_type": "stream",
          "name": "stdout",
          "text": [
            "Sentence =   The peropos of inheritance in object oriented programming is to minimize the reuse of existing code without modification  The idea of inheritance in OOP refers to the formation of new classes with the already existing classes  ; similarity =  0.3537401\n"
          ]
        },
        {
          "output_type": "stream",
          "name": "stderr",
          "text": [
            "100%|██████████| 1/1 [00:00<00:00,  8.05it/s]\n",
            "100%|██████████| 1/1 [00:00<00:00,  9.55it/s]\n"
          ]
        },
        {
          "output_type": "stream",
          "name": "stdout",
          "text": [
            "Sentence =   If a term appears in the document the terms value in the vector is non zero  Each item in the vector represents a different keyword  ; similarity =  0.48392683\n"
          ]
        },
        {
          "output_type": "stream",
          "name": "stderr",
          "text": [
            "100%|██████████| 1/1 [00:00<00:00,  8.35it/s]\n",
            "100%|██████████| 1/1 [00:00<00:00,  9.23it/s]\n"
          ]
        },
        {
          "output_type": "stream",
          "name": "stdout",
          "text": [
            "Sentence =   P A B is the conditional probability of A given B  P B A is the conditional probability of B given A  ; similarity =  0.98315823\n"
          ]
        },
        {
          "output_type": "stream",
          "name": "stderr",
          "text": [
            "100%|██████████| 1/1 [00:00<00:00,  7.40it/s]\n",
            "100%|██████████| 1/1 [00:00<00:00, 10.90it/s]\n"
          ]
        },
        {
          "output_type": "stream",
          "name": "stdout",
          "text": [
            "Sentence =   When a document is represented as a vector each dimension corresponds to a separate term  A document can be represented as a vector  ; similarity =  0.8149578\n"
          ]
        },
        {
          "output_type": "stream",
          "name": "stderr",
          "text": [
            "100%|██████████| 1/1 [00:00<00:00,  6.94it/s]\n",
            "100%|██████████| 1/1 [00:00<00:00,  7.35it/s]\n"
          ]
        },
        {
          "output_type": "stream",
          "name": "stdout",
          "text": [
            "Sentence =   There is also Conditional Probability which is usually interested in the way variables relate to each other  It is mainly used to calculate the probability of one event s outcome given that a previous event happened  ; similarity =  0.55423707\n"
          ]
        },
        {
          "output_type": "stream",
          "name": "stderr",
          "text": [
            "100%|██████████| 1/1 [00:00<00:00,  7.48it/s]\n",
            "100%|██████████| 1/1 [00:00<00:00,  8.17it/s]\n"
          ]
        },
        {
          "output_type": "stream",
          "name": "stdout",
          "text": [
            "Sentence =   Finally the order in which the terms appear in the document is lost in the vector space representation  A term which occurs in the document has a value in the vector of non zero  ; similarity =  0.61606693\n"
          ]
        },
        {
          "output_type": "stream",
          "name": "stderr",
          "text": [
            "100%|██████████| 1/1 [00:00<00:00,  8.73it/s]\n",
            "100%|██████████| 1/1 [00:00<00:00,  7.47it/s]\n"
          ]
        },
        {
          "output_type": "stream",
          "name": "stdout",
          "text": [
            "Sentence =   Term frequency This formula counts how many times the term occurs in a document  If a term appears in the document then its value in the vector is non zero  ; similarity =  0.5301738\n"
          ]
        },
        {
          "output_type": "stream",
          "name": "stderr",
          "text": [
            "100%|██████████| 1/1 [00:00<00:00,  7.31it/s]\n",
            "100%|██████████| 1/1 [00:00<00:00,  7.95it/s]\n"
          ]
        },
        {
          "output_type": "stream",
          "name": "stdout",
          "text": [
            "Sentence =   The order in which the terms appear in the document is lost in the vector space representation  The order in which terms appear in the document is lost in a vector space representation  ; similarity =  0.99223596\n"
          ]
        },
        {
          "output_type": "stream",
          "name": "stderr",
          "text": [
            "100%|██████████| 1/1 [00:00<00:00,  8.85it/s]\n",
            "100%|██████████| 1/1 [00:00<00:00,  8.52it/s]\n"
          ]
        },
        {
          "output_type": "stream",
          "name": "stdout",
          "text": [
            "Sentence =   Bayes theorem is also often known as Bayes law  As a formal theorem Bayes theorem is valid in all common interpretations of probability  ; similarity =  0.61473227\n"
          ]
        },
        {
          "output_type": "stream",
          "name": "stderr",
          "text": [
            "100%|██████████| 1/1 [00:00<00:00,  7.45it/s]\n",
            "100%|██████████| 1/1 [00:00<00:00,  8.21it/s]\n"
          ]
        },
        {
          "output_type": "stream",
          "name": "stdout",
          "text": [
            "Sentence =   Several different ways of computing these values also known as term weights have been developed  Many different ways of calculating these values also known as term weights have been developed  ; similarity =  0.975343\n"
          ]
        },
        {
          "output_type": "stream",
          "name": "stderr",
          "text": [
            "100%|██████████| 1/1 [00:00<00:00, 10.78it/s]\n",
            "100%|██████████| 1/1 [00:00<00:00,  7.93it/s]\n"
          ]
        },
        {
          "output_type": "stream",
          "name": "stdout",
          "text": [
            "Sentence =   Bayes Theorem Let and be sets  Bayes theorem is useful in evaluating the result of drug tests  ; similarity =  0.5191329\n"
          ]
        },
        {
          "output_type": "stream",
          "name": "stderr",
          "text": [
            "100%|██████████| 1/1 [00:00<00:00,  7.79it/s]\n",
            "100%|██████████| 1/1 [00:00<00:00,  7.82it/s]\n"
          ]
        },
        {
          "output_type": "stream",
          "name": "stdout",
          "text": [
            "Sentence =   The basic idea is to represent each document as a vector of certain weighted word frequencies  A document is represented as a vector with each dimension corresponding to a separate term  ; similarity =  0.75994736\n"
          ]
        },
        {
          "output_type": "stream",
          "name": "stderr",
          "text": [
            "100%|██████████| 1/1 [00:00<00:00,  8.42it/s]\n",
            "100%|██████████| 1/1 [00:00<00:00,  6.97it/s]\n"
          ]
        },
        {
          "output_type": "stream",
          "name": "stdout",
          "text": [
            "Sentence =   To derive the theorem we begin with the definition of conditional probability  In probability theory the prior and conditional probabilities of two random events are related by Bayes theorem  ; similarity =  0.6181063\n"
          ]
        },
        {
          "output_type": "stream",
          "name": "stderr",
          "text": [
            "100%|██████████| 1/1 [00:00<00:00,  8.07it/s]\n",
            "100%|██████████| 1/1 [00:00<00:00,  8.11it/s]\n"
          ]
        },
        {
          "output_type": "stream",
          "name": "stdout",
          "text": [
            "Sentence =   Since it is a formal theorem Bayes theorem holds in all popular interpretations of probability  As a formal theorem Bayes theorem is valid in all common interpretations of probability  ; similarity =  0.9517681\n"
          ]
        },
        {
          "output_type": "stream",
          "name": "stderr",
          "text": [
            "100%|██████████| 1/1 [00:00<00:00,  7.42it/s]\n",
            "100%|██████████| 1/1 [00:00<00:00, 10.20it/s]\n"
          ]
        },
        {
          "output_type": "stream",
          "name": "stdout",
          "text": [
            "Sentence =   Since it is a formal theorem Bayes theorem holds in all popular interpretations of probability  It is valid in all common interpretations of probability  ; similarity =  0.7917275\n"
          ]
        },
        {
          "output_type": "stream",
          "name": "stderr",
          "text": [
            "100%|██████████| 1/1 [00:00<00:00,  8.91it/s]\n",
            "100%|██████████| 1/1 [00:00<00:00,  8.91it/s]\n"
          ]
        },
        {
          "output_type": "stream",
          "name": "stdout",
          "text": [
            "Sentence =   For instance a patient may be observed to have certain symptoms  For example a person may be observed to have certain symptoms  ; similarity =  0.94436276\n"
          ]
        },
        {
          "output_type": "stream",
          "name": "stderr",
          "text": [
            "100%|██████████| 1/1 [00:00<00:00,  9.23it/s]\n",
            "100%|██████████| 1/1 [00:00<00:00,  8.16it/s]\n"
          ]
        },
        {
          "output_type": "stream",
          "name": "stdout",
          "text": [
            "Sentence =   A document can be represented as a vector  The vector space model are the documents which are represented as bags of words  ; similarity =  0.7763066\n"
          ]
        },
        {
          "output_type": "stream",
          "name": "stderr",
          "text": [
            "100%|██████████| 1/1 [00:00<00:00,  8.47it/s]\n",
            "100%|██████████| 1/1 [00:00<00:00,  9.13it/s]\n"
          ]
        },
        {
          "output_type": "stream",
          "name": "stdout",
          "text": [
            "Sentence =   Therefore the program is the optimal plan for action that is produced  However the key in Dynamic Programming is to determine the structure of optimal solutions  ; similarity =  0.5647732\n"
          ]
        },
        {
          "output_type": "stream",
          "name": "stderr",
          "text": [
            "100%|██████████| 1/1 [00:00<00:00,  6.10it/s]\n",
            "100%|██████████| 1/1 [00:00<00:00,  8.71it/s]\n"
          ]
        },
        {
          "output_type": "stream",
          "name": "stdout",
          "text": [
            "Sentence =   Other possible uses for vector space models are indexing and also to rank the relevancy of differing documents  A possible use for a vector space model is for retrieval and filtering of information  ; similarity =  0.7498992\n"
          ]
        },
        {
          "output_type": "stream",
          "name": "stderr",
          "text": [
            "100%|██████████| 1/1 [00:00<00:00,  8.52it/s]\n",
            "100%|██████████| 1/1 [00:00<00:00,  8.86it/s]\n"
          ]
        },
        {
          "output_type": "stream",
          "name": "stdout",
          "text": [
            "Sentence =   For example a person may be observed to have certain symptoms  For example a patient may be observed to have certain symptoms  ; similarity =  0.9415646\n"
          ]
        },
        {
          "output_type": "stream",
          "name": "stderr",
          "text": [
            "100%|██████████| 1/1 [00:00<00:00,  7.71it/s]\n",
            "100%|██████████| 1/1 [00:00<00:00,  8.26it/s]\n"
          ]
        },
        {
          "output_type": "stream",
          "name": "stdout",
          "text": [
            "Sentence =   It is previous in the sense that it does not take into account any information about B  It doesn t take into account any information about B so it is prior  ; similarity =  0.928233\n"
          ]
        },
        {
          "output_type": "stream",
          "name": "stderr",
          "text": [
            "100%|██████████| 1/1 [00:00<00:00,  7.35it/s]\n",
            "100%|██████████| 1/1 [00:00<00:00,  7.48it/s]\n"
          ]
        },
        {
          "output_type": "stream",
          "name": "stdout",
          "text": [
            "Sentence =   Bayes theorem was names after Rev Thomas Bayes and is a method used in probability theory  As a formal theorem Bayes theorem is valid in all common interpretations of probability  ; similarity =  0.55834824\n"
          ]
        },
        {
          "output_type": "stream",
          "name": "stderr",
          "text": [
            "100%|██████████| 1/1 [00:00<00:00,  8.30it/s]\n",
            "100%|██████████| 1/1 [00:00<00:00,  9.27it/s]\n"
          ]
        },
        {
          "output_type": "stream",
          "name": "stdout",
          "text": [
            "Sentence =   To explain further vector space models basically a document is characterized by a vector  A document can be represented as a vector  ; similarity =  0.8514818\n"
          ]
        },
        {
          "output_type": "stream",
          "name": "stderr",
          "text": [
            "100%|██████████| 1/1 [00:00<00:00,  7.38it/s]\n",
            "100%|██████████| 1/1 [00:00<00:00,  7.70it/s]\n"
          ]
        },
        {
          "output_type": "stream",
          "name": "stdout",
          "text": [
            "Sentence =   It is mainly used to calculate the probability of one event s outcome given that a previous event happened  If a term exists in a document its value in the vector is not equal to zero  ; similarity =  0.32404047\n"
          ]
        },
        {
          "output_type": "stream",
          "name": "stderr",
          "text": [
            "100%|██████████| 1/1 [00:00<00:00,  8.80it/s]\n",
            "100%|██████████| 1/1 [00:00<00:00,  8.97it/s]\n"
          ]
        },
        {
          "output_type": "stream",
          "name": "stdout",
          "text": [
            "Sentence =   The way that a term is defined depends on the application  The definition of term is dependent on the application  ; similarity =  0.95844555\n"
          ]
        },
        {
          "output_type": "stream",
          "name": "stderr",
          "text": [
            "100%|██████████| 1/1 [00:00<00:00,  7.66it/s]\n",
            "100%|██████████| 1/1 [00:00<00:00,  7.47it/s]\n"
          ]
        },
        {
          "output_type": "stream",
          "name": "stdout",
          "text": [
            "Sentence =   If a term occurs in the document its value in the vector is non zero  The order in which the terms appear in the document is lost in the vector space representation  ; similarity =  0.63446736\n"
          ]
        },
        {
          "output_type": "stream",
          "name": "stderr",
          "text": [
            "100%|██████████| 1/1 [00:00<00:00,  8.99it/s]\n",
            "100%|██████████| 1/1 [00:00<00:00,  9.39it/s]\n"
          ]
        },
        {
          "output_type": "stream",
          "name": "stdout",
          "text": [
            "Sentence =   Its first use was in the SMART Information Retrieval System  Its first application was in the SMART Information Retrieval System  ; similarity =  0.9683475\n"
          ]
        },
        {
          "output_type": "stream",
          "name": "stderr",
          "text": [
            "100%|██████████| 1/1 [00:00<00:00,  8.98it/s]\n",
            "100%|██████████| 1/1 [00:00<00:00,  9.44it/s]\n"
          ]
        },
        {
          "output_type": "stream",
          "name": "stdout",
          "text": [
            "Sentence =   The definition of term is dependent on the application  The definition of a term depends on the application  ; similarity =  0.9808477\n"
          ]
        },
        {
          "output_type": "stream",
          "name": "stderr",
          "text": [
            "100%|██████████| 1/1 [00:00<00:00,  9.15it/s]\n",
            "100%|██████████| 1/1 [00:00<00:00,  8.52it/s]\n"
          ]
        },
        {
          "output_type": "stream",
          "name": "stdout",
          "text": [
            "Sentence =   Its first application was in the SMART Information Retrieval System  It was used in the first time in the SMART Information Retrieval System  ; similarity =  0.91990703\n"
          ]
        },
        {
          "output_type": "stream",
          "name": "stderr",
          "text": [
            "100%|██████████| 1/1 [00:00<00:00,  7.64it/s]\n",
            "100%|██████████| 1/1 [00:00<00:00,  8.46it/s]\n"
          ]
        },
        {
          "output_type": "stream",
          "name": "stdout",
          "text": [
            "Sentence =   It doesn t take into account any information about B so it is prior  However an object cannot be cast to a class which is no relative of it  ; similarity =  0.2962429\n"
          ]
        },
        {
          "output_type": "stream",
          "name": "stderr",
          "text": [
            "100%|██████████| 1/1 [00:00<00:00,  7.33it/s]\n",
            "100%|██████████| 1/1 [00:00<00:00,  7.25it/s]\n"
          ]
        },
        {
          "output_type": "stream",
          "name": "stdout",
          "text": [
            "Sentence =   Following this each web page is given a ranking of 0 10 according to its relevance to a search  A variation of the PageRank method bases the importance of a webpage on how many visits the page gets  ; similarity =  0.6315355\n"
          ]
        },
        {
          "output_type": "stream",
          "name": "stderr",
          "text": [
            "100%|██████████| 1/1 [00:00<00:00,  7.13it/s]\n",
            "100%|██████████| 1/1 [00:00<00:00,  9.21it/s]\n"
          ]
        },
        {
          "output_type": "stream",
          "name": "stdout",
          "text": [
            "Sentence =   P A is the probability of the student being a girl which is 2 5   P A B is the conditional probability of A given B  ; similarity =  0.55126476\n"
          ]
        },
        {
          "output_type": "stream",
          "name": "stderr",
          "text": [
            "100%|██████████| 1/1 [00:00<00:00,  7.24it/s]\n",
            "100%|██████████| 1/1 [00:00<00:00,  6.81it/s]\n"
          ]
        },
        {
          "output_type": "stream",
          "name": "stdout",
          "text": [
            "Sentence =   The number of unique words in the vocabulary denotes the dimensionality if words are used for the terms  Terms are basically the words or any indexing unit used to identify the contents of a text  ; similarity =  0.6769409\n"
          ]
        },
        {
          "output_type": "stream",
          "name": "stderr",
          "text": [
            "100%|██████████| 1/1 [00:00<00:00, 10.60it/s]\n",
            "100%|██████████| 1/1 [00:00<00:00,  8.73it/s]\n"
          ]
        },
        {
          "output_type": "stream",
          "name": "stdout",
          "text": [
            "Sentence =   P A is the prior probability A   P B A is the conditional probability of B given A  ; similarity =  0.80544376\n"
          ]
        },
        {
          "output_type": "stream",
          "name": "stderr",
          "text": [
            "100%|██████████| 1/1 [00:00<00:00, 10.21it/s]\n",
            "100%|██████████| 1/1 [00:00<00:00,  8.73it/s]\n"
          ]
        },
        {
          "output_type": "stream",
          "name": "stdout",
          "text": [
            "Sentence =   Each dimension corresponds to a separate term  A document is represented as a vector and each dimension corresponds to a separate term  ; similarity =  0.8054242\n"
          ]
        },
        {
          "output_type": "stream",
          "name": "stderr",
          "text": [
            "100%|██████████| 1/1 [00:00<00:00,  8.01it/s]\n",
            "100%|██████████| 1/1 [00:00<00:00,  8.15it/s]\n"
          ]
        },
        {
          "output_type": "stream",
          "name": "stdout",
          "text": [
            "Sentence =   A 0 5 probability is commonly expressed as a 50 chance of something happening  5 probability is commonly expressed as a 50 chance of something happening  ; similarity =  0.9411038\n"
          ]
        },
        {
          "output_type": "stream",
          "name": "stderr",
          "text": [
            "100%|██████████| 1/1 [00:00<00:00,  7.83it/s]\n",
            "100%|██████████| 1/1 [00:00<00:00, 10.18it/s]\n"
          ]
        },
        {
          "output_type": "stream",
          "name": "stdout",
          "text": [
            "Sentence =   In the vector space model a document is represented as a vector  A document has representation as a vector  ; similarity =  0.929267\n"
          ]
        },
        {
          "output_type": "stream",
          "name": "stderr",
          "text": [
            "100%|██████████| 1/1 [00:00<00:00,  8.63it/s]\n",
            "100%|██████████| 1/1 [00:00<00:00,  8.86it/s]\n"
          ]
        },
        {
          "output_type": "stream",
          "name": "stdout",
          "text": [
            "Sentence =   This can be useful when the number of times a word appears is not considered important  After this it is using this to pick the best overall path  ; similarity =  0.107707806\n"
          ]
        },
        {
          "output_type": "stream",
          "name": "stderr",
          "text": [
            "100%|██████████| 1/1 [00:00<00:00,  8.08it/s]\n",
            "100%|██████████| 1/1 [00:00<00:00,  8.59it/s]\n"
          ]
        },
        {
          "output_type": "stream",
          "name": "stdout",
          "text": [
            "Sentence =   Also looking up the solution when a sub problem is encountered again helps reduce computation  After this it is using this to pick the best overall path  ; similarity =  0.21767534\n"
          ]
        },
        {
          "output_type": "stream",
          "name": "stderr",
          "text": [
            "100%|██████████| 1/1 [00:00<00:00,  8.49it/s]\n",
            "100%|██████████| 1/1 [00:00<00:00,  8.77it/s]\n"
          ]
        },
        {
          "output_type": "stream",
          "name": "stdout",
          "text": [
            "Sentence =   Thus the program is the best plan for action that is produced  Thus the program is the optimal plan of action that is being produced  ; similarity =  0.87263155\n"
          ]
        },
        {
          "output_type": "stream",
          "name": "stderr",
          "text": [
            "100%|██████████| 1/1 [00:00<00:00,  6.49it/s]\n",
            "100%|██████████| 1/1 [00:00<00:00,  9.18it/s]\n"
          ]
        },
        {
          "output_type": "stream",
          "name": "stdout",
          "text": [
            "Sentence =   P B is the prior or marginal probability of B and acts to normalise the probability   P A B is the conditional probability of A given B  ; similarity =  0.86631626\n"
          ]
        },
        {
          "output_type": "stream",
          "name": "stderr",
          "text": [
            "100%|██████████| 1/1 [00:00<00:00,  7.78it/s]\n",
            "100%|██████████| 1/1 [00:00<00:00,  8.06it/s]\n"
          ]
        },
        {
          "output_type": "stream",
          "name": "stdout",
          "text": [
            "Sentence =   This method is used in the Google Toolbar which reports back actual site visits to Google  Since the PageRank is the most important algorithms which is used in the Google engine  ; similarity =  0.5459531\n"
          ]
        },
        {
          "output_type": "stream",
          "name": "stderr",
          "text": [
            "100%|██████████| 1/1 [00:00<00:00,  7.92it/s]\n",
            "100%|██████████| 1/1 [00:00<00:00,  7.30it/s]\n"
          ]
        },
        {
          "output_type": "stream",
          "name": "stdout",
          "text": [
            "Sentence =   Bayes theorem relates the conditional and marginal probabilities of two random events  In probability theory the prior and conditional probabilities of two random events are related by Bayes theorem  ; similarity =  0.9226458\n"
          ]
        },
        {
          "output_type": "stream",
          "name": "stderr",
          "text": [
            "100%|██████████| 1/1 [00:00<00:00,  7.92it/s]\n",
            "100%|██████████| 1/1 [00:00<00:00,  7.33it/s]\n"
          ]
        },
        {
          "output_type": "stream",
          "name": "stdout",
          "text": [
            "Sentence =   Since the PageRank is the most important algorithms which is used in the Google engine  In general dynamic programming is used on optimisation problems where the most efficient solution is needed  ; similarity =  0.43180916\n"
          ]
        },
        {
          "output_type": "stream",
          "name": "stderr",
          "text": [
            "100%|██████████| 1/1 [00:00<00:00,  8.24it/s]\n",
            "100%|██████████| 1/1 [00:00<00:00,  7.90it/s]\n"
          ]
        },
        {
          "output_type": "stream",
          "name": "stdout",
          "text": [
            "Sentence =   P A B is the conditional probability of A given B  P B is the prior or marginal probability of B and acts to normalise the probability  ; similarity =  0.86631626\n"
          ]
        },
        {
          "output_type": "stream",
          "name": "stderr",
          "text": [
            "100%|██████████| 1/1 [00:00<00:00,  8.02it/s]\n",
            "100%|██████████| 1/1 [00:00<00:00,  8.68it/s]\n"
          ]
        },
        {
          "output_type": "stream",
          "name": "stdout",
          "text": [
            "Sentence =   Many different methods of calculating these values sometimes known as term weights have been developed  Several different ways have been developed of calculating these values also known as term weights  ; similarity =  0.97448766\n"
          ]
        },
        {
          "output_type": "stream",
          "name": "stderr",
          "text": [
            "100%|██████████| 1/1 [00:00<00:00,  8.81it/s]\n",
            "100%|██████████| 1/1 [00:00<00:00,  9.78it/s]\n"
          ]
        },
        {
          "output_type": "stream",
          "name": "stdout",
          "text": [
            "Sentence =   Its first use was in the SMART Information Retrieval System  It was first used in the SMART Information Retrieval System  ; similarity =  0.9809115\n"
          ]
        },
        {
          "output_type": "stream",
          "name": "stderr",
          "text": [
            "100%|██████████| 1/1 [00:00<00:00,  8.15it/s]\n",
            "100%|██████████| 1/1 [00:00<00:00,  7.36it/s]\n"
          ]
        },
        {
          "output_type": "stream",
          "name": "stdout",
          "text": [
            "Sentence =   Bayes Theorem is a simple mathematical formula used for calculating conditional probabilities  Bayes theorem was names after Rev Thomas Bayes and is a method used in probability theory  ; similarity =  0.6321554\n"
          ]
        },
        {
          "output_type": "stream",
          "name": "stderr",
          "text": [
            "100%|██████████| 1/1 [00:00<00:00,  6.59it/s]\n",
            "100%|██████████| 1/1 [00:00<00:00,  8.57it/s]\n"
          ]
        },
        {
          "output_type": "stream",
          "name": "stdout",
          "text": [
            "Sentence =   This means that inheritance is used when types have common factors and these would be put into the superclass  They do not have to be written in a computer language  ; similarity =  0.16567694\n"
          ]
        },
        {
          "output_type": "stream",
          "name": "stderr",
          "text": [
            "100%|██████████| 1/1 [00:00<00:00,  9.25it/s]\n",
            "100%|██████████| 1/1 [00:00<00:00,  7.05it/s]\n"
          ]
        },
        {
          "output_type": "stream",
          "name": "stdout",
          "text": [
            "Sentence =   This is highly used in dynamic programming  In general dynamic programming is used on optimisation problems where the most efficient solution is needed  ; similarity =  0.66911966\n"
          ]
        },
        {
          "output_type": "stream",
          "name": "stderr",
          "text": [
            "100%|██████████| 1/1 [00:00<00:00,  8.24it/s]\n",
            "100%|██████████| 1/1 [00:00<00:00, 10.50it/s]\n"
          ]
        },
        {
          "output_type": "stream",
          "name": "stdout",
          "text": [
            "Sentence =   The key to Dynamic Programming is to find the structure of optimal solutions  Characterise structure of an optimal solution  ; similarity =  0.7102562\n"
          ]
        },
        {
          "output_type": "stream",
          "name": "stderr",
          "text": [
            "100%|██████████| 1/1 [00:00<00:00,  9.38it/s]\n",
            "100%|██████████| 1/1 [00:00<00:00,  7.28it/s]\n"
          ]
        },
        {
          "output_type": "stream",
          "name": "stdout",
          "text": [
            "Sentence =   These subproblems are not however independent  It is similar to divide and conquer however is differentiated as its subproblems are not independent  ; similarity =  0.6853521\n"
          ]
        },
        {
          "output_type": "stream",
          "name": "stderr",
          "text": [
            "100%|██████████| 1/1 [00:00<00:00,  7.82it/s]\n",
            "100%|██████████| 1/1 [00:00<00:00,  8.37it/s]\n"
          ]
        },
        {
          "output_type": "stream",
          "name": "stdout",
          "text": [
            "Sentence =   In defining this inheritance hierarchy we have already defined certain restrictions not all of which are desirable  However an object cannot be cast to a class which is no relative of it  ; similarity =  0.34115288\n"
          ]
        },
        {
          "output_type": "stream",
          "name": "stderr",
          "text": [
            "100%|██████████| 1/1 [00:00<00:00,  8.23it/s]\n",
            "100%|██████████| 1/1 [00:00<00:00,  7.89it/s]\n"
          ]
        },
        {
          "output_type": "stream",
          "name": "stdout",
          "text": [
            "Sentence =   Dynamic Programming solves problems by combining the solutions of subproblems  Like divide and conquer Dynamic Programming solves problems by combining solutions to sub problems  ; similarity =  0.9176198\n"
          ]
        },
        {
          "output_type": "stream",
          "name": "stderr",
          "text": [
            "100%|██████████| 1/1 [00:00<00:00,  7.99it/s]\n",
            "100%|██████████| 1/1 [00:00<00:00,  7.17it/s]\n"
          ]
        },
        {
          "output_type": "stream",
          "name": "stdout",
          "text": [
            "Sentence =   Since it is a formal theorem Bayes theorem holds in all popular interpretations of probability  Bayes theorem was names after Rev Thomas Bayes and is a method used in probability theory  ; similarity =  0.6089289\n"
          ]
        },
        {
          "output_type": "stream",
          "name": "stderr",
          "text": [
            "100%|██████████| 1/1 [00:00<00:00,  8.12it/s]\n",
            "100%|██████████| 1/1 [00:00<00:00,  7.86it/s]\n"
          ]
        },
        {
          "output_type": "stream",
          "name": "stdout",
          "text": [
            "Sentence =   When a document is represented as a vector each dimension corresponds to a separate term  A document is represented as a vector with each dimension corresponding to a separate term  ; similarity =  0.975178\n"
          ]
        },
        {
          "output_type": "stream",
          "name": "stderr",
          "text": [
            "100%|██████████| 1/1 [00:00<00:00,  8.24it/s]\n",
            "100%|██████████| 1/1 [00:00<00:00, 10.41it/s]\n"
          ]
        },
        {
          "output_type": "stream",
          "name": "stdout",
          "text": [
            "Sentence =   In the vector space model a document is represented as a vector  A document is represented as a vector  ; similarity =  0.90835017\n"
          ]
        },
        {
          "output_type": "stream",
          "name": "stderr",
          "text": [
            "100%|██████████| 1/1 [00:00<00:00,  7.31it/s]\n",
            "100%|██████████| 1/1 [00:00<00:00,  7.66it/s]\n"
          ]
        },
        {
          "output_type": "stream",
          "name": "stdout",
          "text": [
            "Sentence =   The key to Dynamic Programming is to find the structure of optimal solutions  In general dynamic programming is used on optimisation problems where the most efficient solution is needed  ; similarity =  0.83938146\n"
          ]
        },
        {
          "output_type": "stream",
          "name": "stderr",
          "text": [
            "100%|██████████| 1/1 [00:00<00:00, 10.69it/s]\n",
            "100%|██████████| 1/1 [00:00<00:00,  7.64it/s]\n"
          ]
        },
        {
          "output_type": "stream",
          "name": "stdout",
          "text": [
            "Sentence =   Bayes Theorem Let and be sets  Bayes theorem relates the conditional and marginal probabilities of two random events  ; similarity =  0.6033036\n"
          ]
        },
        {
          "output_type": "stream",
          "name": "stderr",
          "text": [
            "100%|██████████| 1/1 [00:00<00:00,  9.09it/s]\n",
            "100%|██████████| 1/1 [00:00<00:00,  8.16it/s]\n"
          ]
        },
        {
          "output_type": "stream",
          "name": "stdout",
          "text": [
            "Sentence =   Each dimension corresponds to a separate term  A document is represented as a vector with each dimension corresponding to a separate term  ; similarity =  0.7852772\n"
          ]
        },
        {
          "output_type": "stream",
          "name": "stderr",
          "text": [
            "100%|██████████| 1/1 [00:00<00:00,  7.63it/s]\n",
            "100%|██████████| 1/1 [00:00<00:00,  7.69it/s]\n"
          ]
        },
        {
          "output_type": "stream",
          "name": "stdout",
          "text": [
            "Sentence =   Vector space representation results in the loss of the order which the terms are in the document  A term which occurs in the document has a value in the vector of non zero  ; similarity =  0.5532574\n"
          ]
        },
        {
          "output_type": "stream",
          "name": "stderr",
          "text": [
            "100%|██████████| 1/1 [00:00<00:00,  9.33it/s]\n",
            "100%|██████████| 1/1 [00:00<00:00, 10.28it/s]\n"
          ]
        },
        {
          "output_type": "stream",
          "name": "stdout",
          "text": [
            "Sentence =   The limitations of the vector space model are thus  LIMITATION There is some limitation of vector space model  ; similarity =  0.8894192\n"
          ]
        },
        {
          "output_type": "stream",
          "name": "stderr",
          "text": [
            "100%|██████████| 1/1 [00:00<00:00,  7.38it/s]\n",
            "100%|██████████| 1/1 [00:00<00:00,  7.88it/s]\n"
          ]
        },
        {
          "output_type": "stream",
          "name": "stdout",
          "text": [
            "Sentence =   If a term appears in the document then its value in the vector is non zero  A term which occurs in the document has a value in the vector of non zero  ; similarity =  0.9383435\n"
          ]
        },
        {
          "output_type": "stream",
          "name": "stderr",
          "text": [
            "100%|██████████| 1/1 [00:00<00:00,  7.12it/s]\n",
            "100%|██████████| 1/1 [00:00<00:00,  8.37it/s]\n"
          ]
        },
        {
          "output_type": "stream",
          "name": "stdout",
          "text": [
            "Sentence =   To achieve this the programmer has to note generalisations and similarities about various aspects of the program  However the key in Dynamic Programming is to determine the structure of optimal solutions  ; similarity =  0.55289793\n"
          ]
        },
        {
          "output_type": "stream",
          "name": "stderr",
          "text": [
            "100%|██████████| 1/1 [00:00<00:00,  7.68it/s]\n",
            "100%|██████████| 1/1 [00:00<00:00,  8.12it/s]\n"
          ]
        },
        {
          "output_type": "stream",
          "name": "stdout",
          "text": [
            "Sentence =   The value of a vector is non zero if a term occurs in the document  If a term appears in the document then its value in the vector is non zero  ; similarity =  0.960516\n"
          ]
        },
        {
          "output_type": "stream",
          "name": "stderr",
          "text": [
            "100%|██████████| 1/1 [00:00<00:00,  8.68it/s]\n",
            "100%|██████████| 1/1 [00:00<00:00,  7.57it/s]\n"
          ]
        },
        {
          "output_type": "stream",
          "name": "stdout",
          "text": [
            "Sentence =   Each document is a vector where each word is a dimension  A document is represented as a vector and each dimension corresponds to a separate term  ; similarity =  0.9021884\n"
          ]
        },
        {
          "output_type": "stream",
          "name": "stderr",
          "text": [
            "100%|██████████| 1/1 [00:00<00:00,  6.10it/s]\n",
            "100%|██████████| 1/1 [00:00<00:00,  8.27it/s]\n"
          ]
        },
        {
          "output_type": "stream",
          "name": "stdout",
          "text": [
            "Sentence =   In computer science dynamic programming is a way of solving problems consist of overlapping subproblems and optimal substructure  Dynamic Programming solves problems by combining the solutions of subproblems  ; similarity =  0.872788\n"
          ]
        },
        {
          "output_type": "stream",
          "name": "stderr",
          "text": [
            "100%|██████████| 1/1 [00:00<00:00,  7.25it/s]\n",
            "100%|██████████| 1/1 [00:00<00:00,  8.52it/s]\n"
          ]
        },
        {
          "output_type": "stream",
          "name": "stdout",
          "text": [
            "Sentence =   A Vector space model is an algebraic model for representing text documents as vectors of identifiers  A possible use for a vector space model is for retrieval and filtering of information  ; similarity =  0.6758648\n"
          ]
        },
        {
          "output_type": "stream",
          "name": "stderr",
          "text": [
            "100%|██████████| 1/1 [00:00<00:00,  8.89it/s]\n",
            "100%|██████████| 1/1 [00:00<00:00,  8.99it/s]\n"
          ]
        },
        {
          "output_type": "stream",
          "name": "stdout",
          "text": [
            "Sentence =   One of the most famous schemes is tf idf weighting  tf idf weighting is one of the most well known schemes  ; similarity =  0.96496814\n"
          ]
        },
        {
          "output_type": "stream",
          "name": "stderr",
          "text": [
            "100%|██████████| 1/1 [00:00<00:00,  7.25it/s]\n",
            "100%|██████████| 1/1 [00:00<00:00, 10.38it/s]\n"
          ]
        },
        {
          "output_type": "stream",
          "name": "stdout",
          "text": [
            "Sentence =   When a document is represented as a vector each dimension corresponds to a separate term  Each dimensions corresponds to a separate terms  ; similarity =  0.79235786\n"
          ]
        },
        {
          "output_type": "stream",
          "name": "stderr",
          "text": [
            "100%|██████████| 1/1 [00:00<00:00,  7.92it/s]\n",
            "100%|██████████| 1/1 [00:00<00:00,  8.26it/s]\n"
          ]
        },
        {
          "output_type": "stream",
          "name": "stdout",
          "text": [
            "Sentence =   Bayes Theorem is a mathematical formula used to calculate conditional probabilities  Bayes theorem relates the conditional and marginal probabilities of two random events  ; similarity =  0.7419629\n"
          ]
        },
        {
          "output_type": "stream",
          "name": "stderr",
          "text": [
            "100%|██████████| 1/1 [00:00<00:00,  7.20it/s]\n",
            "100%|██████████| 1/1 [00:00<00:00,  7.36it/s]\n"
          ]
        },
        {
          "output_type": "stream",
          "name": "stdout",
          "text": [
            "Sentence =   Lucky Joe likes to predict the colour of the ball he selects and he is 80 accurate  Joe records all of his results and about 0 5 of the time he accidently records the wrong results  ; similarity =  0.41928032\n"
          ]
        },
        {
          "output_type": "stream",
          "name": "stderr",
          "text": [
            "100%|██████████| 1/1 [00:00<00:00,  8.51it/s]\n",
            "100%|██████████| 1/1 [00:00<00:00,  7.10it/s]\n"
          ]
        },
        {
          "output_type": "stream",
          "name": "stdout",
          "text": [
            "Sentence =   Thus the program is the best plan for action that is produced  The other method is the top down approach which is a method that combines memorization and recursion  ; similarity =  0.16511928\n"
          ]
        },
        {
          "output_type": "stream",
          "name": "stderr",
          "text": [
            "100%|██████████| 1/1 [00:00<00:00,  8.80it/s]\n",
            "100%|██████████| 1/1 [00:00<00:00, 10.63it/s]\n"
          ]
        },
        {
          "output_type": "stream",
          "name": "stdout",
          "text": [
            "Sentence =   Every dimension is precisely related to a separate term  Each dimensions corresponds to a separate terms  ; similarity =  0.7710845\n"
          ]
        },
        {
          "output_type": "stream",
          "name": "stderr",
          "text": [
            "100%|██████████| 1/1 [00:00<00:00,  8.66it/s]\n",
            "100%|██████████| 1/1 [00:00<00:00,  6.14it/s]\n"
          ]
        },
        {
          "output_type": "stream",
          "name": "stdout",
          "text": [
            "Sentence =   Dynamic Programming solves problems by combining the solutions of subproblems  Dynamic Programming is a method of solving problems that exhibit the properties of overlapping subproblems and optimal substructure  ; similarity =  0.9078363\n"
          ]
        },
        {
          "output_type": "stream",
          "name": "stderr",
          "text": [
            "100%|██████████| 1/1 [00:00<00:00,  8.93it/s]\n",
            "100%|██████████| 1/1 [00:00<00:00,  8.74it/s]\n"
          ]
        },
        {
          "output_type": "stream",
          "name": "stdout",
          "text": [
            "Sentence =   It is usually used to calculate posterior probabilities given observations  It is usually be used to compute posterior probabilities given observations  ; similarity =  0.9802009\n"
          ]
        },
        {
          "output_type": "stream",
          "name": "stderr",
          "text": [
            "100%|██████████| 1/1 [00:00<00:00,  6.64it/s]\n",
            "100%|██████████| 1/1 [00:00<00:00,  7.11it/s]\n"
          ]
        },
        {
          "output_type": "stream",
          "name": "stdout",
          "text": [
            "Sentence =   This means that inheritance is used when types have common factors and these would be put into the superclass  Here we re going to simply use a probability distribution hence the initial value of 0 25  ; similarity =  0.13838674\n"
          ]
        },
        {
          "output_type": "stream",
          "name": "stderr",
          "text": [
            "100%|██████████| 1/1 [00:00<00:00,  8.34it/s]\n",
            "100%|██████████| 1/1 [00:00<00:00,  7.97it/s]\n"
          ]
        },
        {
          "output_type": "stream",
          "name": "stdout",
          "text": [
            "Sentence =   It is often used to compute posterior probabilities given observations  It is usually be used to compute posterior probabilities given observations  ; similarity =  0.98197204\n"
          ]
        },
        {
          "output_type": "stream",
          "name": "stderr",
          "text": [
            "100%|██████████| 1/1 [00:00<00:00,  8.69it/s]\n",
            "100%|██████████| 1/1 [00:00<00:00,  8.54it/s]\n"
          ]
        },
        {
          "output_type": "stream",
          "name": "stdout",
          "text": [
            "Sentence =   The key to Dynamic Programming is to find the structure of optimal solutions  Secondly to define the value of the optimal solution recursively  ; similarity =  0.6336297\n"
          ]
        },
        {
          "output_type": "stream",
          "name": "stderr",
          "text": [
            "100%|██████████| 1/1 [00:00<00:00,  8.79it/s]\n",
            "100%|██████████| 1/1 [00:00<00:00,  7.68it/s]\n"
          ]
        },
        {
          "output_type": "stream",
          "name": "stdout",
          "text": [
            "Sentence =   Solve these problems optimally using this three step process recursively  In a word we can solve a problem with optimal substructure using a three step process  ; similarity =  0.8521537\n"
          ]
        },
        {
          "output_type": "stream",
          "name": "stderr",
          "text": [
            "100%|██████████| 1/1 [00:00<00:00,  8.40it/s]\n",
            "100%|██████████| 1/1 [00:00<00:00,  9.78it/s]\n"
          ]
        },
        {
          "output_type": "stream",
          "name": "stdout",
          "text": [
            "Sentence =   The methodology takes much less time rather than naive methods  The method takes much less time than naive methods  ; similarity =  0.92969334\n"
          ]
        },
        {
          "output_type": "stream",
          "name": "stderr",
          "text": [
            "100%|██████████| 1/1 [00:00<00:00,  8.37it/s]\n",
            "100%|██████████| 1/1 [00:00<00:00,  8.22it/s]\n"
          ]
        },
        {
          "output_type": "stream",
          "name": "stdout",
          "text": [
            "Sentence =   If the term doesn t occur within the document the value in the vector is zero  A term which occurs in the document has a value in the vector of non zero  ; similarity =  0.8056211\n"
          ]
        },
        {
          "output_type": "stream",
          "name": "stderr",
          "text": [
            "100%|██████████| 1/1 [00:00<00:00,  8.19it/s]\n",
            "100%|██████████| 1/1 [00:00<00:00,  8.15it/s]\n"
          ]
        },
        {
          "output_type": "stream",
          "name": "stdout",
          "text": [
            "Sentence =   Without a proof of correctness such an algorithm is likely to fail  The easiest way to look at inheritance is as an is a kind of relationship  ; similarity =  0.1240832\n"
          ]
        },
        {
          "output_type": "stream",
          "name": "stderr",
          "text": [
            "100%|██████████| 1/1 [00:00<00:00,  8.23it/s]\n",
            "100%|██████████| 1/1 [00:00<00:00,  7.30it/s]\n"
          ]
        },
        {
          "output_type": "stream",
          "name": "stdout",
          "text": [
            "Sentence =   One of the most famous schemes is tf idf weighting  One of the best known schemes is tf idf weighting see the example below  ; similarity =  0.9504714\n"
          ]
        },
        {
          "output_type": "stream",
          "name": "stderr",
          "text": [
            "100%|██████████| 1/1 [00:00<00:00,  7.51it/s]\n",
            "100%|██████████| 1/1 [00:00<00:00,  8.29it/s]\n"
          ]
        },
        {
          "output_type": "stream",
          "name": "stdout",
          "text": [
            "Sentence =   The vector space model is one of these methods and it is an algebraic model  A possible use for a vector space model is for retrieval and filtering of information  ; similarity =  0.6836716\n"
          ]
        },
        {
          "output_type": "stream",
          "name": "stderr",
          "text": [
            "100%|██████████| 1/1 [00:00<00:00,  9.16it/s]\n",
            "100%|██████████| 1/1 [00:00<00:00,  9.07it/s]\n"
          ]
        },
        {
          "output_type": "stream",
          "name": "stdout",
          "text": [
            "Sentence =   The methodology takes much less time rather than naive methods  This is a much quicker method than other more naive methods  ; similarity =  0.7187487\n"
          ]
        },
        {
          "output_type": "stream",
          "name": "stderr",
          "text": [
            "100%|██████████| 1/1 [00:00<00:00,  8.32it/s]\n",
            "100%|██████████| 1/1 [00:00<00:00,  8.73it/s]\n"
          ]
        },
        {
          "output_type": "stream",
          "name": "stdout",
          "text": [
            "Sentence =   When a document is represented as a vector each dimension corresponds to a separate term  Each document is a vector where each word is a dimension  ; similarity =  0.86681116\n"
          ]
        },
        {
          "output_type": "stream",
          "name": "stderr",
          "text": [
            "100%|██████████| 1/1 [00:00<00:00,  8.23it/s]\n",
            "100%|██████████| 1/1 [00:00<00:00,  7.61it/s]\n"
          ]
        },
        {
          "output_type": "stream",
          "name": "stdout",
          "text": [
            "Sentence =   Bayes Theorem is a mathematical formula used to calculate conditional probabilities  Bayes Theorem is a simple mathematical formula used for calculating conditional probabilities  ; similarity =  0.9149885\n"
          ]
        },
        {
          "output_type": "stream",
          "name": "stderr",
          "text": [
            "100%|██████████| 1/1 [00:00<00:00,  7.14it/s]\n",
            "100%|██████████| 1/1 [00:00<00:00, 10.56it/s]\n"
          ]
        },
        {
          "output_type": "stream",
          "name": "stdout",
          "text": [
            "Sentence =   In vector space model the documents from which the information is to be retrieved are represented as vectors  A document is represented as a vector  ; similarity =  0.7587263\n"
          ]
        },
        {
          "output_type": "stream",
          "name": "stderr",
          "text": [
            "100%|██████████| 1/1 [00:00<00:00,  8.73it/s]\n",
            "100%|██████████| 1/1 [00:00<00:00,  8.29it/s]\n"
          ]
        },
        {
          "output_type": "stream",
          "name": "stdout",
          "text": [
            "Sentence =   Google owns exclusive license rights on the patent from Stanford University  However the patent is assigned to Stanford University and not to Google  ; similarity =  0.68970144\n"
          ]
        },
        {
          "output_type": "stream",
          "name": "stderr",
          "text": [
            "100%|██████████| 1/1 [00:00<00:00,  7.73it/s]\n",
            "100%|██████████| 1/1 [00:00<00:00,  7.28it/s]\n"
          ]
        },
        {
          "output_type": "stream",
          "name": "stdout",
          "text": [
            "Sentence =   This meant that the sum of all pages was the total number of pages on the web  The PageRank depends on the PageRank rating and number of all pages that have links to it  ; similarity =  0.5799665\n"
          ]
        },
        {
          "output_type": "stream",
          "name": "stderr",
          "text": [
            "100%|██████████| 1/1 [00:00<00:00,  6.69it/s]\n",
            "100%|██████████| 1/1 [00:00<00:00,  7.07it/s]\n"
          ]
        },
        {
          "output_type": "stream",
          "name": "stdout",
          "text": [
            "Sentence =   Using the vector space model for Information Retrieval models all pages and queries as high dimensional sparse vectors  The algebraic model for representing text documents and objects as vectors of identifiers is called the vector space model  ; similarity =  0.69643724\n"
          ]
        },
        {
          "output_type": "stream",
          "name": "stderr",
          "text": [
            "100%|██████████| 1/1 [00:00<00:00,  9.38it/s]\n",
            "100%|██████████| 1/1 [00:00<00:00,  7.95it/s]\n"
          ]
        },
        {
          "output_type": "stream",
          "name": "stdout",
          "text": [
            "Sentence =   The vector space model has several disadvantages  In the vector space model a document is represented as a vector  ; similarity =  0.48209712\n"
          ]
        },
        {
          "output_type": "stream",
          "name": "stderr",
          "text": [
            "100%|██████████| 1/1 [00:00<00:00,  7.79it/s]\n",
            "100%|██████████| 1/1 [00:00<00:00,  8.24it/s]\n"
          ]
        },
        {
          "output_type": "stream",
          "name": "stdout",
          "text": [
            "Sentence =   If a term exists in a document its value in the vector is not equal to zero  A document is represented as a vector and each dimension corresponds to a separate term  ; similarity =  0.7762068\n"
          ]
        },
        {
          "output_type": "stream",
          "name": "stderr",
          "text": [
            "100%|██████████| 1/1 [00:00<00:00,  7.34it/s]\n",
            "100%|██████████| 1/1 [00:00<00:00,  7.40it/s]\n"
          ]
        },
        {
          "output_type": "stream",
          "name": "stdout",
          "text": [
            "Sentence =   If a term appears in the document then its value in the vector is non zero  If a term appears in the document the terms value in the vector is non zero  ; similarity =  0.9787126\n"
          ]
        },
        {
          "output_type": "stream",
          "name": "stderr",
          "text": [
            "100%|██████████| 1/1 [00:00<00:00,  9.32it/s]\n",
            "100%|██████████| 1/1 [00:00<00:00,  9.57it/s]\n"
          ]
        },
        {
          "output_type": "stream",
          "name": "stdout",
          "text": [
            "Sentence =   The definition of term is dependent on the application  The definition of term depends on the application  ; similarity =  0.9796231\n"
          ]
        },
        {
          "output_type": "stream",
          "name": "stderr",
          "text": [
            "100%|██████████| 1/1 [00:00<00:00,  6.64it/s]\n",
            "100%|██████████| 1/1 [00:00<00:00,  7.36it/s]\n"
          ]
        },
        {
          "output_type": "stream",
          "name": "stdout",
          "text": [
            "Sentence =   This means that inheritance is used when types have common factors and these would be put into the superclass  It is similar to divide and conquer however is differentiated as its subproblems are not independent  ; similarity =  0.3243758\n"
          ]
        },
        {
          "output_type": "stream",
          "name": "stderr",
          "text": [
            "100%|██████████| 1/1 [00:00<00:00,  9.44it/s]\n",
            "100%|██████████| 1/1 [00:00<00:00,  8.50it/s]\n"
          ]
        },
        {
          "output_type": "stream",
          "name": "stdout",
          "text": [
            "Sentence =   Characterise structure of an optimal solution  Use these optimal solutions to construct an optimal solution for the original problem  ; similarity =  0.71699494\n"
          ]
        },
        {
          "output_type": "stream",
          "name": "stderr",
          "text": [
            "100%|██████████| 1/1 [00:00<00:00,  7.27it/s]\n",
            "100%|██████████| 1/1 [00:00<00:00,  6.86it/s]\n"
          ]
        },
        {
          "output_type": "stream",
          "name": "stdout",
          "text": [
            "Sentence =   In order to prevent spamming Google releases little information on the way in which a PageRank is calculated  A dampening factor is used to counter random surfers who get bored and then switch to other pages  ; similarity =  0.34222475\n"
          ]
        },
        {
          "output_type": "stream",
          "name": "stderr",
          "text": [
            "100%|██████████| 1/1 [00:00<00:00,  7.79it/s]\n",
            "100%|██████████| 1/1 [00:00<00:00,  7.90it/s]\n"
          ]
        },
        {
          "output_type": "stream",
          "name": "stdout",
          "text": [
            "Sentence =   Vector space representation results in the loss of the order which the terms are in the document  The vector space model are the documents which are represented as bags of words  ; similarity =  0.66170925\n"
          ]
        },
        {
          "output_type": "stream",
          "name": "stderr",
          "text": [
            "100%|██████████| 1/1 [00:00<00:00,  8.33it/s]\n",
            "100%|██████████| 1/1 [00:00<00:00,  8.05it/s]\n"
          ]
        },
        {
          "output_type": "stream",
          "name": "stdout",
          "text": [
            "Sentence =   Its applications include information filtering information retrieval indexing and relevancy rankings  It is used in information filtering indexing relevancy rankings and information retrieval  ; similarity =  0.9338314\n"
          ]
        },
        {
          "output_type": "stream",
          "name": "stderr",
          "text": [
            "100%|██████████| 1/1 [00:00<00:00,  7.88it/s]\n",
            "100%|██████████| 1/1 [00:00<00:00,  7.78it/s]\n"
          ]
        },
        {
          "output_type": "stream",
          "name": "stdout",
          "text": [
            "Sentence =   Instead a new object is made to inherit properties of objects which already exist  However an object cannot be cast to a class which is no relative of it  ; similarity =  0.4523032\n"
          ]
        },
        {
          "output_type": "stream",
          "name": "stderr",
          "text": [
            "100%|██████████| 1/1 [00:00<00:00,  7.76it/s]\n",
            "100%|██████████| 1/1 [00:00<00:00,  8.47it/s]\n"
          ]
        },
        {
          "output_type": "stream",
          "name": "stdout",
          "text": [
            "Sentence =   Google owns exclusive license rights on the patent from Stanford University  Google has exclusive license rights on the patent from Stanford University  ; similarity =  0.9967723\n"
          ]
        },
        {
          "output_type": "stream",
          "name": "stderr",
          "text": [
            "100%|██████████| 1/1 [00:00<00:00,  7.16it/s]\n",
            "100%|██████████| 1/1 [00:00<00:00,  8.17it/s]\n"
          ]
        },
        {
          "output_type": "stream",
          "name": "stdout",
          "text": [
            "Sentence =   P B a k a the normalizing constant is the prior or marginal probability of B  P A is the probability of the student being a girl which is 2 5  ; similarity =  0.47997284\n"
          ]
        },
        {
          "output_type": "stream",
          "name": "stderr",
          "text": [
            "100%|██████████| 1/1 [00:00<00:00,  8.92it/s]\n",
            "100%|██████████| 1/1 [00:00<00:00,  9.24it/s]\n"
          ]
        },
        {
          "output_type": "stream",
          "name": "stdout",
          "text": [
            "Sentence =   Inheritance is a basic concept in object oriented programming  The inheritance concept was invented in 1967 for Simula  ; similarity =  0.533781\n"
          ]
        },
        {
          "output_type": "stream",
          "name": "stderr",
          "text": [
            "100%|██████████| 1/1 [00:00<00:00,  8.15it/s]\n",
            "100%|██████████| 1/1 [00:00<00:00,  7.11it/s]\n"
          ]
        },
        {
          "output_type": "stream",
          "name": "stdout",
          "text": [
            "Sentence =   If a term occurs in the document its value is non zero  If a term appears in the document the terms value in the vector is non zero  ; similarity =  0.8892573\n"
          ]
        },
        {
          "output_type": "stream",
          "name": "stderr",
          "text": [
            "100%|██████████| 1/1 [00:00<00:00,  7.90it/s]\n",
            "100%|██████████| 1/1 [00:00<00:00,  8.88it/s]\n"
          ]
        },
        {
          "output_type": "stream",
          "name": "stdout",
          "text": [
            "Sentence =   Several different ways of computing these values additionally known as term weights have been developed  Other ways of computing these values or weights have been developed  ; similarity =  0.8711366\n"
          ]
        },
        {
          "output_type": "stream",
          "name": "stderr",
          "text": [
            "100%|██████████| 1/1 [00:00<00:00,  7.13it/s]\n",
            "100%|██████████| 1/1 [00:00<00:00,  7.29it/s]\n"
          ]
        },
        {
          "output_type": "stream",
          "name": "stdout",
          "text": [
            "Sentence =   Terms are basically the words or any indexing unit used to identify the contents of a text  Other possible uses for vector space models are indexing and also to rank the relevancy of differing documents  ; similarity =  0.5015345\n"
          ]
        },
        {
          "output_type": "stream",
          "name": "stderr",
          "text": [
            "100%|██████████| 1/1 [00:00<00:00, 10.97it/s]\n",
            "100%|██████████| 1/1 [00:00<00:00,  9.25it/s]\n"
          ]
        },
        {
          "output_type": "stream",
          "name": "stdout",
          "text": [
            "Sentence =   The vector space model has several disadvantages  The vector space model has the following limitations 1  ; similarity =  0.84079945\n"
          ]
        },
        {
          "output_type": "stream",
          "name": "stderr",
          "text": [
            "100%|██████████| 1/1 [00:00<00:00,  7.98it/s]\n",
            "100%|██████████| 1/1 [00:00<00:00,  7.93it/s]\n"
          ]
        },
        {
          "output_type": "stream",
          "name": "stdout",
          "text": [
            "Sentence =   To explain further vector space models basically a document is characterized by a vector  A document is represented as a vector with each dimension corresponding to a separate term  ; similarity =  0.8330386\n"
          ]
        },
        {
          "output_type": "stream",
          "name": "stderr",
          "text": [
            "100%|██████████| 1/1 [00:00<00:00,  8.38it/s]\n",
            "100%|██████████| 1/1 [00:00<00:00,  8.60it/s]\n"
          ]
        },
        {
          "output_type": "stream",
          "name": "stdout",
          "text": [
            "Sentence =   For example a patient might be observed to show certain symptoms  For example a patient may be observed to have certain symptoms  ; similarity =  0.9923287\n"
          ]
        },
        {
          "output_type": "stream",
          "name": "stderr",
          "text": [
            "100%|██████████| 1/1 [00:00<00:00,  7.98it/s]\n",
            "100%|██████████| 1/1 [00:00<00:00,  7.91it/s]\n"
          ]
        },
        {
          "output_type": "stream",
          "name": "stdout",
          "text": [
            "Sentence =   Thus the program is the optimal plan of action that is being produced  Here by meaning that a program can be an optimal plan for the produced action  ; similarity =  0.886925\n"
          ]
        },
        {
          "output_type": "stream",
          "name": "stderr",
          "text": [
            "100%|██████████| 1/1 [00:00<00:00,  7.25it/s]\n",
            "100%|██████████| 1/1 [00:00<00:00,  7.60it/s]\n"
          ]
        },
        {
          "output_type": "stream",
          "name": "stdout",
          "text": [
            "Sentence =   The theorem is often used when we have observations and wish to compute posterior probabilities  It is usually used to calculate posterior probabilities given observations  ; similarity =  0.7696596\n"
          ]
        },
        {
          "output_type": "stream",
          "name": "stderr",
          "text": [
            "100%|██████████| 1/1 [00:00<00:00,  7.77it/s]\n",
            "100%|██████████| 1/1 [00:00<00:00,  7.57it/s]\n"
          ]
        },
        {
          "output_type": "stream",
          "name": "stdout",
          "text": [
            "Sentence =   This can be useful when the number of times a word appears is not considered important  Most of these languages provide an extend keyword which is used to subclass another  ; similarity =  0.49530444\n"
          ]
        },
        {
          "output_type": "stream",
          "name": "stderr",
          "text": [
            "100%|██████████| 1/1 [00:00<00:00,  8.23it/s]\n",
            "100%|██████████| 1/1 [00:00<00:00,  8.55it/s]\n"
          ]
        },
        {
          "output_type": "stream",
          "name": "stdout",
          "text": [
            "Sentence =   Programming in this sense means finding an acceptable plan of action an algorithm  Programming in this sense means finding an acceptable plan an algorithm  ; similarity =  0.98598653\n"
          ]
        },
        {
          "output_type": "stream",
          "name": "stderr",
          "text": [
            "100%|██████████| 1/1 [00:00<00:00,  7.04it/s]\n",
            "100%|██████████| 1/1 [00:00<00:00,  7.91it/s]\n"
          ]
        },
        {
          "output_type": "stream",
          "name": "stdout",
          "text": [
            "Sentence =   Occasionally it is advantageous to differentiate between these uses as it is not necessarily noticeable from context  It also provides a way to generalize du to the is a relationship between classes  ; similarity =  0.4200966\n"
          ]
        },
        {
          "output_type": "stream",
          "name": "stderr",
          "text": [
            "100%|██████████| 1/1 [00:00<00:00,  7.49it/s]\n",
            "100%|██████████| 1/1 [00:00<00:00,  8.34it/s]\n"
          ]
        },
        {
          "output_type": "stream",
          "name": "stdout",
          "text": [
            "Sentence =   One of its uses is calculating posterior probabilities given observations  It is often used to calculate posterior probabilities given observations  ; similarity =  0.9423413\n"
          ]
        },
        {
          "output_type": "stream",
          "name": "stderr",
          "text": [
            "100%|██████████| 1/1 [00:00<00:00, 10.96it/s]\n",
            "100%|██████████| 1/1 [00:00<00:00,  9.55it/s]\n"
          ]
        },
        {
          "output_type": "stream",
          "name": "stdout",
          "text": [
            "Sentence =   Construct an optimal solution from computed values  Define value of optimal solution recursively  ; similarity =  0.83879524\n"
          ]
        },
        {
          "output_type": "stream",
          "name": "stderr",
          "text": [
            "100%|██████████| 1/1 [00:00<00:00,  8.59it/s]\n",
            "100%|██████████| 1/1 [00:00<00:00, 10.56it/s]\n"
          ]
        },
        {
          "output_type": "stream",
          "name": "stdout",
          "text": [
            "Sentence =   With each separate term corresponding to the differing dimensions  Each dimensions corresponds to a separate terms  ; similarity =  0.9281819\n"
          ]
        },
        {
          "output_type": "stream",
          "name": "stderr",
          "text": [
            "100%|██████████| 1/1 [00:00<00:00,  8.63it/s]\n",
            "100%|██████████| 1/1 [00:00<00:00,  7.28it/s]\n"
          ]
        },
        {
          "output_type": "stream",
          "name": "stdout",
          "text": [
            "Sentence =   They do not have to be written in a computer language  Mathematicians use the word to describe a set of rules which anyone can follow to solve a problem  ; similarity =  0.24440978\n"
          ]
        },
        {
          "output_type": "stream",
          "name": "stderr",
          "text": [
            "100%|██████████| 1/1 [00:00<00:00,  6.93it/s]\n",
            "100%|██████████| 1/1 [00:00<00:00,  7.61it/s]\n"
          ]
        },
        {
          "output_type": "stream",
          "name": "stdout",
          "text": [
            "Sentence =   Occasionally it is advantageous to differentiate between these uses as it is not necessarily noticeable from context  It is similar to divide and conquer however is differentiated as its subproblems are not independent  ; similarity =  0.44082046\n"
          ]
        },
        {
          "output_type": "stream",
          "name": "stderr",
          "text": [
            "100%|██████████| 1/1 [00:00<00:00,  7.25it/s]\n",
            "100%|██████████| 1/1 [00:00<00:00,  7.67it/s]\n"
          ]
        },
        {
          "output_type": "stream",
          "name": "stdout",
          "text": [
            "Sentence =   If a term exists in a document its value in the vector is not equal to zero  If a term occurs in the document its value in the vector is non zero  ; similarity =  0.86564493\n"
          ]
        },
        {
          "output_type": "stream",
          "name": "stderr",
          "text": [
            "100%|██████████| 1/1 [00:00<00:00,  7.88it/s]\n",
            "100%|██████████| 1/1 [00:00<00:00,  8.15it/s]\n"
          ]
        },
        {
          "output_type": "stream",
          "name": "stdout",
          "text": [
            "Sentence =   As an official theorem Bayes theorem is valid in all universal interpretations of probability  As a formal theorem Bayes theorem is valid in all common interpretations of probability  ; similarity =  0.9163457\n"
          ]
        },
        {
          "output_type": "stream",
          "name": "stderr",
          "text": [
            "100%|██████████| 1/1 [00:00<00:00,  7.85it/s]\n",
            "100%|██████████| 1/1 [00:00<00:00,  7.70it/s]\n"
          ]
        },
        {
          "output_type": "stream",
          "name": "stdout",
          "text": [
            "Sentence =   Term frequency This formula counts how many times the term occurs in a document  The value of a vector is non zero if a term occurs in the document  ; similarity =  0.51070833\n"
          ]
        },
        {
          "output_type": "stream",
          "name": "stderr",
          "text": [
            "100%|██████████| 1/1 [00:00<00:00,  7.90it/s]\n",
            "100%|██████████| 1/1 [00:00<00:00,  7.57it/s]\n"
          ]
        },
        {
          "output_type": "stream",
          "name": "stdout",
          "text": [
            "Sentence =   When a document is represented as a vector each dimension corresponds to a separate term  The basic idea is to represent each document as a vector of certain weighted word frequencies  ; similarity =  0.73046356\n"
          ]
        },
        {
          "output_type": "stream",
          "name": "stderr",
          "text": [
            "100%|██████████| 1/1 [00:00<00:00,  8.14it/s]\n",
            "100%|██████████| 1/1 [00:00<00:00, 10.20it/s]\n"
          ]
        },
        {
          "output_type": "stream",
          "name": "stdout",
          "text": [
            "Sentence =   When a document is represented as a vector each dimension corresponds to a separate term  Each dimension corresponds to a separate term  ; similarity =  0.81148994\n"
          ]
        },
        {
          "output_type": "stream",
          "name": "stderr",
          "text": [
            "100%|██████████| 1/1 [00:00<00:00,  7.25it/s]\n",
            "100%|██████████| 1/1 [00:00<00:00,  7.74it/s]\n"
          ]
        },
        {
          "output_type": "stream",
          "name": "stdout",
          "text": [
            "Sentence =   Mathematicians use the word to describe a set of rules which anyone can follow to solve a problem  However an object cannot be cast to a class which is no relative of it  ; similarity =  0.12895553\n"
          ]
        },
        {
          "output_type": "stream",
          "name": "stderr",
          "text": [
            "100%|██████████| 1/1 [00:00<00:00,  7.07it/s]\n",
            "100%|██████████| 1/1 [00:00<00:00,  9.15it/s]\n"
          ]
        },
        {
          "output_type": "stream",
          "name": "stdout",
          "text": [
            "Sentence =   The basic idea is to represent each document as a vector of certain weighted word frequencies  Each item in the vector represents a different keyword  ; similarity =  0.7151831\n"
          ]
        },
        {
          "output_type": "stream",
          "name": "stderr",
          "text": [
            "100%|██████████| 1/1 [00:00<00:00,  7.35it/s]\n",
            "100%|██████████| 1/1 [00:00<00:00,  7.02it/s]\n"
          ]
        },
        {
          "output_type": "stream",
          "name": "stdout",
          "text": [
            "Sentence =   There is also Conditional Probability which is usually interested in the way variables relate to each other  In order to prevent spamming Google releases little information on the way in which a PageRank is calculated  ; similarity =  0.14061387\n"
          ]
        },
        {
          "output_type": "stream",
          "name": "stderr",
          "text": [
            "100%|██████████| 1/1 [00:00<00:00,  7.62it/s]\n",
            "100%|██████████| 1/1 [00:00<00:00,  7.92it/s]\n"
          ]
        },
        {
          "output_type": "stream",
          "name": "stdout",
          "text": [
            "Sentence =   Since it is a formal theorem Bayes theorem holds in all popular interpretations of probability  As an official theorem Bayes theorem is valid in all universal interpretations of probability  ; similarity =  0.8582313\n"
          ]
        },
        {
          "output_type": "stream",
          "name": "stderr",
          "text": [
            "100%|██████████| 1/1 [00:00<00:00,  7.46it/s]\n",
            "100%|██████████| 1/1 [00:00<00:00,  7.57it/s]\n"
          ]
        },
        {
          "output_type": "stream",
          "name": "stdout",
          "text": [
            "Sentence =   The easiest way to look at inheritance is as an is a kind of relationship  The basic idea is to represent each document as a vector of certain weighted word frequencies  ; similarity =  0.307048\n"
          ]
        },
        {
          "output_type": "stream",
          "name": "stderr",
          "text": [
            "100%|██████████| 1/1 [00:00<00:00,  7.84it/s]\n",
            "100%|██████████| 1/1 [00:00<00:00,  6.77it/s]\n"
          ]
        },
        {
          "output_type": "stream",
          "name": "stdout",
          "text": [
            "Sentence =   Whilst Bayesians describe probabilities in terms of beliefs and degrees of uncertainty  At the same time Bayesians describe probabilities in terms of beliefs and degrees of uncertainty  ; similarity =  0.98009443\n"
          ]
        },
        {
          "output_type": "stream",
          "name": "stderr",
          "text": [
            "100%|██████████| 1/1 [00:00<00:00,  8.09it/s]\n",
            "100%|██████████| 1/1 [00:00<00:00,  7.68it/s]\n"
          ]
        },
        {
          "output_type": "stream",
          "name": "stdout",
          "text": [
            "Sentence =   With little or no modification it is intended to help reuse existing code  It is intended to help reuse existing code with little or no modification  ; similarity =  0.9865267\n"
          ]
        },
        {
          "output_type": "stream",
          "name": "stderr",
          "text": [
            "100%|██████████| 1/1 [00:00<00:00,  9.13it/s]\n",
            "100%|██████████| 1/1 [00:00<00:00,  8.35it/s]\n"
          ]
        },
        {
          "output_type": "stream",
          "name": "stdout",
          "text": [
            "Sentence =   Typically terms are single words keywords or longer phrases  A normal term is usually a single word keywords or longer phrases  ; similarity =  0.91100377\n"
          ]
        },
        {
          "output_type": "stream",
          "name": "stderr",
          "text": [
            "100%|██████████| 1/1 [00:00<00:00,  6.81it/s]\n",
            "100%|██████████| 1/1 [00:00<00:00,  7.25it/s]\n"
          ]
        },
        {
          "output_type": "stream",
          "name": "stdout",
          "text": [
            "Sentence =   The easiest way to look at inheritance is as an is a kind of relationship  It has no relationship to computer programming instead it is a process of finding a satisfactory algorithm  ; similarity =  0.1762257\n"
          ]
        },
        {
          "output_type": "stream",
          "name": "stderr",
          "text": [
            "100%|██████████| 1/1 [00:00<00:00,  6.63it/s]\n",
            "100%|██████████| 1/1 [00:00<00:00,  9.11it/s]\n"
          ]
        },
        {
          "output_type": "stream",
          "name": "stdout",
          "text": [
            "Sentence =   inheritance in object oriented programming is where a new class is formed using classes which have allready been defined  Inheritance is a basic concept in object oriented programming  ; similarity =  0.80855834\n"
          ]
        },
        {
          "output_type": "stream",
          "name": "stderr",
          "text": [
            "100%|██████████| 1/1 [00:00<00:00, 10.54it/s]\n",
            "100%|██████████| 1/1 [00:00<00:00,  7.95it/s]\n"
          ]
        },
        {
          "output_type": "stream",
          "name": "stdout",
          "text": [
            "Sentence =   Bayes Theorem Let and be sets  Bayes theorem can be used to compute the probability that a proposed diagnosis is correct  ; similarity =  0.6380398\n"
          ]
        },
        {
          "output_type": "stream",
          "name": "stderr",
          "text": [
            "100%|██████████| 1/1 [00:00<00:00,  7.93it/s]\n",
            "100%|██████████| 1/1 [00:00<00:00,  7.07it/s]\n"
          ]
        },
        {
          "output_type": "stream",
          "name": "stdout",
          "text": [
            "Sentence =   It is used in information filtering information retrieval indexing and relevancy rankings  It is used in information filtering indexing relevancy rankings and information retrieval  ; similarity =  0.9900725\n"
          ]
        },
        {
          "output_type": "stream",
          "name": "stderr",
          "text": [
            "100%|██████████| 1/1 [00:00<00:00,  8.39it/s]\n",
            "100%|██████████| 1/1 [00:00<00:00,  8.80it/s]\n"
          ]
        },
        {
          "output_type": "stream",
          "name": "stdout",
          "text": [
            "Sentence =   The correct answer can be computed using Bayes theorem  Bayes theorem is also often known as Bayes law  ; similarity =  0.6369457\n"
          ]
        },
        {
          "output_type": "stream",
          "name": "stderr",
          "text": [
            "100%|██████████| 1/1 [00:00<00:00,  7.94it/s]\n",
            "100%|██████████| 1/1 [00:00<00:00,  8.46it/s]\n"
          ]
        },
        {
          "output_type": "stream",
          "name": "stdout",
          "text": [
            "Sentence =   P A or the probability that the student is a girl regardless of any other information   P A B is the conditional probability of A given B  ; similarity =  0.47685117\n"
          ]
        },
        {
          "output_type": "stream",
          "name": "stderr",
          "text": [
            "100%|██████████| 1/1 [00:00<00:00,  8.44it/s]\n",
            "100%|██████████| 1/1 [00:00<00:00,  8.36it/s]\n"
          ]
        },
        {
          "output_type": "stream",
          "name": "stdout",
          "text": [
            "Sentence =   Secondly to define the value of the optimal solution recursively  However the key in Dynamic Programming is to determine the structure of optimal solutions  ; similarity =  0.65679383\n"
          ]
        },
        {
          "output_type": "stream",
          "name": "stderr",
          "text": [
            "100%|██████████| 1/1 [00:00<00:00,  7.26it/s]\n",
            "100%|██████████| 1/1 [00:00<00:00,  7.43it/s]\n"
          ]
        },
        {
          "output_type": "stream",
          "name": "stdout",
          "text": [
            "Sentence =   In probability theory Bayes theorem relates the conditional and marginal probabilities of two random events  Bayes theorem is useful in evaluating the result of drug tests  ; similarity =  0.54238516\n"
          ]
        },
        {
          "output_type": "stream",
          "name": "stderr",
          "text": [
            "100%|██████████| 1/1 [00:00<00:00,  7.59it/s]\n",
            "100%|██████████| 1/1 [00:00<00:00,  7.14it/s]\n"
          ]
        },
        {
          "output_type": "stream",
          "name": "stdout",
          "text": [
            "Sentence =   If a term appears in the document then its value in the vector is non zero  The order in which the terms appear in the document is lost in the vector space representation  ; similarity =  0.63504976\n"
          ]
        },
        {
          "output_type": "stream",
          "name": "stderr",
          "text": [
            "100%|██████████| 1/1 [00:00<00:00,  7.98it/s]\n",
            "100%|██████████| 1/1 [00:00<00:00,  6.84it/s]\n"
          ]
        },
        {
          "output_type": "stream",
          "name": "stdout",
          "text": [
            "Sentence =   When a document is represented as a vector each dimension corresponds to a separate term  If a term exists in a document its value in the vector is not equal to zero  ; similarity =  0.8016482\n"
          ]
        },
        {
          "output_type": "stream",
          "name": "stderr",
          "text": [
            "100%|██████████| 1/1 [00:00<00:00,  9.42it/s]\n",
            "100%|██████████| 1/1 [00:00<00:00,  8.84it/s]\n"
          ]
        },
        {
          "output_type": "stream",
          "name": "stdout",
          "text": [
            "Sentence =   Outbound links from your page to others  Dangling links to a page which has no links to others  ; similarity =  0.626847\n"
          ]
        },
        {
          "output_type": "stream",
          "name": "stderr",
          "text": [
            "100%|██████████| 1/1 [00:00<00:00,  7.57it/s]\n",
            "100%|██████████| 1/1 [00:00<00:00,  8.54it/s]\n"
          ]
        },
        {
          "output_type": "stream",
          "name": "stdout",
          "text": [
            "Sentence =   It is used to compute posterior probabilities given observations  It is often used to compute posterior probabilities given observations  ; similarity =  0.96193653\n"
          ]
        },
        {
          "output_type": "stream",
          "name": "stderr",
          "text": [
            "100%|██████████| 1/1 [00:00<00:00,  7.90it/s]\n",
            "100%|██████████| 1/1 [00:00<00:00,  8.05it/s]\n"
          ]
        },
        {
          "output_type": "stream",
          "name": "stdout",
          "text": [
            "Sentence =   Without a proof of correctness such an algorithm is likely to fail  Programming in this sense means finding an acceptable plan of action an algorithm  ; similarity =  0.4820641\n"
          ]
        },
        {
          "output_type": "stream",
          "name": "stderr",
          "text": [
            "100%|██████████| 1/1 [00:00<00:00,  7.86it/s]\n",
            "100%|██████████| 1/1 [00:00<00:00,  8.11it/s]\n"
          ]
        },
        {
          "output_type": "stream",
          "name": "stdout",
          "text": [
            "Sentence =   Thus the program is the best plan for action that is produced  The program is the optimal plan for action that is produced  ; similarity =  0.89174503\n"
          ]
        },
        {
          "output_type": "stream",
          "name": "stderr",
          "text": [
            "100%|██████████| 1/1 [00:00<00:00,  7.72it/s]\n",
            "100%|██████████| 1/1 [00:00<00:00,  7.94it/s]\n"
          ]
        },
        {
          "output_type": "stream",
          "name": "stdout",
          "text": [
            "Sentence =   One of the most important uses of page rank is its meaning to advertising  A website s page rank is how important it is on the web  ; similarity =  0.67660534\n"
          ]
        },
        {
          "output_type": "stream",
          "name": "stderr",
          "text": [
            "100%|██████████| 1/1 [00:00<00:00,  8.62it/s]\n",
            "100%|██████████| 1/1 [00:00<00:00,  8.14it/s]\n"
          ]
        },
        {
          "output_type": "stream",
          "name": "stdout",
          "text": [
            "Sentence =   Depending on the application the definition of term varies  The differing application has a direct influence on what the definition of the term means  ; similarity =  0.8865395\n"
          ]
        },
        {
          "output_type": "stream",
          "name": "stderr",
          "text": [
            "100%|██████████| 1/1 [00:00<00:00,  7.24it/s]\n",
            "100%|██████████| 1/1 [00:00<00:00,  7.35it/s]\n"
          ]
        },
        {
          "output_type": "stream",
          "name": "stdout",
          "text": [
            "Sentence =   Vector space representation results in the loss of the order which the terms are in the document  In vector space model the documents from which the information is to be retrieved are represented as vectors  ; similarity =  0.6376316\n"
          ]
        },
        {
          "output_type": "stream",
          "name": "stderr",
          "text": [
            "100%|██████████| 1/1 [00:00<00:00,  6.77it/s]\n",
            "100%|██████████| 1/1 [00:00<00:00,  7.23it/s]\n"
          ]
        },
        {
          "output_type": "stream",
          "name": "stdout",
          "text": [
            "Sentence =   The method can be abused when people deliberately link to sites in order to raise a site s PageRank  Following this each web page is given a ranking of 0 10 according to its relevance to a search  ; similarity =  0.5394433\n"
          ]
        },
        {
          "output_type": "stream",
          "name": "stderr",
          "text": [
            "100%|██████████| 1/1 [00:00<00:00,  5.56it/s]\n",
            "100%|██████████| 1/1 [00:00<00:00,  8.88it/s]\n"
          ]
        },
        {
          "output_type": "stream",
          "name": "stdout",
          "text": [
            "Sentence =   In computer science dynamic programming is a way of solving problems consist of overlapping subproblems and optimal substructure  However the key in Dynamic Programming is to determine the structure of optimal solutions  ; similarity =  0.74231917\n"
          ]
        },
        {
          "output_type": "stream",
          "name": "stderr",
          "text": [
            "100%|██████████| 1/1 [00:00<00:00,  7.11it/s]\n",
            "100%|██████████| 1/1 [00:00<00:00,  7.01it/s]\n"
          ]
        },
        {
          "output_type": "stream",
          "name": "stdout",
          "text": [
            "Sentence =   When one class inherits from another class all the public variables and methods are available to the subclass  If this occurs then all of the non private methods and variables can be used by the most specialised class  ; similarity =  0.5661981\n"
          ]
        },
        {
          "output_type": "stream",
          "name": "stderr",
          "text": [
            "100%|██████████| 1/1 [00:00<00:00,  8.84it/s]\n",
            "100%|██████████| 1/1 [00:00<00:00,  9.02it/s]\n"
          ]
        },
        {
          "output_type": "stream",
          "name": "stdout",
          "text": [
            "Sentence =   This is a much quicker method than other more naive methods  The methodology takes much less time rather than naive methods  ; similarity =  0.7187487\n"
          ]
        },
        {
          "output_type": "stream",
          "name": "stderr",
          "text": [
            "100%|██████████| 1/1 [00:00<00:00,  7.64it/s]\n",
            "100%|██████████| 1/1 [00:00<00:00,  7.81it/s]\n"
          ]
        },
        {
          "output_type": "stream",
          "name": "stdout",
          "text": [
            "Sentence =   A document is represented as a vector with each dimension corresponding to a separate term  If a term appears in the document the terms value in the vector is non zero  ; similarity =  0.6705429\n"
          ]
        },
        {
          "output_type": "stream",
          "name": "stderr",
          "text": [
            "100%|██████████| 1/1 [00:00<00:00,  6.96it/s]\n",
            "100%|██████████| 1/1 [00:00<00:00,  7.84it/s]\n"
          ]
        },
        {
          "output_type": "stream",
          "name": "stdout",
          "text": [
            "Sentence =   A page that is linked to by many pages with high PageRank receives a high rank itself  Pages that are linked to by many high ranking pages will themselves obtain a high rank  ; similarity =  0.9052889\n"
          ]
        },
        {
          "output_type": "stream",
          "name": "stderr",
          "text": [
            "100%|██████████| 1/1 [00:00<00:00,  7.18it/s]\n",
            "100%|██████████| 1/1 [00:00<00:00,  7.44it/s]\n"
          ]
        },
        {
          "output_type": "stream",
          "name": "stdout",
          "text": [
            "Sentence =   If a term appears in the document the terms value in the vector is non zero  Vector space representation results in the loss of the order which the terms are in the document  ; similarity =  0.54875904\n"
          ]
        },
        {
          "output_type": "stream",
          "name": "stderr",
          "text": [
            "100%|██████████| 1/1 [00:00<00:00,  7.52it/s]\n",
            "100%|██████████| 1/1 [00:00<00:00,  8.60it/s]\n"
          ]
        },
        {
          "output_type": "stream",
          "name": "stdout",
          "text": [
            "Sentence =   P A or the probability that the student is a girl regardless of any other information   P B A is the conditional probability of B given A  ; similarity =  0.4875696\n"
          ]
        },
        {
          "output_type": "stream",
          "name": "stderr",
          "text": [
            "100%|██████████| 1/1 [00:00<00:00,  7.08it/s]\n",
            "100%|██████████| 1/1 [00:00<00:00,  7.48it/s]\n"
          ]
        },
        {
          "output_type": "stream",
          "name": "stdout",
          "text": [
            "Sentence =   Normally a term is a single word keyword or a longer phrase  If a term exists in a document its value in the vector is not equal to zero  ; similarity =  0.6149928\n"
          ]
        },
        {
          "output_type": "stream",
          "name": "stderr",
          "text": [
            "100%|██████████| 1/1 [00:00<00:00,  7.71it/s]\n",
            "100%|██████████| 1/1 [00:00<00:00,  7.83it/s]\n"
          ]
        },
        {
          "output_type": "stream",
          "name": "stdout",
          "text": [
            "Sentence =   If a term occurs in the document its value in the vector is non zero  When a document is represented as a vector each dimension corresponds to a separate term  ; similarity =  0.66282296\n"
          ]
        },
        {
          "output_type": "stream",
          "name": "stderr",
          "text": [
            "100%|██████████| 1/1 [00:00<00:00,  7.09it/s]\n",
            "100%|██████████| 1/1 [00:00<00:00,  7.32it/s]\n"
          ]
        },
        {
          "output_type": "stream",
          "name": "stdout",
          "text": [
            "Sentence =   In vector space model the documents from which the information is to be retrieved are represented as vectors  Finally the order in which the terms appear in the document is lost in the vector space representation  ; similarity =  0.62690973\n"
          ]
        },
        {
          "output_type": "stream",
          "name": "stderr",
          "text": [
            "100%|██████████| 1/1 [00:00<00:00,  8.48it/s]\n",
            "100%|██████████| 1/1 [00:00<00:00,  7.17it/s]\n"
          ]
        },
        {
          "output_type": "stream",
          "name": "stdout",
          "text": [
            "Sentence =   The most popular is tf idf weighting  One of the best known schemes is tf idf weighting see the example below  ; similarity =  0.80027074\n"
          ]
        },
        {
          "output_type": "stream",
          "name": "stderr",
          "text": [
            "100%|██████████| 1/1 [00:00<00:00,  7.43it/s]\n",
            "100%|██████████| 1/1 [00:00<00:00,  8.31it/s]\n"
          ]
        },
        {
          "output_type": "stream",
          "name": "stdout",
          "text": [
            "Sentence =   For instance a finalized schedule of events at an exhibition is sometimes called a program  The typical example could be of a finalized schedule of events at an exhibition  ; similarity =  0.87247145\n"
          ]
        },
        {
          "output_type": "stream",
          "name": "stderr",
          "text": [
            "100%|██████████| 1/1 [00:00<00:00,  8.38it/s]\n",
            "100%|██████████| 1/1 [00:00<00:00,  8.67it/s]\n"
          ]
        },
        {
          "output_type": "stream",
          "name": "stdout",
          "text": [
            "Sentence =   The vector space model has several disadvantages  The vector space model are the documents which are represented as bags of words  ; similarity =  0.44810468\n"
          ]
        },
        {
          "output_type": "stream",
          "name": "stderr",
          "text": [
            "100%|██████████| 1/1 [00:00<00:00,  7.61it/s]\n",
            "100%|██████████| 1/1 [00:00<00:00,  7.70it/s]\n"
          ]
        },
        {
          "output_type": "stream",
          "name": "stdout",
          "text": [
            "Sentence =   Several different ways of computing these values also known as term weights have been developed  Several different ways of computing these values additionally known as term weights have been developed  ; similarity =  0.99799854\n"
          ]
        },
        {
          "output_type": "stream",
          "name": "stderr",
          "text": [
            "100%|██████████| 1/1 [00:00<00:00,  6.49it/s]\n",
            "100%|██████████| 1/1 [00:00<00:00,  7.54it/s]\n"
          ]
        },
        {
          "output_type": "stream",
          "name": "stdout",
          "text": [
            "Sentence =   If a term exists in a document its value in the vector is not equal to zero  If a term appears in the document then its value in the vector is non zero  ; similarity =  0.8535085\n"
          ]
        },
        {
          "output_type": "stream",
          "name": "stderr",
          "text": [
            "100%|██████████| 1/1 [00:00<00:00,  7.57it/s]\n",
            "100%|██████████| 1/1 [00:00<00:00,  7.89it/s]\n"
          ]
        },
        {
          "output_type": "stream",
          "name": "stdout",
          "text": [
            "Sentence =   Bayes Theorem is a simple mathematical formula used for calculating conditional probabilities  Bayes theorem relates the conditional and marginal probabilities of two random events  ; similarity =  0.65848684\n"
          ]
        },
        {
          "output_type": "stream",
          "name": "stderr",
          "text": [
            "100%|██████████| 1/1 [00:00<00:00,  7.71it/s]\n",
            "100%|██████████| 1/1 [00:00<00:00,  6.78it/s]\n"
          ]
        },
        {
          "output_type": "stream",
          "name": "stdout",
          "text": [
            "Sentence =   Secondly to define the value of the optimal solution recursively  Recursively use this three step process to compute the optimal path in the subproblem  ; similarity =  0.6558099\n"
          ]
        },
        {
          "output_type": "stream",
          "name": "stderr",
          "text": [
            "100%|██████████| 1/1 [00:00<00:00,  7.49it/s]\n",
            "100%|██████████| 1/1 [00:00<00:00,  6.27it/s]\n"
          ]
        },
        {
          "output_type": "stream",
          "name": "stdout",
          "text": [
            "Sentence =   Most of these languages provide an extend keyword which is used to subclass another  Mathematicians use the word to describe a set of rules which anyone can follow to solve a problem  ; similarity =  0.371455\n"
          ]
        },
        {
          "output_type": "stream",
          "name": "stderr",
          "text": [
            "100%|██████████| 1/1 [00:00<00:00,  9.72it/s]\n",
            "100%|██████████| 1/1 [00:00<00:00,  8.58it/s]\n"
          ]
        },
        {
          "output_type": "stream",
          "name": "stdout",
          "text": [
            "Sentence =   Outbound links from your page to others  Deep links to a specific page usually bypassing the homepage  ; similarity =  0.7144654\n"
          ]
        },
        {
          "output_type": "stream",
          "name": "stderr",
          "text": [
            "100%|██████████| 1/1 [00:00<00:00,  8.67it/s]\n",
            "100%|██████████| 1/1 [00:00<00:00,  9.44it/s]\n"
          ]
        },
        {
          "output_type": "stream",
          "name": "stdout",
          "text": [
            "Sentence =   The method is more effiecent than naive methods  This is a much quicker method than other more naive methods  ; similarity =  0.6999663\n"
          ]
        },
        {
          "output_type": "stream",
          "name": "stderr",
          "text": [
            "100%|██████████| 1/1 [00:00<00:00,  7.90it/s]\n",
            "100%|██████████| 1/1 [00:00<00:00,  7.52it/s]\n"
          ]
        },
        {
          "output_type": "stream",
          "name": "stdout",
          "text": [
            "Sentence =   In the vector space model a document is represented as a vector  If a term occurs in the document the value will be non zero in the vector  ; similarity =  0.5709532\n"
          ]
        },
        {
          "output_type": "stream",
          "name": "stderr",
          "text": [
            "100%|██████████| 1/1 [00:00<00:00,  7.28it/s]\n",
            "100%|██████████| 1/1 [00:00<00:00,  8.46it/s]\n"
          ]
        },
        {
          "output_type": "stream",
          "name": "stdout",
          "text": [
            "Sentence =   A hyperlink to a page counts as a vote of support  A link to a page is seen as a vote of support  ; similarity =  0.94823056\n"
          ]
        },
        {
          "output_type": "stream",
          "name": "stderr",
          "text": [
            "100%|██████████| 1/1 [00:00<00:00,  7.51it/s]\n",
            "100%|██████████| 1/1 [00:00<00:00,  7.98it/s]\n"
          ]
        },
        {
          "output_type": "stream",
          "name": "stdout",
          "text": [
            "Sentence =   This method is used in the Google Toolbar which reports back actual site visits to Google  One of Google s attempts to counter this is their Google Toolbar browser plugin  ; similarity =  0.6250014\n"
          ]
        },
        {
          "output_type": "stream",
          "name": "stderr",
          "text": [
            "100%|██████████| 1/1 [00:00<00:00,  7.53it/s]\n",
            "100%|██████████| 1/1 [00:00<00:00,  7.51it/s]\n"
          ]
        },
        {
          "output_type": "stream",
          "name": "stdout",
          "text": [
            "Sentence =   When a document is represented as a vector each dimension corresponds to a separate term  A document is represented as a vector and each dimension corresponds to a separate term  ; similarity =  0.9810269\n"
          ]
        },
        {
          "output_type": "stream",
          "name": "stderr",
          "text": [
            "100%|██████████| 1/1 [00:00<00:00,  7.85it/s]\n",
            "100%|██████████| 1/1 [00:00<00:00,  6.53it/s]\n"
          ]
        },
        {
          "output_type": "stream",
          "name": "stdout",
          "text": [
            "Sentence =   If the term doesn t occur within the document the value in the vector is zero  If a term occurs in the document the value will be non zero in the vector  ; similarity =  0.89217526\n"
          ]
        },
        {
          "output_type": "stream",
          "name": "stderr",
          "text": [
            "100%|██████████| 1/1 [00:00<00:00,  8.02it/s]\n",
            "100%|██████████| 1/1 [00:00<00:00,  7.43it/s]\n"
          ]
        },
        {
          "output_type": "stream",
          "name": "stdout",
          "text": [
            "Sentence =   This can be useful when the number of times a word appears is not considered important  Here by meaning that a program can be an optimal plan for the produced action  ; similarity =  0.20133586\n"
          ]
        },
        {
          "output_type": "stream",
          "name": "stderr",
          "text": [
            "100%|██████████| 1/1 [00:00<00:00,  6.92it/s]\n",
            "100%|██████████| 1/1 [00:00<00:00,  7.42it/s]\n"
          ]
        },
        {
          "output_type": "stream",
          "name": "stdout",
          "text": [
            "Sentence =   This means that inheritance is used when types have common factors and these would be put into the superclass  The main problem is divided into sub problems which are solved and stored for future use  ; similarity =  0.17847006\n"
          ]
        },
        {
          "output_type": "stream",
          "name": "stderr",
          "text": [
            "100%|██████████| 1/1 [00:00<00:00, 10.21it/s]\n",
            "100%|██████████| 1/1 [00:00<00:00, 10.17it/s]\n"
          ]
        },
        {
          "output_type": "stream",
          "name": "stdout",
          "text": [
            "Sentence =   However the vector space model has limitations  The vector space model has some limitations 1  ; similarity =  0.9596772\n"
          ]
        },
        {
          "output_type": "stream",
          "name": "stderr",
          "text": [
            "100%|██████████| 1/1 [00:00<00:00,  7.02it/s]\n",
            "100%|██████████| 1/1 [00:00<00:00,  7.48it/s]\n"
          ]
        },
        {
          "output_type": "stream",
          "name": "stdout",
          "text": [
            "Sentence =   A document is represented as a vector and each dimension corresponds to a separate term  If a term appears in the document the terms value in the vector is non zero  ; similarity =  0.6504846\n"
          ]
        },
        {
          "output_type": "stream",
          "name": "stderr",
          "text": [
            "100%|██████████| 1/1 [00:00<00:00,  7.45it/s]\n",
            "100%|██████████| 1/1 [00:00<00:00,  8.76it/s]\n"
          ]
        },
        {
          "output_type": "stream",
          "name": "stdout",
          "text": [
            "Sentence =   Most of these languages provide an extend keyword which is used to subclass another  For example a program could exist to model different forms of transport  ; similarity =  0.27352336\n"
          ]
        },
        {
          "output_type": "stream",
          "name": "stderr",
          "text": [
            "100%|██████████| 1/1 [00:00<00:00,  7.01it/s]\n",
            "100%|██████████| 1/1 [00:00<00:00,  8.56it/s]\n"
          ]
        },
        {
          "output_type": "stream",
          "name": "stdout",
          "text": [
            "Sentence =   Following this each web page is given a ranking of 0 10 according to its relevance to a search  Dangling links to a page which has no links to others  ; similarity =  0.3823572\n"
          ]
        },
        {
          "output_type": "stream",
          "name": "stderr",
          "text": [
            "100%|██████████| 1/1 [00:00<00:00,  9.36it/s]\n",
            "100%|██████████| 1/1 [00:00<00:00, 10.69it/s]\n"
          ]
        },
        {
          "output_type": "stream",
          "name": "stdout",
          "text": [
            "Sentence =   Each dimensions corresponds to a separate terms  Each dimension corresponds to a separate term  ; similarity =  0.94058\n"
          ]
        },
        {
          "output_type": "stream",
          "name": "stderr",
          "text": [
            "100%|██████████| 1/1 [00:00<00:00,  6.98it/s]\n",
            "100%|██████████| 1/1 [00:00<00:00,  7.15it/s]\n"
          ]
        },
        {
          "output_type": "stream",
          "name": "stdout",
          "text": [
            "Sentence =   The idea of inheritance in OOP refers to the formation of new classes with the already existing classes  Inheritance in object oriented programming is a way to form new classes using classes that have already been defined  ; similarity =  0.73178315\n"
          ]
        },
        {
          "output_type": "stream",
          "name": "stderr",
          "text": [
            "100%|██████████| 1/1 [00:00<00:00,  7.84it/s]\n",
            "100%|██████████| 1/1 [00:00<00:00,  8.07it/s]\n"
          ]
        },
        {
          "output_type": "stream",
          "name": "stdout",
          "text": [
            "Sentence =   For instance a finalized schedule of events at an exhibition is sometimes called a program  For example a schedule of events at an exhibition is sometimes called a programme  ; similarity =  0.9041291\n"
          ]
        },
        {
          "output_type": "stream",
          "name": "stderr",
          "text": [
            "100%|██████████| 1/1 [00:00<00:00,  7.09it/s]\n",
            "100%|██████████| 1/1 [00:00<00:00,  7.46it/s]\n"
          ]
        },
        {
          "output_type": "stream",
          "name": "stdout",
          "text": [
            "Sentence =   The number of unique words in the vocabulary denotes the dimensionality if words are used for the terms  Finally the order in which the terms appear in the document is lost in the vector space representation  ; similarity =  0.38688672\n"
          ]
        },
        {
          "output_type": "stream",
          "name": "stderr",
          "text": [
            "100%|██████████| 1/1 [00:00<00:00,  7.41it/s]\n",
            "100%|██████████| 1/1 [00:00<00:00,  6.88it/s]\n"
          ]
        },
        {
          "output_type": "stream",
          "name": "stdout",
          "text": [
            "Sentence =   The word Programming in the name has nothing to do with writing computer programs  Mathematicians use the word to describe a set of rules which anyone can follow to solve a problem  ; similarity =  0.14161904\n"
          ]
        },
        {
          "output_type": "stream",
          "name": "stderr",
          "text": [
            "100%|██████████| 1/1 [00:00<00:00,  7.24it/s]\n",
            "100%|██████████| 1/1 [00:00<00:00,  7.73it/s]\n"
          ]
        },
        {
          "output_type": "stream",
          "name": "stdout",
          "text": [
            "Sentence =   There is also Conditional Probability which is usually interested in the way variables relate to each other  In defining this inheritance hierarchy we have already defined certain restrictions not all of which are desirable  ; similarity =  0.29000467\n"
          ]
        },
        {
          "output_type": "stream",
          "name": "stderr",
          "text": [
            "100%|██████████| 1/1 [00:00<00:00,  9.11it/s]\n",
            "100%|██████████| 1/1 [00:00<00:00,  7.58it/s]\n"
          ]
        },
        {
          "output_type": "stream",
          "name": "stdout",
          "text": [
            "Sentence =   Bayes Theorem Let and be sets  Bayes theorem was names after Rev Thomas Bayes and is a method used in probability theory  ; similarity =  0.5794032\n"
          ]
        },
        {
          "output_type": "stream",
          "name": "stderr",
          "text": [
            "100%|██████████| 1/1 [00:00<00:00,  6.94it/s]\n",
            "100%|██████████| 1/1 [00:00<00:00,  7.50it/s]\n"
          ]
        },
        {
          "output_type": "stream",
          "name": "stdout",
          "text": [
            "Sentence =   The idea of inheritance in OOP refers to the formation of new classes with the already existing classes  Inheritance is a method of forming new classes using predefined classes  ; similarity =  0.80146116\n"
          ]
        },
        {
          "output_type": "stream",
          "name": "stderr",
          "text": [
            "100%|██████████| 1/1 [00:00<00:00,  7.16it/s]\n",
            "100%|██████████| 1/1 [00:00<00:00, 10.53it/s]\n"
          ]
        },
        {
          "output_type": "stream",
          "name": "stdout",
          "text": [
            "Sentence =   P B is the prior or marginal probability of B and acts as a normalizing constant  P A is the prior probability A  ; similarity =  0.74713534\n"
          ]
        },
        {
          "output_type": "stream",
          "name": "stderr",
          "text": [
            "100%|██████████| 1/1 [00:00<00:00,  8.65it/s]\n",
            "100%|██████████| 1/1 [00:00<00:00,  7.71it/s]\n"
          ]
        },
        {
          "output_type": "stream",
          "name": "stdout",
          "text": [
            "Sentence =   The method is more effiecent than naive methods  And thus the method takes much less time than more naive methods  ; similarity =  0.82453746\n"
          ]
        },
        {
          "output_type": "stream",
          "name": "stderr",
          "text": [
            "100%|██████████| 1/1 [00:00<00:00,  7.83it/s]\n",
            "100%|██████████| 1/1 [00:00<00:00,  7.86it/s]\n"
          ]
        },
        {
          "output_type": "stream",
          "name": "stdout",
          "text": [
            "Sentence =   The value of a vector is non zero if a term occurs in the document  Each document is a vector where each word is a dimension  ; similarity =  0.57064384\n"
          ]
        },
        {
          "output_type": "stream",
          "name": "stderr",
          "text": [
            "100%|██████████| 1/1 [00:00<00:00,  7.76it/s]\n",
            "100%|██████████| 1/1 [00:00<00:00,  6.91it/s]\n"
          ]
        },
        {
          "output_type": "stream",
          "name": "stdout",
          "text": [
            "Sentence =   Bayes theorem is useful in evaluating the result of drug tests  Bayes Theorem is a theorem of probability theory originally stated by the Reverend Thomas Bayes  ; similarity =  0.56409675\n"
          ]
        },
        {
          "output_type": "stream",
          "name": "stderr",
          "text": [
            "100%|██████████| 1/1 [00:00<00:00,  6.95it/s]\n",
            "100%|██████████| 1/1 [00:00<00:00,  7.14it/s]\n"
          ]
        },
        {
          "output_type": "stream",
          "name": "stdout",
          "text": [
            "Sentence =   This means that inheritance is used when types have common factors and these would be put into the superclass  Mathematicians use the word to describe a set of rules which anyone can follow to solve a problem  ; similarity =  0.24812706\n"
          ]
        },
        {
          "output_type": "stream",
          "name": "stderr",
          "text": [
            "100%|██████████| 1/1 [00:00<00:00,  7.15it/s]\n",
            "100%|██████████| 1/1 [00:00<00:00,  8.67it/s]\n"
          ]
        },
        {
          "output_type": "stream",
          "name": "stdout",
          "text": [
            "Sentence =   The theorem is often used when we have observations and wish to compute posterior probabilities  It is often used to calculate posterior probabilities given observations  ; similarity =  0.79921997\n"
          ]
        },
        {
          "output_type": "stream",
          "name": "stderr",
          "text": [
            "100%|██████████| 1/1 [00:00<00:00,  6.34it/s]\n",
            "100%|██████████| 1/1 [00:00<00:00,  7.58it/s]\n"
          ]
        },
        {
          "output_type": "stream",
          "name": "stdout",
          "text": [
            "Sentence =   To achieve this the programmer has to note generalisations and similarities about various aspects of the program  The differing application has a direct influence on what the definition of the term means  ; similarity =  0.45140842\n"
          ]
        },
        {
          "output_type": "stream",
          "name": "stderr",
          "text": [
            "100%|██████████| 1/1 [00:00<00:00,  7.56it/s]\n",
            "100%|██████████| 1/1 [00:00<00:00,  8.26it/s]\n"
          ]
        },
        {
          "output_type": "stream",
          "name": "stdout",
          "text": [
            "Sentence =   To explain further vector space models basically a document is characterized by a vector  In the vector space model a document is represented as a vector  ; similarity =  0.95065004\n"
          ]
        },
        {
          "output_type": "stream",
          "name": "stderr",
          "text": [
            "100%|██████████| 1/1 [00:00<00:00,  6.55it/s]\n",
            "100%|██████████| 1/1 [00:00<00:00,  7.54it/s]\n"
          ]
        },
        {
          "output_type": "stream",
          "name": "stdout",
          "text": [
            "Sentence =   Other possible uses for vector space models are indexing and also to rank the relevancy of differing documents  In this classic model the term specific weights in the document vectors are products of local and global parameters  ; similarity =  0.57548034\n"
          ]
        },
        {
          "output_type": "stream",
          "name": "stderr",
          "text": [
            "100%|██████████| 1/1 [00:00<00:00,  8.63it/s]\n",
            "100%|██████████| 1/1 [00:00<00:00, 10.34it/s]\n"
          ]
        },
        {
          "output_type": "stream",
          "name": "stdout",
          "text": [
            "Sentence =   There are four steps in Dynamic Programming 1  The steps required are as follows 1  ; similarity =  0.55348176\n"
          ]
        },
        {
          "output_type": "stream",
          "name": "stderr",
          "text": [
            "100%|██████████| 1/1 [00:00<00:00,  6.87it/s]\n",
            "100%|██████████| 1/1 [00:00<00:00,  8.84it/s]\n"
          ]
        },
        {
          "output_type": "stream",
          "name": "stdout",
          "text": [
            "Sentence =   A document is represented as a vector and each dimension corresponds to a separate term  Each dimensions corresponds to a separate terms  ; similarity =  0.79487324\n"
          ]
        },
        {
          "output_type": "stream",
          "name": "stderr",
          "text": [
            "100%|██████████| 1/1 [00:00<00:00,  7.48it/s]\n",
            "100%|██████████| 1/1 [00:00<00:00,  7.21it/s]\n"
          ]
        },
        {
          "output_type": "stream",
          "name": "stdout",
          "text": [
            "Sentence =   A document is represented as a vector with each dimension corresponding to a separate term  If a term exists in a document its value in the vector is not equal to zero  ; similarity =  0.79504716\n"
          ]
        },
        {
          "output_type": "stream",
          "name": "stderr",
          "text": [
            "100%|██████████| 1/1 [00:00<00:00,  7.97it/s]\n",
            "100%|██████████| 1/1 [00:00<00:00,  7.23it/s]\n"
          ]
        },
        {
          "output_type": "stream",
          "name": "stdout",
          "text": [
            "Sentence =   Term frequency This formula counts how many times the term occurs in a document  If a term occurs in the document the value will be non zero in the vector  ; similarity =  0.52780616\n"
          ]
        },
        {
          "output_type": "stream",
          "name": "stderr",
          "text": [
            "100%|██████████| 1/1 [00:00<00:00,  8.03it/s]\n",
            "100%|██████████| 1/1 [00:00<00:00,  7.11it/s]\n"
          ]
        },
        {
          "output_type": "stream",
          "name": "stdout",
          "text": [
            "Sentence =   If a term occurs in the document its value is non zero  A term which occurs in the document has a value in the vector of non zero  ; similarity =  0.89693135\n"
          ]
        },
        {
          "output_type": "stream",
          "name": "stderr",
          "text": [
            "100%|██████████| 1/1 [00:00<00:00,  7.29it/s]\n",
            "100%|██████████| 1/1 [00:00<00:00,  7.75it/s]\n"
          ]
        },
        {
          "output_type": "stream",
          "name": "stdout",
          "text": [
            "Sentence =   Many different ways of calculating these values also known as term weights have been developed  Several different ways of computing these values also known as term weights have been developed  ; similarity =  0.975343\n"
          ]
        },
        {
          "output_type": "stream",
          "name": "stderr",
          "text": [
            "100%|██████████| 1/1 [00:00<00:00,  5.76it/s]\n",
            "100%|██████████| 1/1 [00:00<00:00,  6.46it/s]\n"
          ]
        },
        {
          "output_type": "stream",
          "name": "stdout",
          "text": [
            "Sentence =   In computer science dynamic programming is a way of solving problems consist of overlapping subproblems and optimal substructure  Dynamic Programming is a method of solving problems that exhibit the properties of overlapping subproblems and optimal substructure  ; similarity =  0.94703835\n"
          ]
        },
        {
          "output_type": "stream",
          "name": "stderr",
          "text": [
            "100%|██████████| 1/1 [00:00<00:00,  8.23it/s]\n",
            "100%|██████████| 1/1 [00:00<00:00,  8.78it/s]\n"
          ]
        },
        {
          "output_type": "stream",
          "name": "stdout",
          "text": [
            "Sentence =   The correct answer can be computed using Bayes theorem  Bayes theorem is useful in evaluating the result of drug tests  ; similarity =  0.6302198\n"
          ]
        },
        {
          "output_type": "stream",
          "name": "stderr",
          "text": [
            "100%|██████████| 1/1 [00:00<00:00,  6.42it/s]\n",
            "100%|██████████| 1/1 [00:00<00:00,  8.65it/s]\n"
          ]
        },
        {
          "output_type": "stream",
          "name": "stdout",
          "text": [
            "Sentence =   One example is the computing of the shortest path to a goal from a vertex in a graph  First compute the shortest path to the goal from all adjacent vertices  ; similarity =  0.8132974\n"
          ]
        },
        {
          "output_type": "stream",
          "name": "stderr",
          "text": [
            "100%|██████████| 1/1 [00:00<00:00,  6.23it/s]\n",
            "100%|██████████| 1/1 [00:00<00:00,  8.20it/s]\n"
          ]
        },
        {
          "output_type": "stream",
          "name": "stdout",
          "text": [
            "Sentence =   This means that inheritance is used when types have common factors and these would be put into the superclass  This can be known as one of the advantages of inheritance  ; similarity =  0.6642903\n"
          ]
        },
        {
          "output_type": "stream",
          "name": "stderr",
          "text": [
            "100%|██████████| 1/1 [00:00<00:00,  7.46it/s]\n",
            "100%|██████████| 1/1 [00:00<00:00,  7.37it/s]\n"
          ]
        },
        {
          "output_type": "stream",
          "name": "stdout",
          "text": [
            "Sentence =   Solve these problems optimally using this three step process recursively  In general we can solve a problem with optimal substructure using a three step process 1  ; similarity =  0.8442553\n"
          ]
        },
        {
          "output_type": "stream",
          "name": "stderr",
          "text": [
            "100%|██████████| 1/1 [00:00<00:00,  6.06it/s]\n",
            "100%|██████████| 1/1 [00:00<00:00,  7.87it/s]\n"
          ]
        },
        {
          "output_type": "stream",
          "name": "stdout",
          "text": [
            "Sentence =   In order to prevent spamming Google releases little information on the way in which a PageRank is calculated  Google s payoff is that it gets to track the behaviour of actual users  ; similarity =  0.5355166\n"
          ]
        },
        {
          "output_type": "stream",
          "name": "stderr",
          "text": [
            "100%|██████████| 1/1 [00:00<00:00,  7.13it/s]\n",
            "100%|██████████| 1/1 [00:00<00:00,  7.02it/s]\n"
          ]
        },
        {
          "output_type": "stream",
          "name": "stdout",
          "text": [
            "Sentence =   P A or the probability that the student is a girl regardless of any other information  It is also called the subsequent probability because it is derived from or depends upon the specified value of B  ; similarity =  0.35852548\n"
          ]
        },
        {
          "output_type": "stream",
          "name": "stderr",
          "text": [
            "100%|██████████| 1/1 [00:00<00:00,  7.93it/s]\n",
            "100%|██████████| 1/1 [00:00<00:00,  8.82it/s]\n"
          ]
        },
        {
          "output_type": "stream",
          "name": "stdout",
          "text": [
            "Sentence =   P B A is the conditional probability of B given A  P A B is the conditional probability of A given B  ; similarity =  0.98315823\n"
          ]
        },
        {
          "output_type": "stream",
          "name": "stderr",
          "text": [
            "100%|██████████| 1/1 [00:00<00:00,  8.23it/s]\n",
            "100%|██████████| 1/1 [00:00<00:00,  6.59it/s]\n"
          ]
        },
        {
          "output_type": "stream",
          "name": "stdout",
          "text": [
            "Sentence =   If a term occurs in the document its value in the vector is non zero  Finally the order in which the terms appear in the document is lost in the vector space representation  ; similarity =  0.6241064\n"
          ]
        },
        {
          "output_type": "stream",
          "name": "stderr",
          "text": [
            "100%|██████████| 1/1 [00:00<00:00,  8.45it/s]\n",
            "100%|██████████| 1/1 [00:00<00:00,  7.45it/s]\n"
          ]
        },
        {
          "output_type": "stream",
          "name": "stdout",
          "text": [
            "Sentence =   The way that a term is defined depends on the application  P A or the probability that the student is a girl regardless of any other information  ; similarity =  0.1399161\n"
          ]
        },
        {
          "output_type": "stream",
          "name": "stderr",
          "text": [
            "100%|██████████| 1/1 [00:00<00:00,  9.37it/s]\n",
            "100%|██████████| 1/1 [00:00<00:00,  9.72it/s]\n"
          ]
        },
        {
          "output_type": "stream",
          "name": "stdout",
          "text": [
            "Sentence =   of the pages providing the links  Inbound links from other pages to yours  ; similarity =  0.8283893\n"
          ]
        },
        {
          "output_type": "stream",
          "name": "stderr",
          "text": [
            "100%|██████████| 1/1 [00:00<00:00,  7.54it/s]\n",
            "100%|██████████| 1/1 [00:00<00:00,  6.89it/s]\n"
          ]
        },
        {
          "output_type": "stream",
          "name": "stdout",
          "text": [
            "Sentence =   To explain further vector space models basically a document is characterized by a vector  A document is represented as a vector and each dimension corresponds to a separate term  ; similarity =  0.8332218\n"
          ]
        },
        {
          "output_type": "stream",
          "name": "stderr",
          "text": [
            "100%|██████████| 1/1 [00:00<00:00,  6.39it/s]\n",
            "100%|██████████| 1/1 [00:00<00:00,  6.90it/s]\n"
          ]
        },
        {
          "output_type": "stream",
          "name": "stdout",
          "text": [
            "Sentence =   Terms are basically the words or any indexing unit used to identify the contents of a text  Mathematicians use the word to describe a set of rules which anyone can follow to solve a problem  ; similarity =  0.37986025\n"
          ]
        },
        {
          "output_type": "stream",
          "name": "stderr",
          "text": [
            "100%|██████████| 1/1 [00:00<00:00,  7.60it/s]\n",
            "100%|██████████| 1/1 [00:00<00:00,  7.68it/s]\n"
          ]
        },
        {
          "output_type": "stream",
          "name": "stdout",
          "text": [
            "Sentence =   Several different ways of computing these values additionally known as term weights have been developed  Many different methods of calculating these values sometimes known as term weights have been developed  ; similarity =  0.9624428\n"
          ]
        },
        {
          "output_type": "stream",
          "name": "stderr",
          "text": [
            "100%|██████████| 1/1 [00:00<00:00,  6.76it/s]\n",
            "100%|██████████| 1/1 [00:00<00:00,  7.77it/s]\n"
          ]
        },
        {
          "output_type": "stream",
          "name": "stdout",
          "text": [
            "Sentence =   P B a k a the normalizing constant is the prior or marginal probability of B  P A or the probability that the student is a girl regardless of any other information  ; similarity =  0.4027109\n"
          ]
        },
        {
          "output_type": "stream",
          "name": "stderr",
          "text": [
            "100%|██████████| 1/1 [00:00<00:00,  8.46it/s]\n",
            "100%|██████████| 1/1 [00:00<00:00,  8.04it/s]\n"
          ]
        },
        {
          "output_type": "stream",
          "name": "stdout",
          "text": [
            "Sentence =   P B A is the conditional probability of B given A   P A B is the conditional probability of A given B  ; similarity =  0.98315823\n"
          ]
        },
        {
          "output_type": "stream",
          "name": "stderr",
          "text": [
            "100%|██████████| 1/1 [00:00<00:00,  7.49it/s]\n",
            "100%|██████████| 1/1 [00:00<00:00,  8.25it/s]\n"
          ]
        },
        {
          "output_type": "stream",
          "name": "stdout",
          "text": [
            "Sentence =   Secondly to define the value of the optimal solution recursively  Recursively define the value of an optimal solution 3  ; similarity =  0.83229434\n"
          ]
        },
        {
          "output_type": "stream",
          "name": "stderr",
          "text": [
            "100%|██████████| 1/1 [00:00<00:00,  9.43it/s]\n",
            "100%|██████████| 1/1 [00:00<00:00,  9.13it/s]\n"
          ]
        },
        {
          "output_type": "stream",
          "name": "stdout",
          "text": [
            "Sentence =   Every dimension relates to a different term  Each dimension corresponds to a separate term  ; similarity =  0.85517323\n"
          ]
        },
        {
          "output_type": "stream",
          "name": "stderr",
          "text": [
            "100%|██████████| 1/1 [00:00<00:00,  7.54it/s]\n",
            "100%|██████████| 1/1 [00:00<00:00,  7.55it/s]\n"
          ]
        },
        {
          "output_type": "stream",
          "name": "stdout",
          "text": [
            "Sentence =   The order in which terms appear in the document is lost in a vector space representation  If a term occurs in the document its value in the vector is non zero  ; similarity =  0.6392771\n"
          ]
        },
        {
          "output_type": "stream",
          "name": "stderr",
          "text": [
            "100%|██████████| 1/1 [00:00<00:00,  6.42it/s]\n",
            "100%|██████████| 1/1 [00:00<00:00,  6.92it/s]\n"
          ]
        },
        {
          "output_type": "stream",
          "name": "stdout",
          "text": [
            "Sentence =   The method can be abused when people deliberately link to sites in order to raise a site s PageRank  Google s payoff is that it gets to track the behaviour of actual users  ; similarity =  0.47769758\n"
          ]
        },
        {
          "output_type": "stream",
          "name": "stderr",
          "text": [
            "100%|██████████| 1/1 [00:00<00:00,  7.29it/s]\n",
            "100%|██████████| 1/1 [00:00<00:00,  6.49it/s]\n"
          ]
        },
        {
          "output_type": "stream",
          "name": "stdout",
          "text": [
            "Sentence =   Since the PageRank is the most important algorithms which is used in the Google engine  The PageRank is a recursive algorithm used by Google to determine which webpages are more important than others  ; similarity =  0.8293291\n"
          ]
        },
        {
          "output_type": "stream",
          "name": "stderr",
          "text": [
            "100%|██████████| 1/1 [00:00<00:00,  8.42it/s]\n",
            "100%|██████████| 1/1 [00:00<00:00,  8.13it/s]\n"
          ]
        },
        {
          "output_type": "stream",
          "name": "stdout",
          "text": [
            "Sentence =   P A B is the conditional probability of A given B   P B A is the conditional probability of B given A  ; similarity =  0.98315823\n"
          ]
        },
        {
          "output_type": "stream",
          "name": "stderr",
          "text": [
            "100%|██████████| 1/1 [00:00<00:00,  7.85it/s]\n",
            "100%|██████████| 1/1 [00:00<00:00,  6.61it/s]\n"
          ]
        },
        {
          "output_type": "stream",
          "name": "stdout",
          "text": [
            "Sentence =   The value of a vector is non zero if a term occurs in the document  Finally the order in which the terms appear in the document is lost in the vector space representation  ; similarity =  0.598251\n"
          ]
        },
        {
          "output_type": "stream",
          "name": "stderr",
          "text": [
            "100%|██████████| 1/1 [00:00<00:00,  7.78it/s]\n",
            "100%|██████████| 1/1 [00:00<00:00,  7.80it/s]\n"
          ]
        },
        {
          "output_type": "stream",
          "name": "stdout",
          "text": [
            "Sentence =   Nevertheless the patent is assigned to the University of Stanford and not to Google  However the patent is assigned to Stanford University and not to Google  ; similarity =  0.99010146\n"
          ]
        },
        {
          "output_type": "stream",
          "name": "stderr",
          "text": [
            "100%|██████████| 1/1 [00:00<00:00,  6.56it/s]\n",
            "100%|██████████| 1/1 [00:00<00:00,  7.93it/s]\n"
          ]
        },
        {
          "output_type": "stream",
          "name": "stdout",
          "text": [
            "Sentence =   This means that inheritance is used when types have common factors and these would be put into the superclass  It is therefore used to create relationships between one object and another  ; similarity =  0.4583619\n"
          ]
        },
        {
          "output_type": "stream",
          "name": "stderr",
          "text": [
            "100%|██████████| 1/1 [00:00<00:00,  7.84it/s]\n",
            "100%|██████████| 1/1 [00:00<00:00,  9.95it/s]\n"
          ]
        },
        {
          "output_type": "stream",
          "name": "stdout",
          "text": [
            "Sentence =   A document is represented as a vector and each dimension corresponds to a separate term  A document has representation as a vector  ; similarity =  0.86849064\n"
          ]
        },
        {
          "output_type": "stream",
          "name": "stderr",
          "text": [
            "100%|██████████| 1/1 [00:00<00:00,  7.79it/s]\n",
            "100%|██████████| 1/1 [00:00<00:00,  7.34it/s]\n"
          ]
        },
        {
          "output_type": "stream",
          "name": "stdout",
          "text": [
            "Sentence =   In the vector space model a document is represented as a vector  A document is represented as a vector and each dimension corresponds to a separate term  ; similarity =  0.8716863\n"
          ]
        },
        {
          "output_type": "stream",
          "name": "stderr",
          "text": [
            "100%|██████████| 1/1 [00:00<00:00,  7.38it/s]\n",
            "100%|██████████| 1/1 [00:00<00:00,  7.06it/s]\n"
          ]
        },
        {
          "output_type": "stream",
          "name": "stdout",
          "text": [
            "Sentence =   P B is the prior or marginal probability of B and acts to normalise the probability  P B a k a the normalizing constant is the prior or marginal probability of B  ; similarity =  0.9078762\n"
          ]
        },
        {
          "output_type": "stream",
          "name": "stderr",
          "text": [
            "100%|██████████| 1/1 [00:00<00:00,  8.74it/s]\n",
            "100%|██████████| 1/1 [00:00<00:00,  7.60it/s]\n"
          ]
        },
        {
          "output_type": "stream",
          "name": "stdout",
          "text": [
            "Sentence =   Inheritance is an important feature in object orientated programming  In object oriented programming inheritance is also dependant on access level modifiers  ; similarity =  0.8744901\n"
          ]
        },
        {
          "output_type": "stream",
          "name": "stderr",
          "text": [
            "100%|██████████| 1/1 [00:00<00:00,  7.70it/s]\n",
            "100%|██████████| 1/1 [00:00<00:00,  7.22it/s]\n"
          ]
        },
        {
          "output_type": "stream",
          "name": "stdout",
          "text": [
            "Sentence =   This can be useful when the number of times a word appears is not considered important  The easiest way to look at inheritance is as an is a kind of relationship  ; similarity =  0.174822\n"
          ]
        },
        {
          "output_type": "stream",
          "name": "stderr",
          "text": [
            "100%|██████████| 1/1 [00:00<00:00,  6.88it/s]\n",
            "100%|██████████| 1/1 [00:00<00:00,  7.57it/s]\n"
          ]
        },
        {
          "output_type": "stream",
          "name": "stdout",
          "text": [
            "Sentence =   In this classic model the term specific weights in the document vectors are products of local and global parameters  A term which occurs in the document has a value in the vector of non zero  ; similarity =  0.48700663\n"
          ]
        },
        {
          "output_type": "stream",
          "name": "stderr",
          "text": [
            "100%|██████████| 1/1 [00:00<00:00,  8.09it/s]\n",
            "100%|██████████| 1/1 [00:00<00:00,  7.88it/s]\n"
          ]
        },
        {
          "output_type": "stream",
          "name": "stdout",
          "text": [
            "Sentence =   Thus the program is the best plan for action that is produced  Here by meaning that a program can be an optimal plan for the produced action  ; similarity =  0.7635459\n"
          ]
        },
        {
          "output_type": "stream",
          "name": "stderr",
          "text": [
            "100%|██████████| 1/1 [00:00<00:00,  6.75it/s]\n",
            "100%|██████████| 1/1 [00:00<00:00,  7.48it/s]\n"
          ]
        },
        {
          "output_type": "stream",
          "name": "stdout",
          "text": [
            "Sentence =   In a word we can solve a problem with optimal substructure using a three step process  This general three step process can be used to solve a problem 1  ; similarity =  0.8652219\n"
          ]
        },
        {
          "output_type": "stream",
          "name": "stderr",
          "text": [
            "100%|██████████| 1/1 [00:00<00:00,  7.36it/s]\n",
            "100%|██████████| 1/1 [00:00<00:00,  7.73it/s]\n"
          ]
        },
        {
          "output_type": "stream",
          "name": "stdout",
          "text": [
            "Sentence =   Bayes Theorem is a mathematical formula used to calculate conditional probabilities  It is often used to calculate posterior probabilities given observations  ; similarity =  0.5464695\n"
          ]
        },
        {
          "output_type": "stream",
          "name": "stderr",
          "text": [
            "100%|██████████| 1/1 [00:00<00:00,  7.33it/s]\n",
            "100%|██████████| 1/1 [00:00<00:00,  7.38it/s]\n"
          ]
        },
        {
          "output_type": "stream",
          "name": "stdout",
          "text": [
            "Sentence =   The order in which the terms appear in the document is lost in the vector space representation  Finally the order in which the terms appear in the document is lost in the vector space representation  ; similarity =  0.9885836\n"
          ]
        },
        {
          "output_type": "stream",
          "name": "stderr",
          "text": [
            "100%|██████████| 1/1 [00:00<00:00,  6.95it/s]\n",
            "100%|██████████| 1/1 [00:00<00:00,  7.55it/s]\n"
          ]
        },
        {
          "output_type": "stream",
          "name": "stdout",
          "text": [
            "Sentence =   In probability theory Bayes theorem relates the conditional and marginal probabilities of two random events  Bayes theorem relates the conditional and marginal probabilities of two random events  ; similarity =  0.9714743\n"
          ]
        },
        {
          "output_type": "stream",
          "name": "stderr",
          "text": [
            "100%|██████████| 1/1 [00:00<00:00,  6.70it/s]\n",
            "100%|██████████| 1/1 [00:00<00:00,  7.59it/s]\n"
          ]
        },
        {
          "output_type": "stream",
          "name": "stdout",
          "text": [
            "Sentence =   As an official theorem Bayes theorem is valid in all universal interpretations of probability  Bayes Theorem is a theorem of probability theory originally stated by the Reverend Thomas Bayes  ; similarity =  0.5081631\n"
          ]
        },
        {
          "output_type": "stream",
          "name": "stderr",
          "text": [
            "100%|██████████| 1/1 [00:00<00:00,  8.77it/s]\n",
            "100%|██████████| 1/1 [00:00<00:00,  8.94it/s]\n"
          ]
        },
        {
          "output_type": "stream",
          "name": "stdout",
          "text": [
            "Sentence =   The definition of term depends on the application  The definition of a term depends on the application  ; similarity =  0.9957831\n"
          ]
        },
        {
          "output_type": "stream",
          "name": "stderr",
          "text": [
            "100%|██████████| 1/1 [00:00<00:00,  8.47it/s]\n",
            "100%|██████████| 1/1 [00:00<00:00,  6.54it/s]\n"
          ]
        },
        {
          "output_type": "stream",
          "name": "stdout",
          "text": [
            "Sentence =   Break up the problem different smaller subproblems  A problem with overlapping subproblems means that the same subproblems may be used to solve many different larger problems  ; similarity =  0.7345522\n"
          ]
        },
        {
          "output_type": "stream",
          "name": "stderr",
          "text": [
            "100%|██████████| 1/1 [00:00<00:00,  7.14it/s]\n",
            "100%|██████████| 1/1 [00:00<00:00, 10.38it/s]\n"
          ]
        },
        {
          "output_type": "stream",
          "name": "stdout",
          "text": [
            "Sentence =   This meant that the sum of all pages was the total number of pages on the web  of the pages providing the links  ; similarity =  0.4815225\n"
          ]
        },
        {
          "output_type": "stream",
          "name": "stderr",
          "text": [
            "100%|██████████| 1/1 [00:00<00:00,  7.42it/s]\n",
            "100%|██████████| 1/1 [00:00<00:00,  7.35it/s]\n"
          ]
        },
        {
          "output_type": "stream",
          "name": "stdout",
          "text": [
            "Sentence =   Inheritance is a method of forming new classes using predefined classes  Inheritance in object oriented programming is a way to form new classes using classes that have already been defined  ; similarity =  0.8873387\n"
          ]
        },
        {
          "output_type": "stream",
          "name": "stderr",
          "text": [
            "100%|██████████| 1/1 [00:00<00:00,  7.49it/s]\n",
            "100%|██████████| 1/1 [00:00<00:00,  7.14it/s]\n"
          ]
        },
        {
          "output_type": "stream",
          "name": "stdout",
          "text": [
            "Sentence =   In the vector space model a document is represented as a vector  A Vector space model is an algebraic model for representing text documents as vectors of identifiers  ; similarity =  0.84821695\n"
          ]
        },
        {
          "output_type": "stream",
          "name": "stderr",
          "text": [
            "100%|██████████| 1/1 [00:00<00:00,  7.04it/s]\n",
            "100%|██████████| 1/1 [00:00<00:00,  8.44it/s]\n"
          ]
        },
        {
          "output_type": "stream",
          "name": "stdout",
          "text": [
            "Sentence =   The main problem is divided into sub problems which are solved and stored for future use  Sub problems are then selected and used to solve the overall problem  ; similarity =  0.83207095\n"
          ]
        },
        {
          "output_type": "stream",
          "name": "stderr",
          "text": [
            "100%|██████████| 1/1 [00:00<00:00,  9.27it/s]\n",
            "100%|██████████| 1/1 [00:00<00:00,  8.02it/s]\n"
          ]
        },
        {
          "output_type": "stream",
          "name": "stdout",
          "text": [
            "Sentence =   What is the probability this student is female  What is the probability this student is a girl  ; similarity =  0.959682\n"
          ]
        },
        {
          "output_type": "stream",
          "name": "stderr",
          "text": [
            "100%|██████████| 1/1 [00:00<00:00,  6.81it/s]\n",
            "100%|██████████| 1/1 [00:00<00:00,  7.39it/s]\n"
          ]
        },
        {
          "output_type": "stream",
          "name": "stdout",
          "text": [
            "Sentence =   In this classic model the term specific weights in the document vectors are products of local and global parameters  If the term doesn t occur within the document the value in the vector is zero  ; similarity =  0.34359404\n"
          ]
        },
        {
          "output_type": "stream",
          "name": "stderr",
          "text": [
            "100%|██████████| 1/1 [00:00<00:00,  9.26it/s]\n",
            "100%|██████████| 1/1 [00:00<00:00,  7.70it/s]\n"
          ]
        },
        {
          "output_type": "stream",
          "name": "stdout",
          "text": [
            "Sentence =   Bayes Theorem Let and be sets  Bayes theorem relates the conditional and marginal probabilities of two random events  ; similarity =  0.6033036\n"
          ]
        },
        {
          "output_type": "stream",
          "name": "stderr",
          "text": [
            "100%|██████████| 1/1 [00:00<00:00,  7.28it/s]\n",
            "100%|██████████| 1/1 [00:00<00:00,  7.48it/s]\n"
          ]
        },
        {
          "output_type": "stream",
          "name": "stdout",
          "text": [
            "Sentence =   The value of a vector is non zero if a term occurs in the document  The order in which terms appear in the document is lost in a vector space representation  ; similarity =  0.61713386\n"
          ]
        },
        {
          "output_type": "stream",
          "name": "stderr",
          "text": [
            "100%|██████████| 1/1 [00:00<00:00,  7.25it/s]\n",
            "100%|██████████| 1/1 [00:00<00:00,  8.40it/s]\n"
          ]
        },
        {
          "output_type": "stream",
          "name": "stdout",
          "text": [
            "Sentence =   So the same rule applies with keywords and indeed longer phrases  Single words keywords and occasionally longer phrases are used for terms  ; similarity =  0.78880084\n"
          ]
        },
        {
          "output_type": "stream",
          "name": "stderr",
          "text": [
            "100%|██████████| 1/1 [00:00<00:00,  7.53it/s]\n",
            "100%|██████████| 1/1 [00:00<00:00,  7.56it/s]\n"
          ]
        },
        {
          "output_type": "stream",
          "name": "stdout",
          "text": [
            "Sentence =   This can be useful when the number of times a word appears is not considered important  If a term exists in a document its value in the vector is not equal to zero  ; similarity =  0.602419\n"
          ]
        },
        {
          "output_type": "stream",
          "name": "stderr",
          "text": [
            "100%|██████████| 1/1 [00:00<00:00,  6.70it/s]\n",
            "100%|██████████| 1/1 [00:00<00:00,  8.32it/s]\n"
          ]
        },
        {
          "output_type": "stream",
          "name": "stdout",
          "text": [
            "Sentence =   Single words keywords and occasionally longer phrases are used for terms  Typically terms are single words keywords or longer phrases  ; similarity =  0.95460135\n"
          ]
        },
        {
          "output_type": "stream",
          "name": "stderr",
          "text": [
            "100%|██████████| 1/1 [00:00<00:00,  7.28it/s]\n",
            "100%|██████████| 1/1 [00:00<00:00,  6.55it/s]\n"
          ]
        },
        {
          "output_type": "stream",
          "name": "stdout",
          "text": [
            "Sentence =   The order in which the terms appear in the document is lost in the vector space representation  In this classic model the term specific weights in the document vectors are products of local and global parameters  ; similarity =  0.46260378\n"
          ]
        },
        {
          "output_type": "stream",
          "name": "stderr",
          "text": [
            "100%|██████████| 1/1 [00:00<00:00,  6.76it/s]\n",
            "100%|██████████| 1/1 [00:00<00:00,  7.23it/s]\n"
          ]
        },
        {
          "output_type": "stream",
          "name": "stdout",
          "text": [
            "Sentence =   Dynamic Programming is an algorithm design technique used for optimisation problems such as minimising or maximising  In general dynamic programming is used on optimisation problems where the most efficient solution is needed  ; similarity =  0.85933614\n"
          ]
        },
        {
          "output_type": "stream",
          "name": "stderr",
          "text": [
            "100%|██████████| 1/1 [00:00<00:00,  9.17it/s]\n",
            "100%|██████████| 1/1 [00:00<00:00, 10.11it/s]\n"
          ]
        },
        {
          "output_type": "stream",
          "name": "stdout",
          "text": [
            "Sentence =   Animals can be treated cast to living things  However animals cannot be treated as fungi  ; similarity =  0.47240478\n"
          ]
        },
        {
          "output_type": "stream",
          "name": "stderr",
          "text": [
            "100%|██████████| 1/1 [00:00<00:00,  7.85it/s]\n",
            "100%|██████████| 1/1 [00:00<00:00,  7.61it/s]\n"
          ]
        },
        {
          "output_type": "stream",
          "name": "stdout",
          "text": [
            "Sentence =   The last point would be to construct an optimal solution from the computed values  Secondly to define the value of the optimal solution recursively  ; similarity =  0.6910609\n"
          ]
        },
        {
          "output_type": "stream",
          "name": "stderr",
          "text": [
            "100%|██████████| 1/1 [00:00<00:00,  6.61it/s]\n",
            "100%|██████████| 1/1 [00:00<00:00,  6.46it/s]\n"
          ]
        },
        {
          "output_type": "stream",
          "name": "stdout",
          "text": [
            "Sentence =   There is also Conditional Probability which is usually interested in the way variables relate to each other  The PageRank is a recursive algorithm used by Google to determine which webpages are more important than others  ; similarity =  0.1766823\n"
          ]
        },
        {
          "output_type": "stream",
          "name": "stderr",
          "text": [
            "100%|██████████| 1/1 [00:00<00:00,  6.77it/s]\n",
            "100%|██████████| 1/1 [00:00<00:00,  8.10it/s]\n"
          ]
        },
        {
          "output_type": "stream",
          "name": "stdout",
          "text": [
            "Sentence =   The order in which terms appear in the document is lost in a vector space representation  In the vector space model a document is represented as a vector  ; similarity =  0.71111006\n"
          ]
        },
        {
          "output_type": "stream",
          "name": "stderr",
          "text": [
            "100%|██████████| 1/1 [00:00<00:00,  7.81it/s]\n",
            "100%|██████████| 1/1 [00:00<00:00,  7.16it/s]\n"
          ]
        },
        {
          "output_type": "stream",
          "name": "stdout",
          "text": [
            "Sentence =   In the vector space model a document is represented as a vector  If a term exists in a document its value in the vector is not equal to zero  ; similarity =  0.7299655\n"
          ]
        },
        {
          "output_type": "stream",
          "name": "stderr",
          "text": [
            "100%|██████████| 1/1 [00:00<00:00,  7.17it/s]\n",
            "100%|██████████| 1/1 [00:00<00:00,  8.57it/s]\n"
          ]
        },
        {
          "output_type": "stream",
          "name": "stdout",
          "text": [
            "Sentence =   The way that a term is defined depends on the application  The definition of a term depends on the application  ; similarity =  0.96538293\n"
          ]
        },
        {
          "output_type": "stream",
          "name": "stderr",
          "text": [
            "100%|██████████| 1/1 [00:00<00:00,  8.20it/s]\n",
            "100%|██████████| 1/1 [00:00<00:00,  7.99it/s]\n"
          ]
        },
        {
          "output_type": "stream",
          "name": "stdout",
          "text": [
            "Sentence =   Thus the program is the best plan for action that is produced  Thus the program is the optimal plan for action that is produced  ; similarity =  0.8919112\n"
          ]
        },
        {
          "output_type": "stream",
          "name": "stderr",
          "text": [
            "100%|██████████| 1/1 [00:00<00:00,  7.30it/s]\n",
            "100%|██████████| 1/1 [00:00<00:00,  7.48it/s]\n"
          ]
        },
        {
          "output_type": "stream",
          "name": "stdout",
          "text": [
            "Sentence =   The easiest way to look at inheritance is as an is a kind of relationship  One of the most important uses of page rank is its meaning to advertising  ; similarity =  0.19370782\n"
          ]
        },
        {
          "output_type": "stream",
          "name": "stderr",
          "text": [
            "100%|██████████| 1/1 [00:00<00:00,  7.24it/s]\n",
            "100%|██████████| 1/1 [00:00<00:00,  7.36it/s]\n"
          ]
        },
        {
          "output_type": "stream",
          "name": "stdout",
          "text": [
            "Sentence =   The vector space model is one of these methods and it is an algebraic model  Models based on and extending the vector space model include Generalized vector space model  ; similarity =  0.78568166\n"
          ]
        },
        {
          "output_type": "stream",
          "name": "stderr",
          "text": [
            "100%|██████████| 1/1 [00:00<00:00,  7.47it/s]\n",
            "100%|██████████| 1/1 [00:00<00:00,  7.12it/s]\n"
          ]
        },
        {
          "output_type": "stream",
          "name": "stdout",
          "text": [
            "Sentence =   It does not take into account any information about B and therefore is considered prior  It is previous in the sense that it does not take into account any information about B  ; similarity =  0.91722536\n"
          ]
        },
        {
          "output_type": "stream",
          "name": "stderr",
          "text": [
            "100%|██████████| 1/1 [00:00<00:00,  9.99it/s]\n",
            "100%|██████████| 1/1 [00:00<00:00,  7.57it/s]\n"
          ]
        },
        {
          "output_type": "stream",
          "name": "stdout",
          "text": [
            "Sentence =   Each dimension corresponds to a separate term  A document is represented as a vector and each dimension corresponds to a separate term  ; similarity =  0.8054242\n"
          ]
        },
        {
          "output_type": "stream",
          "name": "stderr",
          "text": [
            "100%|██████████| 1/1 [00:00<00:00,  8.44it/s]\n",
            "100%|██████████| 1/1 [00:00<00:00,  7.96it/s]\n"
          ]
        },
        {
          "output_type": "stream",
          "name": "stdout",
          "text": [
            "Sentence =   This is a much quicker method than other more naive methods  The method is more effiecent than naive methods  ; similarity =  0.6999663\n"
          ]
        },
        {
          "output_type": "stream",
          "name": "stderr",
          "text": [
            "100%|██████████| 1/1 [00:00<00:00,  7.76it/s]\n",
            "100%|██████████| 1/1 [00:00<00:00,  7.73it/s]\n"
          ]
        },
        {
          "output_type": "stream",
          "name": "stdout",
          "text": [
            "Sentence =   tf idf weighting is one of the most well known schemes  One of the most popular schemes is tf idf weighting  ; similarity =  0.9539447\n"
          ]
        },
        {
          "output_type": "stream",
          "name": "stderr",
          "text": [
            "100%|██████████| 1/1 [00:00<00:00,  6.95it/s]\n",
            "100%|██████████| 1/1 [00:00<00:00,  9.69it/s]\n"
          ]
        },
        {
          "output_type": "stream",
          "name": "stdout",
          "text": [
            "Sentence =   A term which occurs in the document has a value in the vector of non zero  A document is represented as a vector  ; similarity =  0.65656936\n"
          ]
        },
        {
          "output_type": "stream",
          "name": "stderr",
          "text": [
            "100%|██████████| 1/1 [00:00<00:00,  7.02it/s]\n",
            "100%|██████████| 1/1 [00:00<00:00, 10.15it/s]\n"
          ]
        },
        {
          "output_type": "stream",
          "name": "stdout",
          "text": [
            "Sentence =   The basic idea is to represent each document as a vector of certain weighted word frequencies  A document has representation as a vector  ; similarity =  0.7135875\n"
          ]
        },
        {
          "output_type": "stream",
          "name": "stderr",
          "text": [
            "100%|██████████| 1/1 [00:00<00:00,  7.84it/s]\n",
            "100%|██████████| 1/1 [00:00<00:00,  7.31it/s]\n"
          ]
        },
        {
          "output_type": "stream",
          "name": "stdout",
          "text": [
            "Sentence =   If a term occurs in the document its value in the vector is non zero  If a term appears in the document the terms value in the vector is non zero  ; similarity =  0.9747027\n"
          ]
        },
        {
          "output_type": "stream",
          "name": "stderr",
          "text": [
            "100%|██████████| 1/1 [00:00<00:00,  7.17it/s]\n",
            "100%|██████████| 1/1 [00:00<00:00,  9.11it/s]\n"
          ]
        },
        {
          "output_type": "stream",
          "name": "stdout",
          "text": [
            "Sentence =   The differing application has a direct influence on what the definition of the term means  The definition of a term depends on the application  ; similarity =  0.8622917\n"
          ]
        },
        {
          "output_type": "stream",
          "name": "stderr",
          "text": [
            "100%|██████████| 1/1 [00:00<00:00,  6.31it/s]\n",
            "100%|██████████| 1/1 [00:00<00:00,  7.59it/s]\n"
          ]
        },
        {
          "output_type": "stream",
          "name": "stdout",
          "text": [
            "Sentence =   Mathematicians use the word to describe a set of rules which anyone can follow to solve a problem  Here we re going to simply use a probability distribution hence the initial value of 0 25  ; similarity =  0.1582082\n"
          ]
        },
        {
          "output_type": "stream",
          "name": "stderr",
          "text": [
            "100%|██████████| 1/1 [00:00<00:00,  7.43it/s]\n",
            "100%|██████████| 1/1 [00:00<00:00,  8.60it/s]\n"
          ]
        },
        {
          "output_type": "stream",
          "name": "stdout",
          "text": [
            "Sentence =   P A is the probability of the student being a girl which is 2 5  P A B is the conditional probability of A given B  ; similarity =  0.55126476\n"
          ]
        },
        {
          "output_type": "stream",
          "name": "stderr",
          "text": [
            "100%|██████████| 1/1 [00:00<00:00,  7.05it/s]\n",
            "100%|██████████| 1/1 [00:00<00:00,  7.40it/s]\n"
          ]
        },
        {
          "output_type": "stream",
          "name": "stdout",
          "text": [
            "Sentence =   This method is far more efficient than recalculating and therefore considerably reduces computation  And thus the method takes much less time than more naive methods  ; similarity =  0.67382497\n"
          ]
        },
        {
          "output_type": "stream",
          "name": "stderr",
          "text": [
            "100%|██████████| 1/1 [00:00<00:00,  7.63it/s]\n",
            "100%|██████████| 1/1 [00:00<00:00,  9.30it/s]\n"
          ]
        },
        {
          "output_type": "stream",
          "name": "stdout",
          "text": [
            "Sentence =   P A or the probability that the student is a girl regardless of any other information  P A is the prior probability A  ; similarity =  0.44463888\n"
          ]
        },
        {
          "output_type": "stream",
          "name": "stderr",
          "text": [
            "100%|██████████| 1/1 [00:00<00:00,  7.69it/s]\n",
            "100%|██████████| 1/1 [00:00<00:00,  8.16it/s]\n"
          ]
        },
        {
          "output_type": "stream",
          "name": "stdout",
          "text": [
            "Sentence =   The basic idea is to represent each document as a vector of certain weighted word frequencies  Each document is a vector where each word is a dimension  ; similarity =  0.8299562\n"
          ]
        },
        {
          "output_type": "stream",
          "name": "stderr",
          "text": [
            "100%|██████████| 1/1 [00:00<00:00,  7.83it/s]\n",
            "100%|██████████| 1/1 [00:00<00:00,  6.40it/s]\n"
          ]
        },
        {
          "output_type": "stream",
          "name": "stdout",
          "text": [
            "Sentence =   Inheritance is a basic concept in object oriented programming  Inheritance in object oriented programming is a way to form new classes using classes that have already been defined  ; similarity =  0.80794877\n"
          ]
        },
        {
          "output_type": "stream",
          "name": "stderr",
          "text": [
            "100%|██████████| 1/1 [00:00<00:00,  7.44it/s]\n",
            "100%|██████████| 1/1 [00:00<00:00,  7.23it/s]\n"
          ]
        },
        {
          "output_type": "stream",
          "name": "stdout",
          "text": [
            "Sentence =   This general three step process can be used to solve a problem 1  In a word we can solve a problem with optimal substructure using a three step process  ; similarity =  0.8652219\n"
          ]
        },
        {
          "output_type": "stream",
          "name": "stderr",
          "text": [
            "100%|██████████| 1/1 [00:00<00:00,  6.29it/s]\n",
            "100%|██████████| 1/1 [00:00<00:00,  7.31it/s]\n"
          ]
        },
        {
          "output_type": "stream",
          "name": "stdout",
          "text": [
            "Sentence =   The algebraic model for representing text documents and objects as vectors of identifiers is called the vector space model  A Vector space model is an algebraic model for representing text documents as vectors of identifiers  ; similarity =  0.9850117\n"
          ]
        },
        {
          "output_type": "stream",
          "name": "stderr",
          "text": [
            "100%|██████████| 1/1 [00:00<00:00,  8.88it/s]\n",
            "100%|██████████| 1/1 [00:00<00:00,  6.76it/s]\n"
          ]
        },
        {
          "output_type": "stream",
          "name": "stdout",
          "text": [
            "Sentence =   Inheritance is an important feature in object orientated programming  Inheritance in object oriented programming is a way to form new classes using classes that have already been defined  ; similarity =  0.74472654\n"
          ]
        },
        {
          "output_type": "stream",
          "name": "stderr",
          "text": [
            "100%|██████████| 1/1 [00:00<00:00,  6.90it/s]\n",
            "100%|██████████| 1/1 [00:00<00:00,  7.48it/s]\n"
          ]
        },
        {
          "output_type": "stream",
          "name": "stdout",
          "text": [
            "Sentence =   If a term occurs in the document its value is non zero  If a term appears in the document then its value in the vector is non zero  ; similarity =  0.9089936\n"
          ]
        },
        {
          "output_type": "stream",
          "name": "stderr",
          "text": [
            "100%|██████████| 1/1 [00:00<00:00,  8.04it/s]\n",
            "100%|██████████| 1/1 [00:00<00:00,  8.50it/s]\n"
          ]
        },
        {
          "output_type": "stream",
          "name": "stdout",
          "text": [
            "Sentence =   Typically terms are single words keywords or sometimes even longer phrases  Typically terms are single words keywords or longer phrases  ; similarity =  0.993488\n"
          ]
        },
        {
          "output_type": "stream",
          "name": "stderr",
          "text": [
            "100%|██████████| 1/1 [00:00<00:00,  7.72it/s]\n",
            "100%|██████████| 1/1 [00:00<00:00,  8.14it/s]\n"
          ]
        },
        {
          "output_type": "stream",
          "name": "stdout",
          "text": [
            "Sentence =   Thus the program is the optimal plan of action that is being produced  Therefore the program is the optimal plan for action that is produced  ; similarity =  0.9849576\n"
          ]
        },
        {
          "output_type": "stream",
          "name": "stderr",
          "text": [
            "100%|██████████| 1/1 [00:00<00:00,  7.45it/s]\n",
            "100%|██████████| 1/1 [00:00<00:00,  7.50it/s]\n"
          ]
        },
        {
          "output_type": "stream",
          "name": "stdout",
          "text": [
            "Sentence =   The differing application has a direct influence on what the definition of the term means  One of the most important uses of page rank is its meaning to advertising  ; similarity =  0.44963783\n"
          ]
        },
        {
          "output_type": "stream",
          "name": "stderr",
          "text": [
            "100%|██████████| 1/1 [00:00<00:00,  6.55it/s]\n",
            "100%|██████████| 1/1 [00:00<00:00,  7.72it/s]\n"
          ]
        },
        {
          "output_type": "stream",
          "name": "stdout",
          "text": [
            "Sentence =   In probability theory Bayes theorem relates the conditional and marginal probabilities of two random events  Since it is a formal theorem Bayes theorem holds in all popular interpretations of probability  ; similarity =  0.6008032\n"
          ]
        },
        {
          "output_type": "stream",
          "name": "stderr",
          "text": [
            "100%|██████████| 1/1 [00:00<00:00,  7.95it/s]\n",
            "100%|██████████| 1/1 [00:00<00:00,  7.83it/s]\n"
          ]
        },
        {
          "output_type": "stream",
          "name": "stdout",
          "text": [
            "Sentence =   If a term occurs in the document its value is non zero  If a term occurs in the document its value in the vector is non zero  ; similarity =  0.92498934\n"
          ]
        },
        {
          "output_type": "stream",
          "name": "stderr",
          "text": [
            "100%|██████████| 1/1 [00:00<00:00,  7.86it/s]\n",
            "100%|██████████| 1/1 [00:00<00:00,  7.97it/s]\n"
          ]
        },
        {
          "output_type": "stream",
          "name": "stdout",
          "text": [
            "Sentence =   Programming in this sense means finding an acceptable plan of action  Programming in this sense means finding an acceptable plan an algorithm  ; similarity =  0.79858714\n"
          ]
        },
        {
          "output_type": "stream",
          "name": "stderr",
          "text": [
            "100%|██████████| 1/1 [00:00<00:00,  8.63it/s]\n",
            "100%|██████████| 1/1 [00:00<00:00,  9.05it/s]\n"
          ]
        },
        {
          "output_type": "stream",
          "name": "stdout",
          "text": [
            "Sentence =   The vector space model has some limitations 1  The vector space model has several disadvantages  ; similarity =  0.89321524\n"
          ]
        },
        {
          "output_type": "stream",
          "name": "stderr",
          "text": [
            "100%|██████████| 1/1 [00:00<00:00,  7.87it/s]\n",
            "100%|██████████| 1/1 [00:00<00:00,  7.22it/s]\n"
          ]
        },
        {
          "output_type": "stream",
          "name": "stdout",
          "text": [
            "Sentence =   To explain further vector space models basically a document is characterized by a vector  If a term exists in a document its value in the vector is not equal to zero  ; similarity =  0.67461914\n"
          ]
        },
        {
          "output_type": "stream",
          "name": "stderr",
          "text": [
            "100%|██████████| 1/1 [00:00<00:00,  7.02it/s]\n",
            "100%|██████████| 1/1 [00:00<00:00,  7.02it/s]\n"
          ]
        },
        {
          "output_type": "stream",
          "name": "stdout",
          "text": [
            "Sentence =   One of the most important uses of page rank is its meaning to advertising  Following this each web page is given a ranking of 0 10 according to its relevance to a search  ; similarity =  0.4794804\n"
          ]
        },
        {
          "output_type": "stream",
          "name": "stderr",
          "text": [
            "100%|██████████| 1/1 [00:00<00:00,  6.82it/s]\n",
            "100%|██████████| 1/1 [00:00<00:00,  7.42it/s]\n"
          ]
        },
        {
          "output_type": "stream",
          "name": "stdout",
          "text": [
            "Sentence =   Using the vector space model for Information Retrieval models all pages and queries as high dimensional sparse vectors  A possible use for a vector space model is for retrieval and filtering of information  ; similarity =  0.69628286\n"
          ]
        },
        {
          "output_type": "stream",
          "name": "stderr",
          "text": [
            "100%|██████████| 1/1 [00:00<00:00,  8.26it/s]\n",
            "100%|██████████| 1/1 [00:00<00:00,  7.79it/s]\n"
          ]
        },
        {
          "output_type": "stream",
          "name": "stdout",
          "text": [
            "Sentence =   It was first used in the SMART Information Retrieval System  It is used in information filtering information retrieval indexing and relevancy rankings  ; similarity =  0.573945\n"
          ]
        },
        {
          "output_type": "stream",
          "name": "stderr",
          "text": [
            "100%|██████████| 1/1 [00:00<00:00,  7.53it/s]\n",
            "100%|██████████| 1/1 [00:00<00:00,  7.16it/s]\n"
          ]
        },
        {
          "output_type": "stream",
          "name": "stdout",
          "text": [
            "Sentence =   One of the most famous schemes is tf idf weighting  One of the best known schemes is tf idf term frequency inverse document frequency weighting  ; similarity =  0.79954123\n"
          ]
        },
        {
          "output_type": "stream",
          "name": "stderr",
          "text": [
            "100%|██████████| 1/1 [00:00<00:00,  7.35it/s]\n",
            "100%|██████████| 1/1 [00:00<00:00,  6.88it/s]\n"
          ]
        },
        {
          "output_type": "stream",
          "name": "stdout",
          "text": [
            "Sentence =   Vector space representation results in the loss of the order which the terms are in the document  In this classic model the term specific weights in the document vectors are products of local and global parameters  ; similarity =  0.50737417\n"
          ]
        },
        {
          "output_type": "stream",
          "name": "stderr",
          "text": [
            "100%|██████████| 1/1 [00:00<00:00,  9.05it/s]\n",
            "100%|██████████| 1/1 [00:00<00:00,  9.16it/s]\n"
          ]
        },
        {
          "output_type": "stream",
          "name": "stdout",
          "text": [
            "Sentence =   of the pages providing the links  The second method is the use of links  ; similarity =  0.52478755\n"
          ]
        },
        {
          "output_type": "stream",
          "name": "stderr",
          "text": [
            "100%|██████████| 1/1 [00:00<00:00,  7.90it/s]\n",
            "100%|██████████| 1/1 [00:00<00:00,  7.43it/s]\n"
          ]
        },
        {
          "output_type": "stream",
          "name": "stdout",
          "text": [
            "Sentence =   The further down an inheritance tree you get the more specific the classes become  If the term doesn t occur within the document the value in the vector is zero  ; similarity =  0.018152032\n"
          ]
        },
        {
          "output_type": "stream",
          "name": "stderr",
          "text": [
            "100%|██████████| 1/1 [00:00<00:00,  6.68it/s]\n",
            "100%|██████████| 1/1 [00:00<00:00,  8.31it/s]\n"
          ]
        },
        {
          "output_type": "stream",
          "name": "stdout",
          "text": [
            "Sentence =   P B is the prior or marginal probability of B and acts to normalise the probability  P A is the probability of the student being a girl which is 2 5  ; similarity =  0.46345818\n"
          ]
        },
        {
          "output_type": "stream",
          "name": "stderr",
          "text": [
            "100%|██████████| 1/1 [00:00<00:00,  7.07it/s]\n",
            "100%|██████████| 1/1 [00:00<00:00,  8.83it/s]\n"
          ]
        },
        {
          "output_type": "stream",
          "name": "stdout",
          "text": [
            "Sentence =   A document is represented as a vector and each dimension corresponds to a separate term  A document can be represented as a vector  ; similarity =  0.85708994\n"
          ]
        },
        {
          "output_type": "stream",
          "name": "stderr",
          "text": [
            "100%|██████████| 1/1 [00:00<00:00,  7.46it/s]\n",
            "100%|██████████| 1/1 [00:00<00:00,  8.85it/s]\n"
          ]
        },
        {
          "output_type": "stream",
          "name": "stdout",
          "text": [
            "Sentence =   The similarity measures largely identify the retrieval efficiency of a particular information retrieval system  It was first used in the SMART Information Retrieval System  ; similarity =  0.4895794\n"
          ]
        },
        {
          "output_type": "stream",
          "name": "stderr",
          "text": [
            "100%|██████████| 1/1 [00:00<00:00,  7.78it/s]\n",
            "100%|██████████| 1/1 [00:00<00:00,  7.47it/s]\n"
          ]
        },
        {
          "output_type": "stream",
          "name": "stdout",
          "text": [
            "Sentence =   If a term occurs in the document its value in the vector is non zero  A document is represented as a vector with each dimension corresponding to a separate term  ; similarity =  0.66001576\n"
          ]
        },
        {
          "output_type": "stream",
          "name": "stderr",
          "text": [
            "100%|██████████| 1/1 [00:00<00:00,  7.40it/s]\n",
            "100%|██████████| 1/1 [00:00<00:00,  9.75it/s]\n"
          ]
        },
        {
          "output_type": "stream",
          "name": "stdout",
          "text": [
            "Sentence =   A document is represented as a vector with each dimension corresponding to a separate term  A document has representation as a vector  ; similarity =  0.8750002\n"
          ]
        },
        {
          "output_type": "stream",
          "name": "stderr",
          "text": [
            "100%|██████████| 1/1 [00:00<00:00,  6.81it/s]\n",
            "100%|██████████| 1/1 [00:00<00:00,  7.11it/s]\n"
          ]
        },
        {
          "output_type": "stream",
          "name": "stdout",
          "text": [
            "Sentence =   Vector space representation results in the loss of the order which the terms are in the document  The order in which terms appear in the document is lost in a vector space representation  ; similarity =  0.861903\n"
          ]
        },
        {
          "output_type": "stream",
          "name": "stderr",
          "text": [
            "100%|██████████| 1/1 [00:00<00:00,  7.89it/s]\n",
            "100%|██████████| 1/1 [00:00<00:00,  7.85it/s]\n"
          ]
        },
        {
          "output_type": "stream",
          "name": "stdout",
          "text": [
            "Sentence =   They do not have to be written in a computer language  However an object cannot be cast to a class which is no relative of it  ; similarity =  0.33942023\n"
          ]
        },
        {
          "output_type": "stream",
          "name": "stderr",
          "text": [
            "100%|██████████| 1/1 [00:00<00:00,  7.26it/s]\n",
            "100%|██████████| 1/1 [00:00<00:00,  8.78it/s]\n"
          ]
        },
        {
          "output_type": "stream",
          "name": "stdout",
          "text": [
            "Sentence =   The order in which terms appear in the document is lost in a vector space representation  A document has representation as a vector  ; similarity =  0.6484016\n"
          ]
        },
        {
          "output_type": "stream",
          "name": "stderr",
          "text": [
            "100%|██████████| 1/1 [00:00<00:00,  7.42it/s]\n",
            "100%|██████████| 1/1 [00:00<00:00,  6.76it/s]\n"
          ]
        },
        {
          "output_type": "stream",
          "name": "stdout",
          "text": [
            "Sentence =   However an object cannot be cast to a class which is no relative of it  Here we re going to simply use a probability distribution hence the initial value of 0 25  ; similarity =  -0.062927246\n"
          ]
        },
        {
          "output_type": "stream",
          "name": "stderr",
          "text": [
            "100%|██████████| 1/1 [00:00<00:00,  6.46it/s]\n",
            "100%|██████████| 1/1 [00:00<00:00,  7.77it/s]\n"
          ]
        },
        {
          "output_type": "stream",
          "name": "stdout",
          "text": [
            "Sentence =   In probability theory the prior and conditional probabilities of two random events are related by Bayes theorem  As a formal theorem Bayes theorem is valid in all common interpretations of probability  ; similarity =  0.5304033\n"
          ]
        },
        {
          "output_type": "stream",
          "name": "stderr",
          "text": [
            "100%|██████████| 1/1 [00:00<00:00,  7.64it/s]\n",
            "100%|██████████| 1/1 [00:00<00:00,  7.30it/s]\n"
          ]
        },
        {
          "output_type": "stream",
          "name": "stdout",
          "text": [
            "Sentence =   Bayes theorem relates the conditional and marginal probabilities of two random events  In probability theory Bayes theorem relates the conditional and marginal probabilities of two random events  ; similarity =  0.9714743\n"
          ]
        },
        {
          "output_type": "stream",
          "name": "stderr",
          "text": [
            "100%|██████████| 1/1 [00:00<00:00,  7.61it/s]\n",
            "100%|██████████| 1/1 [00:00<00:00,  7.09it/s]\n"
          ]
        },
        {
          "output_type": "stream",
          "name": "stdout",
          "text": [
            "Sentence =   tf idf weighting is one of the most well known schemes  One of the best known schemes is tf idf term frequency inverse document frequency weighting  ; similarity =  0.7838724\n"
          ]
        },
        {
          "output_type": "stream",
          "name": "stderr",
          "text": [
            "100%|██████████| 1/1 [00:00<00:00,  7.28it/s]\n",
            "100%|██████████| 1/1 [00:00<00:00,  7.95it/s]\n"
          ]
        },
        {
          "output_type": "stream",
          "name": "stdout",
          "text": [
            "Sentence =   The value of a vector is non zero if a term occurs in the document  If a term occurs in the document its value is non zero  ; similarity =  0.8604821\n"
          ]
        },
        {
          "output_type": "stream",
          "name": "stderr",
          "text": [
            "100%|██████████| 1/1 [00:00<00:00,  7.48it/s]\n",
            "100%|██████████| 1/1 [00:00<00:00,  7.10it/s]\n"
          ]
        },
        {
          "output_type": "stream",
          "name": "stdout",
          "text": [
            "Sentence =   If a term occurs in the document the value will be non zero in the vector  If a term occurs in the document its value in the vector is non zero  ; similarity =  0.9737323\n"
          ]
        },
        {
          "output_type": "stream",
          "name": "stderr",
          "text": [
            "100%|██████████| 1/1 [00:00<00:00,  6.80it/s]\n",
            "100%|██████████| 1/1 [00:00<00:00,  7.92it/s]\n"
          ]
        },
        {
          "output_type": "stream",
          "name": "stdout",
          "text": [
            "Sentence =   A term which occurs in the document has a value in the vector of non zero  A document is represented as a vector and each dimension corresponds to a separate term  ; similarity =  0.7297743\n"
          ]
        },
        {
          "output_type": "stream",
          "name": "stderr",
          "text": [
            "100%|██████████| 1/1 [00:00<00:00,  7.47it/s]\n",
            "100%|██████████| 1/1 [00:00<00:00,  7.53it/s]\n"
          ]
        },
        {
          "output_type": "stream",
          "name": "stdout",
          "text": [
            "Sentence =   One of its uses is calculating posterior probabilities given observations  It is used to compute posterior probabilities given observations  ; similarity =  0.9303324\n"
          ]
        },
        {
          "output_type": "stream",
          "name": "stderr",
          "text": [
            "100%|██████████| 1/1 [00:00<00:00,  7.15it/s]\n",
            "100%|██████████| 1/1 [00:00<00:00,  9.39it/s]\n"
          ]
        },
        {
          "output_type": "stream",
          "name": "stdout",
          "text": [
            "Sentence =   P A is the probability of the student being a girl which is 2 5  What is the probability this student is a girl  ; similarity =  0.75110793\n"
          ]
        },
        {
          "output_type": "stream",
          "name": "stderr",
          "text": [
            "100%|██████████| 1/1 [00:00<00:00,  6.55it/s]\n",
            "100%|██████████| 1/1 [00:00<00:00,  7.26it/s]\n"
          ]
        },
        {
          "output_type": "stream",
          "name": "stdout",
          "text": [
            "Sentence =   inheritance in object oriented programming is where a new class is formed using classes which have allready been defined  In defining this inheritance hierarchy we have already defined certain restrictions not all of which are desirable  ; similarity =  0.49802732\n"
          ]
        },
        {
          "output_type": "stream",
          "name": "stderr",
          "text": [
            "100%|██████████| 1/1 [00:00<00:00,  7.36it/s]\n",
            "100%|██████████| 1/1 [00:00<00:00,  8.67it/s]\n"
          ]
        },
        {
          "output_type": "stream",
          "name": "stdout",
          "text": [
            "Sentence =   This can be useful when the number of times a word appears is not considered important  This can be known as one of the advantages of inheritance  ; similarity =  0.2686673\n"
          ]
        },
        {
          "output_type": "stream",
          "name": "stderr",
          "text": [
            "100%|██████████| 1/1 [00:00<00:00,  6.90it/s]\n",
            "100%|██████████| 1/1 [00:00<00:00,  7.44it/s]\n"
          ]
        },
        {
          "output_type": "stream",
          "name": "stdout",
          "text": [
            "Sentence =   The basic idea is to represent each document as a vector of certain weighted word frequencies  If a term appears in the document the terms value in the vector is non zero  ; similarity =  0.49552158\n"
          ]
        },
        {
          "output_type": "stream",
          "name": "stderr",
          "text": [
            "100%|██████████| 1/1 [00:00<00:00,  7.81it/s]\n",
            "100%|██████████| 1/1 [00:00<00:00,  7.94it/s]\n"
          ]
        },
        {
          "output_type": "stream",
          "name": "stdout",
          "text": [
            "Sentence =   Therefore the program is the optimal plan for action that is produced  The program is the optimal plan for action that is produced  ; similarity =  0.99176437\n"
          ]
        },
        {
          "output_type": "stream",
          "name": "stderr",
          "text": [
            "100%|██████████| 1/1 [00:00<00:00,  8.49it/s]\n",
            "100%|██████████| 1/1 [00:00<00:00,  7.59it/s]\n"
          ]
        },
        {
          "output_type": "stream",
          "name": "stdout",
          "text": [
            "Sentence =   Bayes Theorem Let and be sets  As a formal theorem Bayes theorem is valid in all common interpretations of probability  ; similarity =  0.60279197\n"
          ]
        },
        {
          "output_type": "stream",
          "name": "stderr",
          "text": [
            "100%|██████████| 1/1 [00:00<00:00,  7.57it/s]\n",
            "100%|██████████| 1/1 [00:00<00:00,  7.56it/s]\n"
          ]
        },
        {
          "output_type": "stream",
          "name": "stdout",
          "text": [
            "Sentence =   In the vector space model a document is represented as a vector  A document is represented as a vector and each dimension corresponds to a separate term  ; similarity =  0.8716863\n"
          ]
        },
        {
          "output_type": "stream",
          "name": "stderr",
          "text": [
            "100%|██████████| 1/1 [00:00<00:00,  8.05it/s]\n",
            "100%|██████████| 1/1 [00:00<00:00,  8.04it/s]\n"
          ]
        },
        {
          "output_type": "stream",
          "name": "stdout",
          "text": [
            "Sentence =   This is a much quicker method than other more naive methods  And thus the method takes much less time than more naive methods  ; similarity =  0.79938096\n"
          ]
        },
        {
          "output_type": "stream",
          "name": "stderr",
          "text": [
            "100%|██████████| 1/1 [00:00<00:00,  8.55it/s]\n",
            "100%|██████████| 1/1 [00:00<00:00,  9.41it/s]\n"
          ]
        },
        {
          "output_type": "stream",
          "name": "stdout",
          "text": [
            "Sentence =   This is highly used in dynamic programming  There are four steps in Dynamic Programming 1  ; similarity =  0.560998\n"
          ]
        },
        {
          "output_type": "stream",
          "name": "stderr",
          "text": [
            "100%|██████████| 1/1 [00:00<00:00,  7.19it/s]\n",
            "100%|██████████| 1/1 [00:00<00:00,  7.46it/s]\n"
          ]
        },
        {
          "output_type": "stream",
          "name": "stdout",
          "text": [
            "Sentence =   The algorithm may be applied to any numbr of entities with reciprocal quotations and references  The algorithm may be applied to any collection of entities with reciprocal quotations and references  ; similarity =  0.94879335\n"
          ]
        },
        {
          "output_type": "stream",
          "name": "stderr",
          "text": [
            "100%|██████████| 1/1 [00:00<00:00,  7.50it/s]\n",
            "100%|██████████| 1/1 [00:00<00:00,  7.78it/s]\n"
          ]
        },
        {
          "output_type": "stream",
          "name": "stdout",
          "text": [
            "Sentence =   Other ways of computing these values or weights have been developed  Many different methods of calculating these values sometimes known as term weights have been developed  ; similarity =  0.8630636\n"
          ]
        },
        {
          "output_type": "stream",
          "name": "stderr",
          "text": [
            "100%|██████████| 1/1 [00:00<00:00,  7.32it/s]\n",
            "100%|██████████| 1/1 [00:00<00:00, 10.14it/s]\n"
          ]
        },
        {
          "output_type": "stream",
          "name": "stdout",
          "text": [
            "Sentence =   The vector space model is one of these methods and it is an algebraic model  However the vector space model has limitations  ; similarity =  0.65854186\n"
          ]
        },
        {
          "output_type": "stream",
          "name": "stderr",
          "text": [
            "100%|██████████| 1/1 [00:00<00:00,  7.12it/s]\n",
            "100%|██████████| 1/1 [00:00<00:00,  7.22it/s]\n"
          ]
        },
        {
          "output_type": "stream",
          "name": "stdout",
          "text": [
            "Sentence =   If a term occurs in the document the value will be non zero in the vector  If a term appears in the document the terms value in the vector is non zero  ; similarity =  0.95708454\n"
          ]
        },
        {
          "output_type": "stream",
          "name": "stderr",
          "text": [
            "100%|██████████| 1/1 [00:00<00:00,  8.91it/s]\n",
            "100%|██████████| 1/1 [00:00<00:00,  6.99it/s]\n"
          ]
        },
        {
          "output_type": "stream",
          "name": "stdout",
          "text": [
            "Sentence =   The most popular is tf idf weighting  tf idf weighting is one of the most well known schemes  ; similarity =  0.84685385\n"
          ]
        },
        {
          "output_type": "stream",
          "name": "stderr",
          "text": [
            "100%|██████████| 1/1 [00:00<00:00,  7.50it/s]\n",
            "100%|██████████| 1/1 [00:00<00:00,  7.88it/s]\n"
          ]
        },
        {
          "output_type": "stream",
          "name": "stdout",
          "text": [
            "Sentence =   Nevertheless the patent is assigned to the University of Stanford and not to Google  Google s payoff is that it gets to track the behaviour of actual users  ; similarity =  0.24911833\n"
          ]
        },
        {
          "output_type": "stream",
          "name": "stderr",
          "text": [
            "100%|██████████| 1/1 [00:00<00:00,  7.36it/s]\n",
            "100%|██████████| 1/1 [00:00<00:00,  8.62it/s]\n"
          ]
        },
        {
          "output_type": "stream",
          "name": "stdout",
          "text": [
            "Sentence =   It is usually be used to compute posterior probabilities given observations  It is used to compute posterior probabilities given observations  ; similarity =  0.95881957\n"
          ]
        },
        {
          "output_type": "stream",
          "name": "stderr",
          "text": [
            "100%|██████████| 1/1 [00:00<00:00,  7.23it/s]\n",
            "100%|██████████| 1/1 [00:00<00:00,  9.35it/s]\n"
          ]
        },
        {
          "output_type": "stream",
          "name": "stdout",
          "text": [
            "Sentence =   If a term appears in the document then its value in the vector is non zero  A document is represented as a vector  ; similarity =  0.58758926\n"
          ]
        },
        {
          "output_type": "stream",
          "name": "stderr",
          "text": [
            "100%|██████████| 1/1 [00:00<00:00,  6.41it/s]\n",
            "100%|██████████| 1/1 [00:00<00:00,  7.49it/s]\n"
          ]
        },
        {
          "output_type": "stream",
          "name": "stdout",
          "text": [
            "Sentence =   In probability theory Bayes theorem relates the conditional and marginal probabilities of two random events  Bayes Theorem is a mathematical formula used to calculate conditional probabilities  ; similarity =  0.74867034\n"
          ]
        },
        {
          "output_type": "stream",
          "name": "stderr",
          "text": [
            "100%|██████████| 1/1 [00:00<00:00,  6.09it/s]\n",
            "100%|██████████| 1/1 [00:00<00:00,  7.55it/s]\n"
          ]
        },
        {
          "output_type": "stream",
          "name": "stdout",
          "text": [
            "Sentence =   Memoization is used in order to save time the solutions are stored rather than be recomputed  In order to avoid this we instead save the solutions to problems we have already solved  ; similarity =  0.58458614\n"
          ]
        },
        {
          "output_type": "stream",
          "name": "stderr",
          "text": [
            "100%|██████████| 1/1 [00:00<00:00,  7.56it/s]\n",
            "100%|██████████| 1/1 [00:00<00:00,  8.30it/s]\n"
          ]
        },
        {
          "output_type": "stream",
          "name": "stdout",
          "text": [
            "Sentence =   Typically terms are single words keywords or sometimes even longer phrases  A normal term is usually a single word keywords or longer phrases  ; similarity =  0.899956\n"
          ]
        },
        {
          "output_type": "stream",
          "name": "stderr",
          "text": [
            "100%|██████████| 1/1 [00:00<00:00,  6.50it/s]\n",
            "100%|██████████| 1/1 [00:00<00:00,  7.63it/s]\n"
          ]
        },
        {
          "output_type": "stream",
          "name": "stdout",
          "text": [
            "Sentence =   P B is the prior or marginal probability of B and acts as a normalizing constant  P B A is the conditional probability of B given A  ; similarity =  0.84813803\n"
          ]
        },
        {
          "output_type": "stream",
          "name": "stderr",
          "text": [
            "100%|██████████| 1/1 [00:00<00:00,  7.98it/s]\n",
            "100%|██████████| 1/1 [00:00<00:00,  6.43it/s]\n"
          ]
        },
        {
          "output_type": "stream",
          "name": "stdout",
          "text": [
            "Sentence =   A website s page rank is how important it is on the web  A variation of the PageRank method bases the importance of a webpage on how many visits the page gets  ; similarity =  0.7454627\n"
          ]
        },
        {
          "output_type": "stream",
          "name": "stderr",
          "text": [
            "100%|██████████| 1/1 [00:00<00:00,  6.26it/s]\n",
            "100%|██████████| 1/1 [00:00<00:00,  8.45it/s]\n"
          ]
        },
        {
          "output_type": "stream",
          "name": "stdout",
          "text": [
            "Sentence =   Inheritance in object oriented programming is a way to form new classes using classes that have already been defined  Inheritance is one of the basic concepts of Object Oriented Programming  ; similarity =  0.79498076\n"
          ]
        },
        {
          "output_type": "stream",
          "name": "stderr",
          "text": [
            "100%|██████████| 1/1 [00:00<00:00,  7.48it/s]\n",
            "100%|██████████| 1/1 [00:00<00:00,  6.86it/s]\n"
          ]
        },
        {
          "output_type": "stream",
          "name": "stdout",
          "text": [
            "Sentence =   Programming in this sense means finding an acceptable plan of action  Programming in this sense means finding an acceptable plan of action an algorithm  ; similarity =  0.82514024\n"
          ]
        },
        {
          "output_type": "stream",
          "name": "stderr",
          "text": [
            "100%|██████████| 1/1 [00:00<00:00,  8.69it/s]\n",
            "100%|██████████| 1/1 [00:00<00:00,  7.62it/s]\n"
          ]
        },
        {
          "output_type": "stream",
          "name": "stdout",
          "text": [
            "Sentence =   The limitations of the vector space model are thus  A possible use for a vector space model is for retrieval and filtering of information  ; similarity =  0.589884\n"
          ]
        },
        {
          "output_type": "stream",
          "name": "stderr",
          "text": [
            "100%|██████████| 1/1 [00:00<00:00,  7.26it/s]\n",
            "100%|██████████| 1/1 [00:00<00:00,  9.66it/s]\n"
          ]
        },
        {
          "output_type": "stream",
          "name": "stdout",
          "text": [
            "Sentence =   Models based on and extending the vector space model include Generalized vector space model  LIMITATION There is some limitation of vector space model  ; similarity =  0.7210899\n"
          ]
        },
        {
          "output_type": "stream",
          "name": "stderr",
          "text": [
            "100%|██████████| 1/1 [00:00<00:00,  6.84it/s]\n",
            "100%|██████████| 1/1 [00:00<00:00,  6.91it/s]\n"
          ]
        },
        {
          "output_type": "stream",
          "name": "stdout",
          "text": [
            "Sentence =   Using the vector space model for Information Retrieval models all pages and queries as high dimensional sparse vectors  In vector space model the documents from which the information is to be retrieved are represented as vectors  ; similarity =  0.74571335\n"
          ]
        },
        {
          "output_type": "stream",
          "name": "stderr",
          "text": [
            "100%|██████████| 1/1 [00:00<00:00,  6.63it/s]\n",
            "100%|██████████| 1/1 [00:00<00:00,  7.21it/s]\n"
          ]
        },
        {
          "output_type": "stream",
          "name": "stdout",
          "text": [
            "Sentence =   When any sub problem is met again it can be found and re used to solve another problem  Also looking up the solution when a sub problem is encountered again helps reduce computation  ; similarity =  0.7854688\n"
          ]
        },
        {
          "output_type": "stream",
          "name": "stderr",
          "text": [
            "100%|██████████| 1/1 [00:00<00:00,  5.51it/s]\n",
            "100%|██████████| 1/1 [00:00<00:00,  7.28it/s]\n"
          ]
        },
        {
          "output_type": "stream",
          "name": "stdout",
          "text": [
            "Sentence =   In computer science dynamic programming is a way of solving problems consist of overlapping subproblems and optimal substructure  Dynamic Programming is a very powerful mathematical technique often utilised in programming for solving optimization problems  ; similarity =  0.8204636\n"
          ]
        },
        {
          "output_type": "stream",
          "name": "stderr",
          "text": [
            "100%|██████████| 1/1 [00:00<00:00,  7.46it/s]\n",
            "100%|██████████| 1/1 [00:00<00:00,  7.97it/s]\n"
          ]
        },
        {
          "output_type": "stream",
          "name": "stdout",
          "text": [
            "Sentence =   Term frequency This formula counts how many times the term occurs in a document  If a term occurs in the document its value in the vector is non zero  ; similarity =  0.5454965\n"
          ]
        },
        {
          "output_type": "stream",
          "name": "stderr",
          "text": [
            "100%|██████████| 1/1 [00:00<00:00,  6.79it/s]\n",
            "100%|██████████| 1/1 [00:00<00:00,  6.76it/s]\n"
          ]
        },
        {
          "output_type": "stream",
          "name": "stdout",
          "text": [
            "Sentence =   If there are no links to a web page there is no support for that page  Following this each web page is given a ranking of 0 10 according to its relevance to a search  ; similarity =  0.4263824\n"
          ]
        },
        {
          "output_type": "stream",
          "name": "stderr",
          "text": [
            "100%|██████████| 1/1 [00:00<00:00,  7.90it/s]\n",
            "100%|██████████| 1/1 [00:00<00:00,  8.96it/s]\n"
          ]
        },
        {
          "output_type": "stream",
          "name": "stdout",
          "text": [
            "Sentence =   The vector space model are the documents which are represented as bags of words  LIMITATION There is some limitation of vector space model  ; similarity =  0.51520616\n"
          ]
        },
        {
          "output_type": "stream",
          "name": "stderr",
          "text": [
            "100%|██████████| 1/1 [00:00<00:00,  8.19it/s]\n",
            "100%|██████████| 1/1 [00:00<00:00,  9.06it/s]\n"
          ]
        },
        {
          "output_type": "stream",
          "name": "stdout",
          "text": [
            "Sentence =   Bayes Theorem Let and be sets  The correct answer can be computed using Bayes theorem  ; similarity =  0.6552492\n"
          ]
        },
        {
          "output_type": "stream",
          "name": "stderr",
          "text": [
            "100%|██████████| 1/1 [00:00<00:00,  7.32it/s]\n",
            "100%|██████████| 1/1 [00:00<00:00,  8.18it/s]\n"
          ]
        },
        {
          "output_type": "stream",
          "name": "stdout",
          "text": [
            "Sentence =   P A is the probability of the student being a girl which is 2 5   P B A is the conditional probability of B given A  ; similarity =  0.5736317\n"
          ]
        },
        {
          "output_type": "stream",
          "name": "stderr",
          "text": [
            "100%|██████████| 1/1 [00:00<00:00,  6.97it/s]\n",
            "100%|██████████| 1/1 [00:00<00:00,  7.91it/s]\n"
          ]
        },
        {
          "output_type": "stream",
          "name": "stdout",
          "text": [
            "Sentence =   The most popular is tf idf weighting  One of the most famous schemes is tf idf weighting  ; similarity =  0.8347946\n"
          ]
        },
        {
          "output_type": "stream",
          "name": "stderr",
          "text": [
            "100%|██████████| 1/1 [00:00<00:00,  6.82it/s]\n",
            "100%|██████████| 1/1 [00:00<00:00,  7.73it/s]\n"
          ]
        },
        {
          "output_type": "stream",
          "name": "stdout",
          "text": [
            "Sentence =   The idea of inheritance in OOP refers to the formation of new classes with the already existing classes  The further down an inheritance tree you get the more specific the classes become  ; similarity =  0.6709821\n"
          ]
        },
        {
          "output_type": "stream",
          "name": "stderr",
          "text": [
            "100%|██████████| 1/1 [00:00<00:00,  6.97it/s]\n",
            "100%|██████████| 1/1 [00:00<00:00,  7.48it/s]\n"
          ]
        },
        {
          "output_type": "stream",
          "name": "stdout",
          "text": [
            "Sentence =   Since the PageRank is the most important algorithms which is used in the Google engine  If the term doesn t occur within the document the value in the vector is zero  ; similarity =  0.056920253\n"
          ]
        },
        {
          "output_type": "stream",
          "name": "stderr",
          "text": [
            "100%|██████████| 1/1 [00:00<00:00,  8.33it/s]\n",
            "100%|██████████| 1/1 [00:00<00:00,  7.73it/s]\n"
          ]
        },
        {
          "output_type": "stream",
          "name": "stdout",
          "text": [
            "Sentence =   The definition of a term depends on the application  Depending on the application the definition of term varies  ; similarity =  0.9365074\n"
          ]
        },
        {
          "output_type": "stream",
          "name": "stderr",
          "text": [
            "100%|██████████| 1/1 [00:00<00:00,  8.17it/s]\n",
            "100%|██████████| 1/1 [00:00<00:00,  6.95it/s]\n"
          ]
        },
        {
          "output_type": "stream",
          "name": "stdout",
          "text": [
            "Sentence =   P A B is the conditional probability of A given B  P B is the prior or marginal probability of B and acts as a normalizing constant  ; similarity =  0.8619711\n"
          ]
        },
        {
          "output_type": "stream",
          "name": "stderr",
          "text": [
            "100%|██████████| 1/1 [00:00<00:00,  7.72it/s]\n",
            "100%|██████████| 1/1 [00:00<00:00,  7.92it/s]\n"
          ]
        },
        {
          "output_type": "stream",
          "name": "stdout",
          "text": [
            "Sentence =   One of the most popular schemes is tf idf weighting  tf idf weighting is one of the most well known schemes  ; similarity =  0.9539447\n"
          ]
        },
        {
          "output_type": "stream",
          "name": "stderr",
          "text": [
            "100%|██████████| 1/1 [00:00<00:00,  6.81it/s]\n",
            "100%|██████████| 1/1 [00:00<00:00,  6.73it/s]\n"
          ]
        },
        {
          "output_type": "stream",
          "name": "stdout",
          "text": [
            "Sentence =   This method is used in the Google Toolbar which reports back actual site visits to Google  In order to prevent spamming Google releases little information on the way in which a PageRank is calculated  ; similarity =  0.5594597\n"
          ]
        },
        {
          "output_type": "stream",
          "name": "stderr",
          "text": [
            "100%|██████████| 1/1 [00:00<00:00,  8.01it/s]\n",
            "100%|██████████| 1/1 [00:00<00:00,  7.56it/s]\n"
          ]
        },
        {
          "output_type": "stream",
          "name": "stdout",
          "text": [
            "Sentence =   The most popular is tf idf weighting  One of the best known methods is called tf idf weighting  ; similarity =  0.8440046\n"
          ]
        },
        {
          "output_type": "stream",
          "name": "stderr",
          "text": [
            "100%|██████████| 1/1 [00:00<00:00,  7.90it/s]\n",
            "100%|██████████| 1/1 [00:00<00:00,  6.91it/s]\n"
          ]
        },
        {
          "output_type": "stream",
          "name": "stdout",
          "text": [
            "Sentence =   A probability is expressed as a numeric value between 0 and 1  Later versions of PageRank see the below formulas would assume a probability distribution between 0 and 1  ; similarity =  0.67676246\n"
          ]
        },
        {
          "output_type": "stream",
          "name": "stderr",
          "text": [
            "100%|██████████| 1/1 [00:00<00:00,  8.35it/s]\n",
            "100%|██████████| 1/1 [00:00<00:00,  7.77it/s]\n"
          ]
        },
        {
          "output_type": "stream",
          "name": "stdout",
          "text": [
            "Sentence =   Each and every dimension corresponds to a separate term  A document is represented as a vector and each dimension corresponds to a separate term  ; similarity =  0.76772857\n"
          ]
        },
        {
          "output_type": "stream",
          "name": "stderr",
          "text": [
            "100%|██████████| 1/1 [00:00<00:00,  7.28it/s]\n",
            "100%|██████████| 1/1 [00:00<00:00,  6.69it/s]\n"
          ]
        },
        {
          "output_type": "stream",
          "name": "stdout",
          "text": [
            "Sentence =   It is used in information retrieval and was first used in the SMART Information Retrieval System  It is used in information filtering information retrieval indexing and relevancy rankings  ; similarity =  0.63953006\n"
          ]
        },
        {
          "output_type": "stream",
          "name": "stderr",
          "text": [
            "100%|██████████| 1/1 [00:00<00:00,  7.31it/s]\n",
            "100%|██████████| 1/1 [00:00<00:00,  8.09it/s]\n"
          ]
        },
        {
          "output_type": "stream",
          "name": "stdout",
          "text": [
            "Sentence =   P B is the prior or marginal probability of B and acts as a normalizing constant   P B A is the conditional probability of B given A  ; similarity =  0.84813803\n"
          ]
        },
        {
          "output_type": "stream",
          "name": "stderr",
          "text": [
            "100%|██████████| 1/1 [00:00<00:00,  7.39it/s]\n",
            "100%|██████████| 1/1 [00:00<00:00,  8.95it/s]\n"
          ]
        },
        {
          "output_type": "stream",
          "name": "stdout",
          "text": [
            "Sentence =   Secondly to define the value of the optimal solution recursively  Characterise structure of an optimal solution  ; similarity =  0.6790058\n"
          ]
        },
        {
          "output_type": "stream",
          "name": "stderr",
          "text": [
            "100%|██████████| 1/1 [00:00<00:00,  6.51it/s]\n",
            "100%|██████████| 1/1 [00:00<00:00,  6.89it/s]\n"
          ]
        },
        {
          "output_type": "stream",
          "name": "stdout",
          "text": [
            "Sentence =   To achieve this the programmer has to note generalisations and similarities about various aspects of the program  Mathematicians use the word to describe a set of rules which anyone can follow to solve a problem  ; similarity =  0.30444026\n"
          ]
        },
        {
          "output_type": "stream",
          "name": "stderr",
          "text": [
            "100%|██████████| 1/1 [00:00<00:00,  6.32it/s]\n",
            "100%|██████████| 1/1 [00:00<00:00,  6.95it/s]\n"
          ]
        },
        {
          "output_type": "stream",
          "name": "stdout",
          "text": [
            "Sentence =   Bayes theorem was names after Rev Thomas Bayes and is a method used in probability theory  Bayes Theorem is a theorem of probability theory originally stated by the Reverend Thomas Bayes  ; similarity =  0.9199633\n"
          ]
        },
        {
          "output_type": "stream",
          "name": "stderr",
          "text": [
            "100%|██████████| 1/1 [00:00<00:00,  6.60it/s]\n",
            "100%|██████████| 1/1 [00:00<00:00,  7.46it/s]\n"
          ]
        },
        {
          "output_type": "stream",
          "name": "stdout",
          "text": [
            "Sentence =   Vector space representation results in the loss of the order which the terms are in the document  The term weighting indentifies the success or failure of the vector space method  ; similarity =  0.48673433\n"
          ]
        },
        {
          "output_type": "stream",
          "name": "stderr",
          "text": [
            "100%|██████████| 1/1 [00:00<00:00,  8.98it/s]\n",
            "100%|██████████| 1/1 [00:00<00:00,  7.40it/s]\n"
          ]
        },
        {
          "output_type": "stream",
          "name": "stdout",
          "text": [
            "Sentence =   Construct an optimal solution from computed values  The last point would be to construct an optimal solution from the computed values  ; similarity =  0.8007585\n"
          ]
        },
        {
          "output_type": "stream",
          "name": "stderr",
          "text": [
            "100%|██████████| 1/1 [00:00<00:00,  7.08it/s]\n",
            "100%|██████████| 1/1 [00:00<00:00,  7.65it/s]\n"
          ]
        },
        {
          "output_type": "stream",
          "name": "stdout",
          "text": [
            "Sentence =   As a formal theorem Bayes theorem is valid in all common interpretations of probability  Bayes theorem is useful in evaluating the result of drug tests  ; similarity =  0.45695195\n"
          ]
        },
        {
          "output_type": "stream",
          "name": "stderr",
          "text": [
            "100%|██████████| 1/1 [00:00<00:00,  6.69it/s]\n",
            "100%|██████████| 1/1 [00:00<00:00,  7.42it/s]\n"
          ]
        },
        {
          "output_type": "stream",
          "name": "stdout",
          "text": [
            "Sentence =   The order in which terms appear in the document is lost in a vector space representation  If a term exists in a document its value in the vector is not equal to zero  ; similarity =  0.6713473\n"
          ]
        },
        {
          "output_type": "stream",
          "name": "stderr",
          "text": [
            "100%|██████████| 1/1 [00:00<00:00,  8.50it/s]\n",
            "100%|██████████| 1/1 [00:00<00:00,  7.36it/s]\n"
          ]
        },
        {
          "output_type": "stream",
          "name": "stdout",
          "text": [
            "Sentence =   What is the probability this student is a girl  P A or the probability that the student is a girl regardless of any other information  ; similarity =  0.74958533\n"
          ]
        },
        {
          "output_type": "stream",
          "name": "stderr",
          "text": [
            "100%|██████████| 1/1 [00:00<00:00,  7.75it/s]\n",
            "100%|██████████| 1/1 [00:00<00:00,  7.06it/s]\n"
          ]
        },
        {
          "output_type": "stream",
          "name": "stdout",
          "text": [
            "Sentence =   One of its uses is calculating posterior probabilities given observations  It is often used to compute posterior probabilities given observations  ; similarity =  0.93458164\n"
          ]
        },
        {
          "output_type": "stream",
          "name": "stderr",
          "text": [
            "100%|██████████| 1/1 [00:00<00:00,  6.85it/s]\n",
            "100%|██████████| 1/1 [00:00<00:00,  7.90it/s]\n"
          ]
        },
        {
          "output_type": "stream",
          "name": "stdout",
          "text": [
            "Sentence =   If the term doesn t occur within the document the value in the vector is zero  If a term appears in the document the terms value in the vector is non zero  ; similarity =  0.87207425\n"
          ]
        },
        {
          "output_type": "stream",
          "name": "stderr",
          "text": [
            "100%|██████████| 1/1 [00:00<00:00,  6.75it/s]\n",
            "100%|██████████| 1/1 [00:00<00:00,  7.69it/s]\n"
          ]
        },
        {
          "output_type": "stream",
          "name": "stdout",
          "text": [
            "Sentence =   It is similar to divide and conquer however is differentiated as its subproblems are not independent  Instead a new object is made to inherit properties of objects which already exist  ; similarity =  0.27676356\n"
          ]
        },
        {
          "output_type": "stream",
          "name": "stderr",
          "text": [
            "100%|██████████| 1/1 [00:00<00:00,  7.94it/s]\n",
            "100%|██████████| 1/1 [00:00<00:00,  9.30it/s]\n"
          ]
        },
        {
          "output_type": "stream",
          "name": "stdout",
          "text": [
            "Sentence =   This is a much quicker method than other more naive methods  The method takes much less time than naive methods  ; similarity =  0.8029822\n"
          ]
        },
        {
          "output_type": "stream",
          "name": "stderr",
          "text": [
            "100%|██████████| 1/1 [00:00<00:00,  6.55it/s]\n",
            "100%|██████████| 1/1 [00:00<00:00,  8.96it/s]\n"
          ]
        },
        {
          "output_type": "stream",
          "name": "stdout",
          "text": [
            "Sentence =   The vector space model is one of these methods and it is an algebraic model  The vector space model has some limitations 1  ; similarity =  0.68100506\n"
          ]
        },
        {
          "output_type": "stream",
          "name": "stderr",
          "text": [
            "100%|██████████| 1/1 [00:00<00:00,  7.25it/s]\n",
            "100%|██████████| 1/1 [00:00<00:00,  7.83it/s]\n"
          ]
        },
        {
          "output_type": "stream",
          "name": "stdout",
          "text": [
            "Sentence =   Bayes theorem can be used to compute the probability that a proposed diagnosis is correct  As a formal theorem Bayes theorem is valid in all common interpretations of probability  ; similarity =  0.59125733\n"
          ]
        },
        {
          "output_type": "stream",
          "name": "stderr",
          "text": [
            "100%|██████████| 1/1 [00:00<00:00,  6.94it/s]\n",
            "100%|██████████| 1/1 [00:00<00:00,  7.67it/s]\n"
          ]
        },
        {
          "output_type": "stream",
          "name": "stdout",
          "text": [
            "Sentence =   There is also Conditional Probability which is usually interested in the way variables relate to each other  P A or the probability that the student is a girl regardless of any other information  ; similarity =  0.29284406\n"
          ]
        },
        {
          "output_type": "stream",
          "name": "stderr",
          "text": [
            "100%|██████████| 1/1 [00:00<00:00,  7.42it/s]\n",
            "100%|██████████| 1/1 [00:00<00:00,  6.98it/s]\n"
          ]
        },
        {
          "output_type": "stream",
          "name": "stdout",
          "text": [
            "Sentence =   For example a finalized schedule of events at an exhibition is sometimes called a program  For instance a finalized schedule of events at an exhibition is sometimes called a program  ; similarity =  0.999445\n"
          ]
        },
        {
          "output_type": "stream",
          "name": "stderr",
          "text": [
            "100%|██████████| 1/1 [00:00<00:00,  6.75it/s]\n",
            "100%|██████████| 1/1 [00:00<00:00,  7.33it/s]\n"
          ]
        },
        {
          "output_type": "stream",
          "name": "stdout",
          "text": [
            "Sentence =   P B is the prior or marginal probability of B and acts to normalise the probability  P A or the probability that the student is a girl regardless of any other information  ; similarity =  0.36554313\n"
          ]
        },
        {
          "output_type": "stream",
          "name": "stderr",
          "text": [
            "100%|██████████| 1/1 [00:00<00:00,  6.49it/s]\n",
            "100%|██████████| 1/1 [00:00<00:00,  6.56it/s]\n"
          ]
        },
        {
          "output_type": "stream",
          "name": "stdout",
          "text": [
            "Sentence =   Inheritance in object oriented programming is a way to form new classes using classes that have already been defined  inheritance in object oriented programming is where a new class is formed using classes which have allready been defined  ; similarity =  0.9663439\n"
          ]
        },
        {
          "output_type": "stream",
          "name": "stderr",
          "text": [
            "100%|██████████| 1/1 [00:00<00:00,  7.66it/s]\n",
            "100%|██████████| 1/1 [00:00<00:00,  6.74it/s]\n"
          ]
        },
        {
          "output_type": "stream",
          "name": "stdout",
          "text": [
            "Sentence =   The typical example could be of a finalized schedule of events at an exhibition  For instance a finalized schedule of events at an exhibition is sometimes called a program  ; similarity =  0.87247145\n"
          ]
        },
        {
          "output_type": "stream",
          "name": "stderr",
          "text": [
            "100%|██████████| 1/1 [00:00<00:00,  6.26it/s]\n",
            "100%|██████████| 1/1 [00:00<00:00,  7.28it/s]\n"
          ]
        },
        {
          "output_type": "stream",
          "name": "stdout",
          "text": [
            "Sentence =   In vector space model the documents from which the information is to be retrieved are represented as vectors  A possible use for a vector space model is for retrieval and filtering of information  ; similarity =  0.7435653\n"
          ]
        },
        {
          "output_type": "stream",
          "name": "stderr",
          "text": [
            "100%|██████████| 1/1 [00:00<00:00,  6.96it/s]\n",
            "100%|██████████| 1/1 [00:00<00:00,  8.36it/s]\n"
          ]
        },
        {
          "output_type": "stream",
          "name": "stdout",
          "text": [
            "Sentence =   A document is represented as a vector with each dimension corresponding to a separate term  Each document is a vector where each word is a dimension  ; similarity =  0.90192515\n"
          ]
        },
        {
          "output_type": "stream",
          "name": "stderr",
          "text": [
            "100%|██████████| 1/1 [00:00<00:00,  8.09it/s]\n",
            "100%|██████████| 1/1 [00:00<00:00,  6.87it/s]\n"
          ]
        },
        {
          "output_type": "stream",
          "name": "stdout",
          "text": [
            "Sentence =   They also inherit the attributes and methods of its superclass  The new classes are called derived classes and they inherit the behaviours and attributes of the base classes  ; similarity =  0.6714917\n"
          ]
        },
        {
          "output_type": "stream",
          "name": "stderr",
          "text": [
            "100%|██████████| 1/1 [00:00<00:00,  6.63it/s]\n",
            "100%|██████████| 1/1 [00:00<00:00,  7.20it/s]\n"
          ]
        },
        {
          "output_type": "stream",
          "name": "stdout",
          "text": [
            "Sentence =   P A is the probability of the student being a girl which is 2 5  P A or the probability that the student is a girl regardless of any other information  ; similarity =  0.8291446\n"
          ]
        },
        {
          "output_type": "stream",
          "name": "stderr",
          "text": [
            "100%|██████████| 1/1 [00:00<00:00,  7.08it/s]\n",
            "100%|██████████| 1/1 [00:00<00:00,  7.42it/s]\n"
          ]
        },
        {
          "output_type": "stream",
          "name": "stdout",
          "text": [
            "Sentence =   A term which occurs in the document has a value in the vector of non zero  A document is represented as a vector with each dimension corresponding to a separate term  ; similarity =  0.746079\n"
          ]
        },
        {
          "output_type": "stream",
          "name": "stderr",
          "text": [
            "100%|██████████| 1/1 [00:00<00:00,  8.18it/s]\n",
            "100%|██████████| 1/1 [00:00<00:00,  7.57it/s]\n"
          ]
        },
        {
          "output_type": "stream",
          "name": "stdout",
          "text": [
            "Sentence =   The correct answer can be computed using Bayes theorem  Bayes theorem can be used to compute the probability that a proposed diagnosis is correct  ; similarity =  0.8265571\n"
          ]
        },
        {
          "output_type": "stream",
          "name": "stderr",
          "text": [
            "100%|██████████| 1/1 [00:00<00:00,  6.99it/s]\n",
            "100%|██████████| 1/1 [00:00<00:00,  7.00it/s]\n"
          ]
        },
        {
          "output_type": "stream",
          "name": "stdout",
          "text": [
            "Sentence =   If a term appears in the document the terms value in the vector is non zero  A term which occurs in the document has a value in the vector of non zero  ; similarity =  0.9300665\n"
          ]
        },
        {
          "output_type": "stream",
          "name": "stderr",
          "text": [
            "100%|██████████| 1/1 [00:00<00:00,  7.05it/s]\n",
            "100%|██████████| 1/1 [00:00<00:00,  7.18it/s]\n"
          ]
        },
        {
          "output_type": "stream",
          "name": "stdout",
          "text": [
            "Sentence =   P B is the prior or marginal probability of B and acts to normalise the probability  P B is the prior or marginal probability of B and acts as a normalizing constant  ; similarity =  0.9556464\n"
          ]
        },
        {
          "output_type": "stream",
          "name": "stderr",
          "text": [
            "100%|██████████| 1/1 [00:00<00:00,  7.26it/s]\n",
            "100%|██████████| 1/1 [00:00<00:00,  8.17it/s]\n"
          ]
        },
        {
          "output_type": "stream",
          "name": "stdout",
          "text": [
            "Sentence =   It is usually used to calculate posterior probabilities given observations  It is often used to compute posterior probabilities given observations  ; similarity =  0.96682113\n"
          ]
        },
        {
          "output_type": "stream",
          "name": "stderr",
          "text": [
            "100%|██████████| 1/1 [00:00<00:00,  8.53it/s]\n",
            "100%|██████████| 1/1 [00:00<00:00,  7.40it/s]\n"
          ]
        },
        {
          "output_type": "stream",
          "name": "stdout",
          "text": [
            "Sentence =   However the vector space model has limitations  A possible use for a vector space model is for retrieval and filtering of information  ; similarity =  0.62557846\n"
          ]
        },
        {
          "output_type": "stream",
          "name": "stderr",
          "text": [
            "100%|██████████| 1/1 [00:00<00:00,  8.33it/s]\n",
            "100%|██████████| 1/1 [00:00<00:00,  7.59it/s]\n"
          ]
        },
        {
          "output_type": "stream",
          "name": "stdout",
          "text": [
            "Sentence =   Every dimension relates to a different term  A document is represented as a vector and each dimension corresponds to a separate term  ; similarity =  0.6718796\n"
          ]
        },
        {
          "output_type": "stream",
          "name": "stderr",
          "text": [
            "100%|██████████| 1/1 [00:00<00:00,  8.18it/s]\n",
            "100%|██████████| 1/1 [00:00<00:00,  7.57it/s]\n"
          ]
        },
        {
          "output_type": "stream",
          "name": "stdout",
          "text": [
            "Sentence =   Each and every dimension corresponds to a separate term  A document is represented as a vector and each dimension corresponds to a separate term  ; similarity =  0.76772857\n"
          ]
        },
        {
          "output_type": "stream",
          "name": "stderr",
          "text": [
            "100%|██████████| 1/1 [00:00<00:00,  7.85it/s]\n",
            "100%|██████████| 1/1 [00:00<00:00,  5.49it/s]\n"
          ]
        },
        {
          "output_type": "stream",
          "name": "stdout",
          "text": [
            "Sentence =   If a term occurs in the document its value in the vector is non zero  A term which occurs in the document has a value in the vector of non zero  ; similarity =  0.93227136\n"
          ]
        },
        {
          "output_type": "stream",
          "name": "stderr",
          "text": [
            "100%|██████████| 1/1 [00:00<00:00,  7.28it/s]\n",
            "100%|██████████| 1/1 [00:00<00:00,  6.43it/s]\n"
          ]
        },
        {
          "output_type": "stream",
          "name": "stdout",
          "text": [
            "Sentence =   However the vector space model has limitations  The vector space model has the following limitations 1  ; similarity =  0.9031967\n"
          ]
        },
        {
          "output_type": "stream",
          "name": "stderr",
          "text": [
            "100%|██████████| 1/1 [00:00<00:00,  5.41it/s]\n",
            "100%|██████████| 1/1 [00:00<00:00,  4.70it/s]\n"
          ]
        },
        {
          "output_type": "stream",
          "name": "stdout",
          "text": [
            "Sentence =   The order in which terms appear in the document is lost in a vector space representation  In vector space model the documents from which the information is to be retrieved are represented as vectors  ; similarity =  0.65259486\n"
          ]
        },
        {
          "output_type": "stream",
          "name": "stderr",
          "text": [
            "100%|██████████| 1/1 [00:00<00:00,  7.35it/s]\n",
            "100%|██████████| 1/1 [00:00<00:00,  7.16it/s]\n"
          ]
        },
        {
          "output_type": "stream",
          "name": "stdout",
          "text": [
            "Sentence =   The vector space model has some limitations 1  LIMITATION There is some limitation of vector space model  ; similarity =  0.9323057\n"
          ]
        },
        {
          "output_type": "stream",
          "name": "stderr",
          "text": [
            "100%|██████████| 1/1 [00:00<00:00,  7.04it/s]\n",
            "100%|██████████| 1/1 [00:00<00:00,  5.58it/s]\n"
          ]
        },
        {
          "output_type": "stream",
          "name": "stdout",
          "text": [
            "Sentence =   It is valid in all common interpretations of probability  As a formal theorem Bayes theorem is valid in all common interpretations of probability  ; similarity =  0.820923\n"
          ]
        },
        {
          "output_type": "stream",
          "name": "stderr",
          "text": [
            "100%|██████████| 1/1 [00:00<00:00,  5.16it/s]\n",
            "100%|██████████| 1/1 [00:00<00:00,  6.08it/s]\n"
          ]
        },
        {
          "output_type": "stream",
          "name": "stdout",
          "text": [
            "Sentence =   Several different ways of computing these values additionally known as term weights have been developed  Several different ways of computing these values also known as term weights have been developed  ; similarity =  0.99799854\n"
          ]
        },
        {
          "output_type": "stream",
          "name": "stderr",
          "text": [
            "100%|██████████| 1/1 [00:00<00:00,  5.10it/s]\n",
            "100%|██████████| 1/1 [00:00<00:00,  5.56it/s]\n"
          ]
        },
        {
          "output_type": "stream",
          "name": "stdout",
          "text": [
            "Sentence =   In this classic model the term specific weights in the document vectors are products of local and global parameters  If a term appears in the document the terms value in the vector is non zero  ; similarity =  0.4639503\n"
          ]
        },
        {
          "output_type": "stream",
          "name": "stderr",
          "text": [
            "100%|██████████| 1/1 [00:00<00:00,  6.96it/s]\n",
            "100%|██████████| 1/1 [00:00<00:00,  6.12it/s]\n"
          ]
        },
        {
          "output_type": "stream",
          "name": "stdout",
          "text": [
            "Sentence =   However the vector space model has limitations  The limitations of the vector space model are thus  ; similarity =  0.94884485\n"
          ]
        },
        {
          "output_type": "stream",
          "name": "stderr",
          "text": [
            "100%|██████████| 1/1 [00:00<00:00,  7.34it/s]\n",
            "100%|██████████| 1/1 [00:00<00:00,  7.01it/s]\n"
          ]
        },
        {
          "output_type": "stream",
          "name": "stdout",
          "text": [
            "Sentence =   Construct an optimal solution from computed values  Characterise structure of an optimal solution  ; similarity =  0.7866777\n"
          ]
        },
        {
          "output_type": "stream",
          "name": "stderr",
          "text": [
            "100%|██████████| 1/1 [00:00<00:00,  5.39it/s]\n",
            "100%|██████████| 1/1 [00:00<00:00,  7.92it/s]\n"
          ]
        },
        {
          "output_type": "stream",
          "name": "stdout",
          "text": [
            "Sentence =   If a term exists in a document its value in the vector is not equal to zero  A document is represented as a vector  ; similarity =  0.72021693\n"
          ]
        },
        {
          "output_type": "stream",
          "name": "stderr",
          "text": [
            "100%|██████████| 1/1 [00:00<00:00,  6.39it/s]\n",
            "100%|██████████| 1/1 [00:00<00:00,  5.64it/s]\n"
          ]
        },
        {
          "output_type": "stream",
          "name": "stdout",
          "text": [
            "Sentence =   Inheritance is one of the basic concepts of Object Oriented Programming  This can be known as one of the advantages of inheritance  ; similarity =  0.47827515\n"
          ]
        },
        {
          "output_type": "stream",
          "name": "stderr",
          "text": [
            "100%|██████████| 1/1 [00:00<00:00,  4.61it/s]\n",
            "100%|██████████| 1/1 [00:00<00:00,  5.23it/s]\n"
          ]
        },
        {
          "output_type": "stream",
          "name": "stdout",
          "text": [
            "Sentence =   The articles on Bayesian probability and frequentist probability discuss these debates in greater detail  The articles on Bayesian probability and frequentist probability discuss these debates in detail  ; similarity =  0.9766753\n"
          ]
        },
        {
          "output_type": "stream",
          "name": "stderr",
          "text": [
            "100%|██████████| 1/1 [00:00<00:00,  5.80it/s]\n",
            "100%|██████████| 1/1 [00:00<00:00,  6.71it/s]\n"
          ]
        },
        {
          "output_type": "stream",
          "name": "stdout",
          "text": [
            "Sentence =   Inheritance is one of the basic concepts of Object Oriented Programming  Inheritance is a basic concept in object oriented programming  ; similarity =  0.98479646\n"
          ]
        },
        {
          "output_type": "stream",
          "name": "stderr",
          "text": [
            "100%|██████████| 1/1 [00:00<00:00,  6.05it/s]\n",
            "100%|██████████| 1/1 [00:00<00:00,  5.27it/s]\n"
          ]
        },
        {
          "output_type": "stream",
          "name": "stdout",
          "text": [
            "Sentence =   The most popular is tf idf weighting  One of the most popular schemes is tf idf weighting  ; similarity =  0.8778076\n"
          ]
        },
        {
          "output_type": "stream",
          "name": "stderr",
          "text": [
            "100%|██████████| 1/1 [00:00<00:00,  4.20it/s]\n",
            "100%|██████████| 1/1 [00:00<00:00,  4.85it/s]\n"
          ]
        },
        {
          "output_type": "stream",
          "name": "stdout",
          "text": [
            "Sentence =   The method can be abused when people deliberately link to sites in order to raise a site s PageRank  Mathematicians use the word to describe a set of rules which anyone can follow to solve a problem  ; similarity =  0.14886858\n"
          ]
        },
        {
          "output_type": "stream",
          "name": "stderr",
          "text": [
            "100%|██████████| 1/1 [00:00<00:00,  5.22it/s]\n",
            "100%|██████████| 1/1 [00:00<00:00,  5.42it/s]\n"
          ]
        },
        {
          "output_type": "stream",
          "name": "stdout",
          "text": [
            "Sentence =   However the key in Dynamic Programming is to determine the structure of optimal solutions  Generalise the structure of an optimal solution 2  ; similarity =  0.6369162\n"
          ]
        },
        {
          "output_type": "stream",
          "name": "stderr",
          "text": [
            "100%|██████████| 1/1 [00:00<00:00,  3.82it/s]\n",
            "100%|██████████| 1/1 [00:00<00:00,  5.56it/s]\n"
          ]
        },
        {
          "output_type": "stream",
          "name": "stdout",
          "text": [
            "Sentence =   When a document is represented as a vector each dimension corresponds to a separate term  To explain further vector space models basically a document is characterized by a vector  ; similarity =  0.8095927\n"
          ]
        },
        {
          "output_type": "stream",
          "name": "stderr",
          "text": [
            "100%|██████████| 1/1 [00:00<00:00,  7.85it/s]\n",
            "100%|██████████| 1/1 [00:00<00:00,  5.58it/s]\n"
          ]
        },
        {
          "output_type": "stream",
          "name": "stdout",
          "text": [
            "Sentence =   Java allows object inheritance  Inheritance is a basic concept in object oriented programming  ; similarity =  0.7218757\n"
          ]
        },
        {
          "output_type": "stream",
          "name": "stderr",
          "text": [
            "100%|██████████| 1/1 [00:00<00:00,  4.96it/s]\n",
            "100%|██████████| 1/1 [00:00<00:00,  5.44it/s]\n"
          ]
        },
        {
          "output_type": "stream",
          "name": "stdout",
          "text": [
            "Sentence =   This can be useful when the number of times a word appears is not considered important  Term frequency This formula counts how many times the term occurs in a document  ; similarity =  0.49905217\n"
          ]
        },
        {
          "output_type": "stream",
          "name": "stderr",
          "text": [
            "100%|██████████| 1/1 [00:00<00:00,  4.41it/s]\n",
            "100%|██████████| 1/1 [00:00<00:00,  6.18it/s]\n"
          ]
        },
        {
          "output_type": "stream",
          "name": "stdout",
          "text": [
            "Sentence =   P B a k a the normalizing constant is the prior or marginal probability of B   P B A is the conditional probability of B given A  ; similarity =  0.84253585\n"
          ]
        },
        {
          "output_type": "stream",
          "name": "stderr",
          "text": [
            "100%|██████████| 1/1 [00:00<00:00,  8.14it/s]\n",
            "100%|██████████| 1/1 [00:00<00:00,  9.00it/s]\n"
          ]
        },
        {
          "output_type": "stream",
          "name": "stdout",
          "text": [
            "Sentence =   The vector space model has several disadvantages  However the vector space model has limitations  ; similarity =  0.87729037\n"
          ]
        },
        {
          "output_type": "stream",
          "name": "stderr",
          "text": [
            "100%|██████████| 1/1 [00:00<00:00,  6.67it/s]\n",
            "100%|██████████| 1/1 [00:00<00:00,  8.36it/s]\n"
          ]
        },
        {
          "output_type": "stream",
          "name": "stdout",
          "text": [
            "Sentence =   P B a k a the normalizing constant is the prior or marginal probability of B  P A B is the conditional probability of A given B  ; similarity =  0.8563696\n"
          ]
        },
        {
          "output_type": "stream",
          "name": "stderr",
          "text": [
            "100%|██████████| 1/1 [00:00<00:00,  7.35it/s]\n",
            "100%|██████████| 1/1 [00:00<00:00,  7.93it/s]\n"
          ]
        },
        {
          "output_type": "stream",
          "name": "stdout",
          "text": [
            "Sentence =   It can be considered that fruit is an abstraction of apple orange etc  One can consider fruit to be an abstraction of apple orange etc  ; similarity =  0.9898034\n"
          ]
        },
        {
          "output_type": "stream",
          "name": "stderr",
          "text": [
            "100%|██████████| 1/1 [00:00<00:00,  8.85it/s]\n",
            "100%|██████████| 1/1 [00:00<00:00,  6.81it/s]\n"
          ]
        },
        {
          "output_type": "stream",
          "name": "stdout",
          "text": [
            "Sentence =   The second method is the use of links  Since the PageRank is the most important algorithms which is used in the Google engine  ; similarity =  0.31291288\n"
          ]
        },
        {
          "output_type": "stream",
          "name": "stderr",
          "text": [
            "100%|██████████| 1/1 [00:00<00:00,  7.13it/s]\n",
            "100%|██████████| 1/1 [00:00<00:00,  6.74it/s]\n"
          ]
        },
        {
          "output_type": "stream",
          "name": "stdout",
          "text": [
            "Sentence =   If a term appears in the document then its value in the vector is non zero  Finally the order in which the terms appear in the document is lost in the vector space representation  ; similarity =  0.6225158\n"
          ]
        },
        {
          "output_type": "stream",
          "name": "stderr",
          "text": [
            "100%|██████████| 1/1 [00:00<00:00,  7.53it/s]\n",
            "100%|██████████| 1/1 [00:00<00:00,  8.47it/s]\n"
          ]
        },
        {
          "output_type": "stream",
          "name": "stdout",
          "text": [
            "Sentence =   The way that a term is defined depends on the application  Depending on the application the definition of term varies  ; similarity =  0.90343803\n"
          ]
        },
        {
          "output_type": "stream",
          "name": "stderr",
          "text": [
            "100%|██████████| 1/1 [00:00<00:00,  7.52it/s]\n",
            "100%|██████████| 1/1 [00:00<00:00,  5.88it/s]\n"
          ]
        },
        {
          "output_type": "stream",
          "name": "stdout",
          "text": [
            "Sentence =   This can be known as one of the advantages of inheritance  There are a number of wighting sceems which can be incoperated inorder to increase the accuracy of the vextors  ; similarity =  0.28938085\n"
          ]
        },
        {
          "output_type": "stream",
          "name": "stderr",
          "text": [
            "100%|██████████| 1/1 [00:00<00:00,  7.69it/s]\n",
            "100%|██████████| 1/1 [00:00<00:00,  7.18it/s]\n"
          ]
        },
        {
          "output_type": "stream",
          "name": "stdout",
          "text": [
            "Sentence =   P B A is the conditional probability of B given A   P A B is the conditional probability of A given B  ; similarity =  0.98315823\n"
          ]
        },
        {
          "output_type": "stream",
          "name": "stderr",
          "text": [
            "100%|██████████| 1/1 [00:00<00:00,  6.74it/s]\n",
            "100%|██████████| 1/1 [00:00<00:00,  7.18it/s]\n"
          ]
        },
        {
          "output_type": "stream",
          "name": "stdout",
          "text": [
            "Sentence =   The number of unique words in the vocabulary denotes the dimensionality if words are used for the terms  Ignoring case extract all unique words from the entire set of documents  ; similarity =  0.29417962\n"
          ]
        },
        {
          "output_type": "stream",
          "name": "stderr",
          "text": [
            "100%|██████████| 1/1 [00:00<00:00,  6.79it/s]\n",
            "100%|██████████| 1/1 [00:00<00:00,  5.95it/s]\n"
          ]
        },
        {
          "output_type": "stream",
          "name": "stdout",
          "text": [
            "Sentence =   This method is used in the Google Toolbar which reports back actual site visits to Google  The PageRank is a recursive algorithm used by Google to determine which webpages are more important than others  ; similarity =  0.61661327\n"
          ]
        },
        {
          "output_type": "stream",
          "name": "stderr",
          "text": [
            "100%|██████████| 1/1 [00:00<00:00,  6.93it/s]\n",
            "100%|██████████| 1/1 [00:00<00:00,  7.57it/s]\n"
          ]
        },
        {
          "output_type": "stream",
          "name": "stdout",
          "text": [
            "Sentence =   It is mainly used to calculate the probability of one event s outcome given that a previous event happened  Google s payoff is that it gets to track the behaviour of actual users  ; similarity =  0.16139412\n"
          ]
        },
        {
          "output_type": "stream",
          "name": "stderr",
          "text": [
            "100%|██████████| 1/1 [00:00<00:00,  6.63it/s]\n",
            "100%|██████████| 1/1 [00:00<00:00,  8.59it/s]\n"
          ]
        },
        {
          "output_type": "stream",
          "name": "stdout",
          "text": [
            "Sentence =   When a document is represented as a vector each dimension corresponds to a separate term  Every dimension is precisely related to a separate term  ; similarity =  0.6839229\n"
          ]
        },
        {
          "output_type": "stream",
          "name": "stderr",
          "text": [
            "100%|██████████| 1/1 [00:00<00:00,  6.91it/s]\n",
            "100%|██████████| 1/1 [00:00<00:00,  7.06it/s]\n"
          ]
        },
        {
          "output_type": "stream",
          "name": "stdout",
          "text": [
            "Sentence =   The basic idea is to represent each document as a vector of certain weighted word frequencies  Terms are basically the words or any indexing unit used to identify the contents of a text  ; similarity =  0.7222166\n"
          ]
        },
        {
          "output_type": "stream",
          "name": "stderr",
          "text": [
            "100%|██████████| 1/1 [00:00<00:00,  6.80it/s]\n",
            "100%|██████████| 1/1 [00:00<00:00,  7.32it/s]\n"
          ]
        },
        {
          "output_type": "stream",
          "name": "stdout",
          "text": [
            "Sentence =   The basic idea is to represent each document as a vector of certain weighted word frequencies  The value of a vector is non zero if a term occurs in the document  ; similarity =  0.49178886\n"
          ]
        },
        {
          "output_type": "stream",
          "name": "stderr",
          "text": [
            "100%|██████████| 1/1 [00:00<00:00,  7.25it/s]\n",
            "100%|██████████| 1/1 [00:00<00:00,  7.16it/s]\n"
          ]
        },
        {
          "output_type": "stream",
          "name": "stdout",
          "text": [
            "Sentence =   In the original form of PageRank initial values were simply 1  Here we re going to simply use a probability distribution hence the initial value of 0 25  ; similarity =  0.56321484\n"
          ]
        },
        {
          "output_type": "stream",
          "name": "stderr",
          "text": [
            "100%|██████████| 1/1 [00:00<00:00,  7.25it/s]\n",
            "100%|██████████| 1/1 [00:00<00:00,  7.38it/s]\n"
          ]
        },
        {
          "output_type": "stream",
          "name": "stdout",
          "text": [
            "Sentence =   If a term appears in the document the terms value in the vector is non zero  The order in which the terms appear in the document is lost in the vector space representation  ; similarity =  0.64587617\n"
          ]
        },
        {
          "output_type": "stream",
          "name": "stderr",
          "text": [
            "100%|██████████| 1/1 [00:00<00:00,  6.12it/s]\n",
            "100%|██████████| 1/1 [00:00<00:00,  7.18it/s]\n"
          ]
        },
        {
          "output_type": "stream",
          "name": "stdout",
          "text": [
            "Sentence =   Inheritance in object oriented programming is a way to form new classes using classes that have already been defined  In defining this inheritance hierarchy we have already defined certain restrictions not all of which are desirable  ; similarity =  0.50681174\n"
          ]
        },
        {
          "output_type": "stream",
          "name": "stderr",
          "text": [
            "100%|██████████| 1/1 [00:00<00:00,  6.69it/s]\n",
            "100%|██████████| 1/1 [00:00<00:00,  7.11it/s]\n"
          ]
        },
        {
          "output_type": "stream",
          "name": "stdout",
          "text": [
            "Sentence =   P B is the prior or marginal probability of B and acts as a normalizing constant  P A is the probability of the student being a girl which is 2 5  ; similarity =  0.45471755\n"
          ]
        },
        {
          "output_type": "stream",
          "name": "stderr",
          "text": [
            "100%|██████████| 1/1 [00:00<00:00,  7.02it/s]\n",
            "100%|██████████| 1/1 [00:00<00:00,  7.80it/s]\n"
          ]
        },
        {
          "output_type": "stream",
          "name": "stdout",
          "text": [
            "Sentence =   A document is represented as a vector with each dimension corresponding to a separate term  A term which occurs in the document has a value in the vector of non zero  ; similarity =  0.746079\n"
          ]
        },
        {
          "output_type": "stream",
          "name": "stderr",
          "text": [
            "100%|██████████| 1/1 [00:00<00:00,  7.01it/s]\n",
            "100%|██████████| 1/1 [00:00<00:00,  6.67it/s]\n"
          ]
        },
        {
          "output_type": "stream",
          "name": "stdout",
          "text": [
            "Sentence =   The basic idea is to represent each document as a vector of certain weighted word frequencies  A term which occurs in the document has a value in the vector of non zero  ; similarity =  0.56079847\n"
          ]
        },
        {
          "output_type": "stream",
          "name": "stderr",
          "text": [
            "100%|██████████| 1/1 [00:00<00:00,  7.29it/s]\n",
            "100%|██████████| 1/1 [00:00<00:00,  8.81it/s]\n"
          ]
        },
        {
          "output_type": "stream",
          "name": "stdout",
          "text": [
            "Sentence =   Models based on and extending the vector space model include Generalized vector space model  However the vector space model has limitations  ; similarity =  0.6877416\n"
          ]
        },
        {
          "output_type": "stream",
          "name": "stderr",
          "text": [
            "100%|██████████| 1/1 [00:00<00:00,  7.40it/s]\n",
            "100%|██████████| 1/1 [00:00<00:00,  9.07it/s]\n"
          ]
        },
        {
          "output_type": "stream",
          "name": "stdout",
          "text": [
            "Sentence =   Programming in this sense means finding an acceptable plan of action  Programming means finding a plan of action  ; similarity =  0.927534\n"
          ]
        },
        {
          "output_type": "stream",
          "name": "stderr",
          "text": [
            "100%|██████████| 1/1 [00:00<00:00,  8.10it/s]\n",
            "100%|██████████| 1/1 [00:00<00:00,  6.52it/s]\n"
          ]
        },
        {
          "output_type": "stream",
          "name": "stdout",
          "text": [
            "Sentence =   With reference to this model documents are represented as vectors  In vector space model the documents from which the information is to be retrieved are represented as vectors  ; similarity =  0.8765762\n"
          ]
        },
        {
          "output_type": "stream",
          "name": "stderr",
          "text": [
            "100%|██████████| 1/1 [00:00<00:00,  6.27it/s]\n",
            "100%|██████████| 1/1 [00:00<00:00,  7.49it/s]\n"
          ]
        },
        {
          "output_type": "stream",
          "name": "stdout",
          "text": [
            "Sentence =   When any sub problem is met again it can be found and re used to solve another problem  This can be useful when the number of times a word appears is not considered important  ; similarity =  0.29572976\n"
          ]
        },
        {
          "output_type": "stream",
          "name": "stderr",
          "text": [
            "100%|██████████| 1/1 [00:00<00:00,  5.86it/s]\n",
            "100%|██████████| 1/1 [00:00<00:00,  7.70it/s]\n"
          ]
        },
        {
          "output_type": "stream",
          "name": "stdout",
          "text": [
            "Sentence =   In vector space model the documents from which the information is to be retrieved are represented as vectors  In the vector space model a document is represented as a vector  ; similarity =  0.8798864\n"
          ]
        },
        {
          "output_type": "stream",
          "name": "stderr",
          "text": [
            "100%|██████████| 1/1 [00:00<00:00,  6.93it/s]\n",
            "100%|██████████| 1/1 [00:00<00:00,  6.91it/s]\n"
          ]
        },
        {
          "output_type": "stream",
          "name": "stdout",
          "text": [
            "Sentence =   A term which occurs in the document has a value in the vector of non zero  Finally the order in which the terms appear in the document is lost in the vector space representation  ; similarity =  0.61606693\n"
          ]
        },
        {
          "output_type": "stream",
          "name": "stderr",
          "text": [
            "100%|██████████| 1/1 [00:00<00:00,  6.98it/s]\n",
            "100%|██████████| 1/1 [00:00<00:00,  8.90it/s]\n"
          ]
        },
        {
          "output_type": "stream",
          "name": "stdout",
          "text": [
            "Sentence =   P A is the probability of the student being a girl which is 2 5  P A is the prior probability A  ; similarity =  0.57302713\n"
          ]
        },
        {
          "output_type": "stream",
          "name": "stderr",
          "text": [
            "100%|██████████| 1/1 [00:00<00:00,  6.71it/s]\n",
            "100%|██████████| 1/1 [00:00<00:00,  6.95it/s]\n"
          ]
        },
        {
          "output_type": "stream",
          "name": "stdout",
          "text": [
            "Sentence =   If a term exists in a document its value in the vector is not equal to zero  A term which occurs in the document has a value in the vector of non zero  ; similarity =  0.8875702\n"
          ]
        },
        {
          "output_type": "stream",
          "name": "stderr",
          "text": [
            "100%|██████████| 1/1 [00:00<00:00,  7.40it/s]\n",
            "100%|██████████| 1/1 [00:00<00:00,  8.17it/s]\n"
          ]
        },
        {
          "output_type": "stream",
          "name": "stdout",
          "text": [
            "Sentence =   It was used in the first time in the SMART Information Retrieval System  It was first used in the SMART Information Retrieval System  ; similarity =  0.93732595\n"
          ]
        },
        {
          "output_type": "stream",
          "name": "stderr",
          "text": [
            "100%|██████████| 1/1 [00:00<00:00,  7.54it/s]\n",
            "100%|██████████| 1/1 [00:00<00:00,  6.71it/s]\n"
          ]
        },
        {
          "output_type": "stream",
          "name": "stdout",
          "text": [
            "Sentence =   Term frequency This formula counts how many times the term occurs in a document  If a term exists in a document its value in the vector is not equal to zero  ; similarity =  0.65187985\n"
          ]
        },
        {
          "output_type": "stream",
          "name": "stderr",
          "text": [
            "100%|██████████| 1/1 [00:00<00:00,  6.97it/s]\n",
            "100%|██████████| 1/1 [00:00<00:00,  7.58it/s]\n"
          ]
        },
        {
          "output_type": "stream",
          "name": "stdout",
          "text": [
            "Sentence =   If a term appears in the document then its value in the vector is non zero  If a term occurs in the document its value in the vector is non zero  ; similarity =  0.9869278\n"
          ]
        },
        {
          "output_type": "stream",
          "name": "stderr",
          "text": [
            "100%|██████████| 1/1 [00:00<00:00,  6.20it/s]\n",
            "100%|██████████| 1/1 [00:00<00:00,  7.42it/s]\n"
          ]
        },
        {
          "output_type": "stream",
          "name": "stdout",
          "text": [
            "Sentence =   Inheritance is useful for situations where several classes share common features such as needed functions or data variables  For example a program could exist to model different forms of transport  ; similarity =  0.36685517\n"
          ]
        },
        {
          "output_type": "stream",
          "name": "stderr",
          "text": [
            "100%|██████████| 1/1 [00:00<00:00,  6.71it/s]\n",
            "100%|██████████| 1/1 [00:00<00:00,  7.49it/s]\n"
          ]
        },
        {
          "output_type": "stream",
          "name": "stdout",
          "text": [
            "Sentence =   The value of a vector is non zero if a term occurs in the document  If a term appears in the document the terms value in the vector is non zero  ; similarity =  0.9498482\n"
          ]
        },
        {
          "output_type": "stream",
          "name": "stderr",
          "text": [
            "100%|██████████| 1/1 [00:00<00:00,  7.09it/s]\n",
            "100%|██████████| 1/1 [00:00<00:00,  6.63it/s]\n"
          ]
        },
        {
          "output_type": "stream",
          "name": "stdout",
          "text": [
            "Sentence =   If a term appears in the document the terms value in the vector is non zero  Finally the order in which the terms appear in the document is lost in the vector space representation  ; similarity =  0.6358816\n"
          ]
        },
        {
          "output_type": "stream",
          "name": "stderr",
          "text": [
            "100%|██████████| 1/1 [00:00<00:00,  6.73it/s]\n",
            "100%|██████████| 1/1 [00:00<00:00,  7.97it/s]\n"
          ]
        },
        {
          "output_type": "stream",
          "name": "stdout",
          "text": [
            "Sentence =   Google s payoff is that it gets to track the behaviour of actual users  After this it is using this to pick the best overall path  ; similarity =  0.21054803\n"
          ]
        },
        {
          "output_type": "stream",
          "name": "stderr",
          "text": [
            "100%|██████████| 1/1 [00:00<00:00,  5.77it/s]\n",
            "100%|██████████| 1/1 [00:00<00:00,  7.09it/s]\n"
          ]
        },
        {
          "output_type": "stream",
          "name": "stdout",
          "text": [
            "Sentence =   The order in which the terms appear in the document is lost in the vector space representation  If a term appears in the document then its value in the vector is non zero  ; similarity =  0.63504976\n"
          ]
        },
        {
          "output_type": "stream",
          "name": "stderr",
          "text": [
            "100%|██████████| 1/1 [00:00<00:00,  7.98it/s]\n",
            "100%|██████████| 1/1 [00:00<00:00,  7.03it/s]\n"
          ]
        },
        {
          "output_type": "stream",
          "name": "stdout",
          "text": [
            "Sentence =   The way that a term is defined depends on the application  The differing application has a direct influence on what the definition of the term means  ; similarity =  0.82694954\n"
          ]
        },
        {
          "output_type": "stream",
          "name": "stderr",
          "text": [
            "100%|██████████| 1/1 [00:00<00:00,  6.97it/s]\n",
            "100%|██████████| 1/1 [00:00<00:00,  7.77it/s]\n"
          ]
        },
        {
          "output_type": "stream",
          "name": "stdout",
          "text": [
            "Sentence =   Many different ways of calculating these values also known as term weights have been developed  Many different methods of calculating these values sometimes known as term weights have been developed  ; similarity =  0.9898393\n"
          ]
        },
        {
          "output_type": "stream",
          "name": "stderr",
          "text": [
            "100%|██████████| 1/1 [00:00<00:00,  8.32it/s]\n",
            "100%|██████████| 1/1 [00:00<00:00,  7.49it/s]\n"
          ]
        },
        {
          "output_type": "stream",
          "name": "stdout",
          "text": [
            "Sentence =   The definition of term is dependent on the application  The way that a term is defined depends on the application  ; similarity =  0.95844555\n"
          ]
        },
        {
          "output_type": "stream",
          "name": "stderr",
          "text": [
            "100%|██████████| 1/1 [00:00<00:00,  7.41it/s]\n",
            "100%|██████████| 1/1 [00:00<00:00,  7.44it/s]\n"
          ]
        },
        {
          "output_type": "stream",
          "name": "stdout",
          "text": [
            "Sentence =   Dynamic Programming solves problems by combining the solutions of subproblems  Dynamic programming is a problem solving method which solves recursive problems  ; similarity =  0.87498677\n"
          ]
        },
        {
          "output_type": "stream",
          "name": "stderr",
          "text": [
            "100%|██████████| 1/1 [00:00<00:00,  7.24it/s]\n",
            "100%|██████████| 1/1 [00:00<00:00,  6.59it/s]\n"
          ]
        },
        {
          "output_type": "stream",
          "name": "stdout",
          "text": [
            "Sentence =   Bayes Theorem is a simple mathematical formula used for calculating conditional probabilities  In probability theory Bayes theorem relates the conditional and marginal probabilities of two random events  ; similarity =  0.66598725\n"
          ]
        },
        {
          "output_type": "stream",
          "name": "stderr",
          "text": [
            "100%|██████████| 1/1 [00:00<00:00,  6.26it/s]\n",
            "100%|██████████| 1/1 [00:00<00:00,  6.84it/s]\n"
          ]
        },
        {
          "output_type": "stream",
          "name": "stdout",
          "text": [
            "Sentence =   This means that inheritance is used when types have common factors and these would be put into the superclass  There is also Conditional Probability which is usually interested in the way variables relate to each other  ; similarity =  0.3760407\n"
          ]
        },
        {
          "output_type": "stream",
          "name": "stderr",
          "text": [
            "100%|██████████| 1/1 [00:00<00:00,  6.12it/s]\n",
            "100%|██████████| 1/1 [00:00<00:00,  7.53it/s]\n"
          ]
        },
        {
          "output_type": "stream",
          "name": "stdout",
          "text": [
            "Sentence =   Bayes theorem was names after Rev Thomas Bayes and is a method used in probability theory  As a formal theorem Bayes theorem is valid in all common interpretations of probability  ; similarity =  0.55834824\n"
          ]
        },
        {
          "output_type": "stream",
          "name": "stderr",
          "text": [
            "100%|██████████| 1/1 [00:00<00:00,  7.58it/s]\n",
            "100%|██████████| 1/1 [00:00<00:00,  7.27it/s]\n"
          ]
        },
        {
          "output_type": "stream",
          "name": "stdout",
          "text": [
            "Sentence =   It is often used to compute posterior probabilities given observations  It is often used to calculate posterior probabilities given observations  ; similarity =  0.9891454\n"
          ]
        },
        {
          "output_type": "stream",
          "name": "stderr",
          "text": [
            "100%|██████████| 1/1 [00:00<00:00,  7.26it/s]\n",
            "100%|██████████| 1/1 [00:00<00:00,  7.43it/s]\n"
          ]
        },
        {
          "output_type": "stream",
          "name": "stdout",
          "text": [
            "Sentence =   A document is represented as a vector with each dimension corresponding to a separate term  To explain further vector space models basically a document is characterized by a vector  ; similarity =  0.8330386\n"
          ]
        },
        {
          "output_type": "stream",
          "name": "stderr",
          "text": [
            "100%|██████████| 1/1 [00:00<00:00,  6.99it/s]\n",
            "100%|██████████| 1/1 [00:00<00:00,  9.45it/s]\n"
          ]
        },
        {
          "output_type": "stream",
          "name": "stdout",
          "text": [
            "Sentence =   The basic idea is to represent each document as a vector of certain weighted word frequencies  A document is represented as a vector  ; similarity =  0.7111176\n"
          ]
        },
        {
          "output_type": "stream",
          "name": "stderr",
          "text": [
            "100%|██████████| 1/1 [00:00<00:00,  7.46it/s]\n",
            "100%|██████████| 1/1 [00:00<00:00,  7.63it/s]\n"
          ]
        },
        {
          "output_type": "stream",
          "name": "stdout",
          "text": [
            "Sentence =   It is used to compute posterior probabilities given observations  It is often used to calculate posterior probabilities given observations  ; similarity =  0.9573617\n"
          ]
        },
        {
          "output_type": "stream",
          "name": "stderr",
          "text": [
            "100%|██████████| 1/1 [00:00<00:00,  7.37it/s]\n",
            "100%|██████████| 1/1 [00:00<00:00,  8.02it/s]\n"
          ]
        },
        {
          "output_type": "stream",
          "name": "stdout",
          "text": [
            "Sentence =   The method takes much less time than naive methods  The method is more effiecent than naive methods  ; similarity =  0.8177229\n"
          ]
        },
        {
          "output_type": "stream",
          "name": "stderr",
          "text": [
            "100%|██████████| 1/1 [00:00<00:00,  6.67it/s]\n",
            "100%|██████████| 1/1 [00:00<00:00,  7.22it/s]\n"
          ]
        },
        {
          "output_type": "stream",
          "name": "stdout",
          "text": [
            "Sentence =   The main reason behind this is a hierarchi structure of objects and classes  The easiest way to look at inheritance is as an is a kind of relationship  ; similarity =  0.42051053\n"
          ]
        },
        {
          "output_type": "stream",
          "name": "stderr",
          "text": [
            "100%|██████████| 1/1 [00:00<00:00,  6.67it/s]\n",
            "100%|██████████| 1/1 [00:00<00:00,  7.64it/s]\n"
          ]
        },
        {
          "output_type": "stream",
          "name": "stdout",
          "text": [
            "Sentence =   A document is represented as a vector and each dimension corresponds to a separate term  In the vector space model a document is represented as a vector  ; similarity =  0.8716863\n"
          ]
        },
        {
          "output_type": "stream",
          "name": "stderr",
          "text": [
            "100%|██████████| 1/1 [00:00<00:00,  6.71it/s]\n",
            "100%|██████████| 1/1 [00:00<00:00,  6.76it/s]\n"
          ]
        },
        {
          "output_type": "stream",
          "name": "stdout",
          "text": [
            "Sentence =   Mathematicians use the word to describe a set of rules which anyone can follow to solve a problem  Google uses this algorithm to assist intentional surfers in finding the best websites to suit their needs  ; similarity =  0.26599097\n"
          ]
        },
        {
          "output_type": "stream",
          "name": "stderr",
          "text": [
            "100%|██████████| 1/1 [00:00<00:00,  6.75it/s]\n",
            "100%|██████████| 1/1 [00:00<00:00,  6.65it/s]\n"
          ]
        },
        {
          "output_type": "stream",
          "name": "stdout",
          "text": [
            "Sentence =   Bayes theorem can be used to compute the probability that a proposed diagnosis is correct  Bayes Theorem is a theorem of probability theory originally stated by the Reverend Thomas Bayes  ; similarity =  0.6374881\n"
          ]
        },
        {
          "output_type": "stream",
          "name": "stderr",
          "text": [
            "100%|██████████| 1/1 [00:00<00:00,  7.22it/s]\n",
            "100%|██████████| 1/1 [00:00<00:00,  7.02it/s]\n"
          ]
        },
        {
          "output_type": "stream",
          "name": "stdout",
          "text": [
            "Sentence =   If a term occurs in the document the value will be non zero in the vector  A term which occurs in the document has a value in the vector of non zero  ; similarity =  0.90351295\n"
          ]
        },
        {
          "output_type": "stream",
          "name": "stderr",
          "text": [
            "100%|██████████| 1/1 [00:00<00:00,  6.09it/s]\n",
            "100%|██████████| 1/1 [00:00<00:00,  6.81it/s]\n"
          ]
        },
        {
          "output_type": "stream",
          "name": "stdout",
          "text": [
            "Sentence =   This means that inheritance is used when types have common factors and these would be put into the superclass  However an object cannot be cast to a class which is no relative of it  ; similarity =  0.2971939\n"
          ]
        },
        {
          "output_type": "stream",
          "name": "stderr",
          "text": [
            "100%|██████████| 1/1 [00:00<00:00,  6.90it/s]\n",
            "100%|██████████| 1/1 [00:00<00:00,  7.57it/s]\n"
          ]
        },
        {
          "output_type": "stream",
          "name": "stdout",
          "text": [
            "Sentence =   Several different ways of computing these values additionally known as term weights have been developed  Many different ways of calculating these values also known as term weights have been developed  ; similarity =  0.9724139\n"
          ]
        },
        {
          "output_type": "stream",
          "name": "stderr",
          "text": [
            "100%|██████████| 1/1 [00:00<00:00,  6.16it/s]\n",
            "100%|██████████| 1/1 [00:00<00:00,  7.10it/s]\n"
          ]
        },
        {
          "output_type": "stream",
          "name": "stdout",
          "text": [
            "Sentence =   In probability theory the prior and conditional probabilities of two random events are related by Bayes theorem  Bayes theorem relates the conditional and marginal probabilities of two random events  ; similarity =  0.9226458\n"
          ]
        },
        {
          "output_type": "stream",
          "name": "stderr",
          "text": [
            "100%|██████████| 1/1 [00:00<00:00,  6.24it/s]\n",
            "100%|██████████| 1/1 [00:00<00:00,  7.06it/s]\n"
          ]
        },
        {
          "output_type": "stream",
          "name": "stdout",
          "text": [
            "Sentence =   This means that inheritance is used when types have common factors and these would be put into the superclass  The easiest way to look at inheritance is as an is a kind of relationship  ; similarity =  0.56917745\n"
          ]
        },
        {
          "output_type": "stream",
          "name": "stderr",
          "text": [
            "100%|██████████| 1/1 [00:00<00:00,  6.73it/s]\n",
            "100%|██████████| 1/1 [00:00<00:00,  6.96it/s]\n"
          ]
        },
        {
          "output_type": "stream",
          "name": "stdout",
          "text": [
            "Sentence =   P A or the probability that the student is a girl regardless of any other information  Here we re going to simply use a probability distribution hence the initial value of 0 25  ; similarity =  0.19781935\n"
          ]
        },
        {
          "output_type": "stream",
          "name": "stderr",
          "text": [
            "100%|██████████| 1/1 [00:00<00:00,  7.75it/s]\n",
            "100%|██████████| 1/1 [00:00<00:00,  6.81it/s]\n"
          ]
        },
        {
          "output_type": "stream",
          "name": "stdout",
          "text": [
            "Sentence =   These original classes are either called base classes or sometimes referred to as ancestor classes  The new classes are called derived classes and they inherit the behaviours and attributes of the base classes  ; similarity =  0.78380436\n"
          ]
        },
        {
          "output_type": "stream",
          "name": "stderr",
          "text": [
            "100%|██████████| 1/1 [00:00<00:00,  8.31it/s]\n",
            "100%|██████████| 1/1 [00:00<00:00,  7.44it/s]\n"
          ]
        },
        {
          "output_type": "stream",
          "name": "stdout",
          "text": [
            "Sentence =   Generate the optimal solution of these computed values Construct an optimal solution using the computed optimal subproblems for the original problem  ; similarity =  0.8352974\n"
          ]
        },
        {
          "output_type": "stream",
          "name": "stderr",
          "text": [
            "100%|██████████| 1/1 [00:00<00:00,  6.58it/s]\n",
            "100%|██████████| 1/1 [00:00<00:00,  6.39it/s]\n"
          ]
        },
        {
          "output_type": "stream",
          "name": "stdout",
          "text": [
            "Sentence =   Vector space representation results in the loss of the order which the terms are in the document  Finally the order in which the terms appear in the document is lost in the vector space representation  ; similarity =  0.8780314\n"
          ]
        },
        {
          "output_type": "stream",
          "name": "stderr",
          "text": [
            "100%|██████████| 1/1 [00:00<00:00,  6.63it/s]\n",
            "100%|██████████| 1/1 [00:00<00:00,  7.24it/s]\n"
          ]
        },
        {
          "output_type": "stream",
          "name": "stdout",
          "text": [
            "Sentence =   A term which occurs in the document has a value in the vector of non zero  A document is represented as a vector and each dimension corresponds to a separate term  ; similarity =  0.7297743\n"
          ]
        },
        {
          "output_type": "stream",
          "name": "stderr",
          "text": [
            "100%|██████████| 1/1 [00:00<00:00,  8.61it/s]\n",
            "100%|██████████| 1/1 [00:00<00:00,  6.73it/s]\n"
          ]
        },
        {
          "output_type": "stream",
          "name": "stdout",
          "text": [
            "Sentence =   The limitations of the vector space model are thus  The term weighting indentifies the success or failure of the vector space method  ; similarity =  0.53414184\n"
          ]
        },
        {
          "output_type": "stream",
          "name": "stderr",
          "text": [
            "100%|██████████| 1/1 [00:00<00:00,  6.29it/s]\n",
            "100%|██████████| 1/1 [00:00<00:00,  8.05it/s]\n"
          ]
        },
        {
          "output_type": "stream",
          "name": "stdout",
          "text": [
            "Sentence =   P B is the prior or marginal probability of B and acts as a normalizing constant   P B A is the conditional probability of B given A  ; similarity =  0.84813803\n"
          ]
        },
        {
          "output_type": "stream",
          "name": "stderr",
          "text": [
            "100%|██████████| 1/1 [00:00<00:00,  7.18it/s]\n",
            "100%|██████████| 1/1 [00:00<00:00,  7.40it/s]\n"
          ]
        },
        {
          "output_type": "stream",
          "name": "stdout",
          "text": [
            "Sentence =   A document is represented as a vector and each dimension corresponds to a separate term  The value of a vector is non zero if a term occurs in the document  ; similarity =  0.6408541\n"
          ]
        },
        {
          "output_type": "stream",
          "name": "stderr",
          "text": [
            "100%|██████████| 1/1 [00:00<00:00,  7.36it/s]\n",
            "100%|██████████| 1/1 [00:00<00:00,  8.97it/s]\n"
          ]
        },
        {
          "output_type": "stream",
          "name": "stdout",
          "text": [
            "Sentence =   In the vector space model a document is represented as a vector  A document can be represented as a vector  ; similarity =  0.91158956\n"
          ]
        },
        {
          "output_type": "stream",
          "name": "stderr",
          "text": [
            "100%|██████████| 1/1 [00:00<00:00,  7.83it/s]\n",
            "100%|██████████| 1/1 [00:00<00:00,  7.89it/s]\n"
          ]
        },
        {
          "output_type": "stream",
          "name": "stdout",
          "text": [
            "Sentence =   In 1953 he had refined this to the modern meaning  By 1953 he had refined this to the modern meaning  ; similarity =  0.9887683\n"
          ]
        },
        {
          "output_type": "stream",
          "name": "stderr",
          "text": [
            "100%|██████████| 1/1 [00:00<00:00,  7.09it/s]\n",
            "100%|██████████| 1/1 [00:00<00:00,  7.71it/s]\n"
          ]
        },
        {
          "output_type": "stream",
          "name": "stdout",
          "text": [
            "Sentence =   Dynamic Programming solves problems by combining the solutions of subproblems  The key to Dynamic Programming is to find the structure of optimal solutions  ; similarity =  0.7682484\n"
          ]
        },
        {
          "output_type": "stream",
          "name": "stderr",
          "text": [
            "100%|██████████| 1/1 [00:00<00:00,  6.21it/s]\n",
            "100%|██████████| 1/1 [00:00<00:00,  6.48it/s]\n"
          ]
        },
        {
          "output_type": "stream",
          "name": "stdout",
          "text": [
            "Sentence =   Terms are basically the words or any indexing unit used to identify the contents of a text  In this classic model the term specific weights in the document vectors are products of local and global parameters  ; similarity =  0.48943383\n"
          ]
        },
        {
          "output_type": "stream",
          "name": "stderr",
          "text": [
            "100%|██████████| 1/1 [00:00<00:00,  7.34it/s]\n",
            "100%|██████████| 1/1 [00:00<00:00,  7.78it/s]\n"
          ]
        },
        {
          "output_type": "stream",
          "name": "stdout",
          "text": [
            "Sentence =   However the patent is assigned to Stanford University and not to Google  Google has exclusive license rights on the patent from Stanford University  ; similarity =  0.69009805\n"
          ]
        },
        {
          "output_type": "stream",
          "name": "stderr",
          "text": [
            "100%|██████████| 1/1 [00:00<00:00,  6.74it/s]\n",
            "100%|██████████| 1/1 [00:00<00:00,  6.60it/s]\n"
          ]
        },
        {
          "output_type": "stream",
          "name": "stdout",
          "text": [
            "Sentence =   The vector space model are the documents which are represented as bags of words  In vector space model the documents from which the information is to be retrieved are represented as vectors  ; similarity =  0.85650426\n"
          ]
        },
        {
          "output_type": "stream",
          "name": "stderr",
          "text": [
            "100%|██████████| 1/1 [00:00<00:00,  7.30it/s]\n",
            "100%|██████████| 1/1 [00:00<00:00,  7.96it/s]\n"
          ]
        },
        {
          "output_type": "stream",
          "name": "stdout",
          "text": [
            "Sentence =   A probability is expressed as a numeric value between 0 and 1  A 0 5 probability is commonly expressed as a 50 chance of something happening  ; similarity =  0.602124\n"
          ]
        },
        {
          "output_type": "stream",
          "name": "stderr",
          "text": [
            "100%|██████████| 1/1 [00:00<00:00,  7.85it/s]\n",
            "100%|██████████| 1/1 [00:00<00:00,  7.41it/s]\n"
          ]
        },
        {
          "output_type": "stream",
          "name": "stdout",
          "text": [
            "Sentence =   Every dimension is precisely related to a separate term  A document is represented as a vector and each dimension corresponds to a separate term  ; similarity =  0.68416125\n"
          ]
        },
        {
          "output_type": "stream",
          "name": "stderr",
          "text": [
            "100%|██████████| 1/1 [00:00<00:00,  5.62it/s]\n",
            "100%|██████████| 1/1 [00:00<00:00,  7.68it/s]\n"
          ]
        },
        {
          "output_type": "stream",
          "name": "stdout",
          "text": [
            "Sentence =   To achieve this the programmer has to note generalisations and similarities about various aspects of the program  In order to do so the following parsing and extraction steps are needed  ; similarity =  0.3475495\n"
          ]
        },
        {
          "output_type": "stream",
          "name": "stderr",
          "text": [
            "100%|██████████| 1/1 [00:00<00:00,  6.47it/s]\n",
            "100%|██████████| 1/1 [00:00<00:00,  7.21it/s]\n"
          ]
        },
        {
          "output_type": "stream",
          "name": "stdout",
          "text": [
            "Sentence =   The order in which the terms appear in the document is lost in the vector space representation  If a term appears in the document the terms value in the vector is non zero  ; similarity =  0.64587617\n"
          ]
        },
        {
          "output_type": "stream",
          "name": "stderr",
          "text": [
            "100%|██████████| 1/1 [00:00<00:00,  7.14it/s]\n",
            "100%|██████████| 1/1 [00:00<00:00,  7.08it/s]\n"
          ]
        },
        {
          "output_type": "stream",
          "name": "stdout",
          "text": [
            "Sentence =   Thus the program is the optimal plan of action that is being produced  The easiest way to look at inheritance is as an is a kind of relationship  ; similarity =  0.11233236\n"
          ]
        },
        {
          "output_type": "stream",
          "name": "stderr",
          "text": [
            "100%|██████████| 1/1 [00:00<00:00,  8.72it/s]\n",
            "100%|██████████| 1/1 [00:00<00:00,  6.72it/s]\n"
          ]
        },
        {
          "output_type": "stream",
          "name": "stdout",
          "text": [
            "Sentence =   A document can be represented as a vector  If a term occurs in the document the value will be non zero in the vector  ; similarity =  0.547055\n"
          ]
        },
        {
          "output_type": "stream",
          "name": "stderr",
          "text": [
            "100%|██████████| 1/1 [00:00<00:00,  7.72it/s]\n",
            "100%|██████████| 1/1 [00:00<00:00,  7.24it/s]\n"
          ]
        },
        {
          "output_type": "stream",
          "name": "stdout",
          "text": [
            "Sentence =   Each and every dimension corresponds to a separate term  A document is represented as a vector with each dimension corresponding to a separate term  ; similarity =  0.74961394\n"
          ]
        },
        {
          "output_type": "stream",
          "name": "stderr",
          "text": [
            "100%|██████████| 1/1 [00:00<00:00,  8.57it/s]\n",
            "100%|██████████| 1/1 [00:00<00:00,  6.93it/s]\n"
          ]
        },
        {
          "output_type": "stream",
          "name": "stdout",
          "text": [
            "Sentence =   P A is the prior probability A  P A or the probability that the student is a girl regardless of any other information  ; similarity =  0.44463888\n"
          ]
        },
        {
          "output_type": "stream",
          "name": "stderr",
          "text": [
            "100%|██████████| 1/1 [00:00<00:00,  6.25it/s]\n",
            "100%|██████████| 1/1 [00:00<00:00,  6.72it/s]\n"
          ]
        },
        {
          "output_type": "stream",
          "name": "stdout",
          "text": [
            "Sentence =   Bayes theorem was names after Rev Thomas Bayes and is a method used in probability theory  Bayes theorem can be used to compute the probability that a proposed diagnosis is correct  ; similarity =  0.65014976\n"
          ]
        },
        {
          "output_type": "stream",
          "name": "stderr",
          "text": [
            "100%|██████████| 1/1 [00:00<00:00,  5.71it/s]\n",
            "100%|██████████| 1/1 [00:00<00:00,  6.59it/s]\n"
          ]
        },
        {
          "output_type": "stream",
          "name": "stdout",
          "text": [
            "Sentence =   The PageRank is a recursive algorithm used by Google to determine which webpages are more important than others  In order to prevent spamming Google releases little information on the way in which a PageRank is calculated  ; similarity =  0.68931246\n"
          ]
        },
        {
          "output_type": "stream",
          "name": "stderr",
          "text": [
            "100%|██████████| 1/1 [00:00<00:00,  6.58it/s]\n",
            "100%|██████████| 1/1 [00:00<00:00,  7.38it/s]\n"
          ]
        },
        {
          "output_type": "stream",
          "name": "stdout",
          "text": [
            "Sentence =   Occasionally it is advantageous to differentiate between these uses as it is not necessarily noticeable from context  It is therefore used to create relationships between one object and another  ; similarity =  0.49886143\n"
          ]
        },
        {
          "output_type": "stream",
          "name": "stderr",
          "text": [
            "100%|██████████| 1/1 [00:00<00:00,  7.91it/s]\n",
            "100%|██████████| 1/1 [00:00<00:00,  8.66it/s]\n"
          ]
        },
        {
          "output_type": "stream",
          "name": "stdout",
          "text": [
            "Sentence =   Outbound links from your page to others  Inbound links from other pages to yours  ; similarity =  0.8996302\n"
          ]
        },
        {
          "output_type": "stream",
          "name": "stderr",
          "text": [
            "100%|██████████| 1/1 [00:00<00:00,  5.91it/s]\n",
            "100%|██████████| 1/1 [00:00<00:00,  6.52it/s]\n"
          ]
        },
        {
          "output_type": "stream",
          "name": "stdout",
          "text": [
            "Sentence =   The peropos of inheritance in object oriented programming is to minimize the reuse of existing code without modification  The idea of inheritance is to reuse the existing code with little or no modification at all  ; similarity =  0.785211\n"
          ]
        },
        {
          "output_type": "stream",
          "name": "stderr",
          "text": [
            "100%|██████████| 1/1 [00:00<00:00,  8.16it/s]\n",
            "100%|██████████| 1/1 [00:00<00:00,  9.11it/s]\n"
          ]
        },
        {
          "output_type": "stream",
          "name": "stdout",
          "text": [
            "Sentence =   The vector space model has several disadvantages  The limitations of the vector space model are thus  ; similarity =  0.8578956\n"
          ]
        },
        {
          "output_type": "stream",
          "name": "stderr",
          "text": [
            "100%|██████████| 1/1 [00:00<00:00,  6.50it/s]\n",
            "100%|██████████| 1/1 [00:00<00:00,  6.92it/s]\n"
          ]
        },
        {
          "output_type": "stream",
          "name": "stdout",
          "text": [
            "Sentence =   To achieve this the programmer has to note generalisations and similarities about various aspects of the program  The advantage being the less time consumption in comparison to other amateur methods  ; similarity =  0.18867609\n"
          ]
        },
        {
          "output_type": "stream",
          "name": "stderr",
          "text": [
            "100%|██████████| 1/1 [00:00<00:00,  6.74it/s]\n",
            "100%|██████████| 1/1 [00:00<00:00,  8.51it/s]\n"
          ]
        },
        {
          "output_type": "stream",
          "name": "stdout",
          "text": [
            "Sentence =   In object oriented programming inheritance is also dependant on access level modifiers  Inheritance is a basic concept in object oriented programming  ; similarity =  0.8082482\n"
          ]
        },
        {
          "output_type": "stream",
          "name": "stderr",
          "text": [
            "100%|██████████| 1/1 [00:00<00:00,  6.77it/s]\n",
            "100%|██████████| 1/1 [00:00<00:00,  7.28it/s]\n"
          ]
        },
        {
          "output_type": "stream",
          "name": "stdout",
          "text": [
            "Sentence =   The basic idea is to represent each document as a vector of certain weighted word frequencies  A document is represented as a vector and each dimension corresponds to a separate term  ; similarity =  0.76474303\n"
          ]
        },
        {
          "output_type": "stream",
          "name": "stderr",
          "text": [
            "100%|██████████| 1/1 [00:00<00:00,  7.64it/s]\n",
            "100%|██████████| 1/1 [00:00<00:00,  6.78it/s]\n"
          ]
        },
        {
          "output_type": "stream",
          "name": "stdout",
          "text": [
            "Sentence =   With reference to this model documents are represented as vectors  A Vector space model is an algebraic model for representing text documents as vectors of identifiers  ; similarity =  0.7946735\n"
          ]
        },
        {
          "output_type": "stream",
          "name": "stderr",
          "text": [
            "100%|██████████| 1/1 [00:00<00:00,  6.87it/s]\n",
            "100%|██████████| 1/1 [00:00<00:00,  6.36it/s]\n"
          ]
        },
        {
          "output_type": "stream",
          "name": "stdout",
          "text": [
            "Sentence =   A document is represented as a vector with each dimension corresponding to a separate term  If a term appears in the document then its value in the vector is non zero  ; similarity =  0.6602625\n"
          ]
        },
        {
          "output_type": "stream",
          "name": "stderr",
          "text": [
            "100%|██████████| 1/1 [00:00<00:00,  7.25it/s]\n",
            "100%|██████████| 1/1 [00:00<00:00,  6.71it/s]\n"
          ]
        },
        {
          "output_type": "stream",
          "name": "stdout",
          "text": [
            "Sentence =   The further down an inheritance tree you get the more specific the classes become  If this occurs then all of the non private methods and variables can be used by the most specialised class  ; similarity =  0.33153298\n"
          ]
        },
        {
          "output_type": "stream",
          "name": "stderr",
          "text": [
            "100%|██████████| 1/1 [00:00<00:00,  7.14it/s]\n",
            "100%|██████████| 1/1 [00:00<00:00,  7.21it/s]\n"
          ]
        },
        {
          "output_type": "stream",
          "name": "stdout",
          "text": [
            "Sentence =   Like divide and conquer Dynamic Programming solves problems by combining solutions to sub problems  Furthermore by combining solutions to subproblems DP solves problems  ; similarity =  0.68067986\n"
          ]
        },
        {
          "output_type": "stream",
          "name": "stderr",
          "text": [
            "100%|██████████| 1/1 [00:00<00:00,  6.92it/s]\n",
            "100%|██████████| 1/1 [00:00<00:00,  7.26it/s]\n"
          ]
        },
        {
          "output_type": "stream",
          "name": "stdout",
          "text": [
            "Sentence =   As an official theorem Bayes theorem is valid in all universal interpretations of probability  Bayes theorem is useful in evaluating the result of drug tests  ; similarity =  0.34295774\n"
          ]
        },
        {
          "output_type": "stream",
          "name": "stderr",
          "text": [
            "100%|██████████| 1/1 [00:00<00:00,  6.42it/s]\n",
            "100%|██████████| 1/1 [00:00<00:00,  7.57it/s]\n"
          ]
        },
        {
          "output_type": "stream",
          "name": "stdout",
          "text": [
            "Sentence =   P B a k a the normalizing constant is the prior or marginal probability of B  P B A is the conditional probability of B given A  ; similarity =  0.84253585\n"
          ]
        },
        {
          "output_type": "stream",
          "name": "stderr",
          "text": [
            "100%|██████████| 1/1 [00:00<00:00,  7.27it/s]\n",
            "100%|██████████| 1/1 [00:00<00:00,  9.33it/s]\n"
          ]
        },
        {
          "output_type": "stream",
          "name": "stdout",
          "text": [
            "Sentence =   P A B is the conditional probability of A given B  P A is the prior probability A  ; similarity =  0.77608263\n"
          ]
        },
        {
          "output_type": "stream",
          "name": "stderr",
          "text": [
            "100%|██████████| 1/1 [00:00<00:00,  8.70it/s]\n",
            "100%|██████████| 1/1 [00:00<00:00,  8.04it/s]\n"
          ]
        },
        {
          "output_type": "stream",
          "name": "stdout",
          "text": [
            "Sentence =   However the vector space model has limitations  LIMITATION There is some limitation of vector space model  ; similarity =  0.902874\n"
          ]
        },
        {
          "output_type": "stream",
          "name": "stderr",
          "text": [
            "100%|██████████| 1/1 [00:00<00:00,  6.07it/s]\n",
            "100%|██████████| 1/1 [00:00<00:00,  7.91it/s]\n"
          ]
        },
        {
          "output_type": "stream",
          "name": "stdout",
          "text": [
            "Sentence =   One of the best known schemes is tf idf weighting proposed by Salton Wong and Yang  One of the most popular schemes is tf idf weighting  ; similarity =  0.76934284\n"
          ]
        },
        {
          "output_type": "stream",
          "name": "stderr",
          "text": [
            "100%|██████████| 1/1 [00:00<00:00,  7.11it/s]\n",
            "100%|██████████| 1/1 [00:00<00:00,  7.28it/s]\n"
          ]
        },
        {
          "output_type": "stream",
          "name": "stdout",
          "text": [
            "Sentence =   One of its uses is calculating posterior probabilities given observations  It is usually be used to compute posterior probabilities given observations  ; similarity =  0.92586815\n"
          ]
        },
        {
          "output_type": "stream",
          "name": "stderr",
          "text": [
            "100%|██████████| 1/1 [00:00<00:00,  6.56it/s]\n",
            "100%|██████████| 1/1 [00:00<00:00,  6.81it/s]\n"
          ]
        },
        {
          "output_type": "stream",
          "name": "stdout",
          "text": [
            "Sentence =   If a term exists in a document its value in the vector is not equal to zero  Here we re going to simply use a probability distribution hence the initial value of 0 25  ; similarity =  0.2525107\n"
          ]
        },
        {
          "output_type": "stream",
          "name": "stderr",
          "text": [
            "100%|██████████| 1/1 [00:00<00:00,  7.22it/s]\n",
            "100%|██████████| 1/1 [00:00<00:00,  6.35it/s]\n"
          ]
        },
        {
          "output_type": "stream",
          "name": "stdout",
          "text": [
            "Sentence =   With little or no modification it is intended to help reuse existing code  The idea of inheritance is to reuse the existing code with little or no modification at all  ; similarity =  0.79273415\n"
          ]
        },
        {
          "output_type": "stream",
          "name": "stderr",
          "text": [
            "100%|██████████| 1/1 [00:00<00:00,  6.21it/s]\n",
            "100%|██████████| 1/1 [00:00<00:00,  7.56it/s]\n"
          ]
        },
        {
          "output_type": "stream",
          "name": "stdout",
          "text": [
            "Sentence =   Following this each web page is given a ranking of 0 10 according to its relevance to a search  A link to a page is seen as a vote of support  ; similarity =  0.42517868\n"
          ]
        },
        {
          "output_type": "stream",
          "name": "stderr",
          "text": [
            "100%|██████████| 1/1 [00:00<00:00,  7.34it/s]\n",
            "100%|██████████| 1/1 [00:00<00:00,  8.01it/s]\n"
          ]
        },
        {
          "output_type": "stream",
          "name": "stdout",
          "text": [
            "Sentence =   Like divide and conquer Dynamic Programming solves problems by combining solutions to sub problems  Dynamic Programming solves problems by combining the solutions of subproblems  ; similarity =  0.9176198\n"
          ]
        },
        {
          "output_type": "stream",
          "name": "stderr",
          "text": [
            "100%|██████████| 1/1 [00:00<00:00,  6.59it/s]\n",
            "100%|██████████| 1/1 [00:00<00:00,  6.39it/s]\n"
          ]
        },
        {
          "output_type": "stream",
          "name": "stdout",
          "text": [
            "Sentence =   If a term occurs in the document the value will be non zero in the vector  Finally the order in which the terms appear in the document is lost in the vector space representation  ; similarity =  0.59749067\n"
          ]
        },
        {
          "output_type": "stream",
          "name": "stderr",
          "text": [
            "100%|██████████| 1/1 [00:00<00:00,  7.62it/s]\n",
            "100%|██████████| 1/1 [00:00<00:00,  8.71it/s]\n"
          ]
        },
        {
          "output_type": "stream",
          "name": "stdout",
          "text": [
            "Sentence =   Its first application was in the SMART Information Retrieval System  It was first used in the SMART Information Retrieval System  ; similarity =  0.939228\n"
          ]
        },
        {
          "output_type": "stream",
          "name": "stderr",
          "text": [
            "100%|██████████| 1/1 [00:00<00:00,  6.91it/s]\n",
            "100%|██████████| 1/1 [00:00<00:00,  7.24it/s]\n"
          ]
        },
        {
          "output_type": "stream",
          "name": "stdout",
          "text": [
            "Sentence =   Most of these languages provide an extend keyword which is used to subclass another  Instead a new object is made to inherit properties of objects which already exist  ; similarity =  0.32063615\n"
          ]
        },
        {
          "output_type": "stream",
          "name": "stderr",
          "text": [
            "100%|██████████| 1/1 [00:00<00:00,  6.61it/s]\n",
            "100%|██████████| 1/1 [00:00<00:00,  9.05it/s]\n"
          ]
        },
        {
          "output_type": "stream",
          "name": "stdout",
          "text": [
            "Sentence =   The value of a vector is non zero if a term occurs in the document  A document is represented as a vector  ; similarity =  0.5981939\n"
          ]
        },
        {
          "output_type": "stream",
          "name": "stderr",
          "text": [
            "100%|██████████| 1/1 [00:00<00:00,  6.79it/s]\n",
            "100%|██████████| 1/1 [00:00<00:00,  8.02it/s]\n"
          ]
        },
        {
          "output_type": "stream",
          "name": "stdout",
          "text": [
            "Sentence =   Subclasses are said to extend or specialise their superclasses  Subclasses are said to extend superclasses  ; similarity =  0.9516901\n"
          ]
        },
        {
          "output_type": "stream",
          "name": "stderr",
          "text": [
            "100%|██████████| 1/1 [00:00<00:00,  7.40it/s]\n",
            "100%|██████████| 1/1 [00:00<00:00,  7.15it/s]\n"
          ]
        },
        {
          "output_type": "stream",
          "name": "stdout",
          "text": [
            "Sentence =   Without a proof of correctness such an algorithm is likely to fail  Most of these languages provide an extend keyword which is used to subclass another  ; similarity =  0.060164228\n"
          ]
        },
        {
          "output_type": "stream",
          "name": "stderr",
          "text": [
            "100%|██████████| 1/1 [00:00<00:00,  8.00it/s]\n",
            "100%|██████████| 1/1 [00:00<00:00,  7.82it/s]\n"
          ]
        },
        {
          "output_type": "stream",
          "name": "stdout",
          "text": [
            "Sentence =   Each item in the vector represents a different keyword  Each document is a vector where each word is a dimension  ; similarity =  0.7569537\n"
          ]
        },
        {
          "output_type": "stream",
          "name": "stderr",
          "text": [
            "100%|██████████| 1/1 [00:00<00:00,  6.72it/s]\n",
            "100%|██████████| 1/1 [00:00<00:00,  6.79it/s]\n"
          ]
        },
        {
          "output_type": "stream",
          "name": "stdout",
          "text": [
            "Sentence =   The University received 1 8 million shares in Google in return for use of the patent  Nevertheless the patent is assigned to the University of Stanford and not to Google  ; similarity =  0.5190969\n"
          ]
        },
        {
          "output_type": "stream",
          "name": "stderr",
          "text": [
            "100%|██████████| 1/1 [00:00<00:00,  7.10it/s]\n",
            "100%|██████████| 1/1 [00:00<00:00,  7.65it/s]\n"
          ]
        },
        {
          "output_type": "stream",
          "name": "stdout",
          "text": [
            "Sentence =   If there are no links to a web page there is no support for that page  Dangling links to a page which has no links to others  ; similarity =  0.7133369\n"
          ]
        },
        {
          "output_type": "stream",
          "name": "stderr",
          "text": [
            "100%|██████████| 1/1 [00:00<00:00,  6.96it/s]\n",
            "100%|██████████| 1/1 [00:00<00:00,  6.92it/s]\n"
          ]
        },
        {
          "output_type": "stream",
          "name": "stdout",
          "text": [
            "Sentence =   If there are no links to a web page there is no support for that page  If a page has no incoming links there is no support for that page  ; similarity =  0.9319599\n"
          ]
        },
        {
          "output_type": "stream",
          "name": "stderr",
          "text": [
            "100%|██████████| 1/1 [00:00<00:00,  7.82it/s]\n",
            "100%|██████████| 1/1 [00:00<00:00,  7.05it/s]\n"
          ]
        },
        {
          "output_type": "stream",
          "name": "stdout",
          "text": [
            "Sentence =   They do not have to be written in a computer language  At first glance a car and a train may not have much in common  ; similarity =  0.19140874\n"
          ]
        },
        {
          "output_type": "stream",
          "name": "stderr",
          "text": [
            "100%|██████████| 1/1 [00:00<00:00,  7.37it/s]\n",
            "100%|██████████| 1/1 [00:00<00:00,  6.80it/s]\n"
          ]
        },
        {
          "output_type": "stream",
          "name": "stdout",
          "text": [
            "Sentence =   P B A is the conditional probability of B given A  P B is the prior or marginal probability of B and acts as a normalizing constant  ; similarity =  0.84813803\n"
          ]
        },
        {
          "output_type": "stream",
          "name": "stderr",
          "text": [
            "100%|██████████| 1/1 [00:00<00:00,  6.61it/s]\n",
            "100%|██████████| 1/1 [00:00<00:00,  7.07it/s]\n"
          ]
        },
        {
          "output_type": "stream",
          "name": "stdout",
          "text": [
            "Sentence =   In vector space model the documents from which the information is to be retrieved are represented as vectors  If a term occurs in the document the value will be non zero in the vector  ; similarity =  0.45671967\n"
          ]
        },
        {
          "output_type": "stream",
          "name": "stderr",
          "text": [
            "100%|██████████| 1/1 [00:00<00:00,  6.31it/s]\n",
            "100%|██████████| 1/1 [00:00<00:00,  7.07it/s]\n"
          ]
        },
        {
          "output_type": "stream",
          "name": "stdout",
          "text": [
            "Sentence =   In probability theory Bayes theorem relates the conditional and marginal probabilities of two random events  As an official theorem Bayes theorem is valid in all universal interpretations of probability  ; similarity =  0.38177243\n"
          ]
        },
        {
          "output_type": "stream",
          "name": "stderr",
          "text": [
            "100%|██████████| 1/1 [00:00<00:00,  6.06it/s]\n",
            "100%|██████████| 1/1 [00:00<00:00,  7.74it/s]\n"
          ]
        },
        {
          "output_type": "stream",
          "name": "stdout",
          "text": [
            "Sentence =   One of the best known schemes is tf idf term frequency inverse document frequency weighting  One of the best known methods is called tf idf weighting  ; similarity =  0.78930426\n"
          ]
        },
        {
          "output_type": "stream",
          "name": "stderr",
          "text": [
            "100%|██████████| 1/1 [00:00<00:00,  6.64it/s]\n",
            "100%|██████████| 1/1 [00:00<00:00,  7.13it/s]\n"
          ]
        },
        {
          "output_type": "stream",
          "name": "stdout",
          "text": [
            "Sentence =   The typical example could be of a finalized schedule of events at an exhibition  For example a finalized schedule of events at an exhibition is sometimes called a program  ; similarity =  0.8731018\n"
          ]
        },
        {
          "output_type": "stream",
          "name": "stderr",
          "text": [
            "100%|██████████| 1/1 [00:00<00:00,  7.21it/s]\n",
            "100%|██████████| 1/1 [00:00<00:00,  6.95it/s]\n"
          ]
        },
        {
          "output_type": "stream",
          "name": "stdout",
          "text": [
            "Sentence =   This general three step process can be used to solve a problem 1  Mathematicians use the word to describe a set of rules which anyone can follow to solve a problem  ; similarity =  0.4397907\n"
          ]
        },
        {
          "output_type": "stream",
          "name": "stderr",
          "text": [
            "100%|██████████| 1/1 [00:00<00:00,  6.37it/s]\n",
            "100%|██████████| 1/1 [00:00<00:00,  8.50it/s]\n"
          ]
        },
        {
          "output_type": "stream",
          "name": "stdout",
          "text": [
            "Sentence =   The differing application has a direct influence on what the definition of the term means  Depending on the application the definition of term varies  ; similarity =  0.8865395\n"
          ]
        },
        {
          "output_type": "stream",
          "name": "stderr",
          "text": [
            "100%|██████████| 1/1 [00:00<00:00,  6.76it/s]\n",
            "100%|██████████| 1/1 [00:00<00:00,  7.40it/s]\n"
          ]
        },
        {
          "output_type": "stream",
          "name": "stdout",
          "text": [
            "Sentence =   Since it is a formal theorem Bayes theorem holds in all popular interpretations of probability  Bayes theorem can be used to compute the probability that a proposed diagnosis is correct  ; similarity =  0.63811886\n"
          ]
        },
        {
          "output_type": "stream",
          "name": "stderr",
          "text": [
            "100%|██████████| 1/1 [00:00<00:00,  6.04it/s]\n",
            "100%|██████████| 1/1 [00:00<00:00,  6.45it/s]\n"
          ]
        },
        {
          "output_type": "stream",
          "name": "stdout",
          "text": [
            "Sentence =   It is also called the posterior probability because it is derived from or depends upon the specified value of B  It is also called the subsequent probability because it is derived from or depends upon the specified value of B  ; similarity =  0.90451276\n"
          ]
        },
        {
          "output_type": "stream",
          "name": "stderr",
          "text": [
            "100%|██████████| 1/1 [00:00<00:00,  6.66it/s]\n",
            "100%|██████████| 1/1 [00:00<00:00,  6.57it/s]\n"
          ]
        },
        {
          "output_type": "stream",
          "name": "stdout",
          "text": [
            "Sentence =   Instead a new object is made to inherit properties of objects which already exist  Inheritance in object oriented programming is a way to form new classes using classes that have already been defined  ; similarity =  0.68841535\n"
          ]
        },
        {
          "output_type": "stream",
          "name": "stderr",
          "text": [
            "100%|██████████| 1/1 [00:00<00:00,  7.81it/s]\n",
            "100%|██████████| 1/1 [00:00<00:00,  7.23it/s]\n"
          ]
        },
        {
          "output_type": "stream",
          "name": "stdout",
          "text": [
            "Sentence =   It was first used in the SMART Information Retrieval System  It is used in information filtering indexing relevancy rankings and information retrieval  ; similarity =  0.5581684\n"
          ]
        },
        {
          "output_type": "stream",
          "name": "stderr",
          "text": [
            "100%|██████████| 1/1 [00:00<00:00,  6.81it/s]\n",
            "100%|██████████| 1/1 [00:00<00:00,  7.54it/s]\n"
          ]
        },
        {
          "output_type": "stream",
          "name": "stdout",
          "text": [
            "Sentence =   The basic idea is to represent each document as a vector of certain weighted word frequencies  A document is represented as a vector and each dimension corresponds to a separate term  ; similarity =  0.76474303\n"
          ]
        },
        {
          "output_type": "stream",
          "name": "stderr",
          "text": [
            "100%|██████████| 1/1 [00:00<00:00,  7.86it/s]\n",
            "100%|██████████| 1/1 [00:00<00:00,  6.72it/s]\n"
          ]
        },
        {
          "output_type": "stream",
          "name": "stdout",
          "text": [
            "Sentence =   Its first application was in the SMART Information Retrieval System  It is used in information retrieval and was first used in the SMART Information Retrieval System  ; similarity =  0.9102801\n"
          ]
        },
        {
          "output_type": "stream",
          "name": "stderr",
          "text": [
            "100%|██████████| 1/1 [00:00<00:00,  6.41it/s]\n",
            "100%|██████████| 1/1 [00:00<00:00,  6.94it/s]\n"
          ]
        },
        {
          "output_type": "stream",
          "name": "stdout",
          "text": [
            "Sentence =   This can be useful when the number of times a word appears is not considered important  Here we re going to simply use a probability distribution hence the initial value of 0 25  ; similarity =  0.17575474\n"
          ]
        },
        {
          "output_type": "stream",
          "name": "stderr",
          "text": [
            "100%|██████████| 1/1 [00:00<00:00,  6.71it/s]\n",
            "100%|██████████| 1/1 [00:00<00:00,  6.49it/s]\n"
          ]
        },
        {
          "output_type": "stream",
          "name": "stdout",
          "text": [
            "Sentence =   This can be useful when the number of times a word appears is not considered important  It is mainly used to calculate the probability of one event s outcome given that a previous event happened  ; similarity =  0.3093573\n"
          ]
        },
        {
          "output_type": "stream",
          "name": "stderr",
          "text": [
            "100%|██████████| 1/1 [00:00<00:00,  8.82it/s]\n",
            "100%|██████████| 1/1 [00:00<00:00,  7.19it/s]\n"
          ]
        },
        {
          "output_type": "stream",
          "name": "stdout",
          "text": [
            "Sentence =   P A is the prior probability A   P A B is the conditional probability of A given B  ; similarity =  0.77608263\n"
          ]
        },
        {
          "output_type": "stream",
          "name": "stderr",
          "text": [
            "100%|██████████| 1/1 [00:00<00:00,  7.68it/s]\n",
            "100%|██████████| 1/1 [00:00<00:00,  8.13it/s]\n"
          ]
        },
        {
          "output_type": "stream",
          "name": "stdout",
          "text": [
            "Sentence =   The definition of a term depends on the application  The way that a term is defined depends on the application  ; similarity =  0.96538293\n"
          ]
        },
        {
          "output_type": "stream",
          "name": "stderr",
          "text": [
            "100%|██████████| 1/1 [00:00<00:00,  8.41it/s]\n",
            "100%|██████████| 1/1 [00:00<00:00,  6.89it/s]\n"
          ]
        },
        {
          "output_type": "stream",
          "name": "stdout",
          "text": [
            "Sentence =   What is the probability this student is a girl  P A is the probability of the student being a girl which is 2 5  ; similarity =  0.75110793\n"
          ]
        },
        {
          "output_type": "stream",
          "name": "stderr",
          "text": [
            "100%|██████████| 1/1 [00:00<00:00,  9.12it/s]\n",
            "100%|██████████| 1/1 [00:00<00:00,  7.85it/s]\n"
          ]
        },
        {
          "output_type": "stream",
          "name": "stdout",
          "text": [
            "Sentence =   Java allows object inheritance  Inheritance is one of the basic concepts of Object Oriented Programming  ; similarity =  0.70842355\n"
          ]
        },
        {
          "output_type": "stream",
          "name": "stderr",
          "text": [
            "100%|██████████| 1/1 [00:00<00:00,  6.09it/s]\n",
            "100%|██████████| 1/1 [00:00<00:00,  8.00it/s]\n"
          ]
        },
        {
          "output_type": "stream",
          "name": "stdout",
          "text": [
            "Sentence =   Following this each web page is given a ranking of 0 10 according to its relevance to a search  A website s page rank is how important it is on the web  ; similarity =  0.64322287\n"
          ]
        },
        {
          "output_type": "stream",
          "name": "stderr",
          "text": [
            "100%|██████████| 1/1 [00:00<00:00,  7.12it/s]\n",
            "100%|██████████| 1/1 [00:00<00:00,  7.38it/s]\n"
          ]
        },
        {
          "output_type": "stream",
          "name": "stdout",
          "text": [
            "Sentence =   If a term occurs in the document the value will be non zero in the vector  If a term occurs in the document its value is non zero  ; similarity =  0.90550065\n"
          ]
        },
        {
          "output_type": "stream",
          "name": "stderr",
          "text": [
            "100%|██████████| 1/1 [00:00<00:00,  6.87it/s]\n",
            "100%|██████████| 1/1 [00:00<00:00,  7.55it/s]\n"
          ]
        },
        {
          "output_type": "stream",
          "name": "stdout",
          "text": [
            "Sentence =   If the term doesn t occur within the document the value in the vector is zero  If a term occurs in the document its value in the vector is non zero  ; similarity =  0.8948807\n"
          ]
        },
        {
          "output_type": "stream",
          "name": "stderr",
          "text": [
            "100%|██████████| 1/1 [00:00<00:00,  6.23it/s]\n",
            "100%|██████████| 1/1 [00:00<00:00,  6.95it/s]\n"
          ]
        },
        {
          "output_type": "stream",
          "name": "stdout",
          "text": [
            "Sentence =   If a term exists in a document its value in the vector is not equal to zero  If a term appears in the document the terms value in the vector is non zero  ; similarity =  0.84771323\n"
          ]
        },
        {
          "output_type": "stream",
          "name": "stderr",
          "text": [
            "100%|██████████| 1/1 [00:00<00:00,  8.18it/s]\n",
            "100%|██████████| 1/1 [00:00<00:00,  7.12it/s]\n"
          ]
        },
        {
          "output_type": "stream",
          "name": "stdout",
          "text": [
            "Sentence =   Each dimension corresponds to a separate term  When a document is represented as a vector each dimension corresponds to a separate term  ; similarity =  0.81148994\n"
          ]
        },
        {
          "output_type": "stream",
          "name": "stderr",
          "text": [
            "100%|██████████| 1/1 [00:00<00:00,  8.50it/s]\n",
            "100%|██████████| 1/1 [00:00<00:00,  8.86it/s]\n"
          ]
        },
        {
          "output_type": "stream",
          "name": "stdout",
          "text": [
            "Sentence =   Every dimension relates to a different term  Every dimension is precisely related to a separate term  ; similarity =  0.80592304\n"
          ]
        },
        {
          "output_type": "stream",
          "name": "stderr",
          "text": [
            "100%|██████████| 1/1 [00:00<00:00,  6.74it/s]\n",
            "100%|██████████| 1/1 [00:00<00:00,  7.55it/s]\n"
          ]
        },
        {
          "output_type": "stream",
          "name": "stdout",
          "text": [
            "Sentence =   It is intended to help reuse existing code with little or no modification  With little or no modification it is intended to help reuse existing code  ; similarity =  0.9865267\n"
          ]
        },
        {
          "output_type": "stream",
          "name": "stderr",
          "text": [
            "100%|██████████| 1/1 [00:00<00:00,  6.45it/s]\n",
            "100%|██████████| 1/1 [00:00<00:00,  7.05it/s]\n"
          ]
        },
        {
          "output_type": "stream",
          "name": "stdout",
          "text": [
            "Sentence =   The basic idea is to represent each document as a vector of certain weighted word frequencies  If the term doesn t occur within the document the value in the vector is zero  ; similarity =  0.4087492\n"
          ]
        },
        {
          "output_type": "stream",
          "name": "stderr",
          "text": [
            "100%|██████████| 1/1 [00:00<00:00,  6.13it/s]\n",
            "100%|██████████| 1/1 [00:00<00:00,  7.48it/s]\n"
          ]
        },
        {
          "output_type": "stream",
          "name": "stdout",
          "text": [
            "Sentence =   Mathematicians use the word to describe a set of rules which anyone can follow to solve a problem  Instead a new object is made to inherit properties of objects which already exist  ; similarity =  0.15859953\n"
          ]
        },
        {
          "output_type": "stream",
          "name": "stderr",
          "text": [
            "100%|██████████| 1/1 [00:00<00:00,  7.12it/s]\n",
            "100%|██████████| 1/1 [00:00<00:00,  7.32it/s]\n"
          ]
        },
        {
          "output_type": "stream",
          "name": "stdout",
          "text": [
            "Sentence =   For instance a events schedule at an exhibition is sometimes called a program  For example a schedule of events at an exhibition is sometimes called a programme  ; similarity =  0.9438366\n"
          ]
        },
        {
          "output_type": "stream",
          "name": "stderr",
          "text": [
            "100%|██████████| 1/1 [00:00<00:00,  6.64it/s]\n",
            "100%|██████████| 1/1 [00:00<00:00,  6.52it/s]\n"
          ]
        },
        {
          "output_type": "stream",
          "name": "stdout",
          "text": [
            "Sentence =   One of the most important uses of page rank is its meaning to advertising  A variation of the PageRank method bases the importance of a webpage on how many visits the page gets  ; similarity =  0.5464498\n"
          ]
        },
        {
          "output_type": "stream",
          "name": "stderr",
          "text": [
            "100%|██████████| 1/1 [00:00<00:00,  6.67it/s]\n",
            "100%|██████████| 1/1 [00:00<00:00,  7.58it/s]\n"
          ]
        },
        {
          "output_type": "stream",
          "name": "stdout",
          "text": [
            "Sentence =   P B is the prior or marginal probability of B and acts as a normalizing constant   P A B is the conditional probability of A given B  ; similarity =  0.8619711\n"
          ]
        },
        {
          "output_type": "stream",
          "name": "stderr",
          "text": [
            "100%|██████████| 1/1 [00:00<00:00,  7.83it/s]\n",
            "100%|██████████| 1/1 [00:00<00:00,  8.23it/s]\n"
          ]
        },
        {
          "output_type": "stream",
          "name": "stdout",
          "text": [
            "Sentence =   Virtual attributes and methods can be shadowed overridden  In Java all attributes and methods are implicitly virtual  ; similarity =  0.5573209\n"
          ]
        },
        {
          "output_type": "stream",
          "name": "stderr",
          "text": [
            "100%|██████████| 1/1 [00:00<00:00,  6.64it/s]\n",
            "100%|██████████| 1/1 [00:00<00:00,  6.38it/s]\n"
          ]
        },
        {
          "output_type": "stream",
          "name": "stdout",
          "text": [
            "Sentence =   If a term occurs in the document the value will be non zero in the vector  If a term exists in a document its value in the vector is not equal to zero  ; similarity =  0.8253918\n"
          ]
        },
        {
          "output_type": "stream",
          "name": "stderr",
          "text": [
            "100%|██████████| 1/1 [00:00<00:00,  7.09it/s]\n",
            "100%|██████████| 1/1 [00:00<00:00,  7.57it/s]\n"
          ]
        },
        {
          "output_type": "stream",
          "name": "stdout",
          "text": [
            "Sentence =   Typically terms are single words keywords or longer phrases  Typically terms are single words keywords or sometimes even longer phrases  ; similarity =  0.993488\n"
          ]
        },
        {
          "output_type": "stream",
          "name": "stderr",
          "text": [
            "100%|██████████| 1/1 [00:00<00:00,  6.57it/s]\n",
            "100%|██████████| 1/1 [00:00<00:00,  7.25it/s]\n"
          ]
        },
        {
          "output_type": "stream",
          "name": "stdout",
          "text": [
            "Sentence =   A term which occurs in the document has a value in the vector of non zero  In the vector space model a document is represented as a vector  ; similarity =  0.65270966\n"
          ]
        },
        {
          "output_type": "stream",
          "name": "stderr",
          "text": [
            "100%|██████████| 1/1 [00:00<00:00,  7.24it/s]\n",
            "100%|██████████| 1/1 [00:00<00:00,  7.89it/s]\n"
          ]
        },
        {
          "output_type": "stream",
          "name": "stdout",
          "text": [
            "Sentence =   tf idf weighting is one of the most well known schemes  One of the most famous schemes is tf idf weighting  ; similarity =  0.96496814\n"
          ]
        },
        {
          "output_type": "stream",
          "name": "stderr",
          "text": [
            "100%|██████████| 1/1 [00:00<00:00,  6.73it/s]\n",
            "100%|██████████| 1/1 [00:00<00:00,  6.67it/s]\n"
          ]
        },
        {
          "output_type": "stream",
          "name": "stdout",
          "text": [
            "Sentence =   It is usually used to calculate posterior probabilities given observations  It is mainly used to calculate the probability of one event s outcome given that a previous event happened  ; similarity =  0.56257945\n"
          ]
        },
        {
          "output_type": "stream",
          "name": "stderr",
          "text": [
            "100%|██████████| 1/1 [00:00<00:00,  8.01it/s]\n",
            "100%|██████████| 1/1 [00:00<00:00,  8.67it/s]\n"
          ]
        },
        {
          "output_type": "stream",
          "name": "stdout",
          "text": [
            "Sentence =   The vector space model has the following limitations 1  In the vector space model a document is represented as a vector  ; similarity =  0.52994627\n"
          ]
        },
        {
          "output_type": "stream",
          "name": "stderr",
          "text": [
            "100%|██████████| 1/1 [00:00<00:00,  6.71it/s]\n",
            "100%|██████████| 1/1 [00:00<00:00,  7.18it/s]\n"
          ]
        },
        {
          "output_type": "stream",
          "name": "stdout",
          "text": [
            "Sentence =   This can be useful when the number of times a word appears is not considered important  It does not take into account any information about B and therefore is considered prior  ; similarity =  0.26783654\n"
          ]
        },
        {
          "output_type": "stream",
          "name": "stderr",
          "text": [
            "100%|██████████| 1/1 [00:00<00:00,  7.21it/s]\n",
            "100%|██████████| 1/1 [00:00<00:00,  7.73it/s]\n"
          ]
        },
        {
          "output_type": "stream",
          "name": "stdout",
          "text": [
            "Sentence =   Typically terms are keywords single words or longer phrases  So the same rule applies with keywords and indeed longer phrases  ; similarity =  0.76667374\n"
          ]
        },
        {
          "output_type": "stream",
          "name": "stderr",
          "text": [
            "100%|██████████| 1/1 [00:00<00:00,  7.51it/s]\n",
            "100%|██████████| 1/1 [00:00<00:00,  9.00it/s]\n"
          ]
        },
        {
          "output_type": "stream",
          "name": "stdout",
          "text": [
            "Sentence =   With each separate term corresponding to the differing dimensions  Each and every dimension corresponds to a separate term  ; similarity =  0.885239\n"
          ]
        },
        {
          "output_type": "stream",
          "name": "stderr",
          "text": [
            "100%|██████████| 1/1 [00:00<00:00,  6.83it/s]\n",
            "100%|██████████| 1/1 [00:00<00:00,  7.01it/s]\n"
          ]
        },
        {
          "output_type": "stream",
          "name": "stdout",
          "text": [
            "Sentence =   A document is represented as a vector and each dimension corresponds to a separate term  A document is represented as a vector with each dimension corresponding to a separate term  ; similarity =  0.99507886\n"
          ]
        },
        {
          "output_type": "stream",
          "name": "stderr",
          "text": [
            "100%|██████████| 1/1 [00:00<00:00,  6.34it/s]\n",
            "100%|██████████| 1/1 [00:00<00:00,  7.13it/s]\n"
          ]
        },
        {
          "output_type": "stream",
          "name": "stdout",
          "text": [
            "Sentence =   One of the best known schemes is tf idf weighting proposed by Salton Wong and Yang  tf idf weighting is one of the most well known schemes  ; similarity =  0.78497547\n"
          ]
        },
        {
          "output_type": "stream",
          "name": "stderr",
          "text": [
            "100%|██████████| 1/1 [00:00<00:00,  7.38it/s]\n",
            "100%|██████████| 1/1 [00:00<00:00,  6.83it/s]\n"
          ]
        },
        {
          "output_type": "stream",
          "name": "stdout",
          "text": [
            "Sentence =   Inheritance is one of the basic concepts of Object Oriented Programming  Object oriented programming is a style of programming that supports encapsulation inheritance and polymorphism  ; similarity =  0.8683852\n"
          ]
        },
        {
          "output_type": "stream",
          "name": "stderr",
          "text": [
            "100%|██████████| 1/1 [00:00<00:00,  6.73it/s]\n",
            "100%|██████████| 1/1 [00:00<00:00,  6.90it/s]\n"
          ]
        },
        {
          "output_type": "stream",
          "name": "stdout",
          "text": [
            "Sentence =   In the vector space model a document is represented as a vector  A term which occurs in the document has a value in the vector of non zero  ; similarity =  0.65270966\n"
          ]
        },
        {
          "output_type": "stream",
          "name": "stderr",
          "text": [
            "100%|██████████| 1/1 [00:00<00:00,  8.27it/s]\n",
            "100%|██████████| 1/1 [00:00<00:00,  8.62it/s]\n"
          ]
        },
        {
          "output_type": "stream",
          "name": "stdout",
          "text": [
            "Sentence =   A document is represented as a vector  A document can be represented as a vector  ; similarity =  0.9762013\n"
          ]
        },
        {
          "output_type": "stream",
          "name": "stderr",
          "text": [
            "100%|██████████| 1/1 [00:00<00:00,  6.72it/s]\n",
            "100%|██████████| 1/1 [00:00<00:00,  8.43it/s]\n"
          ]
        },
        {
          "output_type": "stream",
          "name": "stdout",
          "text": [
            "Sentence =   They also inherit the attributes and methods of its superclass  For example private attributes and methods cannot be inherited  ; similarity =  0.25202033\n"
          ]
        },
        {
          "output_type": "stream",
          "name": "stderr",
          "text": [
            "100%|██████████| 1/1 [00:00<00:00,  6.49it/s]\n",
            "100%|██████████| 1/1 [00:00<00:00,  7.17it/s]\n"
          ]
        },
        {
          "output_type": "stream",
          "name": "stdout",
          "text": [
            "Sentence =   It is prior in the sense that it does not take into account any information about B  It doesn t take into account any information about B so it is prior  ; similarity =  0.935733\n"
          ]
        },
        {
          "output_type": "stream",
          "name": "stderr",
          "text": [
            "100%|██████████| 1/1 [00:00<00:00,  7.12it/s]\n",
            "100%|██████████| 1/1 [00:00<00:00,  7.60it/s]\n"
          ]
        },
        {
          "output_type": "stream",
          "name": "stdout",
          "text": [
            "Sentence =   In the vector space model a document is represented as a vector  The vector space model are the documents which are represented as bags of words  ; similarity =  0.854696\n"
          ]
        },
        {
          "output_type": "stream",
          "name": "stderr",
          "text": [
            "100%|██████████| 1/1 [00:00<00:00,  7.08it/s]\n",
            "100%|██████████| 1/1 [00:00<00:00,  7.02it/s]\n"
          ]
        },
        {
          "output_type": "stream",
          "name": "stdout",
          "text": [
            "Sentence =   It is often used to calculate posterior probabilities given observations  It is usually be used to compute posterior probabilities given observations  ; similarity =  0.9716966\n"
          ]
        },
        {
          "output_type": "stream",
          "name": "stderr",
          "text": [
            "100%|██████████| 1/1 [00:00<00:00,  6.10it/s]\n",
            "100%|██████████| 1/1 [00:00<00:00,  7.15it/s]\n"
          ]
        },
        {
          "output_type": "stream",
          "name": "stdout",
          "text": [
            "Sentence =   inheritance in object oriented programming is where a new class is formed using classes which have allready been defined  In object oriented programming inheritance is also dependant on access level modifiers  ; similarity =  0.76484483\n"
          ]
        },
        {
          "output_type": "stream",
          "name": "stderr",
          "text": [
            "100%|██████████| 1/1 [00:00<00:00,  8.19it/s]\n",
            "100%|██████████| 1/1 [00:00<00:00,  8.63it/s]\n"
          ]
        },
        {
          "output_type": "stream",
          "name": "stdout",
          "text": [
            "Sentence =   The vector space model has several disadvantages  LIMITATION There is some limitation of vector space model  ; similarity =  0.8546942\n"
          ]
        },
        {
          "output_type": "stream",
          "name": "stderr",
          "text": [
            "100%|██████████| 1/1 [00:00<00:00,  7.03it/s]\n",
            "100%|██████████| 1/1 [00:00<00:00,  6.82it/s]\n"
          ]
        },
        {
          "output_type": "stream",
          "name": "stdout",
          "text": [
            "Sentence =   If a term occurs in the document its value is non zero  The value of a vector is non zero if a term occurs in the document  ; similarity =  0.8604821\n"
          ]
        },
        {
          "output_type": "stream",
          "name": "stderr",
          "text": [
            "100%|██████████| 1/1 [00:00<00:00,  7.96it/s]\n",
            "100%|██████████| 1/1 [00:00<00:00,  8.30it/s]\n"
          ]
        },
        {
          "output_type": "stream",
          "name": "stdout",
          "text": [
            "Sentence =   The vector space model has the following limitations 1  LIMITATION There is some limitation of vector space model  ; similarity =  0.89421666\n"
          ]
        },
        {
          "output_type": "stream",
          "name": "stderr",
          "text": [
            "100%|██████████| 1/1 [00:00<00:00,  6.67it/s]\n",
            "100%|██████████| 1/1 [00:00<00:00,  7.78it/s]\n"
          ]
        },
        {
          "output_type": "stream",
          "name": "stdout",
          "text": [
            "Sentence =   The vector is then constucted of the frequency of eacher word dimension  For each document count the number of occurrences of each word  ; similarity =  0.59691\n"
          ]
        },
        {
          "output_type": "stream",
          "name": "stderr",
          "text": [
            "100%|██████████| 1/1 [00:00<00:00,  8.18it/s]\n",
            "100%|██████████| 1/1 [00:00<00:00,  7.09it/s]\n"
          ]
        },
        {
          "output_type": "stream",
          "name": "stdout",
          "text": [
            "Sentence =   A document has representation as a vector  A term which occurs in the document has a value in the vector of non zero  ; similarity =  0.6536253\n"
          ]
        },
        {
          "output_type": "stream",
          "name": "stderr",
          "text": [
            "100%|██████████| 1/1 [00:00<00:00,  6.68it/s]\n",
            "100%|██████████| 1/1 [00:00<00:00,  7.53it/s]\n"
          ]
        },
        {
          "output_type": "stream",
          "name": "stdout",
          "text": [
            "Sentence =   So the same rule applies with keywords and indeed longer phrases  A normal term is usually a single word keywords or longer phrases  ; similarity =  0.6894006\n"
          ]
        },
        {
          "output_type": "stream",
          "name": "stderr",
          "text": [
            "100%|██████████| 1/1 [00:00<00:00,  6.51it/s]\n",
            "100%|██████████| 1/1 [00:00<00:00,  7.26it/s]\n"
          ]
        },
        {
          "output_type": "stream",
          "name": "stdout",
          "text": [
            "Sentence =   It was intended to allow existing code to be used again with minimal or no alteration  It is intended to help reuse existing code with little or no modification  ; similarity =  0.8637595\n"
          ]
        },
        {
          "output_type": "stream",
          "name": "stderr",
          "text": [
            "100%|██████████| 1/1 [00:00<00:00,  8.49it/s]\n",
            "100%|██████████| 1/1 [00:00<00:00,  8.22it/s]\n"
          ]
        },
        {
          "output_type": "stream",
          "name": "stdout",
          "text": [
            "Sentence =   Every dimension relates to a different term  Each and every dimension corresponds to a separate term  ; similarity =  0.90317035\n"
          ]
        },
        {
          "output_type": "stream",
          "name": "stderr",
          "text": [
            "100%|██████████| 1/1 [00:00<00:00,  7.29it/s]\n",
            "100%|██████████| 1/1 [00:00<00:00,  6.10it/s]\n"
          ]
        },
        {
          "output_type": "stream",
          "name": "stdout",
          "text": [
            "Sentence =   It is intended to help reuse existing code with little or no modification  The idea of inheritance is to reuse the existing code with little or no modification at all  ; similarity =  0.80822945\n"
          ]
        },
        {
          "output_type": "stream",
          "name": "stderr",
          "text": [
            "100%|██████████| 1/1 [00:00<00:00,  5.56it/s]\n",
            "100%|██████████| 1/1 [00:00<00:00,  6.47it/s]\n"
          ]
        },
        {
          "output_type": "stream",
          "name": "stdout",
          "text": [
            "Sentence =   The PageRank is a recursive algorithm used by Google to determine which webpages are more important than others  The actual Google PageRank algorithm is much more complex than this but follows the same underlying principles  ; similarity =  0.70109296\n"
          ]
        },
        {
          "output_type": "stream",
          "name": "stderr",
          "text": [
            "100%|██████████| 1/1 [00:00<00:00,  7.32it/s]\n",
            "100%|██████████| 1/1 [00:00<00:00,  7.74it/s]\n"
          ]
        },
        {
          "output_type": "stream",
          "name": "stdout",
          "text": [
            "Sentence =   One of the best known methods is called tf idf weighting  One of the most famous schemes is tf idf weighting  ; similarity =  0.88330567\n"
          ]
        },
        {
          "output_type": "stream",
          "name": "stderr",
          "text": [
            "100%|██████████| 1/1 [00:00<00:00,  6.27it/s]\n",
            "100%|██████████| 1/1 [00:00<00:00,  6.31it/s]\n"
          ]
        },
        {
          "output_type": "stream",
          "name": "stdout",
          "text": [
            "Sentence =   Mathematicians use the word to describe a set of rules which anyone can follow to solve a problem  It has no relationship to computer programming instead it is a process of finding a satisfactory algorithm  ; similarity =  0.2589921\n"
          ]
        },
        {
          "output_type": "stream",
          "name": "stderr",
          "text": [
            "100%|██████████| 1/1 [00:00<00:00,  6.99it/s]\n",
            "100%|██████████| 1/1 [00:00<00:00,  6.48it/s]\n"
          ]
        },
        {
          "output_type": "stream",
          "name": "stdout",
          "text": [
            "Sentence =   It is often used to compute posterior probabilities given observations  The theorem is often used when we have observations and wish to compute posterior probabilities  ; similarity =  0.8166063\n"
          ]
        },
        {
          "output_type": "stream",
          "name": "stderr",
          "text": [
            "100%|██████████| 1/1 [00:00<00:00,  7.78it/s]\n",
            "100%|██████████| 1/1 [00:00<00:00,  7.70it/s]\n"
          ]
        },
        {
          "output_type": "stream",
          "name": "stdout",
          "text": [
            "Sentence =   Its first use was in the SMART Information Retrieval System  It was used in the first time in the SMART Information Retrieval System  ; similarity =  0.95089835\n"
          ]
        },
        {
          "output_type": "stream",
          "name": "stderr",
          "text": [
            "100%|██████████| 1/1 [00:00<00:00,  6.19it/s]\n",
            "100%|██████████| 1/1 [00:00<00:00,  6.04it/s]\n"
          ]
        },
        {
          "output_type": "stream",
          "name": "stdout",
          "text": [
            "Sentence =   Later versions of PageRank see the below formulas would assume a probability distribution between 0 and 1  Here we re going to simply use a probability distribution hence the initial value of 0 25  ; similarity =  0.6606264\n"
          ]
        },
        {
          "output_type": "stream",
          "name": "stderr",
          "text": [
            "100%|██████████| 1/1 [00:00<00:00,  6.93it/s]\n",
            "100%|██████████| 1/1 [00:00<00:00,  8.48it/s]\n"
          ]
        },
        {
          "output_type": "stream",
          "name": "stdout",
          "text": [
            "Sentence =   When a document is represented as a vector each dimension corresponds to a separate term  A document is represented as a vector  ; similarity =  0.7971357\n"
          ]
        },
        {
          "output_type": "stream",
          "name": "stderr",
          "text": [
            "100%|██████████| 1/1 [00:00<00:00,  6.26it/s]\n",
            "100%|██████████| 1/1 [00:00<00:00,  6.80it/s]\n"
          ]
        },
        {
          "output_type": "stream",
          "name": "stdout",
          "text": [
            "Sentence =   When any sub problem is met again it can be found and re used to solve another problem  It was intended to allow existing code to be used again with minimal or no alteration  ; similarity =  0.36134574\n"
          ]
        },
        {
          "output_type": "stream",
          "name": "stderr",
          "text": [
            "100%|██████████| 1/1 [00:00<00:00,  5.97it/s]\n",
            "100%|██████████| 1/1 [00:00<00:00,  6.71it/s]\n"
          ]
        },
        {
          "output_type": "stream",
          "name": "stdout",
          "text": [
            "Sentence =   The peropos of inheritance in object oriented programming is to minimize the reuse of existing code without modification  In object oriented programming inheritance is also dependant on access level modifiers  ; similarity =  0.5980102\n"
          ]
        },
        {
          "output_type": "stream",
          "name": "stderr",
          "text": [
            "100%|██████████| 1/1 [00:00<00:00,  6.54it/s]\n",
            "100%|██████████| 1/1 [00:00<00:00,  7.88it/s]\n"
          ]
        },
        {
          "output_type": "stream",
          "name": "stdout",
          "text": [
            "Sentence =   This method is used as links are seen as an adoursment of a sight  This can be known as one of the advantages of inheritance  ; similarity =  0.3134808\n"
          ]
        },
        {
          "output_type": "stream",
          "name": "stderr",
          "text": [
            "100%|██████████| 1/1 [00:00<00:00,  7.32it/s]\n",
            "100%|██████████| 1/1 [00:00<00:00,  7.18it/s]\n"
          ]
        },
        {
          "output_type": "stream",
          "name": "stdout",
          "text": [
            "Sentence =   Bayes theorem is also often known as Bayes law  Bayes Theorem is a theorem of probability theory originally stated by the Reverend Thomas Bayes  ; similarity =  0.7990568\n"
          ]
        },
        {
          "output_type": "stream",
          "name": "stderr",
          "text": [
            "100%|██████████| 1/1 [00:00<00:00,  6.35it/s]\n",
            "100%|██████████| 1/1 [00:00<00:00,  7.62it/s]\n"
          ]
        },
        {
          "output_type": "stream",
          "name": "stdout",
          "text": [
            "Sentence =   If the term doesn t occur within the document the value in the vector is zero  If a term occurs in the document its value is non zero  ; similarity =  0.79793316\n"
          ]
        },
        {
          "output_type": "stream",
          "name": "stderr",
          "text": [
            "100%|██████████| 1/1 [00:00<00:00,  5.09it/s]\n",
            "100%|██████████| 1/1 [00:00<00:00,  7.09it/s]\n"
          ]
        },
        {
          "output_type": "stream",
          "name": "stdout",
          "text": [
            "Sentence =   The PageRank algorithm is used to designate every aspect of a set of hyperlinked documents with a numerical weighting  The basic idea is to represent each document as a vector of certain weighted word frequencies  ; similarity =  0.6524445\n"
          ]
        },
        {
          "output_type": "stream",
          "name": "stderr",
          "text": [
            "100%|██████████| 1/1 [00:00<00:00,  6.44it/s]\n",
            "100%|██████████| 1/1 [00:00<00:00,  7.10it/s]\n"
          ]
        },
        {
          "output_type": "stream",
          "name": "stdout",
          "text": [
            "Sentence =   Vector space representation results in the loss of the order which the terms are in the document  If a term appears in the document the terms value in the vector is non zero  ; similarity =  0.54875904\n"
          ]
        },
        {
          "output_type": "stream",
          "name": "stderr",
          "text": [
            "100%|██████████| 1/1 [00:00<00:00,  6.19it/s]\n",
            "100%|██████████| 1/1 [00:00<00:00,  7.40it/s]\n"
          ]
        },
        {
          "output_type": "stream",
          "name": "stdout",
          "text": [
            "Sentence =   Terms are basically the words or any indexing unit used to identify the contents of a text  However the key in Dynamic Programming is to determine the structure of optimal solutions  ; similarity =  0.23587503\n"
          ]
        },
        {
          "output_type": "stream",
          "name": "stderr",
          "text": [
            "100%|██████████| 1/1 [00:00<00:00,  6.21it/s]\n",
            "100%|██████████| 1/1 [00:00<00:00,  6.91it/s]\n"
          ]
        },
        {
          "output_type": "stream",
          "name": "stdout",
          "text": [
            "Sentence =   The value of a vector is non zero if a term occurs in the document  If a term exists in a document its value in the vector is not equal to zero  ; similarity =  0.847478\n"
          ]
        },
        {
          "output_type": "stream",
          "name": "stderr",
          "text": [
            "100%|██████████| 1/1 [00:00<00:00,  6.69it/s]\n",
            "100%|██████████| 1/1 [00:00<00:00,  9.54it/s]\n"
          ]
        },
        {
          "output_type": "stream",
          "name": "stdout",
          "text": [
            "Sentence =   The value of a vector is non zero if a term occurs in the document  A document has representation as a vector  ; similarity =  0.5952199\n"
          ]
        },
        {
          "output_type": "stream",
          "name": "stderr",
          "text": [
            "100%|██████████| 1/1 [00:00<00:00,  7.80it/s]\n",
            "100%|██████████| 1/1 [00:00<00:00,  8.61it/s]\n"
          ]
        },
        {
          "output_type": "stream",
          "name": "stdout",
          "text": [
            "Sentence =   Every dimension is precisely related to a separate term  Each and every dimension corresponds to a separate term  ; similarity =  0.9100014\n"
          ]
        },
        {
          "output_type": "stream",
          "name": "stderr",
          "text": [
            "100%|██████████| 1/1 [00:00<00:00,  7.98it/s]\n",
            "100%|██████████| 1/1 [00:00<00:00,  6.87it/s]\n"
          ]
        },
        {
          "output_type": "stream",
          "name": "stdout",
          "text": [
            "Sentence =   Every dimension relates to a different term  A document is represented as a vector with each dimension corresponding to a separate term  ; similarity =  0.6537091\n"
          ]
        },
        {
          "output_type": "stream",
          "name": "stderr",
          "text": [
            "100%|██████████| 1/1 [00:00<00:00,  6.44it/s]\n",
            "100%|██████████| 1/1 [00:00<00:00,  7.19it/s]\n"
          ]
        },
        {
          "output_type": "stream",
          "name": "stdout",
          "text": [
            "Sentence =   The other method is the top down approach which is a method that combines memorization and recursion  The easiest way to look at inheritance is as an is a kind of relationship  ; similarity =  0.19292308\n"
          ]
        },
        {
          "output_type": "stream",
          "name": "stderr",
          "text": [
            "100%|██████████| 1/1 [00:00<00:00,  6.37it/s]\n",
            "100%|██████████| 1/1 [00:00<00:00,  7.17it/s]\n"
          ]
        },
        {
          "output_type": "stream",
          "name": "stdout",
          "text": [
            "Sentence =   It is similar to divide and conquer however is differentiated as its subproblems are not independent  However an object cannot be cast to a class which is no relative of it  ; similarity =  0.22946018\n"
          ]
        },
        {
          "output_type": "stream",
          "name": "stderr",
          "text": [
            "100%|██████████| 1/1 [00:00<00:00,  6.74it/s]\n",
            "100%|██████████| 1/1 [00:00<00:00,  6.52it/s]\n"
          ]
        },
        {
          "output_type": "stream",
          "name": "stdout",
          "text": [
            "Sentence =   It was intended to allow existing code to be used again with minimal or no alteration  However an object cannot be cast to a class which is no relative of it  ; similarity =  0.12725644\n"
          ]
        },
        {
          "output_type": "stream",
          "name": "stderr",
          "text": [
            "100%|██████████| 1/1 [00:00<00:00,  6.73it/s]\n",
            "100%|██████████| 1/1 [00:00<00:00,  6.27it/s]\n"
          ]
        },
        {
          "output_type": "stream",
          "name": "stdout",
          "text": [
            "Sentence =   P A or the probability that the student is a girl regardless of any other information  Later versions of PageRank see the below formulas would assume a probability distribution between 0 and 1  ; similarity =  0.16831522\n"
          ]
        },
        {
          "output_type": "stream",
          "name": "stderr",
          "text": [
            "100%|██████████| 1/1 [00:00<00:00,  6.64it/s]\n",
            "100%|██████████| 1/1 [00:00<00:00,  7.26it/s]\n"
          ]
        },
        {
          "output_type": "stream",
          "name": "stdout",
          "text": [
            "Sentence =   When a document is represented as a vector each dimension corresponds to a separate term  The value of a vector is non zero if a term occurs in the document  ; similarity =  0.65872365\n"
          ]
        },
        {
          "output_type": "stream",
          "name": "stderr",
          "text": [
            "100%|██████████| 1/1 [00:00<00:00,  5.99it/s]\n",
            "100%|██████████| 1/1 [00:00<00:00,  5.97it/s]\n"
          ]
        },
        {
          "output_type": "stream",
          "name": "stdout",
          "text": [
            "Sentence =   Mathematicians use the word to describe a set of rules which anyone can follow to solve a problem  A dampening factor is used to counter random surfers who get bored and then switch to other pages  ; similarity =  0.08808932\n"
          ]
        },
        {
          "output_type": "stream",
          "name": "stderr",
          "text": [
            "100%|██████████| 1/1 [00:00<00:00,  6.43it/s]\n",
            "100%|██████████| 1/1 [00:00<00:00,  6.25it/s]\n"
          ]
        },
        {
          "output_type": "stream",
          "name": "stdout",
          "text": [
            "Sentence =   To achieve this the programmer has to note generalisations and similarities about various aspects of the program  Terms are basically the words or any indexing unit used to identify the contents of a text  ; similarity =  0.29185745\n"
          ]
        },
        {
          "output_type": "stream",
          "name": "stderr",
          "text": [
            "100%|██████████| 1/1 [00:00<00:00,  7.51it/s]\n",
            "100%|██████████| 1/1 [00:00<00:00,  7.40it/s]\n"
          ]
        },
        {
          "output_type": "stream",
          "name": "stdout",
          "text": [
            "Sentence =   For instance a patient may be observed to have certain symptoms  For example a patient might be observed to show certain symptoms  ; similarity =  0.99045134\n"
          ]
        },
        {
          "output_type": "stream",
          "name": "stderr",
          "text": [
            "100%|██████████| 1/1 [00:00<00:00,  7.02it/s]\n",
            "100%|██████████| 1/1 [00:00<00:00,  7.81it/s]\n"
          ]
        },
        {
          "output_type": "stream",
          "name": "stdout",
          "text": [
            "Sentence =   The vector space model are the documents which are represented as bags of words  The limitations of the vector space model are thus  ; similarity =  0.43758658\n"
          ]
        },
        {
          "output_type": "stream",
          "name": "stderr",
          "text": [
            "100%|██████████| 1/1 [00:00<00:00,  7.38it/s]\n",
            "100%|██████████| 1/1 [00:00<00:00,  8.34it/s]\n"
          ]
        },
        {
          "output_type": "stream",
          "name": "stdout",
          "text": [
            "Sentence =   The way that a term is defined depends on the application  The definition of term depends on the application  ; similarity =  0.96398586\n"
          ]
        },
        {
          "output_type": "stream",
          "name": "stderr",
          "text": [
            "100%|██████████| 1/1 [00:00<00:00,  9.03it/s]\n",
            "100%|██████████| 1/1 [00:00<00:00,  8.09it/s]\n"
          ]
        },
        {
          "output_type": "stream",
          "name": "stdout",
          "text": [
            "Sentence =   P A is the prior probability A  P B A is the conditional probability of B given A  ; similarity =  0.80544376\n"
          ]
        },
        {
          "output_type": "stream",
          "name": "stderr",
          "text": [
            "100%|██████████| 1/1 [00:00<00:00,  7.33it/s]\n",
            "100%|██████████| 1/1 [00:00<00:00,  7.93it/s]\n"
          ]
        },
        {
          "output_type": "stream",
          "name": "stdout",
          "text": [
            "Sentence =   Programming means finding a plan of action  Programming in this sense means finding an acceptable plan of action  ; similarity =  0.927534\n"
          ]
        },
        {
          "output_type": "stream",
          "name": "stderr",
          "text": [
            "100%|██████████| 1/1 [00:00<00:00,  5.96it/s]\n",
            "100%|██████████| 1/1 [00:00<00:00,  6.51it/s]\n"
          ]
        },
        {
          "output_type": "stream",
          "name": "stdout",
          "text": [
            "Sentence =   It has no relationship to computer programming instead it is a process of finding a satisfactory algorithm  If a term exists in a document its value in the vector is not equal to zero  ; similarity =  0.069014505\n"
          ]
        },
        {
          "output_type": "stream",
          "name": "stderr",
          "text": [
            "100%|██████████| 1/1 [00:00<00:00,  8.68it/s]\n",
            "100%|██████████| 1/1 [00:00<00:00,  8.85it/s]\n"
          ]
        },
        {
          "output_type": "stream",
          "name": "stdout",
          "text": [
            "Sentence =   A document has representation as a vector  A document can be represented as a vector  ; similarity =  0.9771638\n"
          ]
        },
        {
          "output_type": "stream",
          "name": "stderr",
          "text": [
            "100%|██████████| 1/1 [00:00<00:00,  6.76it/s]\n",
            "100%|██████████| 1/1 [00:00<00:00,  6.64it/s]\n"
          ]
        },
        {
          "output_type": "stream",
          "name": "stdout",
          "text": [
            "Sentence =   It does not take into account any information about B and therefore is considered prior  It is prior in the sense that it does not take into account any information about B  ; similarity =  0.9394734\n"
          ]
        },
        {
          "output_type": "stream",
          "name": "stderr",
          "text": [
            "100%|██████████| 1/1 [00:00<00:00,  8.15it/s]\n",
            "100%|██████████| 1/1 [00:00<00:00,  6.76it/s]\n"
          ]
        },
        {
          "output_type": "stream",
          "name": "stdout",
          "text": [
            "Sentence =   The inheritance concept was invented in 1967 for Simula  The concept of inheritance was basically formulated for Simula in 1967  ; similarity =  0.9328146\n"
          ]
        },
        {
          "output_type": "stream",
          "name": "stderr",
          "text": [
            "100%|██████████| 1/1 [00:00<00:00,  7.22it/s]\n",
            "100%|██████████| 1/1 [00:00<00:00,  7.87it/s]\n"
          ]
        },
        {
          "output_type": "stream",
          "name": "stdout",
          "text": [
            "Sentence =   They also inherit the attributes and methods of its superclass  In Java all attributes and methods are implicitly virtual  ; similarity =  0.39681458\n"
          ]
        },
        {
          "output_type": "stream",
          "name": "stderr",
          "text": [
            "100%|██████████| 1/1 [00:00<00:00,  6.69it/s]\n",
            "100%|██████████| 1/1 [00:00<00:00,  6.08it/s]\n"
          ]
        },
        {
          "output_type": "stream",
          "name": "stdout",
          "text": [
            "Sentence =   The vector space model is one of these methods and it is an algebraic model  In vector space model the documents from which the information is to be retrieved are represented as vectors  ; similarity =  0.6698584\n"
          ]
        },
        {
          "output_type": "stream",
          "name": "stderr",
          "text": [
            "100%|██████████| 1/1 [00:00<00:00,  5.94it/s]\n",
            "100%|██████████| 1/1 [00:00<00:00,  7.78it/s]\n"
          ]
        },
        {
          "output_type": "stream",
          "name": "stdout",
          "text": [
            "Sentence =   In vector space model the documents from which the information is to be retrieved are represented as vectors  The vector space model has the following limitations 1  ; similarity =  0.501208\n"
          ]
        },
        {
          "output_type": "stream",
          "name": "stderr",
          "text": [
            "100%|██████████| 1/1 [00:00<00:00,  7.14it/s]\n",
            "100%|██████████| 1/1 [00:00<00:00,  9.03it/s]\n"
          ]
        },
        {
          "output_type": "stream",
          "name": "stdout",
          "text": [
            "Sentence =   Each document is a vector where each word is a dimension  A document is represented as a vector  ; similarity =  0.8187129\n"
          ]
        },
        {
          "output_type": "stream",
          "name": "stderr",
          "text": [
            "100%|██████████| 1/1 [00:00<00:00,  6.32it/s]\n",
            "100%|██████████| 1/1 [00:00<00:00,  6.87it/s]\n"
          ]
        },
        {
          "output_type": "stream",
          "name": "stdout",
          "text": [
            "Sentence =   If a term exists in a document its value in the vector is not equal to zero  If a term occurs in the document its value is non zero  ; similarity =  0.8075077\n"
          ]
        },
        {
          "output_type": "stream",
          "name": "stderr",
          "text": [
            "100%|██████████| 1/1 [00:00<00:00,  6.93it/s]\n",
            "100%|██████████| 1/1 [00:00<00:00,  6.06it/s]\n"
          ]
        },
        {
          "output_type": "stream",
          "name": "stdout",
          "text": [
            "Sentence =   With little or no modification it is intended to help reuse existing code  The peropos of inheritance in object oriented programming is to minimize the reuse of existing code without modification  ; similarity =  0.6397198\n"
          ]
        },
        {
          "output_type": "stream",
          "name": "stderr",
          "text": [
            "100%|██████████| 1/1 [00:00<00:00,  7.11it/s]\n",
            "100%|██████████| 1/1 [00:00<00:00,  8.75it/s]\n"
          ]
        },
        {
          "output_type": "stream",
          "name": "stdout",
          "text": [
            "Sentence =   The vector space model has the following limitations 1  The vector space model has some limitations 1  ; similarity =  0.9565496\n"
          ]
        },
        {
          "output_type": "stream",
          "name": "stderr",
          "text": [
            "100%|██████████| 1/1 [00:00<00:00,  6.56it/s]\n",
            "100%|██████████| 1/1 [00:00<00:00,  7.75it/s]\n"
          ]
        },
        {
          "output_type": "stream",
          "name": "stdout",
          "text": [
            "Sentence =   P B is the prior or marginal probability of B and acts to normalise the probability   P B A is the conditional probability of B given A  ; similarity =  0.85331506\n"
          ]
        },
        {
          "output_type": "stream",
          "name": "stderr",
          "text": [
            "100%|██████████| 1/1 [00:00<00:00,  6.26it/s]\n",
            "100%|██████████| 1/1 [00:00<00:00,  7.40it/s]\n"
          ]
        },
        {
          "output_type": "stream",
          "name": "stdout",
          "text": [
            "Sentence =   The idea of inheritance is to reuse the existing code with little or no modification at all  It is intended to help reuse existing code with little or no modification  ; similarity =  0.80822945\n"
          ]
        },
        {
          "output_type": "stream",
          "name": "stderr",
          "text": [
            "100%|██████████| 1/1 [00:00<00:00,  6.09it/s]\n",
            "100%|██████████| 1/1 [00:00<00:00,  7.14it/s]\n"
          ]
        },
        {
          "output_type": "stream",
          "name": "stdout",
          "text": [
            "Sentence =   A document is represented as a vector with each dimension corresponding to a separate term  A document is represented as a vector and each dimension corresponds to a separate term  ; similarity =  0.99507886\n"
          ]
        },
        {
          "output_type": "stream",
          "name": "stderr",
          "text": [
            "100%|██████████| 1/1 [00:00<00:00,  7.86it/s]\n",
            "100%|██████████| 1/1 [00:00<00:00,  8.88it/s]\n"
          ]
        },
        {
          "output_type": "stream",
          "name": "stdout",
          "text": [
            "Sentence =   This is highly used in dynamic programming  There are two main approaches for dynamic programming  ; similarity =  0.68707037\n"
          ]
        },
        {
          "output_type": "stream",
          "name": "stderr",
          "text": [
            "100%|██████████| 1/1 [00:00<00:00,  6.15it/s]\n",
            "100%|██████████| 1/1 [00:00<00:00,  7.33it/s]\n"
          ]
        },
        {
          "output_type": "stream",
          "name": "stdout",
          "text": [
            "Sentence =   Then using this the best overall path can be found thereby demonstrating the dynamic programming principle  After this it is using this to pick the best overall path  ; similarity =  0.62407476\n"
          ]
        },
        {
          "output_type": "stream",
          "name": "stderr",
          "text": [
            "100%|██████████| 1/1 [00:00<00:00,  6.27it/s]\n",
            "100%|██████████| 1/1 [00:00<00:00,  6.81it/s]\n"
          ]
        },
        {
          "output_type": "stream",
          "name": "stdout",
          "text": [
            "Sentence =   However an object cannot be cast to a class which is no relative of it  Here by meaning that a program can be an optimal plan for the produced action  ; similarity =  -0.0031646695\n"
          ]
        },
        {
          "output_type": "stream",
          "name": "stderr",
          "text": [
            "100%|██████████| 1/1 [00:00<00:00,  6.54it/s]\n",
            "100%|██████████| 1/1 [00:00<00:00,  6.48it/s]\n"
          ]
        },
        {
          "output_type": "stream",
          "name": "stdout",
          "text": [
            "Sentence =   The order in which the terms appear in the document is lost in the vector space representation  In vector space model the documents from which the information is to be retrieved are represented as vectors  ; similarity =  0.6390578\n"
          ]
        },
        {
          "output_type": "stream",
          "name": "stderr",
          "text": [
            "100%|██████████| 1/1 [00:00<00:00,  6.56it/s]\n",
            "100%|██████████| 1/1 [00:00<00:00,  6.73it/s]\n"
          ]
        },
        {
          "output_type": "stream",
          "name": "stdout",
          "text": [
            "Sentence =   The vector is then constucted of the frequency of eacher word dimension  The basic idea is to represent each document as a vector of certain weighted word frequencies  ; similarity =  0.74707246\n"
          ]
        },
        {
          "output_type": "stream",
          "name": "stderr",
          "text": [
            "100%|██████████| 1/1 [00:00<00:00,  7.60it/s]\n",
            "100%|██████████| 1/1 [00:00<00:00,  7.30it/s]\n"
          ]
        },
        {
          "output_type": "stream",
          "name": "stdout",
          "text": [
            "Sentence =   Typically terms are single words keywords or longer phrases  Typically terms are keywords single words or longer phrases  ; similarity =  0.9886976\n"
          ]
        },
        {
          "output_type": "stream",
          "name": "stderr",
          "text": [
            "100%|██████████| 1/1 [00:00<00:00,  7.26it/s]\n",
            "100%|██████████| 1/1 [00:00<00:00,  6.91it/s]\n"
          ]
        },
        {
          "output_type": "stream",
          "name": "stdout",
          "text": [
            "Sentence =   P B A is the conditional probability of B given A   P A B is the conditional probability of A given B  ; similarity =  0.98315823\n"
          ]
        },
        {
          "output_type": "stream",
          "name": "stderr",
          "text": [
            "100%|██████████| 1/1 [00:00<00:00,  6.17it/s]\n",
            "100%|██████████| 1/1 [00:00<00:00,  7.18it/s]\n"
          ]
        },
        {
          "output_type": "stream",
          "name": "stdout",
          "text": [
            "Sentence =   When one class inherits from another class all the public variables and methods are available to the subclass  Then you could have an extended hierarchy where a Mass Transport class extends the Transport class  ; similarity =  0.49576855\n"
          ]
        },
        {
          "output_type": "stream",
          "name": "stderr",
          "text": [
            "100%|██████████| 1/1 [00:00<00:00,  6.46it/s]\n",
            "100%|██████████| 1/1 [00:00<00:00,  7.23it/s]\n"
          ]
        },
        {
          "output_type": "stream",
          "name": "stdout",
          "text": [
            "Sentence =   If a term appears in the document then its value in the vector is non zero  In the vector space model a document is represented as a vector  ; similarity =  0.6057563\n"
          ]
        },
        {
          "output_type": "stream",
          "name": "stderr",
          "text": [
            "100%|██████████| 1/1 [00:00<00:00,  6.19it/s]\n",
            "100%|██████████| 1/1 [00:00<00:00,  7.05it/s]\n"
          ]
        },
        {
          "output_type": "stream",
          "name": "stdout",
          "text": [
            "Sentence =   The order in which the terms appear in the document is lost in the vector space representation  If a term occurs in the document the value will be non zero in the vector  ; similarity =  0.6006219\n"
          ]
        },
        {
          "output_type": "stream",
          "name": "stderr",
          "text": [
            "100%|██████████| 1/1 [00:00<00:00,  7.07it/s]\n",
            "100%|██████████| 1/1 [00:00<00:00,  7.16it/s]\n"
          ]
        },
        {
          "output_type": "stream",
          "name": "stdout",
          "text": [
            "Sentence =   Each document is a vector where each word is a dimension  A document is represented as a vector and each dimension corresponds to a separate term  ; similarity =  0.9021884\n"
          ]
        },
        {
          "output_type": "stream",
          "name": "stderr",
          "text": [
            "100%|██████████| 1/1 [00:00<00:00,  7.16it/s]\n",
            "100%|██████████| 1/1 [00:00<00:00,  6.94it/s]\n"
          ]
        },
        {
          "output_type": "stream",
          "name": "stdout",
          "text": [
            "Sentence =   Its first use was in the SMART Information Retrieval System  It is used in information retrieval and was first used in the SMART Information Retrieval System  ; similarity =  0.9506568\n"
          ]
        },
        {
          "output_type": "stream",
          "name": "stderr",
          "text": [
            "100%|██████████| 1/1 [00:00<00:00,  5.70it/s]\n",
            "100%|██████████| 1/1 [00:00<00:00,  7.30it/s]\n"
          ]
        },
        {
          "output_type": "stream",
          "name": "stdout",
          "text": [
            "Sentence =   Finally the order in which the terms appear in the document is lost in the vector space representation  In the vector space model a document is represented as a vector  ; similarity =  0.67565674\n"
          ]
        },
        {
          "output_type": "stream",
          "name": "stderr",
          "text": [
            "100%|██████████| 1/1 [00:00<00:00,  7.53it/s]\n",
            "100%|██████████| 1/1 [00:00<00:00,  7.25it/s]\n"
          ]
        },
        {
          "output_type": "stream",
          "name": "stdout",
          "text": [
            "Sentence =   Typically terms are keywords single words or longer phrases  Typically terms are single words keywords or sometimes even longer phrases  ; similarity =  0.98412615\n"
          ]
        },
        {
          "output_type": "stream",
          "name": "stderr",
          "text": [
            "100%|██████████| 1/1 [00:00<00:00,  7.39it/s]\n",
            "100%|██████████| 1/1 [00:00<00:00,  7.40it/s]\n"
          ]
        },
        {
          "output_type": "stream",
          "name": "stdout",
          "text": [
            "Sentence =   Google owns exclusive license rights on the patent from Stanford University  Nevertheless the patent is assigned to the University of Stanford and not to Google  ; similarity =  0.68032384\n"
          ]
        },
        {
          "output_type": "stream",
          "name": "stderr",
          "text": [
            "100%|██████████| 1/1 [00:00<00:00,  6.75it/s]\n",
            "100%|██████████| 1/1 [00:00<00:00,  6.72it/s]\n"
          ]
        },
        {
          "output_type": "stream",
          "name": "stdout",
          "text": [
            "Sentence =   It does not take into account any information about B and therefore is considered prior  It doesn t take into account any information about B so it is prior  ; similarity =  0.9491613\n"
          ]
        },
        {
          "output_type": "stream",
          "name": "stderr",
          "text": [
            "100%|██████████| 1/1 [00:00<00:00,  6.27it/s]\n",
            "100%|██████████| 1/1 [00:00<00:00,  6.73it/s]\n"
          ]
        },
        {
          "output_type": "stream",
          "name": "stdout",
          "text": [
            "Sentence =   P B is the prior or marginal probability of B and acts as a normalizing constant  P B a k a the normalizing constant is the prior or marginal probability of B  ; similarity =  0.9497748\n"
          ]
        },
        {
          "output_type": "stream",
          "name": "stderr",
          "text": [
            "100%|██████████| 1/1 [00:00<00:00,  6.12it/s]\n",
            "100%|██████████| 1/1 [00:00<00:00,  6.17it/s]\n"
          ]
        },
        {
          "output_type": "stream",
          "name": "stdout",
          "text": [
            "Sentence =   It is also called the subsequent probability because it is derived from or depends upon the specified value of B  It is also called the posterior probability because it is derived from or depends upon the specified value of B  ; similarity =  0.90451276\n"
          ]
        },
        {
          "output_type": "stream",
          "name": "stderr",
          "text": [
            "100%|██████████| 1/1 [00:00<00:00,  5.73it/s]\n",
            "100%|██████████| 1/1 [00:00<00:00,  6.18it/s]\n"
          ]
        },
        {
          "output_type": "stream",
          "name": "stdout",
          "text": [
            "Sentence =   The PageRank is a recursive algorithm used by Google to determine which webpages are more important than others  Since the PageRank is the most important algorithms which is used in the Google engine  ; similarity =  0.8293291\n"
          ]
        },
        {
          "output_type": "stream",
          "name": "stderr",
          "text": [
            "100%|██████████| 1/1 [00:00<00:00,  5.93it/s]\n",
            "100%|██████████| 1/1 [00:00<00:00,  6.92it/s]\n"
          ]
        },
        {
          "output_type": "stream",
          "name": "stdout",
          "text": [
            "Sentence =   Following this each web page is given a ranking of 0 10 according to its relevance to a search  Adding on this last section for every other page linked to from the original page  ; similarity =  0.3991671\n"
          ]
        },
        {
          "output_type": "stream",
          "name": "stderr",
          "text": [
            "100%|██████████| 1/1 [00:00<00:00,  5.98it/s]\n",
            "100%|██████████| 1/1 [00:00<00:00,  6.32it/s]\n"
          ]
        },
        {
          "output_type": "stream",
          "name": "stdout",
          "text": [
            "Sentence =   The PageRank depends on the PageRank rating and number of all pages that have links to it  of a particular page is roughly based upon the quantity of inbound links as well as the PageRank  ; similarity =  0.87313044\n"
          ]
        },
        {
          "output_type": "stream",
          "name": "stderr",
          "text": [
            "100%|██████████| 1/1 [00:00<00:00,  8.19it/s]\n",
            "100%|██████████| 1/1 [00:00<00:00,  6.98it/s]\n"
          ]
        },
        {
          "output_type": "stream",
          "name": "stdout",
          "text": [
            "Sentence =   Construct an optimal solution from computed values  Use these optimal solutions to construct an optimal solution for the original problem  ; similarity =  0.81253755\n"
          ]
        },
        {
          "output_type": "stream",
          "name": "stderr",
          "text": [
            "100%|██████████| 1/1 [00:00<00:00,  7.22it/s]\n",
            "100%|██████████| 1/1 [00:00<00:00,  7.99it/s]\n"
          ]
        },
        {
          "output_type": "stream",
          "name": "stdout",
          "text": [
            "Sentence =   P A B is the conditional probability of A given B   P B A is the conditional probability of B given A  ; similarity =  0.98315823\n"
          ]
        },
        {
          "output_type": "stream",
          "name": "stderr",
          "text": [
            "100%|██████████| 1/1 [00:00<00:00,  6.53it/s]\n",
            "100%|██████████| 1/1 [00:00<00:00,  8.70it/s]\n"
          ]
        },
        {
          "output_type": "stream",
          "name": "stdout",
          "text": [
            "Sentence =   When a document is represented as a vector each dimension corresponds to a separate term  Every dimension relates to a different term  ; similarity =  0.67730254\n"
          ]
        },
        {
          "output_type": "stream",
          "name": "stderr",
          "text": [
            "100%|██████████| 1/1 [00:00<00:00,  6.21it/s]\n",
            "100%|██████████| 1/1 [00:00<00:00,  5.93it/s]\n"
          ]
        },
        {
          "output_type": "stream",
          "name": "stdout",
          "text": [
            "Sentence =   The number of unique words in the vocabulary denotes the dimensionality if words are used for the terms  In this classic model the term specific weights in the document vectors are products of local and global parameters  ; similarity =  0.5086171\n"
          ]
        },
        {
          "output_type": "stream",
          "name": "stderr",
          "text": [
            "100%|██████████| 1/1 [00:00<00:00,  7.29it/s]\n",
            "100%|██████████| 1/1 [00:00<00:00,  6.50it/s]\n"
          ]
        },
        {
          "output_type": "stream",
          "name": "stdout",
          "text": [
            "Sentence =   Single words keywords and occasionally longer phrases are used for terms  The number of unique words in the vocabulary denotes the dimensionality if words are used for the terms  ; similarity =  0.7267603\n"
          ]
        },
        {
          "output_type": "stream",
          "name": "stderr",
          "text": [
            "100%|██████████| 1/1 [00:00<00:00,  6.56it/s]\n",
            "100%|██████████| 1/1 [00:00<00:00,  8.68it/s]\n"
          ]
        },
        {
          "output_type": "stream",
          "name": "stdout",
          "text": [
            "Sentence =   The similarity measures largely identify the retrieval efficiency of a particular information retrieval system  Its first use was in the SMART Information Retrieval System  ; similarity =  0.4582773\n"
          ]
        },
        {
          "output_type": "stream",
          "name": "stderr",
          "text": [
            "100%|██████████| 1/1 [00:00<00:00,  6.52it/s]\n",
            "100%|██████████| 1/1 [00:00<00:00,  6.33it/s]\n"
          ]
        },
        {
          "output_type": "stream",
          "name": "stdout",
          "text": [
            "Sentence =   In probability theory Bayes theorem relates the conditional and marginal probabilities of two random events  Bayes theorem was names after Rev Thomas Bayes and is a method used in probability theory  ; similarity =  0.6112636\n"
          ]
        },
        {
          "output_type": "stream",
          "name": "stderr",
          "text": [
            "100%|██████████| 1/1 [00:00<00:00,  6.43it/s]\n",
            "100%|██████████| 1/1 [00:00<00:00,  6.25it/s]\n"
          ]
        },
        {
          "output_type": "stream",
          "name": "stdout",
          "text": [
            "Sentence =   This can be useful when the number of times a word appears is not considered important  It is previous in the sense that it does not take into account any information about B  ; similarity =  0.2820968\n"
          ]
        },
        {
          "output_type": "stream",
          "name": "stderr",
          "text": [
            "100%|██████████| 1/1 [00:00<00:00,  7.66it/s]\n",
            "100%|██████████| 1/1 [00:00<00:00,  8.31it/s]\n"
          ]
        },
        {
          "output_type": "stream",
          "name": "stdout",
          "text": [
            "Sentence =   Break up the problem different smaller subproblems  Break the problem into smaller subproblems  ; similarity =  0.93804866\n"
          ]
        },
        {
          "output_type": "stream",
          "name": "stderr",
          "text": [
            "100%|██████████| 1/1 [00:00<00:00,  6.92it/s]\n",
            "100%|██████████| 1/1 [00:00<00:00,  7.50it/s]\n"
          ]
        },
        {
          "output_type": "stream",
          "name": "stdout",
          "text": [
            "Sentence =   This approach is called memoization not memorization although this term also fits  A well known term used for this replacing act is called overriding  ; similarity =  0.33854106\n"
          ]
        },
        {
          "output_type": "stream",
          "name": "stderr",
          "text": [
            "100%|██████████| 1/1 [00:00<00:00,  7.34it/s]\n",
            "100%|██████████| 1/1 [00:00<00:00,  8.23it/s]\n"
          ]
        },
        {
          "output_type": "stream",
          "name": "stdout",
          "text": [
            "Sentence =   The second method is the use of links  The first is the bottom up approach  ; similarity =  0.35896337\n"
          ]
        },
        {
          "output_type": "stream",
          "name": "stderr",
          "text": [
            "100%|██████████| 1/1 [00:00<00:00,  5.94it/s]\n",
            "100%|██████████| 1/1 [00:00<00:00,  7.02it/s]\n"
          ]
        },
        {
          "output_type": "stream",
          "name": "stdout",
          "text": [
            "Sentence =   A Vector space model is an algebraic model for representing text documents as vectors of identifiers  The vector space model are the documents which are represented as bags of words  ; similarity =  0.8273001\n"
          ]
        },
        {
          "output_type": "stream",
          "name": "stderr",
          "text": [
            "100%|██████████| 1/1 [00:00<00:00,  7.43it/s]\n",
            "100%|██████████| 1/1 [00:00<00:00,  7.92it/s]\n"
          ]
        },
        {
          "output_type": "stream",
          "name": "stdout",
          "text": [
            "Sentence =   P A B is the conditional probability of A given B   P B A is the conditional probability of B given A  ; similarity =  0.98315823\n"
          ]
        },
        {
          "output_type": "stream",
          "name": "stderr",
          "text": [
            "100%|██████████| 1/1 [00:00<00:00,  7.75it/s]\n",
            "100%|██████████| 1/1 [00:00<00:00,  8.17it/s]\n"
          ]
        },
        {
          "output_type": "stream",
          "name": "stdout",
          "text": [
            "Sentence =   The vector space model has several disadvantages  A document has representation as a vector  ; similarity =  0.33196527\n"
          ]
        },
        {
          "output_type": "stream",
          "name": "stderr",
          "text": [
            "100%|██████████| 1/1 [00:00<00:00,  6.69it/s]\n",
            "100%|██████████| 1/1 [00:00<00:00,  8.25it/s]\n"
          ]
        },
        {
          "output_type": "stream",
          "name": "stdout",
          "text": [
            "Sentence =   If a term appears in the document the terms value in the vector is non zero  A document is represented as a vector  ; similarity =  0.5862549\n"
          ]
        },
        {
          "output_type": "stream",
          "name": "stderr",
          "text": [
            "100%|██████████| 1/1 [00:00<00:00,  7.73it/s]\n",
            "100%|██████████| 1/1 [00:00<00:00,  6.96it/s]\n"
          ]
        },
        {
          "output_type": "stream",
          "name": "stdout",
          "text": [
            "Sentence =   Every dimension is precisely related to a separate term  A document is represented as a vector with each dimension corresponding to a separate term  ; similarity =  0.66659373\n"
          ]
        },
        {
          "output_type": "stream",
          "name": "stderr",
          "text": [
            "100%|██████████| 1/1 [00:00<00:00,  7.89it/s]\n",
            "100%|██████████| 1/1 [00:00<00:00,  8.46it/s]\n"
          ]
        },
        {
          "output_type": "stream",
          "name": "stdout",
          "text": [
            "Sentence =   Characterise structure of an optimal solution  Generate the optimal solution of these computed values ; similarity =  0.7238232\n"
          ]
        },
        {
          "output_type": "stream",
          "name": "stderr",
          "text": [
            "100%|██████████| 1/1 [00:00<00:00,  6.54it/s]\n",
            "100%|██████████| 1/1 [00:00<00:00,  6.65it/s]\n"
          ]
        },
        {
          "output_type": "stream",
          "name": "stdout",
          "text": [
            "Sentence =   If a term occurs in the document its value is non zero  If a term exists in a document its value in the vector is not equal to zero  ; similarity =  0.8075077\n"
          ]
        },
        {
          "output_type": "stream",
          "name": "stderr",
          "text": [
            "100%|██████████| 1/1 [00:00<00:00,  6.15it/s]\n",
            "100%|██████████| 1/1 [00:00<00:00,  8.65it/s]\n"
          ]
        },
        {
          "output_type": "stream",
          "name": "stdout",
          "text": [
            "Sentence =   The differing application has a direct influence on what the definition of the term means  The definition of term depends on the application  ; similarity =  0.8616312\n"
          ]
        },
        {
          "output_type": "stream",
          "name": "stderr",
          "text": [
            "100%|██████████| 1/1 [00:00<00:00,  6.45it/s]\n",
            "100%|██████████| 1/1 [00:00<00:00,  7.41it/s]\n"
          ]
        },
        {
          "output_type": "stream",
          "name": "stdout",
          "text": [
            "Sentence =   Vector space representation results in the loss of the order which the terms are in the document  If a term appears in the document then its value in the vector is non zero  ; similarity =  0.5214715\n"
          ]
        },
        {
          "output_type": "stream",
          "name": "stderr",
          "text": [
            "100%|██████████| 1/1 [00:00<00:00,  6.11it/s]\n",
            "100%|██████████| 1/1 [00:00<00:00,  7.71it/s]\n"
          ]
        },
        {
          "output_type": "stream",
          "name": "stdout",
          "text": [
            "Sentence =   The last point would be to construct an optimal solution from the computed values  Use these optimal solutions to construct an optimal solution for the original problem  ; similarity =  0.70561284\n"
          ]
        },
        {
          "output_type": "stream",
          "name": "stderr",
          "text": [
            "100%|██████████| 1/1 [00:00<00:00,  6.06it/s]\n",
            "100%|██████████| 1/1 [00:00<00:00,  6.81it/s]\n"
          ]
        },
        {
          "output_type": "stream",
          "name": "stdout",
          "text": [
            "Sentence =   There is also Conditional Probability which is usually interested in the way variables relate to each other  Most of these languages provide an extend keyword which is used to subclass another  ; similarity =  0.22716473\n"
          ]
        },
        {
          "output_type": "stream",
          "name": "stderr",
          "text": [
            "100%|██████████| 1/1 [00:00<00:00,  5.90it/s]\n",
            "100%|██████████| 1/1 [00:00<00:00,  7.30it/s]\n"
          ]
        },
        {
          "output_type": "stream",
          "name": "stdout",
          "text": [
            "Sentence =   Thus the program is the optimal plan for action that is produced  The program is the optimal plan for action that is produced  ; similarity =  0.9908289\n"
          ]
        },
        {
          "output_type": "stream",
          "name": "stderr",
          "text": [
            "100%|██████████| 1/1 [00:00<00:00,  7.57it/s]\n",
            "100%|██████████| 1/1 [00:00<00:00,  7.03it/s]\n"
          ]
        },
        {
          "output_type": "stream",
          "name": "stdout",
          "text": [
            "Sentence =   Typically terms are single words keywords or longer phrases  Normally a term is a single word keyword or a longer phrase  ; similarity =  0.90961903\n"
          ]
        },
        {
          "output_type": "stream",
          "name": "stderr",
          "text": [
            "100%|██████████| 1/1 [00:00<00:00,  6.36it/s]\n",
            "100%|██████████| 1/1 [00:00<00:00,  7.30it/s]\n"
          ]
        },
        {
          "output_type": "stream",
          "name": "stdout",
          "text": [
            "Sentence =   The vector space model is one of these methods and it is an algebraic model  In the vector space model a document is represented as a vector  ; similarity =  0.64634496\n"
          ]
        },
        {
          "output_type": "stream",
          "name": "stderr",
          "text": [
            "100%|██████████| 1/1 [00:00<00:00,  6.53it/s]\n",
            "100%|██████████| 1/1 [00:00<00:00,  6.44it/s]\n"
          ]
        },
        {
          "output_type": "stream",
          "name": "stdout",
          "text": [
            "Sentence =   The order in which terms appear in the document is lost in a vector space representation  Vector space representation results in the loss of the order which the terms are in the document  ; similarity =  0.861903\n"
          ]
        },
        {
          "output_type": "stream",
          "name": "stderr",
          "text": [
            "100%|██████████| 1/1 [00:00<00:00,  7.31it/s]\n",
            "100%|██████████| 1/1 [00:00<00:00,  6.15it/s]\n"
          ]
        },
        {
          "output_type": "stream",
          "name": "stdout",
          "text": [
            "Sentence =   Bayes theorem is also often known as Bayes law  As an official theorem Bayes theorem is valid in all universal interpretations of probability  ; similarity =  0.5134609\n"
          ]
        },
        {
          "output_type": "stream",
          "name": "stderr",
          "text": [
            "100%|██████████| 1/1 [00:00<00:00,  6.48it/s]\n",
            "100%|██████████| 1/1 [00:00<00:00,  7.23it/s]\n"
          ]
        },
        {
          "output_type": "stream",
          "name": "stdout",
          "text": [
            "Sentence =   The value of a vector is non zero if a term occurs in the document  A document is represented as a vector and each dimension corresponds to a separate term  ; similarity =  0.6408541\n"
          ]
        },
        {
          "output_type": "stream",
          "name": "stderr",
          "text": [
            "100%|██████████| 1/1 [00:00<00:00,  7.50it/s]\n",
            "100%|██████████| 1/1 [00:00<00:00,  7.46it/s]\n"
          ]
        },
        {
          "output_type": "stream",
          "name": "stdout",
          "text": [
            "Sentence =   For example a person may be observed to have certain symptoms  For example a patient might be observed to show certain symptoms  ; similarity =  0.93492067\n"
          ]
        },
        {
          "output_type": "stream",
          "name": "stderr",
          "text": [
            "100%|██████████| 1/1 [00:00<00:00,  6.30it/s]\n",
            "100%|██████████| 1/1 [00:00<00:00,  6.60it/s]\n"
          ]
        },
        {
          "output_type": "stream",
          "name": "stdout",
          "text": [
            "Sentence =   If a term appears in the document then its value in the vector is non zero  If a term occurs in the document its value is non zero  ; similarity =  0.9089936\n"
          ]
        },
        {
          "output_type": "stream",
          "name": "stderr",
          "text": [
            "100%|██████████| 1/1 [00:00<00:00,  6.40it/s]\n",
            "100%|██████████| 1/1 [00:00<00:00,  7.31it/s]\n"
          ]
        },
        {
          "output_type": "stream",
          "name": "stdout",
          "text": [
            "Sentence =   The easiest way to look at inheritance is as an is a kind of relationship  It is therefore used to create relationships between one object and another  ; similarity =  0.5189869\n"
          ]
        },
        {
          "output_type": "stream",
          "name": "stderr",
          "text": [
            "100%|██████████| 1/1 [00:00<00:00,  6.81it/s]\n",
            "100%|██████████| 1/1 [00:00<00:00,  6.67it/s]\n"
          ]
        },
        {
          "output_type": "stream",
          "name": "stdout",
          "text": [
            "Sentence =   Without a proof of correctness such an algorithm is likely to fail  It has no relationship to computer programming instead it is a process of finding a satisfactory algorithm  ; similarity =  0.5720578\n"
          ]
        },
        {
          "output_type": "stream",
          "name": "stderr",
          "text": [
            "100%|██████████| 1/1 [00:00<00:00,  6.43it/s]\n",
            "100%|██████████| 1/1 [00:00<00:00,  6.08it/s]\n"
          ]
        },
        {
          "output_type": "stream",
          "name": "stdout",
          "text": [
            "Sentence =   Most of these languages provide an extend keyword which is used to subclass another  If this occurs then all of the non private methods and variables can be used by the most specialised class  ; similarity =  0.45422983\n"
          ]
        },
        {
          "output_type": "stream",
          "name": "stderr",
          "text": [
            "100%|██████████| 1/1 [00:00<00:00,  5.59it/s]\n",
            "100%|██████████| 1/1 [00:00<00:00,  6.40it/s]\n"
          ]
        },
        {
          "output_type": "stream",
          "name": "stdout",
          "text": [
            "Sentence =   This means that inheritance is used when types have common factors and these would be put into the superclass  Occasionally it is advantageous to differentiate between these uses as it is not necessarily noticeable from context  ; similarity =  0.3020414\n"
          ]
        },
        {
          "output_type": "stream",
          "name": "stderr",
          "text": [
            "100%|██████████| 1/1 [00:00<00:00,  6.60it/s]\n",
            "100%|██████████| 1/1 [00:00<00:00,  6.35it/s]\n"
          ]
        },
        {
          "output_type": "stream",
          "name": "stdout",
          "text": [
            "Sentence =   If the term doesn t occur within the document the value in the vector is zero  If a term exists in a document its value in the vector is not equal to zero  ; similarity =  0.75962555\n"
          ]
        },
        {
          "output_type": "stream",
          "name": "stderr",
          "text": [
            "100%|██████████| 1/1 [00:00<00:00,  7.52it/s]\n",
            "100%|██████████| 1/1 [00:00<00:00,  8.17it/s]\n"
          ]
        },
        {
          "output_type": "stream",
          "name": "stdout",
          "text": [
            "Sentence =   The vector space model has the following limitations 1  However the vector space model has limitations  ; similarity =  0.9031967\n"
          ]
        },
        {
          "output_type": "stream",
          "name": "stderr",
          "text": [
            "100%|██████████| 1/1 [00:00<00:00,  5.65it/s]\n",
            "100%|██████████| 1/1 [00:00<00:00,  7.19it/s]\n"
          ]
        },
        {
          "output_type": "stream",
          "name": "stdout",
          "text": [
            "Sentence =   Vector space representation results in the loss of the order which the terms are in the document  If the term doesn t occur within the document the value in the vector is zero  ; similarity =  0.61716914\n"
          ]
        },
        {
          "output_type": "stream",
          "name": "stderr",
          "text": [
            "100%|██████████| 1/1 [00:00<00:00,  6.30it/s]\n",
            "100%|██████████| 1/1 [00:00<00:00,  7.13it/s]\n"
          ]
        },
        {
          "output_type": "stream",
          "name": "stdout",
          "text": [
            "Sentence =   It is used in information filtering indexing relevancy rankings and information retrieval  A possible use for a vector space model is for retrieval and filtering of information  ; similarity =  0.6826244\n"
          ]
        },
        {
          "output_type": "stream",
          "name": "stderr",
          "text": [
            "100%|██████████| 1/1 [00:00<00:00,  7.28it/s]\n",
            "100%|██████████| 1/1 [00:00<00:00,  6.95it/s]\n"
          ]
        },
        {
          "output_type": "stream",
          "name": "stdout",
          "text": [
            "Sentence =   This is highly used in dynamic programming  The key to Dynamic Programming is to find the structure of optimal solutions  ; similarity =  0.5928963\n"
          ]
        },
        {
          "output_type": "stream",
          "name": "stderr",
          "text": [
            "100%|██████████| 1/1 [00:00<00:00,  6.14it/s]\n",
            "100%|██████████| 1/1 [00:00<00:00,  6.54it/s]\n"
          ]
        },
        {
          "output_type": "stream",
          "name": "stdout",
          "text": [
            "Sentence =   The idea of inheritance is to reuse the existing code with little or no modification at all  The idea of inheritance in OOP refers to the formation of new classes with the already existing classes  ; similarity =  0.4331629\n"
          ]
        },
        {
          "output_type": "stream",
          "name": "stderr",
          "text": [
            "100%|██████████| 1/1 [00:00<00:00,  6.63it/s]\n",
            "100%|██████████| 1/1 [00:00<00:00,  7.25it/s]\n"
          ]
        },
        {
          "output_type": "stream",
          "name": "stdout",
          "text": [
            "Sentence =   This general three step process can be used to solve a problem 1  Solve these problems optimally using this three step process recursively  ; similarity =  0.8481536\n"
          ]
        },
        {
          "output_type": "stream",
          "name": "stderr",
          "text": [
            "100%|██████████| 1/1 [00:00<00:00,  6.75it/s]\n",
            "100%|██████████| 1/1 [00:00<00:00,  7.22it/s]\n"
          ]
        },
        {
          "output_type": "stream",
          "name": "stdout",
          "text": [
            "Sentence =   Models based on and extending the vector space model include Generalized vector space model  In the vector space model a document is represented as a vector  ; similarity =  0.6748596\n"
          ]
        },
        {
          "output_type": "stream",
          "name": "stderr",
          "text": [
            "100%|██████████| 1/1 [00:00<00:00,  6.33it/s]\n",
            "100%|██████████| 1/1 [00:00<00:00,  7.05it/s]\n"
          ]
        },
        {
          "output_type": "stream",
          "name": "stdout",
          "text": [
            "Sentence =   Dynamic Programming solves problems by combining the solutions of subproblems  However the key in Dynamic Programming is to determine the structure of optimal solutions  ; similarity =  0.7525073\n"
          ]
        },
        {
          "output_type": "stream",
          "name": "stderr",
          "text": [
            "100%|██████████| 1/1 [00:00<00:00,  6.32it/s]\n",
            "100%|██████████| 1/1 [00:00<00:00,  7.55it/s]\n"
          ]
        },
        {
          "output_type": "stream",
          "name": "stdout",
          "text": [
            "Sentence =   If a term exists in a document its value in the vector is not equal to zero  Each document is a vector where each word is a dimension  ; similarity =  0.71317893\n"
          ]
        },
        {
          "output_type": "stream",
          "name": "stderr",
          "text": [
            "100%|██████████| 1/1 [00:00<00:00,  7.12it/s]\n",
            "100%|██████████| 1/1 [00:00<00:00,  8.28it/s]\n"
          ]
        },
        {
          "output_type": "stream",
          "name": "stdout",
          "text": [
            "Sentence =   For each document count the number of occurrences of each word  Each document is a vector where each word is a dimension  ; similarity =  0.72151756\n"
          ]
        },
        {
          "output_type": "stream",
          "name": "stderr",
          "text": [
            "100%|██████████| 1/1 [00:00<00:00,  5.56it/s]\n",
            "100%|██████████| 1/1 [00:00<00:00,  6.94it/s]\n"
          ]
        },
        {
          "output_type": "stream",
          "name": "stdout",
          "text": [
            "Sentence =   In probability theory the prior and conditional probabilities of two random events are related by Bayes theorem  Bayes Theorem is a simple mathematical formula used for calculating conditional probabilities  ; similarity =  0.60107064\n"
          ]
        },
        {
          "output_type": "stream",
          "name": "stderr",
          "text": [
            "100%|██████████| 1/1 [00:00<00:00,  6.05it/s]\n",
            "100%|██████████| 1/1 [00:00<00:00,  6.98it/s]\n"
          ]
        },
        {
          "output_type": "stream",
          "name": "stdout",
          "text": [
            "Sentence =   The number of unique words in the vocabulary denotes the dimensionality if words are used for the terms  If a term appears in the document the terms value in the vector is non zero  ; similarity =  0.4557654\n"
          ]
        },
        {
          "output_type": "stream",
          "name": "stderr",
          "text": [
            "100%|██████████| 1/1 [00:00<00:00,  5.76it/s]\n",
            "100%|██████████| 1/1 [00:00<00:00,  6.23it/s]\n"
          ]
        },
        {
          "output_type": "stream",
          "name": "stdout",
          "text": [
            "Sentence =   of a particular page is roughly based upon the quantity of inbound links as well as the PageRank  A variation of the PageRank method bases the importance of a webpage on how many visits the page gets  ; similarity =  0.77398604\n"
          ]
        },
        {
          "output_type": "stream",
          "name": "stderr",
          "text": [
            "100%|██████████| 1/1 [00:00<00:00,  6.50it/s]\n",
            "100%|██████████| 1/1 [00:00<00:00,  7.44it/s]\n"
          ]
        },
        {
          "output_type": "stream",
          "name": "stdout",
          "text": [
            "Sentence =   One of the most popular schemes is tf idf weighting  One of the most famous schemes is tf idf weighting  ; similarity =  0.9624151\n"
          ]
        },
        {
          "output_type": "stream",
          "name": "stderr",
          "text": [
            "100%|██████████| 1/1 [00:00<00:00,  7.79it/s]\n",
            "100%|██████████| 1/1 [00:00<00:00,  8.25it/s]\n"
          ]
        },
        {
          "output_type": "stream",
          "name": "stdout",
          "text": [
            "Sentence =   With each separate term corresponding to the differing dimensions  Each dimension corresponds to a separate term  ; similarity =  0.8853115\n"
          ]
        },
        {
          "output_type": "stream",
          "name": "stderr",
          "text": [
            "100%|██████████| 1/1 [00:00<00:00,  7.02it/s]\n",
            "100%|██████████| 1/1 [00:00<00:00,  8.52it/s]\n"
          ]
        },
        {
          "output_type": "stream",
          "name": "stdout",
          "text": [
            "Sentence =   Recursively define the value of an optimal solution 3  Generate the optimal solution of these computed values ; similarity =  0.72907585\n"
          ]
        },
        {
          "output_type": "stream",
          "name": "stderr",
          "text": [
            "100%|██████████| 1/1 [00:00<00:00,  7.93it/s]\n",
            "100%|██████████| 1/1 [00:00<00:00,  6.69it/s]\n"
          ]
        },
        {
          "output_type": "stream",
          "name": "stdout",
          "text": [
            "Sentence =   Every dimension relates to a different term  A document is represented as a vector and each dimension corresponds to a separate term  ; similarity =  0.6718796\n"
          ]
        },
        {
          "output_type": "stream",
          "name": "stderr",
          "text": [
            "100%|██████████| 1/1 [00:00<00:00,  8.19it/s]\n",
            "100%|██████████| 1/1 [00:00<00:00,  7.07it/s]\n"
          ]
        },
        {
          "output_type": "stream",
          "name": "stdout",
          "text": [
            "Sentence =   A document is represented as a vector  A document is represented as a vector and each dimension corresponds to a separate term  ; similarity =  0.85220075\n"
          ]
        },
        {
          "output_type": "stream",
          "name": "stderr",
          "text": [
            "100%|██████████| 1/1 [00:00<00:00,  5.91it/s]\n",
            "100%|██████████| 1/1 [00:00<00:00,  7.29it/s]\n"
          ]
        },
        {
          "output_type": "stream",
          "name": "stdout",
          "text": [
            "Sentence =   The peropos of inheritance in object oriented programming is to minimize the reuse of existing code without modification  However the key in Dynamic Programming is to determine the structure of optimal solutions  ; similarity =  0.25473145\n"
          ]
        },
        {
          "output_type": "stream",
          "name": "stderr",
          "text": [
            "100%|██████████| 1/1 [00:00<00:00,  6.72it/s]\n",
            "100%|██████████| 1/1 [00:00<00:00,  6.66it/s]\n"
          ]
        },
        {
          "output_type": "stream",
          "name": "stdout",
          "text": [
            "Sentence =   A document is represented as a vector and each dimension corresponds to a separate term  When a document is represented as a vector each dimension corresponds to a separate term  ; similarity =  0.9810269\n"
          ]
        },
        {
          "output_type": "stream",
          "name": "stderr",
          "text": [
            "100%|██████████| 1/1 [00:00<00:00,  6.89it/s]\n",
            "100%|██████████| 1/1 [00:00<00:00,  6.15it/s]\n"
          ]
        },
        {
          "output_type": "stream",
          "name": "stdout",
          "text": [
            "Sentence =   The vector space model is one of these methods and it is an algebraic model  The algebraic model for representing text documents and objects as vectors of identifiers is called the vector space model  ; similarity =  0.8105559\n"
          ]
        },
        {
          "output_type": "stream",
          "name": "stderr",
          "text": [
            "100%|██████████| 1/1 [00:00<00:00,  7.22it/s]\n",
            "100%|██████████| 1/1 [00:00<00:00,  6.79it/s]\n"
          ]
        },
        {
          "output_type": "stream",
          "name": "stdout",
          "text": [
            "Sentence =   Use these optimal solutions to construct an optimal solution for the original problem  Construct an optimal solution using the computed optimal subproblems for the original problem  ; similarity =  0.919146\n"
          ]
        },
        {
          "output_type": "stream",
          "name": "stderr",
          "text": [
            "100%|██████████| 1/1 [00:00<00:00,  7.86it/s]\n",
            "100%|██████████| 1/1 [00:00<00:00,  6.92it/s]\n"
          ]
        },
        {
          "output_type": "stream",
          "name": "stdout",
          "text": [
            "Sentence =   It is valid in all common interpretations of probability  As an official theorem Bayes theorem is valid in all universal interpretations of probability  ; similarity =  0.80451894\n"
          ]
        },
        {
          "output_type": "stream",
          "name": "stderr",
          "text": [
            "100%|██████████| 1/1 [00:00<00:00,  6.07it/s]\n",
            "100%|██████████| 1/1 [00:00<00:00,  6.90it/s]\n"
          ]
        },
        {
          "output_type": "stream",
          "name": "stdout",
          "text": [
            "Sentence =   The order in which the terms appear in the document is lost in the vector space representation  If the term doesn t occur within the document the value in the vector is zero  ; similarity =  0.65855855\n"
          ]
        },
        {
          "output_type": "stream",
          "name": "stderr",
          "text": [
            "100%|██████████| 1/1 [00:00<00:00,  6.22it/s]\n",
            "100%|██████████| 1/1 [00:00<00:00,  6.41it/s]\n"
          ]
        },
        {
          "output_type": "stream",
          "name": "stdout",
          "text": [
            "Sentence =   Vector space representation results in the loss of the order which the terms are in the document  Terms are basically the words or any indexing unit used to identify the contents of a text  ; similarity =  0.5288014\n"
          ]
        },
        {
          "output_type": "stream",
          "name": "stderr",
          "text": [
            "100%|██████████| 1/1 [00:00<00:00,  7.33it/s]\n",
            "100%|██████████| 1/1 [00:00<00:00,  7.26it/s]\n"
          ]
        },
        {
          "output_type": "stream",
          "name": "stdout",
          "text": [
            "Sentence =   Generalise the structure of an optimal solution 2  The key to Dynamic Programming is to find the structure of optimal solutions  ; similarity =  0.63856536\n"
          ]
        },
        {
          "output_type": "stream",
          "name": "stderr",
          "text": [
            "100%|██████████| 1/1 [00:00<00:00,  6.35it/s]\n",
            "100%|██████████| 1/1 [00:00<00:00,  7.35it/s]\n"
          ]
        },
        {
          "output_type": "stream",
          "name": "stdout",
          "text": [
            "Sentence =   A website s page rank is how important it is on the web  A link to a page is seen as a vote of support  ; similarity =  0.51087505\n"
          ]
        },
        {
          "output_type": "stream",
          "name": "stderr",
          "text": [
            "100%|██████████| 1/1 [00:00<00:00,  6.41it/s]\n",
            "100%|██████████| 1/1 [00:00<00:00,  7.20it/s]\n"
          ]
        },
        {
          "output_type": "stream",
          "name": "stdout",
          "text": [
            "Sentence =   Thus the program is the optimal plan of action that is being produced  However the key in Dynamic Programming is to determine the structure of optimal solutions  ; similarity =  0.5492346\n"
          ]
        },
        {
          "output_type": "stream",
          "name": "stderr",
          "text": [
            "100%|██████████| 1/1 [00:00<00:00,  6.35it/s]\n",
            "100%|██████████| 1/1 [00:00<00:00,  5.78it/s]\n"
          ]
        },
        {
          "output_type": "stream",
          "name": "stdout",
          "text": [
            "Sentence =   Then using this the best overall path can be found thereby demonstrating the dynamic programming principle  In general dynamic programming is used on optimisation problems where the most efficient solution is needed  ; similarity =  0.66277504\n"
          ]
        },
        {
          "output_type": "stream",
          "name": "stderr",
          "text": [
            "100%|██████████| 1/1 [00:00<00:00,  6.47it/s]\n",
            "100%|██████████| 1/1 [00:00<00:00,  7.16it/s]\n"
          ]
        },
        {
          "output_type": "stream",
          "name": "stdout",
          "text": [
            "Sentence =   Many different methods of calculating these values sometimes known as term weights have been developed  Other ways of computing these values or weights have been developed  ; similarity =  0.8630636\n"
          ]
        },
        {
          "output_type": "stream",
          "name": "stderr",
          "text": [
            "100%|██████████| 1/1 [00:00<00:00,  6.21it/s]\n",
            "100%|██████████| 1/1 [00:00<00:00,  6.04it/s]\n"
          ]
        },
        {
          "output_type": "stream",
          "name": "stdout",
          "text": [
            "Sentence =   In probability theory the prior and conditional probabilities of two random events are related by Bayes theorem  Bayes theorem was names after Rev Thomas Bayes and is a method used in probability theory  ; similarity =  0.547632\n"
          ]
        },
        {
          "output_type": "stream",
          "name": "stderr",
          "text": [
            "100%|██████████| 1/1 [00:00<00:00,  6.70it/s]\n",
            "100%|██████████| 1/1 [00:00<00:00,  7.12it/s]\n"
          ]
        },
        {
          "output_type": "stream",
          "name": "stdout",
          "text": [
            "Sentence =   In order to avoid this we instead save the solutions to problems we have already solved  After this it is using this to pick the best overall path  ; similarity =  0.17525662\n"
          ]
        },
        {
          "output_type": "stream",
          "name": "stderr",
          "text": [
            "100%|██████████| 1/1 [00:00<00:00,  6.24it/s]\n",
            "100%|██████████| 1/1 [00:00<00:00,  6.71it/s]\n"
          ]
        },
        {
          "output_type": "stream",
          "name": "stdout",
          "text": [
            "Sentence =   P A or the probability that the student is a girl regardless of any other information  If a term exists in a document its value in the vector is not equal to zero  ; similarity =  0.32005283\n"
          ]
        },
        {
          "output_type": "stream",
          "name": "stderr",
          "text": [
            "100%|██████████| 1/1 [00:00<00:00,  6.60it/s]\n",
            "100%|██████████| 1/1 [00:00<00:00,  7.02it/s]\n"
          ]
        },
        {
          "output_type": "stream",
          "name": "stdout",
          "text": [
            "Sentence =   Since it is a formal theorem Bayes theorem holds in all popular interpretations of probability  As a formal theorem Bayes theorem is valid in all common interpretations of probability  ; similarity =  0.9517681\n"
          ]
        },
        {
          "output_type": "stream",
          "name": "stderr",
          "text": [
            "100%|██████████| 1/1 [00:00<00:00,  6.88it/s]\n",
            "100%|██████████| 1/1 [00:00<00:00,  8.52it/s]\n"
          ]
        },
        {
          "output_type": "stream",
          "name": "stdout",
          "text": [
            "Sentence =   P B A is the conditional probability of B given A  P A is the prior probability A  ; similarity =  0.80544376\n"
          ]
        },
        {
          "output_type": "stream",
          "name": "stderr",
          "text": [
            "100%|██████████| 1/1 [00:00<00:00,  5.65it/s]\n",
            "100%|██████████| 1/1 [00:00<00:00,  6.83it/s]\n"
          ]
        },
        {
          "output_type": "stream",
          "name": "stdout",
          "text": [
            "Sentence =   The other method is the top down approach which is a method that combines memorization and recursion  After this it is using this to pick the best overall path  ; similarity =  0.38232675\n"
          ]
        },
        {
          "output_type": "stream",
          "name": "stderr",
          "text": [
            "100%|██████████| 1/1 [00:00<00:00,  6.77it/s]\n",
            "100%|██████████| 1/1 [00:00<00:00,  7.36it/s]\n"
          ]
        },
        {
          "output_type": "stream",
          "name": "stdout",
          "text": [
            "Sentence =   Normally a term is a single word keyword or a longer phrase  A normal term is usually a single word keywords or longer phrases  ; similarity =  0.92243207\n"
          ]
        },
        {
          "output_type": "stream",
          "name": "stderr",
          "text": [
            "100%|██████████| 1/1 [00:00<00:00,  6.01it/s]\n",
            "100%|██████████| 1/1 [00:00<00:00,  6.93it/s]\n"
          ]
        },
        {
          "output_type": "stream",
          "name": "stdout",
          "text": [
            "Sentence =   A document is represented as a vector and each dimension corresponds to a separate term  The basic idea is to represent each document as a vector of certain weighted word frequencies  ; similarity =  0.76474303\n"
          ]
        },
        {
          "output_type": "stream",
          "name": "stderr",
          "text": [
            "100%|██████████| 1/1 [00:00<00:00,  6.73it/s]\n",
            "100%|██████████| 1/1 [00:00<00:00,  7.46it/s]\n"
          ]
        },
        {
          "output_type": "stream",
          "name": "stdout",
          "text": [
            "Sentence =   It is usually used to calculate posterior probabilities given observations  It is used to compute posterior probabilities given observations  ; similarity =  0.95684814\n"
          ]
        },
        {
          "output_type": "stream",
          "name": "stderr",
          "text": [
            "100%|██████████| 1/1 [00:00<00:00,  6.13it/s]\n",
            "100%|██████████| 1/1 [00:00<00:00,  6.83it/s]\n"
          ]
        },
        {
          "output_type": "stream",
          "name": "stdout",
          "text": [
            "Sentence =   This means that inheritance is used when types have common factors and these would be put into the superclass  Here by meaning that a program can be an optimal plan for the produced action  ; similarity =  0.19065793\n"
          ]
        },
        {
          "output_type": "stream",
          "name": "stderr",
          "text": [
            "100%|██████████| 1/1 [00:00<00:00,  7.51it/s]\n",
            "100%|██████████| 1/1 [00:00<00:00,  6.58it/s]\n"
          ]
        },
        {
          "output_type": "stream",
          "name": "stdout",
          "text": [
            "Sentence =   The second method is the use of links  The other method is the top down approach which is a method that combines memorization and recursion  ; similarity =  0.47859895\n"
          ]
        },
        {
          "output_type": "stream",
          "name": "stderr",
          "text": [
            "100%|██████████| 1/1 [00:00<00:00,  6.66it/s]\n",
            "100%|██████████| 1/1 [00:00<00:00,  7.21it/s]\n"
          ]
        },
        {
          "output_type": "stream",
          "name": "stdout",
          "text": [
            "Sentence =   The way that a term is defined depends on the application  A website s page rank is how important it is on the web  ; similarity =  0.3323584\n"
          ]
        },
        {
          "output_type": "stream",
          "name": "stderr",
          "text": [
            "100%|██████████| 1/1 [00:00<00:00,  6.05it/s]\n",
            "100%|██████████| 1/1 [00:00<00:00,  6.70it/s]\n"
          ]
        },
        {
          "output_type": "stream",
          "name": "stdout",
          "text": [
            "Sentence =   One of the best known schemes is tf idf weighting proposed by Salton Wong and Yang  One of the best known schemes is tf idf term frequency inverse document frequency weighting  ; similarity =  0.74965614\n"
          ]
        },
        {
          "output_type": "stream",
          "name": "stderr",
          "text": [
            "100%|██████████| 1/1 [00:00<00:00,  6.24it/s]\n",
            "100%|██████████| 1/1 [00:00<00:00,  7.66it/s]\n"
          ]
        },
        {
          "output_type": "stream",
          "name": "stdout",
          "text": [
            "Sentence =   The theorem is often used when we have observations and wish to compute posterior probabilities  It is used to compute posterior probabilities given observations  ; similarity =  0.76518315\n"
          ]
        },
        {
          "output_type": "stream",
          "name": "stderr",
          "text": [
            "100%|██████████| 1/1 [00:00<00:00,  6.21it/s]\n",
            "100%|██████████| 1/1 [00:00<00:00,  6.71it/s]\n"
          ]
        },
        {
          "output_type": "stream",
          "name": "stdout",
          "text": [
            "Sentence =   Vector space representation results in the loss of the order which the terms are in the document  If a term occurs in the document its value in the vector is non zero  ; similarity =  0.53448176\n"
          ]
        },
        {
          "output_type": "stream",
          "name": "stderr",
          "text": [
            "100%|██████████| 1/1 [00:00<00:00,  5.76it/s]\n",
            "100%|██████████| 1/1 [00:00<00:00,  7.08it/s]\n"
          ]
        },
        {
          "output_type": "stream",
          "name": "stdout",
          "text": [
            "Sentence =   In order to prevent spamming Google releases little information on the way in which a PageRank is calculated  In order to do so the following parsing and extraction steps are needed  ; similarity =  0.17842133\n"
          ]
        },
        {
          "output_type": "stream",
          "name": "stderr",
          "text": [
            "100%|██████████| 1/1 [00:00<00:00,  6.02it/s]\n",
            "100%|██████████| 1/1 [00:00<00:00,  9.02it/s]\n"
          ]
        },
        {
          "output_type": "stream",
          "name": "stdout",
          "text": [
            "Sentence =   In vector space model the documents from which the information is to be retrieved are represented as vectors  However the vector space model has limitations  ; similarity =  0.5324574\n"
          ]
        },
        {
          "output_type": "stream",
          "name": "stderr",
          "text": [
            "100%|██████████| 1/1 [00:00<00:00,  6.78it/s]\n",
            "100%|██████████| 1/1 [00:00<00:00,  7.04it/s]\n"
          ]
        },
        {
          "output_type": "stream",
          "name": "stdout",
          "text": [
            "Sentence =   In the vector space model a document is represented as a vector  Each document is a vector where each word is a dimension  ; similarity =  0.82013965\n"
          ]
        },
        {
          "output_type": "stream",
          "name": "stderr",
          "text": [
            "100%|██████████| 1/1 [00:00<00:00,  6.06it/s]\n",
            "100%|██████████| 1/1 [00:00<00:00,  7.51it/s]\n"
          ]
        },
        {
          "output_type": "stream",
          "name": "stdout",
          "text": [
            "Sentence =   P B is the prior or marginal probability of B and acts as a normalizing constant  P A B is the conditional probability of A given B  ; similarity =  0.8619711\n"
          ]
        },
        {
          "output_type": "stream",
          "name": "stderr",
          "text": [
            "100%|██████████| 1/1 [00:00<00:00,  6.09it/s]\n",
            "100%|██████████| 1/1 [00:00<00:00,  6.67it/s]\n"
          ]
        },
        {
          "output_type": "stream",
          "name": "stdout",
          "text": [
            "Sentence =   In this classic model the term specific weights in the document vectors are products of local and global parameters  Finally the order in which the terms appear in the document is lost in the vector space representation  ; similarity =  0.44747645\n"
          ]
        },
        {
          "output_type": "stream",
          "name": "stderr",
          "text": [
            "100%|██████████| 1/1 [00:00<00:00,  7.41it/s]\n",
            "100%|██████████| 1/1 [00:00<00:00,  7.55it/s]\n"
          ]
        },
        {
          "output_type": "stream",
          "name": "stdout",
          "text": [
            "Sentence =   The methodology takes much less time rather than naive methods  The method is more effiecent than naive methods  ; similarity =  0.7994177\n"
          ]
        },
        {
          "output_type": "stream",
          "name": "stderr",
          "text": [
            "100%|██████████| 1/1 [00:00<00:00,  6.74it/s]\n",
            "100%|██████████| 1/1 [00:00<00:00,  6.64it/s]\n"
          ]
        },
        {
          "output_type": "stream",
          "name": "stdout",
          "text": [
            "Sentence =   Therefore the program is the optimal plan for action that is produced  After this it is using this to pick the best overall path  ; similarity =  0.42476624\n"
          ]
        },
        {
          "output_type": "stream",
          "name": "stderr",
          "text": [
            "100%|██████████| 1/1 [00:00<00:00,  5.90it/s]\n",
            "100%|██████████| 1/1 [00:00<00:00,  7.34it/s]\n"
          ]
        },
        {
          "output_type": "stream",
          "name": "stdout",
          "text": [
            "Sentence =   It is mainly used to calculate the probability of one event s outcome given that a previous event happened  It is often used to calculate posterior probabilities given observations  ; similarity =  0.57023466\n"
          ]
        },
        {
          "output_type": "stream",
          "name": "stderr",
          "text": [
            "100%|██████████| 1/1 [00:00<00:00,  6.93it/s]\n",
            "100%|██████████| 1/1 [00:00<00:00,  7.23it/s]\n"
          ]
        },
        {
          "output_type": "stream",
          "name": "stdout",
          "text": [
            "Sentence =   P B A is the conditional probability of B given A  P A B is the conditional probability of A given B  ; similarity =  0.98315823\n"
          ]
        },
        {
          "output_type": "stream",
          "name": "stderr",
          "text": [
            "100%|██████████| 1/1 [00:00<00:00,  6.65it/s]\n",
            "100%|██████████| 1/1 [00:00<00:00,  6.72it/s]\n"
          ]
        },
        {
          "output_type": "stream",
          "name": "stdout",
          "text": [
            "Sentence =   The most popular is tf idf weighting  One of the best known schemes is tf idf term frequency inverse document frequency weighting  ; similarity =  0.62930334\n"
          ]
        },
        {
          "output_type": "stream",
          "name": "stderr",
          "text": [
            "100%|██████████| 1/1 [00:00<00:00,  6.96it/s]\n",
            "100%|██████████| 1/1 [00:00<00:00,  7.22it/s]\n"
          ]
        },
        {
          "output_type": "stream",
          "name": "stdout",
          "text": [
            "Sentence =   Typically terms are single words keywords or longer phrases  So the same rule applies with keywords and indeed longer phrases  ; similarity =  0.7569589\n"
          ]
        },
        {
          "output_type": "stream",
          "name": "stderr",
          "text": [
            "100%|██████████| 1/1 [00:00<00:00,  5.86it/s]\n",
            "100%|██████████| 1/1 [00:00<00:00,  6.96it/s]\n"
          ]
        },
        {
          "output_type": "stream",
          "name": "stdout",
          "text": [
            "Sentence =   This means that inheritance is used when types have common factors and these would be put into the superclass  This can be useful when the number of times a word appears is not considered important  ; similarity =  0.31918907\n"
          ]
        },
        {
          "output_type": "stream",
          "name": "stderr",
          "text": [
            "100%|██████████| 1/1 [00:00<00:00,  5.66it/s]\n",
            "100%|██████████| 1/1 [00:00<00:00,  6.14it/s]\n"
          ]
        },
        {
          "output_type": "stream",
          "name": "stdout",
          "text": [
            "Sentence =   Object oriented programming is a style of programming that supports encapsulation inheritance and polymorphism  inheritance in object oriented programming is where a new class is formed using classes which have allready been defined  ; similarity =  0.7684597\n"
          ]
        },
        {
          "output_type": "stream",
          "name": "stderr",
          "text": [
            "100%|██████████| 1/1 [00:00<00:00,  8.14it/s]\n",
            "100%|██████████| 1/1 [00:00<00:00,  7.23it/s]\n"
          ]
        },
        {
          "output_type": "stream",
          "name": "stdout",
          "text": [
            "Sentence =   Bayes Theorem Let and be sets  Bayes theorem is also often known as Bayes law  ; similarity =  0.6489304\n"
          ]
        },
        {
          "output_type": "stream",
          "name": "stderr",
          "text": [
            "100%|██████████| 1/1 [00:00<00:00,  5.70it/s]\n",
            "100%|██████████| 1/1 [00:00<00:00,  7.23it/s]\n"
          ]
        },
        {
          "output_type": "stream",
          "name": "stdout",
          "text": [
            "Sentence =   Many different methods of calculating these values sometimes known as term weights have been developed  Several different ways of computing these values also known as term weights have been developed  ; similarity =  0.96526635\n"
          ]
        },
        {
          "output_type": "stream",
          "name": "stderr",
          "text": [
            "100%|██████████| 1/1 [00:00<00:00,  6.69it/s]\n",
            "100%|██████████| 1/1 [00:00<00:00,  6.06it/s]\n"
          ]
        },
        {
          "output_type": "stream",
          "name": "stdout",
          "text": [
            "Sentence =   The definition of a term depends on the application  A variation of the PageRank method bases the importance of a webpage on how many visits the page gets  ; similarity =  0.27514982\n"
          ]
        },
        {
          "output_type": "stream",
          "name": "stderr",
          "text": [
            "100%|██████████| 1/1 [00:00<00:00,  5.76it/s]\n",
            "100%|██████████| 1/1 [00:00<00:00,  7.08it/s]\n"
          ]
        },
        {
          "output_type": "stream",
          "name": "stdout",
          "text": [
            "Sentence =   In probability theory the prior and conditional probabilities of two random events are related by Bayes theorem  Bayes Theorem is a mathematical formula used to calculate conditional probabilities  ; similarity =  0.67415595\n"
          ]
        },
        {
          "output_type": "stream",
          "name": "stderr",
          "text": [
            "100%|██████████| 1/1 [00:00<00:00,  6.02it/s]\n",
            "100%|██████████| 1/1 [00:00<00:00,  8.51it/s]\n"
          ]
        },
        {
          "output_type": "stream",
          "name": "stdout",
          "text": [
            "Sentence =   If a term exists in a document its value in the vector is not equal to zero  A document has representation as a vector  ; similarity =  0.73064536\n"
          ]
        },
        {
          "output_type": "stream",
          "name": "stderr",
          "text": [
            "100%|██████████| 1/1 [00:00<00:00,  6.16it/s]\n",
            "100%|██████████| 1/1 [00:00<00:00,  6.88it/s]\n"
          ]
        },
        {
          "output_type": "stream",
          "name": "stdout",
          "text": [
            "Sentence =   If a term occurs in the document the value will be non zero in the vector  If a term appears in the document then its value in the vector is non zero  ; similarity =  0.9644654\n"
          ]
        },
        {
          "output_type": "stream",
          "name": "stderr",
          "text": [
            "100%|██████████| 1/1 [00:00<00:00,  5.88it/s]\n",
            "100%|██████████| 1/1 [00:00<00:00,  7.29it/s]\n"
          ]
        },
        {
          "output_type": "stream",
          "name": "stdout",
          "text": [
            "Sentence =   inheritance in object oriented programming is where a new class is formed using classes which have allready been defined  Inheritance is a method of forming new classes using predefined classes  ; similarity =  0.87221605\n"
          ]
        },
        {
          "output_type": "stream",
          "name": "stderr",
          "text": [
            "100%|██████████| 1/1 [00:00<00:00,  6.08it/s]\n",
            "100%|██████████| 1/1 [00:00<00:00,  6.80it/s]\n"
          ]
        },
        {
          "output_type": "stream",
          "name": "stdout",
          "text": [
            "Sentence =   Terms are basically the words or any indexing unit used to identify the contents of a text  Ignoring case extract all unique words from the entire set of documents  ; similarity =  0.3951619\n"
          ]
        },
        {
          "output_type": "stream",
          "name": "stderr",
          "text": [
            "100%|██████████| 1/1 [00:00<00:00,  6.54it/s]\n",
            "100%|██████████| 1/1 [00:00<00:00,  7.22it/s]\n"
          ]
        },
        {
          "output_type": "stream",
          "name": "stdout",
          "text": [
            "Sentence =   Therefore the program is the optimal plan for action that is produced  Here by meaning that a program can be an optimal plan for the produced action  ; similarity =  0.8935935\n"
          ]
        },
        {
          "output_type": "stream",
          "name": "stderr",
          "text": [
            "100%|██████████| 1/1 [00:00<00:00,  6.08it/s]\n",
            "100%|██████████| 1/1 [00:00<00:00,  8.73it/s]\n"
          ]
        },
        {
          "output_type": "stream",
          "name": "stdout",
          "text": [
            "Sentence =   P B a k a the normalizing constant is the prior or marginal probability of B  P A is the prior probability A  ; similarity =  0.7499281\n"
          ]
        },
        {
          "output_type": "stream",
          "name": "stderr",
          "text": [
            "100%|██████████| 1/1 [00:00<00:00,  6.18it/s]\n",
            "100%|██████████| 1/1 [00:00<00:00,  7.38it/s]\n"
          ]
        },
        {
          "output_type": "stream",
          "name": "stdout",
          "text": [
            "Sentence =   One of the best known schemes is tf idf weighting proposed by Salton Wong and Yang  One of the best known methods is called tf idf weighting  ; similarity =  0.755563\n"
          ]
        },
        {
          "output_type": "stream",
          "name": "stderr",
          "text": [
            "100%|██████████| 1/1 [00:00<00:00,  6.36it/s]\n",
            "100%|██████████| 1/1 [00:00<00:00,  6.80it/s]\n"
          ]
        },
        {
          "output_type": "stream",
          "name": "stdout",
          "text": [
            "Sentence =   If a term appears in the document the terms value in the vector is non zero  In the vector space model a document is represented as a vector  ; similarity =  0.6180489\n"
          ]
        },
        {
          "output_type": "stream",
          "name": "stderr",
          "text": [
            "100%|██████████| 1/1 [00:00<00:00,  7.06it/s]\n",
            "100%|██████████| 1/1 [00:00<00:00,  7.82it/s]\n"
          ]
        },
        {
          "output_type": "stream",
          "name": "stdout",
          "text": [
            "Sentence =   Recursively define the value of an optimal solution 3  Construct an optimal solution from computed values  ; similarity =  0.7393792\n"
          ]
        },
        {
          "output_type": "stream",
          "name": "stderr",
          "text": [
            "100%|██████████| 1/1 [00:00<00:00,  5.87it/s]\n",
            "100%|██████████| 1/1 [00:00<00:00,  6.83it/s]\n"
          ]
        },
        {
          "output_type": "stream",
          "name": "stdout",
          "text": [
            "Sentence =   In vector space model the documents from which the information is to be retrieved are represented as vectors  If the term doesn t occur within the document the value in the vector is zero  ; similarity =  0.4371489\n"
          ]
        },
        {
          "output_type": "stream",
          "name": "stderr",
          "text": [
            "100%|██████████| 1/1 [00:00<00:00,  6.75it/s]\n",
            "100%|██████████| 1/1 [00:00<00:00,  6.69it/s]\n"
          ]
        },
        {
          "output_type": "stream",
          "name": "stdout",
          "text": [
            "Sentence =   Google has exclusive license rights on the patent from Stanford University  Nevertheless the patent is assigned to the University of Stanford and not to Google  ; similarity =  0.6808783\n"
          ]
        },
        {
          "output_type": "stream",
          "name": "stderr",
          "text": [
            "100%|██████████| 1/1 [00:00<00:00,  6.73it/s]\n",
            "100%|██████████| 1/1 [00:00<00:00,  6.95it/s]\n"
          ]
        },
        {
          "output_type": "stream",
          "name": "stdout",
          "text": [
            "Sentence =   A link to a page is seen as a vote of support  If there are no links to a web page there is no support for that page  ; similarity =  0.38252527\n"
          ]
        },
        {
          "output_type": "stream",
          "name": "stderr",
          "text": [
            "100%|██████████| 1/1 [00:00<00:00,  6.31it/s]\n",
            "100%|██████████| 1/1 [00:00<00:00,  6.87it/s]\n"
          ]
        },
        {
          "output_type": "stream",
          "name": "stdout",
          "text": [
            "Sentence =   The value of a vector is non zero if a term occurs in the document  If the term doesn t occur within the document the value in the vector is zero  ; similarity =  0.87470245\n"
          ]
        },
        {
          "output_type": "stream",
          "name": "stderr",
          "text": [
            "100%|██████████| 1/1 [00:00<00:00,  6.85it/s]\n",
            "100%|██████████| 1/1 [00:00<00:00,  6.23it/s]\n"
          ]
        },
        {
          "output_type": "stream",
          "name": "stdout",
          "text": [
            "Sentence =   The value of a vector is non zero if a term occurs in the document  The order in which the terms appear in the document is lost in the vector space representation  ; similarity =  0.6144491\n"
          ]
        },
        {
          "output_type": "stream",
          "name": "stderr",
          "text": [
            "100%|██████████| 1/1 [00:00<00:00,  6.64it/s]\n",
            "100%|██████████| 1/1 [00:00<00:00,  7.36it/s]\n"
          ]
        },
        {
          "output_type": "stream",
          "name": "stdout",
          "text": [
            "Sentence =   For example a patient may be observed to have certain symptoms  For example a patient might be observed to show certain symptoms  ; similarity =  0.9923287\n"
          ]
        },
        {
          "output_type": "stream",
          "name": "stderr",
          "text": [
            "100%|██████████| 1/1 [00:00<00:00,  7.73it/s]\n",
            "100%|██████████| 1/1 [00:00<00:00,  7.68it/s]\n"
          ]
        },
        {
          "output_type": "stream",
          "name": "stdout",
          "text": [
            "Sentence =   The vector space model has the following limitations 1  The limitations of the vector space model are thus  ; similarity =  0.919804\n"
          ]
        },
        {
          "output_type": "stream",
          "name": "stderr",
          "text": [
            "100%|██████████| 1/1 [00:00<00:00,  6.35it/s]\n",
            "100%|██████████| 1/1 [00:00<00:00,  6.32it/s]\n"
          ]
        },
        {
          "output_type": "stream",
          "name": "stdout",
          "text": [
            "Sentence =   If a term appears in the document then its value in the vector is non zero  The order in which terms appear in the document is lost in a vector space representation  ; similarity =  0.6403557\n"
          ]
        },
        {
          "output_type": "stream",
          "name": "stderr",
          "text": [
            "100%|██████████| 1/1 [00:00<00:00,  7.39it/s]\n",
            "100%|██████████| 1/1 [00:00<00:00,  7.69it/s]\n"
          ]
        },
        {
          "output_type": "stream",
          "name": "stdout",
          "text": [
            "Sentence =   Inheritance was firstly derived in 1967  The inheritance concept was invented in 1967 for Simula  ; similarity =  0.66648847\n"
          ]
        },
        {
          "output_type": "stream",
          "name": "stderr",
          "text": [
            "100%|██████████| 1/1 [00:00<00:00,  6.72it/s]\n",
            "100%|██████████| 1/1 [00:00<00:00,  7.69it/s]\n"
          ]
        },
        {
          "output_type": "stream",
          "name": "stdout",
          "text": [
            "Sentence =   This method is far more efficient than recalculating and therefore considerably reduces computation  This is a much quicker method than other more naive methods  ; similarity =  0.6447843\n"
          ]
        },
        {
          "output_type": "stream",
          "name": "stderr",
          "text": [
            "100%|██████████| 1/1 [00:00<00:00,  6.63it/s]\n",
            "100%|██████████| 1/1 [00:00<00:00,  7.14it/s]\n"
          ]
        },
        {
          "output_type": "stream",
          "name": "stdout",
          "text": [
            "Sentence =   Bayes theorem relates the conditional and marginal probabilities of two random events  Bayes theorem is useful in evaluating the result of drug tests  ; similarity =  0.53100324\n"
          ]
        },
        {
          "output_type": "stream",
          "name": "stderr",
          "text": [
            "100%|██████████| 1/1 [00:00<00:00,  5.18it/s]\n",
            "100%|██████████| 1/1 [00:00<00:00,  7.66it/s]\n"
          ]
        },
        {
          "output_type": "stream",
          "name": "stdout",
          "text": [
            "Sentence =   inheritance in object oriented programming is where a new class is formed using classes which have allready been defined  Inheritance is one of the basic concepts of Object Oriented Programming  ; similarity =  0.7931931\n"
          ]
        },
        {
          "output_type": "stream",
          "name": "stderr",
          "text": [
            "100%|██████████| 1/1 [00:00<00:00,  5.73it/s]\n",
            "100%|██████████| 1/1 [00:00<00:00,  7.32it/s]\n"
          ]
        },
        {
          "output_type": "stream",
          "name": "stdout",
          "text": [
            "Sentence =   Inheritance in object oriented programming is a way to form new classes using classes that have already been defined  In object oriented programming inheritance is also dependant on access level modifiers  ; similarity =  0.76282763\n"
          ]
        },
        {
          "output_type": "stream",
          "name": "stderr",
          "text": [
            "100%|██████████| 1/1 [00:00<00:00,  7.18it/s]\n",
            "100%|██████████| 1/1 [00:00<00:00,  6.89it/s]\n"
          ]
        },
        {
          "output_type": "stream",
          "name": "stdout",
          "text": [
            "Sentence =   The way that a term is defined depends on the application  The easiest way to look at inheritance is as an is a kind of relationship  ; similarity =  0.29028103\n"
          ]
        },
        {
          "output_type": "stream",
          "name": "stderr",
          "text": [
            "100%|██████████| 1/1 [00:00<00:00,  7.24it/s]\n",
            "100%|██████████| 1/1 [00:00<00:00,  7.58it/s]\n"
          ]
        },
        {
          "output_type": "stream",
          "name": "stdout",
          "text": [
            "Sentence =   With reference to this model documents are represented as vectors  Due to poor similarity values long documents are poorly represented  ; similarity =  0.37609145\n"
          ]
        },
        {
          "output_type": "stream",
          "name": "stderr",
          "text": [
            "100%|██████████| 1/1 [00:00<00:00,  6.56it/s]\n",
            "100%|██████████| 1/1 [00:00<00:00,  6.94it/s]\n"
          ]
        },
        {
          "output_type": "stream",
          "name": "stdout",
          "text": [
            "Sentence =   The value of a vector is non zero if a term occurs in the document  A document is represented as a vector with each dimension corresponding to a separate term  ; similarity =  0.6570998\n"
          ]
        },
        {
          "output_type": "stream",
          "name": "stderr",
          "text": [
            "100%|██████████| 1/1 [00:00<00:00,  6.32it/s]\n",
            "100%|██████████| 1/1 [00:00<00:00,  6.92it/s]\n"
          ]
        },
        {
          "output_type": "stream",
          "name": "stdout",
          "text": [
            "Sentence =   Occasionally it is advantageous to differentiate between these uses as it is not necessarily noticeable from context  However an object cannot be cast to a class which is no relative of it  ; similarity =  0.20668428\n"
          ]
        },
        {
          "output_type": "stream",
          "name": "stderr",
          "text": [
            "100%|██████████| 1/1 [00:00<00:00,  6.28it/s]\n",
            "100%|██████████| 1/1 [00:00<00:00,  6.35it/s]\n"
          ]
        },
        {
          "output_type": "stream",
          "name": "stdout",
          "text": [
            "Sentence =   If a term occurs in the document its value in the vector is non zero  The order in which terms appear in the document is lost in a vector space representation  ; similarity =  0.6392771\n"
          ]
        },
        {
          "output_type": "stream",
          "name": "stderr",
          "text": [
            "100%|██████████| 1/1 [00:00<00:00,  6.29it/s]\n",
            "100%|██████████| 1/1 [00:00<00:00,  6.55it/s]\n"
          ]
        },
        {
          "output_type": "stream",
          "name": "stdout",
          "text": [
            "Sentence =   Inheritance in object oriented programming is a way to form new classes using classes that have already been defined  Object oriented programming is a style of programming that supports encapsulation inheritance and polymorphism  ; similarity =  0.77227557\n"
          ]
        },
        {
          "output_type": "stream",
          "name": "stderr",
          "text": [
            "100%|██████████| 1/1 [00:00<00:00,  5.96it/s]\n",
            "100%|██████████| 1/1 [00:00<00:00,  6.10it/s]\n"
          ]
        },
        {
          "output_type": "stream",
          "name": "stdout",
          "text": [
            "Sentence =   If a page has no incoming links there is no support for that page  Dangling links to a page which has no links to others  ; similarity =  0.75221145\n"
          ]
        },
        {
          "output_type": "stream",
          "name": "stderr",
          "text": [
            "100%|██████████| 1/1 [00:00<00:00,  5.24it/s]\n",
            "100%|██████████| 1/1 [00:00<00:00,  5.75it/s]\n"
          ]
        },
        {
          "output_type": "stream",
          "name": "stdout",
          "text": [
            "Sentence =   The similarity measures largely identify the retrieval efficiency of a particular information retrieval system  It is used in information retrieval and was first used in the SMART Information Retrieval System  ; similarity =  0.5624754\n"
          ]
        },
        {
          "output_type": "stream",
          "name": "stderr",
          "text": [
            "100%|██████████| 1/1 [00:00<00:00,  6.77it/s]\n",
            "100%|██████████| 1/1 [00:00<00:00,  5.45it/s]\n"
          ]
        },
        {
          "output_type": "stream",
          "name": "stdout",
          "text": [
            "Sentence =   Typically terms are keywords single words or longer phrases  Single words keywords and occasionally longer phrases are used for terms  ; similarity =  0.9571619\n"
          ]
        },
        {
          "output_type": "stream",
          "name": "stderr",
          "text": [
            "100%|██████████| 1/1 [00:00<00:00,  5.92it/s]\n",
            "100%|██████████| 1/1 [00:00<00:00,  5.48it/s]\n"
          ]
        },
        {
          "output_type": "stream",
          "name": "stdout",
          "text": [
            "Sentence =   Inheritance provides the support for representation by categorization in computer languages  The basic support provided by inheritance is that it represents by categorization in computer languages  ; similarity =  0.92912674\n"
          ]
        },
        {
          "output_type": "stream",
          "name": "stderr",
          "text": [
            "100%|██████████| 1/1 [00:00<00:00,  5.76it/s]\n",
            "100%|██████████| 1/1 [00:00<00:00,  5.32it/s]\n"
          ]
        },
        {
          "output_type": "stream",
          "name": "stdout",
          "text": [
            "Sentence =   Bayes theorem is also often known as Bayes law  Bayes theorem was names after Rev Thomas Bayes and is a method used in probability theory  ; similarity =  0.80597687\n"
          ]
        },
        {
          "output_type": "stream",
          "name": "stderr",
          "text": [
            "100%|██████████| 1/1 [00:00<00:00,  5.89it/s]\n",
            "100%|██████████| 1/1 [00:00<00:00,  7.41it/s]\n"
          ]
        },
        {
          "output_type": "stream",
          "name": "stdout",
          "text": [
            "Sentence =   The vector space model is one of these methods and it is an algebraic model  The vector space model has the following limitations 1  ; similarity =  0.62063926\n"
          ]
        },
        {
          "output_type": "stream",
          "name": "stderr",
          "text": [
            "100%|██████████| 1/1 [00:00<00:00,  6.10it/s]\n",
            "100%|██████████| 1/1 [00:00<00:00,  5.94it/s]\n"
          ]
        },
        {
          "output_type": "stream",
          "name": "stdout",
          "text": [
            "Sentence =   In the vector space model a document is represented as a vector  If a term occurs in the document its value in the vector is non zero  ; similarity =  0.59659106\n"
          ]
        },
        {
          "output_type": "stream",
          "name": "stderr",
          "text": [
            "100%|██████████| 1/1 [00:00<00:00,  5.15it/s]\n",
            "100%|██████████| 1/1 [00:00<00:00,  5.65it/s]\n"
          ]
        },
        {
          "output_type": "stream",
          "name": "stdout",
          "text": [
            "Sentence =   If a term occurs in the document its value in the vector is non zero  If a term exists in a document its value in the vector is not equal to zero  ; similarity =  0.86564493\n"
          ]
        },
        {
          "output_type": "stream",
          "name": "stderr",
          "text": [
            "100%|██████████| 1/1 [00:00<00:00,  6.45it/s]\n",
            "100%|██████████| 1/1 [00:00<00:00,  4.90it/s]\n"
          ]
        },
        {
          "output_type": "stream",
          "name": "stdout",
          "text": [
            "Sentence =   Therefore the program is the optimal plan for action that is produced  Since the PageRank is the most important algorithms which is used in the Google engine  ; similarity =  0.17838328\n"
          ]
        },
        {
          "output_type": "stream",
          "name": "stderr",
          "text": [
            "100%|██████████| 1/1 [00:00<00:00,  6.66it/s]\n",
            "100%|██████████| 1/1 [00:00<00:00,  5.08it/s]\n"
          ]
        },
        {
          "output_type": "stream",
          "name": "stdout",
          "text": [
            "Sentence =   P A B is the conditional probability of A given B  P B a k a the normalizing constant is the prior or marginal probability of B  ; similarity =  0.8563696\n"
          ]
        },
        {
          "output_type": "stream",
          "name": "stderr",
          "text": [
            "100%|██████████| 1/1 [00:00<00:00,  6.87it/s]\n",
            "100%|██████████| 1/1 [00:00<00:00,  7.70it/s]\n"
          ]
        },
        {
          "output_type": "stream",
          "name": "stdout",
          "text": [
            "Sentence =   Construct an optimal solution from computed values  Generate the optimal solution of these computed values ; similarity =  0.9505439\n"
          ]
        },
        {
          "output_type": "stream",
          "name": "stderr",
          "text": [
            "100%|██████████| 1/1 [00:00<00:00,  4.62it/s]\n",
            "100%|██████████| 1/1 [00:00<00:00,  6.67it/s]\n"
          ]
        },
        {
          "output_type": "stream",
          "name": "stdout",
          "text": [
            "Sentence =   The number of unique words in the vocabulary denotes the dimensionality if words are used for the terms  For each document count the number of occurrences of each word  ; similarity =  0.59151995\n"
          ]
        },
        {
          "output_type": "stream",
          "name": "stderr",
          "text": [
            "100%|██████████| 1/1 [00:00<00:00,  7.29it/s]\n",
            "100%|██████████| 1/1 [00:00<00:00,  6.16it/s]\n"
          ]
        },
        {
          "output_type": "stream",
          "name": "stdout",
          "text": [
            "Sentence =   Inheritance is a basic concept in object oriented programming  In object oriented programming inheritance is also dependant on access level modifiers  ; similarity =  0.8082482\n"
          ]
        },
        {
          "output_type": "stream",
          "name": "stderr",
          "text": [
            "100%|██████████| 1/1 [00:00<00:00,  5.39it/s]\n",
            "100%|██████████| 1/1 [00:00<00:00,  5.61it/s]\n"
          ]
        },
        {
          "output_type": "stream",
          "name": "stdout",
          "text": [
            "Sentence =   Furthermore by combining solutions to subproblems DP solves problems  Dynamic Programming solves problems by combining the solutions of subproblems  ; similarity =  0.7330658\n"
          ]
        },
        {
          "output_type": "stream",
          "name": "stderr",
          "text": [
            "100%|██████████| 1/1 [00:00<00:00,  4.63it/s]\n",
            "100%|██████████| 1/1 [00:00<00:00,  4.59it/s]\n"
          ]
        },
        {
          "output_type": "stream",
          "name": "stdout",
          "text": [
            "Sentence =   Mathematicians use the word to describe a set of rules which anyone can follow to solve a problem  In a word we can solve a problem with optimal substructure using a three step process  ; similarity =  0.42936674\n"
          ]
        },
        {
          "output_type": "stream",
          "name": "stderr",
          "text": [
            "100%|██████████| 1/1 [00:00<00:00,  5.51it/s]\n",
            "100%|██████████| 1/1 [00:00<00:00,  5.61it/s]\n"
          ]
        },
        {
          "output_type": "stream",
          "name": "stdout",
          "text": [
            "Sentence =   If a term appears in the document then its value in the vector is non zero  If a term occurs in the document the value will be non zero in the vector  ; similarity =  0.9644654\n"
          ]
        },
        {
          "output_type": "stream",
          "name": "stderr",
          "text": [
            "100%|██████████| 1/1 [00:00<00:00,  4.89it/s]\n",
            "100%|██████████| 1/1 [00:00<00:00,  4.83it/s]\n"
          ]
        },
        {
          "output_type": "stream",
          "name": "stdout",
          "text": [
            "Sentence =   The basic idea is to represent each document as a vector of certain weighted word frequencies  If a term exists in a document its value in the vector is not equal to zero  ; similarity =  0.618018\n"
          ]
        },
        {
          "output_type": "stream",
          "name": "stderr",
          "text": [
            "100%|██████████| 1/1 [00:00<00:00,  4.16it/s]\n",
            "100%|██████████| 1/1 [00:00<00:00,  4.65it/s]\n"
          ]
        },
        {
          "output_type": "stream",
          "name": "stdout",
          "text": [
            "Sentence =   The theorem is often used when we have observations and wish to compute posterior probabilities  It is usually be used to compute posterior probabilities given observations  ; similarity =  0.78877866\n"
          ]
        },
        {
          "output_type": "stream",
          "name": "stderr",
          "text": [
            "100%|██████████| 1/1 [00:00<00:00,  5.08it/s]\n",
            "100%|██████████| 1/1 [00:00<00:00,  5.10it/s]\n"
          ]
        },
        {
          "output_type": "stream",
          "name": "stdout",
          "text": [
            "Sentence =   Bayes Theorem is a mathematical formula used to calculate conditional probabilities  Bayes theorem relates the conditional and marginal probabilities of two random events  ; similarity =  0.7419629\n"
          ]
        },
        {
          "output_type": "stream",
          "name": "stderr",
          "text": [
            "100%|██████████| 1/1 [00:00<00:00,  4.80it/s]\n",
            "100%|██████████| 1/1 [00:00<00:00,  6.10it/s]\n"
          ]
        },
        {
          "output_type": "stream",
          "name": "stdout",
          "text": [
            "Sentence =   A document is represented as a vector with each dimension corresponding to a separate term  A document is represented as a vector  ; similarity =  0.8641483\n"
          ]
        },
        {
          "output_type": "stream",
          "name": "stderr",
          "text": [
            "100%|██████████| 1/1 [00:00<00:00,  5.21it/s]\n",
            "100%|██████████| 1/1 [00:00<00:00,  6.01it/s]\n"
          ]
        },
        {
          "output_type": "stream",
          "name": "stdout",
          "text": [
            "Sentence =   Dynamic programming can be divided into two main approaches top down and bottom up  There are two main approaches for dynamic programming  ; similarity =  0.8832649\n"
          ]
        },
        {
          "output_type": "stream",
          "name": "stderr",
          "text": [
            "100%|██████████| 1/1 [00:00<00:00,  4.40it/s]\n",
            "100%|██████████| 1/1 [00:00<00:00,  4.14it/s]\n"
          ]
        },
        {
          "output_type": "stream",
          "name": "stdout",
          "text": [
            "Sentence =   This can be useful when the number of times a word appears is not considered important  If this occurs then all of the non private methods and variables can be used by the most specialised class  ; similarity =  0.24516724\n"
          ]
        },
        {
          "output_type": "stream",
          "name": "stderr",
          "text": [
            "100%|██████████| 1/1 [00:00<00:00,  5.38it/s]\n",
            "100%|██████████| 1/1 [00:00<00:00,  5.15it/s]\n"
          ]
        },
        {
          "output_type": "stream",
          "name": "stdout",
          "text": [
            "Sentence =   Generalise the structure of an optimal solution 2  Use these optimal solutions to construct an optimal solution for the original problem  ; similarity =  0.74020195\n"
          ]
        },
        {
          "output_type": "stream",
          "name": "stderr",
          "text": [
            "100%|██████████| 1/1 [00:00<00:00,  3.81it/s]\n",
            "100%|██████████| 1/1 [00:00<00:00,  4.76it/s]\n"
          ]
        },
        {
          "output_type": "stream",
          "name": "stdout",
          "text": [
            "Sentence =   This means that inheritance is used when types have common factors and these would be put into the superclass  In defining this inheritance hierarchy we have already defined certain restrictions not all of which are desirable  ; similarity =  0.539911\n"
          ]
        },
        {
          "output_type": "stream",
          "name": "stderr",
          "text": [
            "100%|██████████| 1/1 [00:00<00:00,  5.20it/s]\n",
            "100%|██████████| 1/1 [00:00<00:00,  5.74it/s]\n"
          ]
        },
        {
          "output_type": "stream",
          "name": "stdout",
          "text": [
            "Sentence =   The vector space model is one of these methods and it is an algebraic model  The vector space model has several disadvantages  ; similarity =  0.65426797\n"
          ]
        },
        {
          "output_type": "stream",
          "name": "stderr",
          "text": [
            "100%|██████████| 1/1 [00:00<00:00,  4.24it/s]\n",
            "100%|██████████| 1/1 [00:00<00:00,  6.21it/s]\n"
          ]
        },
        {
          "output_type": "stream",
          "name": "stdout",
          "text": [
            "Sentence =   The last point would be to construct an optimal solution from the computed values  Generate the optimal solution of these computed values ; similarity =  0.7717767\n"
          ]
        },
        {
          "output_type": "stream",
          "name": "stderr",
          "text": [
            "100%|██████████| 1/1 [00:00<00:00,  5.88it/s]\n",
            "100%|██████████| 1/1 [00:00<00:00,  4.98it/s]\n"
          ]
        },
        {
          "output_type": "stream",
          "name": "stdout",
          "text": [
            "Sentence =   Every dimension is precisely related to a separate term  A document is represented as a vector and each dimension corresponds to a separate term  ; similarity =  0.68416125\n"
          ]
        },
        {
          "output_type": "stream",
          "name": "stderr",
          "text": [
            "100%|██████████| 1/1 [00:00<00:00,  4.64it/s]\n",
            "100%|██████████| 1/1 [00:00<00:00,  4.62it/s]\n"
          ]
        },
        {
          "output_type": "stream",
          "name": "stdout",
          "text": [
            "Sentence =   If the term doesn t occur within the document the value in the vector is zero  Finally the order in which the terms appear in the document is lost in the vector space representation  ; similarity =  0.67094785\n"
          ]
        },
        {
          "output_type": "stream",
          "name": "stderr",
          "text": [
            "100%|██████████| 1/1 [00:00<00:00,  5.47it/s]\n",
            "100%|██████████| 1/1 [00:00<00:00,  7.68it/s]\n"
          ]
        },
        {
          "output_type": "stream",
          "name": "stdout",
          "text": [
            "Sentence =   The peropos of inheritance in object oriented programming is to minimize the reuse of existing code without modification  Inheritance is a basic concept in object oriented programming  ; similarity =  0.59934527\n"
          ]
        },
        {
          "output_type": "stream",
          "name": "stderr",
          "text": [
            "100%|██████████| 1/1 [00:00<00:00,  6.51it/s]\n",
            "100%|██████████| 1/1 [00:00<00:00,  6.86it/s]\n"
          ]
        },
        {
          "output_type": "stream",
          "name": "stdout",
          "text": [
            "Sentence =   Thus the program is the optimal plan for action that is produced  Here by meaning that a program can be an optimal plan for the produced action  ; similarity =  0.8993041\n"
          ]
        },
        {
          "output_type": "stream",
          "name": "stderr",
          "text": [
            "100%|██████████| 1/1 [00:00<00:00,  6.56it/s]\n",
            "100%|██████████| 1/1 [00:00<00:00,  7.83it/s]\n"
          ]
        },
        {
          "output_type": "stream",
          "name": "stdout",
          "text": [
            "Sentence =   A document is represented as a vector and each dimension corresponds to a separate term  A document has representation as a vector  ; similarity =  0.86849064\n"
          ]
        },
        {
          "output_type": "stream",
          "name": "stderr",
          "text": [
            "100%|██████████| 1/1 [00:00<00:00,  6.13it/s]\n",
            "100%|██████████| 1/1 [00:00<00:00,  7.14it/s]\n"
          ]
        },
        {
          "output_type": "stream",
          "name": "stdout",
          "text": [
            "Sentence =   When a document is represented as a vector each dimension corresponds to a separate term  In the vector space model a document is represented as a vector  ; similarity =  0.8425935\n"
          ]
        },
        {
          "output_type": "stream",
          "name": "stderr",
          "text": [
            "100%|██████████| 1/1 [00:00<00:00,  6.35it/s]\n",
            "100%|██████████| 1/1 [00:00<00:00,  5.85it/s]\n"
          ]
        },
        {
          "output_type": "stream",
          "name": "stdout",
          "text": [
            "Sentence =   This can be useful when the number of times a word appears is not considered important  The PageRank is a recursive algorithm used by Google to determine which webpages are more important than others  ; similarity =  0.27914017\n"
          ]
        },
        {
          "output_type": "stream",
          "name": "stderr",
          "text": [
            "100%|██████████| 1/1 [00:00<00:00,  5.99it/s]\n",
            "100%|██████████| 1/1 [00:00<00:00,  7.11it/s]\n"
          ]
        },
        {
          "output_type": "stream",
          "name": "stdout",
          "text": [
            "Sentence =   The similarity measures largely identify the retrieval efficiency of a particular information retrieval system  It was used in the first time in the SMART Information Retrieval System  ; similarity =  0.41997448\n"
          ]
        },
        {
          "output_type": "stream",
          "name": "stderr",
          "text": [
            "100%|██████████| 1/1 [00:00<00:00,  5.88it/s]\n",
            "100%|██████████| 1/1 [00:00<00:00,  6.85it/s]\n"
          ]
        },
        {
          "output_type": "stream",
          "name": "stdout",
          "text": [
            "Sentence =   The order in which terms appear in the document is lost in a vector space representation  If the term doesn t occur within the document the value in the vector is zero  ; similarity =  0.6597462\n"
          ]
        },
        {
          "output_type": "stream",
          "name": "stderr",
          "text": [
            "100%|██████████| 1/1 [00:00<00:00,  5.73it/s]\n",
            "100%|██████████| 1/1 [00:00<00:00,  5.53it/s]\n"
          ]
        },
        {
          "output_type": "stream",
          "name": "stdout",
          "text": [
            "Sentence =   Overlapping subproblems means that the same subproblems are used to solve many different larger problems  A problem with overlapping subproblems means that the same subproblems may be used to solve many different larger problems  ; similarity =  0.9593277\n"
          ]
        },
        {
          "output_type": "stream",
          "name": "stderr",
          "text": [
            "100%|██████████| 1/1 [00:00<00:00,  5.92it/s]\n",
            "100%|██████████| 1/1 [00:00<00:00,  6.59it/s]\n"
          ]
        },
        {
          "output_type": "stream",
          "name": "stdout",
          "text": [
            "Sentence =   Vector space representation results in the loss of the order which the terms are in the document  The value of a vector is non zero if a term occurs in the document  ; similarity =  0.510064\n"
          ]
        },
        {
          "output_type": "stream",
          "name": "stderr",
          "text": [
            "100%|██████████| 1/1 [00:00<00:00,  6.40it/s]\n",
            "100%|██████████| 1/1 [00:00<00:00,  7.29it/s]\n"
          ]
        },
        {
          "output_type": "stream",
          "name": "stdout",
          "text": [
            "Sentence =   This can be useful when the number of times a word appears is not considered important  An example of this gain in efficiency is a path finding problem  ; similarity =  0.24478012\n"
          ]
        },
        {
          "output_type": "stream",
          "name": "stderr",
          "text": [
            "100%|██████████| 1/1 [00:00<00:00,  8.11it/s]\n",
            "100%|██████████| 1/1 [00:00<00:00,  8.56it/s]\n"
          ]
        },
        {
          "output_type": "stream",
          "name": "stdout",
          "text": [
            "Sentence =   A document is represented as a vector  A document has representation as a vector  ; similarity =  0.98414797\n"
          ]
        },
        {
          "output_type": "stream",
          "name": "stderr",
          "text": [
            "100%|██████████| 1/1 [00:00<00:00,  6.60it/s]\n",
            "100%|██████████| 1/1 [00:00<00:00,  6.59it/s]\n"
          ]
        },
        {
          "output_type": "stream",
          "name": "stdout",
          "text": [
            "Sentence =   When a document is represented as a vector each dimension corresponds to a separate term  A document is represented as a vector and each dimension corresponds to a separate term  ; similarity =  0.9810269\n"
          ]
        },
        {
          "output_type": "stream",
          "name": "stderr",
          "text": [
            "100%|██████████| 1/1 [00:00<00:00,  6.11it/s]\n",
            "100%|██████████| 1/1 [00:00<00:00,  7.34it/s]\n"
          ]
        },
        {
          "output_type": "stream",
          "name": "stdout",
          "text": [
            "Sentence =   It is usually be used to compute posterior probabilities given observations  It is often used to compute posterior probabilities given observations  ; similarity =  0.98197204\n"
          ]
        },
        {
          "output_type": "stream",
          "name": "stderr",
          "text": [
            "100%|██████████| 1/1 [00:00<00:00,  7.45it/s]\n",
            "100%|██████████| 1/1 [00:00<00:00,  8.04it/s]\n"
          ]
        },
        {
          "output_type": "stream",
          "name": "stdout",
          "text": [
            "Sentence =   Generalise the structure of an optimal solution 2  Generate the optimal solution of these computed values ; similarity =  0.67612815\n"
          ]
        },
        {
          "output_type": "stream",
          "name": "stderr",
          "text": [
            "100%|██████████| 1/1 [00:00<00:00,  6.70it/s]\n",
            "100%|██████████| 1/1 [00:00<00:00,  7.11it/s]\n"
          ]
        },
        {
          "output_type": "stream",
          "name": "stdout",
          "text": [
            "Sentence =   A document is represented as a vector with each dimension corresponding to a separate term  In the vector space model a document is represented as a vector  ; similarity =  0.8754587\n"
          ]
        },
        {
          "output_type": "stream",
          "name": "stderr",
          "text": [
            "100%|██████████| 1/1 [00:00<00:00,  5.49it/s]\n",
            "100%|██████████| 1/1 [00:00<00:00,  6.29it/s]\n"
          ]
        },
        {
          "output_type": "stream",
          "name": "stdout",
          "text": [
            "Sentence =   Using the vector space model for Information Retrieval models all pages and queries as high dimensional sparse vectors  A Vector space model is an algebraic model for representing text documents as vectors of identifiers  ; similarity =  0.68329144\n"
          ]
        },
        {
          "output_type": "stream",
          "name": "stderr",
          "text": [
            "100%|██████████| 1/1 [00:00<00:00,  6.20it/s]\n",
            "100%|██████████| 1/1 [00:00<00:00,  6.83it/s]\n"
          ]
        },
        {
          "output_type": "stream",
          "name": "stdout",
          "text": [
            "Sentence =   A document is represented as a vector and each dimension corresponds to a separate term  The basic idea is to represent each document as a vector of certain weighted word frequencies  ; similarity =  0.76474303\n"
          ]
        },
        {
          "output_type": "stream",
          "name": "stderr",
          "text": [
            "100%|██████████| 1/1 [00:00<00:00,  6.18it/s]\n",
            "100%|██████████| 1/1 [00:00<00:00,  6.89it/s]\n"
          ]
        },
        {
          "output_type": "stream",
          "name": "stdout",
          "text": [
            "Sentence =   If a term occurs in the document its value in the vector is non zero  If a term occurs in the document the value will be non zero in the vector  ; similarity =  0.9737323\n"
          ]
        },
        {
          "output_type": "stream",
          "name": "stderr",
          "text": [
            "100%|██████████| 1/1 [00:00<00:00,  6.53it/s]\n",
            "100%|██████████| 1/1 [00:00<00:00,  6.57it/s]\n"
          ]
        },
        {
          "output_type": "stream",
          "name": "stdout",
          "text": [
            "Sentence =   Thus the program is the best plan for action that is produced  Since the PageRank is the most important algorithms which is used in the Google engine  ; similarity =  0.1584812\n"
          ]
        },
        {
          "output_type": "stream",
          "name": "stderr",
          "text": [
            "100%|██████████| 1/1 [00:00<00:00,  6.20it/s]\n",
            "100%|██████████| 1/1 [00:00<00:00,  7.26it/s]\n"
          ]
        },
        {
          "output_type": "stream",
          "name": "stdout",
          "text": [
            "Sentence =   Most of these languages provide an extend keyword which is used to subclass another  It is therefore used to create relationships between one object and another  ; similarity =  0.3290444\n"
          ]
        },
        {
          "output_type": "stream",
          "name": "stderr",
          "text": [
            "100%|██████████| 1/1 [00:00<00:00,  6.01it/s]\n",
            "100%|██████████| 1/1 [00:00<00:00,  6.35it/s]\n"
          ]
        },
        {
          "output_type": "stream",
          "name": "stdout",
          "text": [
            "Sentence =   Vector space representation results in the loss of the order which the terms are in the document  The order in which the terms appear in the document is lost in the vector space representation  ; similarity =  0.85198367\n"
          ]
        },
        {
          "output_type": "stream",
          "name": "stderr",
          "text": [
            "100%|██████████| 1/1 [00:00<00:00,  6.97it/s]\n",
            "100%|██████████| 1/1 [00:00<00:00,  6.89it/s]\n"
          ]
        },
        {
          "output_type": "stream",
          "name": "stdout",
          "text": [
            "Sentence =   Each dimensions corresponds to a separate terms  A document is represented as a vector and each dimension corresponds to a separate term  ; similarity =  0.79487324\n"
          ]
        },
        {
          "output_type": "stream",
          "name": "stderr",
          "text": [
            "100%|██████████| 1/1 [00:00<00:00,  5.91it/s]\n",
            "100%|██████████| 1/1 [00:00<00:00,  6.74it/s]\n"
          ]
        },
        {
          "output_type": "stream",
          "name": "stdout",
          "text": [
            "Sentence =   In order to prevent spamming Google releases little information on the way in which a PageRank is calculated  Following this each web page is given a ranking of 0 10 according to its relevance to a search  ; similarity =  0.5126015\n"
          ]
        },
        {
          "output_type": "stream",
          "name": "stderr",
          "text": [
            "100%|██████████| 1/1 [00:00<00:00,  6.33it/s]\n",
            "100%|██████████| 1/1 [00:00<00:00,  6.99it/s]\n"
          ]
        },
        {
          "output_type": "stream",
          "name": "stdout",
          "text": [
            "Sentence =   Bayes Theorem is a mathematical formula used to calculate conditional probabilities  Bayes theorem can be used to compute the probability that a proposed diagnosis is correct  ; similarity =  0.7815782\n"
          ]
        },
        {
          "output_type": "stream",
          "name": "stderr",
          "text": [
            "100%|██████████| 1/1 [00:00<00:00,  6.35it/s]\n",
            "100%|██████████| 1/1 [00:00<00:00,  8.18it/s]\n"
          ]
        },
        {
          "output_type": "stream",
          "name": "stdout",
          "text": [
            "Sentence =   Models based on and extending the vector space model include Generalized vector space model  The vector space model has the following limitations 1  ; similarity =  0.6085254\n"
          ]
        },
        {
          "output_type": "stream",
          "name": "stderr",
          "text": [
            "100%|██████████| 1/1 [00:00<00:00,  6.38it/s]\n",
            "100%|██████████| 1/1 [00:00<00:00,  6.04it/s]\n"
          ]
        },
        {
          "output_type": "stream",
          "name": "stdout",
          "text": [
            "Sentence =   Most of these languages provide an extend keyword which is used to subclass another  A dampening factor is used to counter random surfers who get bored and then switch to other pages  ; similarity =  0.21989253\n"
          ]
        },
        {
          "output_type": "stream",
          "name": "stderr",
          "text": [
            "100%|██████████| 1/1 [00:00<00:00,  6.63it/s]\n",
            "100%|██████████| 1/1 [00:00<00:00,  7.20it/s]\n"
          ]
        },
        {
          "output_type": "stream",
          "name": "stdout",
          "text": [
            "Sentence =   One of the most famous schemes is tf idf weighting  One of the best known methods is called tf idf weighting  ; similarity =  0.88330567\n"
          ]
        },
        {
          "output_type": "stream",
          "name": "stderr",
          "text": [
            "100%|██████████| 1/1 [00:00<00:00,  5.49it/s]\n",
            "100%|██████████| 1/1 [00:00<00:00,  7.93it/s]\n"
          ]
        },
        {
          "output_type": "stream",
          "name": "stdout",
          "text": [
            "Sentence =   A term which occurs in the document has a value in the vector of non zero  A document can be represented as a vector  ; similarity =  0.6374207\n"
          ]
        },
        {
          "output_type": "stream",
          "name": "stderr",
          "text": [
            "100%|██████████| 1/1 [00:00<00:00,  6.60it/s]\n",
            "100%|██████████| 1/1 [00:00<00:00,  6.66it/s]\n"
          ]
        },
        {
          "output_type": "stream",
          "name": "stdout",
          "text": [
            "Sentence =   The value of a vector is non zero if a term occurs in the document  If a term occurs in the document the value will be non zero in the vector  ; similarity =  0.95534134\n"
          ]
        },
        {
          "output_type": "stream",
          "name": "stderr",
          "text": [
            "100%|██████████| 1/1 [00:00<00:00,  6.14it/s]\n",
            "100%|██████████| 1/1 [00:00<00:00,  6.81it/s]\n"
          ]
        },
        {
          "output_type": "stream",
          "name": "stdout",
          "text": [
            "Sentence =   If a term exists in a document its value in the vector is not equal to zero  A document is represented as a vector and each dimension corresponds to a separate term  ; similarity =  0.7762068\n"
          ]
        },
        {
          "output_type": "stream",
          "name": "stderr",
          "text": [
            "100%|██████████| 1/1 [00:00<00:00,  6.06it/s]\n",
            "100%|██████████| 1/1 [00:00<00:00,  6.26it/s]\n"
          ]
        },
        {
          "output_type": "stream",
          "name": "stdout",
          "text": [
            "Sentence =   It is similar to divide and conquer however is differentiated as its subproblems are not independent  In defining this inheritance hierarchy we have already defined certain restrictions not all of which are desirable  ; similarity =  0.46410418\n"
          ]
        },
        {
          "output_type": "stream",
          "name": "stderr",
          "text": [
            "100%|██████████| 1/1 [00:00<00:00,  6.28it/s]\n",
            "100%|██████████| 1/1 [00:00<00:00,  6.79it/s]\n"
          ]
        },
        {
          "output_type": "stream",
          "name": "stdout",
          "text": [
            "Sentence =   As an official theorem Bayes theorem is valid in all universal interpretations of probability  As a formal theorem Bayes theorem is valid in all common interpretations of probability  ; similarity =  0.9163457\n"
          ]
        },
        {
          "output_type": "stream",
          "name": "stderr",
          "text": [
            "100%|██████████| 1/1 [00:00<00:00,  7.21it/s]\n",
            "100%|██████████| 1/1 [00:00<00:00,  7.68it/s]\n"
          ]
        },
        {
          "output_type": "stream",
          "name": "stdout",
          "text": [
            "Sentence =   Inheritance is an important feature in object orientated programming  Inheritance is a basic concept in object oriented programming  ; similarity =  0.8815417\n"
          ]
        },
        {
          "output_type": "stream",
          "name": "stderr",
          "text": [
            "100%|██████████| 1/1 [00:00<00:00,  7.17it/s]\n",
            "100%|██████████| 1/1 [00:00<00:00,  6.79it/s]\n"
          ]
        },
        {
          "output_type": "stream",
          "name": "stdout",
          "text": [
            "Sentence =   Thus the program is the optimal plan of action that is being produced  The program is the optimal plan for action that is produced  ; similarity =  0.9743271\n"
          ]
        },
        {
          "output_type": "stream",
          "name": "stderr",
          "text": [
            "100%|██████████| 1/1 [00:00<00:00,  5.59it/s]\n",
            "100%|██████████| 1/1 [00:00<00:00,  7.05it/s]\n"
          ]
        },
        {
          "output_type": "stream",
          "name": "stdout",
          "text": [
            "Sentence =   In probability theory the prior and conditional probabilities of two random events are related by Bayes theorem  As an official theorem Bayes theorem is valid in all universal interpretations of probability  ; similarity =  0.39715058\n"
          ]
        },
        {
          "output_type": "stream",
          "name": "stderr",
          "text": [
            "100%|██████████| 1/1 [00:00<00:00,  7.11it/s]\n",
            "100%|██████████| 1/1 [00:00<00:00,  6.28it/s]\n"
          ]
        },
        {
          "output_type": "stream",
          "name": "stdout",
          "text": [
            "Sentence =   The differing application has a direct influence on what the definition of the term means  Terms are basically the words or any indexing unit used to identify the contents of a text  ; similarity =  0.534913\n"
          ]
        },
        {
          "output_type": "stream",
          "name": "stderr",
          "text": [
            "100%|██████████| 1/1 [00:00<00:00,  6.48it/s]\n",
            "100%|██████████| 1/1 [00:00<00:00,  7.22it/s]\n"
          ]
        },
        {
          "output_type": "stream",
          "name": "stdout",
          "text": [
            "Sentence =   The differing application has a direct influence on what the definition of the term means  The definition of term is dependent on the application  ; similarity =  0.8629457\n"
          ]
        },
        {
          "output_type": "stream",
          "name": "stderr",
          "text": [
            "100%|██████████| 1/1 [00:00<00:00,  6.25it/s]\n",
            "100%|██████████| 1/1 [00:00<00:00,  6.88it/s]\n"
          ]
        },
        {
          "output_type": "stream",
          "name": "stdout",
          "text": [
            "Sentence =   It has no relationship to computer programming instead it is a process of finding a satisfactory algorithm  However an object cannot be cast to a class which is no relative of it  ; similarity =  0.21889457\n"
          ]
        },
        {
          "output_type": "stream",
          "name": "stderr",
          "text": [
            "100%|██████████| 1/1 [00:00<00:00,  5.93it/s]\n",
            "100%|██████████| 1/1 [00:00<00:00,  5.50it/s]\n"
          ]
        },
        {
          "output_type": "stream",
          "name": "stdout",
          "text": [
            "Sentence =   Dynamic Programming reduces computation time by solving subproblems in a bottom up way  In computer science dynamic programming is a way of solving problems consist of overlapping subproblems and optimal substructure  ; similarity =  0.7106877\n"
          ]
        },
        {
          "output_type": "stream",
          "name": "stderr",
          "text": [
            "100%|██████████| 1/1 [00:00<00:00,  7.28it/s]\n",
            "100%|██████████| 1/1 [00:00<00:00,  5.72it/s]\n"
          ]
        },
        {
          "output_type": "stream",
          "name": "stdout",
          "text": [
            "Sentence =   Inheritance is an important feature in object orientated programming  The peropos of inheritance in object oriented programming is to minimize the reuse of existing code without modification  ; similarity =  0.6064297\n"
          ]
        },
        {
          "output_type": "stream",
          "name": "stderr",
          "text": [
            "100%|██████████| 1/1 [00:00<00:00,  6.66it/s]\n",
            "100%|██████████| 1/1 [00:00<00:00,  6.74it/s]\n"
          ]
        },
        {
          "output_type": "stream",
          "name": "stdout",
          "text": [
            "Sentence =   Each document is a vector where each word is a dimension  A document is represented as a vector with each dimension corresponding to a separate term  ; similarity =  0.90192515\n"
          ]
        },
        {
          "output_type": "stream",
          "name": "stderr",
          "text": [
            "100%|██████████| 1/1 [00:00<00:00,  7.39it/s]\n",
            "100%|██████████| 1/1 [00:00<00:00,  7.83it/s]\n"
          ]
        },
        {
          "output_type": "stream",
          "name": "stdout",
          "text": [
            "Sentence =   The definition of term is dependent on the application  Depending on the application the definition of term varies  ; similarity =  0.90270185\n"
          ]
        },
        {
          "output_type": "stream",
          "name": "stderr",
          "text": [
            "100%|██████████| 1/1 [00:00<00:00,  6.40it/s]\n",
            "100%|██████████| 1/1 [00:00<00:00,  6.56it/s]\n"
          ]
        },
        {
          "output_type": "stream",
          "name": "stdout",
          "text": [
            "Sentence =   Since the PageRank is the most important algorithms which is used in the Google engine  One of the most important uses of page rank is its meaning to advertising  ; similarity =  0.49012247\n"
          ]
        },
        {
          "output_type": "stream",
          "name": "stderr",
          "text": [
            "100%|██████████| 1/1 [00:00<00:00,  5.82it/s]\n",
            "100%|██████████| 1/1 [00:00<00:00,  6.44it/s]\n"
          ]
        },
        {
          "output_type": "stream",
          "name": "stdout",
          "text": [
            "Sentence =   Bellman equation is a central result of dynamic programming which restates an optimization problem in recursive form  Dynamic programming is a problem solving method which solves recursive problems  ; similarity =  0.7627598\n"
          ]
        },
        {
          "output_type": "stream",
          "name": "stderr",
          "text": [
            "100%|██████████| 1/1 [00:00<00:00,  5.70it/s]\n",
            "100%|██████████| 1/1 [00:00<00:00,  6.77it/s]\n"
          ]
        },
        {
          "output_type": "stream",
          "name": "stdout",
          "text": [
            "Sentence =   In probability theory the prior and conditional probabilities of two random events are related by Bayes theorem  Bayes Theorem is a theorem of probability theory originally stated by the Reverend Thomas Bayes  ; similarity =  0.51315355\n"
          ]
        },
        {
          "output_type": "stream",
          "name": "stderr",
          "text": [
            "100%|██████████| 1/1 [00:00<00:00,  6.12it/s]\n",
            "100%|██████████| 1/1 [00:00<00:00,  6.61it/s]\n"
          ]
        },
        {
          "output_type": "stream",
          "name": "stdout",
          "text": [
            "Sentence =   It has no relationship to computer programming instead it is a process of finding a satisfactory algorithm  An example of this gain in efficiency is a path finding problem  ; similarity =  0.24214122\n"
          ]
        },
        {
          "output_type": "stream",
          "name": "stderr",
          "text": [
            "100%|██████████| 1/1 [00:00<00:00,  6.53it/s]\n",
            "100%|██████████| 1/1 [00:00<00:00,  6.71it/s]\n"
          ]
        },
        {
          "output_type": "stream",
          "name": "stdout",
          "text": [
            "Sentence =   Without a proof of correctness such an algorithm is likely to fail  However an object cannot be cast to a class which is no relative of it  ; similarity =  0.09859443\n"
          ]
        },
        {
          "output_type": "stream",
          "name": "stderr",
          "text": [
            "100%|██████████| 1/1 [00:00<00:00,  6.05it/s]\n",
            "100%|██████████| 1/1 [00:00<00:00,  8.29it/s]\n"
          ]
        },
        {
          "output_type": "stream",
          "name": "stdout",
          "text": [
            "Sentence =   Finally the order in which the terms appear in the document is lost in the vector space representation  A document has representation as a vector  ; similarity =  0.60058755\n"
          ]
        },
        {
          "output_type": "stream",
          "name": "stderr",
          "text": [
            "100%|██████████| 1/1 [00:00<00:00,  5.99it/s]\n",
            "100%|██████████| 1/1 [00:00<00:00,  6.83it/s]\n"
          ]
        },
        {
          "output_type": "stream",
          "name": "stdout",
          "text": [
            "Sentence =   It is prior in the sense that it does not take into account any information about B  It does not take into account any information about B and therefore is considered prior  ; similarity =  0.9394734\n"
          ]
        },
        {
          "output_type": "stream",
          "name": "stderr",
          "text": [
            "100%|██████████| 1/1 [00:00<00:00,  6.02it/s]\n",
            "100%|██████████| 1/1 [00:00<00:00,  7.03it/s]\n"
          ]
        },
        {
          "output_type": "stream",
          "name": "stdout",
          "text": [
            "Sentence =   One of the best known schemes is tf idf weighting proposed by Salton Wong and Yang  One of the most famous schemes is tf idf weighting  ; similarity =  0.79792684\n"
          ]
        },
        {
          "output_type": "stream",
          "name": "stderr",
          "text": [
            "100%|██████████| 1/1 [00:00<00:00,  6.24it/s]\n",
            "100%|██████████| 1/1 [00:00<00:00,  6.24it/s]\n"
          ]
        },
        {
          "output_type": "stream",
          "name": "stdout",
          "text": [
            "Sentence =   P B A is the conditional probability of B given A  P B a k a the normalizing constant is the prior or marginal probability of B  ; similarity =  0.84253585\n"
          ]
        },
        {
          "output_type": "stream",
          "name": "stderr",
          "text": [
            "100%|██████████| 1/1 [00:00<00:00,  6.53it/s]\n",
            "100%|██████████| 1/1 [00:00<00:00,  7.72it/s]\n"
          ]
        },
        {
          "output_type": "stream",
          "name": "stdout",
          "text": [
            "Sentence =   So in essence it is a popularity contest between WebPages  It is essentially a popularity meter  ; similarity =  0.40686777\n"
          ]
        },
        {
          "output_type": "stream",
          "name": "stderr",
          "text": [
            "100%|██████████| 1/1 [00:00<00:00,  6.20it/s]\n",
            "100%|██████████| 1/1 [00:00<00:00,  6.79it/s]\n"
          ]
        },
        {
          "output_type": "stream",
          "name": "stdout",
          "text": [
            "Sentence =   Several different ways of computing these values additionally known as term weights have been developed  Several different ways have been developed of calculating these values also known as term weights  ; similarity =  0.9776656\n"
          ]
        },
        {
          "output_type": "stream",
          "name": "stderr",
          "text": [
            "100%|██████████| 1/1 [00:00<00:00,  5.73it/s]\n",
            "100%|██████████| 1/1 [00:00<00:00,  6.71it/s]\n"
          ]
        },
        {
          "output_type": "stream",
          "name": "stdout",
          "text": [
            "Sentence =   The number of unique words in the vocabulary denotes the dimensionality if words are used for the terms  If the term doesn t occur within the document the value in the vector is zero  ; similarity =  0.317844\n"
          ]
        },
        {
          "output_type": "stream",
          "name": "stderr",
          "text": [
            "100%|██████████| 1/1 [00:00<00:00,  6.45it/s]\n",
            "100%|██████████| 1/1 [00:00<00:00,  6.12it/s]\n"
          ]
        },
        {
          "output_type": "stream",
          "name": "stdout",
          "text": [
            "Sentence =   P A B is the conditional probability of A given B  P B a k a the normalizing constant is the prior or marginal probability of B  ; similarity =  0.8563696\n"
          ]
        },
        {
          "output_type": "stream",
          "name": "stderr",
          "text": [
            "100%|██████████| 1/1 [00:00<00:00,  5.61it/s]\n",
            "100%|██████████| 1/1 [00:00<00:00,  6.03it/s]\n"
          ]
        },
        {
          "output_type": "stream",
          "name": "stdout",
          "text": [
            "Sentence =   The PageRank depends on the PageRank rating and number of all pages that have links to it  A variation of the PageRank method bases the importance of a webpage on how many visits the page gets  ; similarity =  0.77000254\n"
          ]
        },
        {
          "output_type": "stream",
          "name": "stderr",
          "text": [
            "100%|██████████| 1/1 [00:00<00:00,  5.70it/s]\n",
            "100%|██████████| 1/1 [00:00<00:00,  5.77it/s]\n"
          ]
        },
        {
          "output_type": "stream",
          "name": "stdout",
          "text": [
            "Sentence =   The other method is the top down approach which is a method that combines memorization and recursion  Since the PageRank is the most important algorithms which is used in the Google engine  ; similarity =  0.30689025\n"
          ]
        },
        {
          "output_type": "stream",
          "name": "stderr",
          "text": [
            "100%|██████████| 1/1 [00:00<00:00,  6.06it/s]\n",
            "100%|██████████| 1/1 [00:00<00:00,  7.18it/s]\n"
          ]
        },
        {
          "output_type": "stream",
          "name": "stdout",
          "text": [
            "Sentence =   The order in which the terms appear in the document is lost in the vector space representation  A document has representation as a vector  ; similarity =  0.617272\n"
          ]
        },
        {
          "output_type": "stream",
          "name": "stderr",
          "text": [
            "100%|██████████| 1/1 [00:00<00:00,  6.10it/s]\n",
            "100%|██████████| 1/1 [00:00<00:00,  6.89it/s]\n"
          ]
        },
        {
          "output_type": "stream",
          "name": "stdout",
          "text": [
            "Sentence =   This can be useful when the number of times a word appears is not considered important  A website s page rank is how important it is on the web  ; similarity =  0.27596405\n"
          ]
        },
        {
          "output_type": "stream",
          "name": "stderr",
          "text": [
            "100%|██████████| 1/1 [00:00<00:00,  6.24it/s]\n",
            "100%|██████████| 1/1 [00:00<00:00,  6.37it/s]\n"
          ]
        },
        {
          "output_type": "stream",
          "name": "stdout",
          "text": [
            "Sentence =   P A is the probability of the student being a girl which is 2 5  P B a k a the normalizing constant is the prior or marginal probability of B  ; similarity =  0.47997284\n"
          ]
        },
        {
          "output_type": "stream",
          "name": "stderr",
          "text": [
            "100%|██████████| 1/1 [00:00<00:00,  5.87it/s]\n",
            "100%|██████████| 1/1 [00:00<00:00,  6.08it/s]\n"
          ]
        },
        {
          "output_type": "stream",
          "name": "stdout",
          "text": [
            "Sentence =   The order in which terms appear in the document is lost in a vector space representation  If a term occurs in the document the value will be non zero in the vector  ; similarity =  0.60608447\n"
          ]
        },
        {
          "output_type": "stream",
          "name": "stderr",
          "text": [
            "100%|██████████| 1/1 [00:00<00:00,  7.07it/s]\n",
            "100%|██████████| 1/1 [00:00<00:00,  6.18it/s]\n"
          ]
        },
        {
          "output_type": "stream",
          "name": "stdout",
          "text": [
            "Sentence =   Without a proof of correctness such an algorithm is likely to fail  Mathematicians use the word to describe a set of rules which anyone can follow to solve a problem  ; similarity =  0.27124214\n"
          ]
        },
        {
          "output_type": "stream",
          "name": "stderr",
          "text": [
            "100%|██████████| 1/1 [00:00<00:00,  6.79it/s]\n",
            "100%|██████████| 1/1 [00:00<00:00,  7.35it/s]\n"
          ]
        },
        {
          "output_type": "stream",
          "name": "stdout",
          "text": [
            "Sentence =   They also inherit the attributes and methods of its superclass  Virtual attributes and methods can be shadowed overridden  ; similarity =  0.35873806\n"
          ]
        },
        {
          "output_type": "stream",
          "name": "stderr",
          "text": [
            "100%|██████████| 1/1 [00:00<00:00,  6.71it/s]\n",
            "100%|██████████| 1/1 [00:00<00:00,  6.70it/s]\n"
          ]
        },
        {
          "output_type": "stream",
          "name": "stdout",
          "text": [
            "Sentence =   Deep links to a specific page usually bypassing the homepage  Dangling links to a page which has no links to others  ; similarity =  0.6675853\n"
          ]
        },
        {
          "output_type": "stream",
          "name": "stderr",
          "text": [
            "100%|██████████| 1/1 [00:00<00:00,  6.53it/s]\n",
            "100%|██████████| 1/1 [00:00<00:00,  7.35it/s]\n"
          ]
        },
        {
          "output_type": "stream",
          "name": "stdout",
          "text": [
            "Sentence =   Recursively define the value of an optimal solution 3  Generalise the structure of an optimal solution 2  ; similarity =  0.69347066\n"
          ]
        },
        {
          "output_type": "stream",
          "name": "stderr",
          "text": [
            "100%|██████████| 1/1 [00:00<00:00,  6.52it/s]\n",
            "100%|██████████| 1/1 [00:00<00:00,  7.25it/s]\n"
          ]
        },
        {
          "output_type": "stream",
          "name": "stdout",
          "text": [
            "Sentence =   P A is the probability of the student being a girl which is 2 5   P B A is the conditional probability of B given A  ; similarity =  0.5736317\n"
          ]
        },
        {
          "output_type": "stream",
          "name": "stderr",
          "text": [
            "100%|██████████| 1/1 [00:00<00:00,  6.21it/s]\n",
            "100%|██████████| 1/1 [00:00<00:00,  5.54it/s]\n"
          ]
        },
        {
          "output_type": "stream",
          "name": "stdout",
          "text": [
            "Sentence =   This method is used in the Google Toolbar which reports back actual site visits to Google  Following this each web page is given a ranking of 0 10 according to its relevance to a search  ; similarity =  0.45676032\n"
          ]
        },
        {
          "output_type": "stream",
          "name": "stderr",
          "text": [
            "100%|██████████| 1/1 [00:00<00:00,  6.21it/s]\n",
            "100%|██████████| 1/1 [00:00<00:00,  6.21it/s]\n"
          ]
        },
        {
          "output_type": "stream",
          "name": "stdout",
          "text": [
            "Sentence =   This can be useful when the number of times a word appears is not considered important  The method can be abused when people deliberately link to sites in order to raise a site s PageRank  ; similarity =  0.27066323\n"
          ]
        },
        {
          "output_type": "stream",
          "name": "stderr",
          "text": [
            "100%|██████████| 1/1 [00:00<00:00,  6.88it/s]\n",
            "100%|██████████| 1/1 [00:00<00:00,  7.94it/s]\n"
          ]
        },
        {
          "output_type": "stream",
          "name": "stdout",
          "text": [
            "Sentence =   Each document is a vector where each word is a dimension  A document can be represented as a vector  ; similarity =  0.82501775\n"
          ]
        },
        {
          "output_type": "stream",
          "name": "stderr",
          "text": [
            "100%|██████████| 1/1 [00:00<00:00,  6.14it/s]\n",
            "100%|██████████| 1/1 [00:00<00:00,  7.08it/s]\n"
          ]
        },
        {
          "output_type": "stream",
          "name": "stdout",
          "text": [
            "Sentence =   The vector is then constucted of the frequency of eacher word dimension  Each document is a vector where each word is a dimension  ; similarity =  0.75162107\n"
          ]
        },
        {
          "output_type": "stream",
          "name": "stderr",
          "text": [
            "100%|██████████| 1/1 [00:00<00:00,  6.82it/s]\n",
            "100%|██████████| 1/1 [00:00<00:00,  6.70it/s]\n"
          ]
        },
        {
          "output_type": "stream",
          "name": "stdout",
          "text": [
            "Sentence =   P A B is the conditional probability of A given B  P A or the probability that the student is a girl regardless of any other information  ; similarity =  0.47685117\n"
          ]
        },
        {
          "output_type": "stream",
          "name": "stderr",
          "text": [
            "100%|██████████| 1/1 [00:00<00:00,  6.22it/s]\n",
            "100%|██████████| 1/1 [00:00<00:00,  7.32it/s]\n"
          ]
        },
        {
          "output_type": "stream",
          "name": "stdout",
          "text": [
            "Sentence =   P A or the probability that the student is a girl regardless of any other information   P B A is the conditional probability of B given A  ; similarity =  0.4875696\n"
          ]
        },
        {
          "output_type": "stream",
          "name": "stderr",
          "text": [
            "100%|██████████| 1/1 [00:00<00:00,  7.50it/s]\n",
            "100%|██████████| 1/1 [00:00<00:00,  6.83it/s]\n"
          ]
        },
        {
          "output_type": "stream",
          "name": "stdout",
          "text": [
            "Sentence =   The method takes much less time than naive methods  And thus the method takes much less time than more naive methods  ; similarity =  0.98499125\n"
          ]
        },
        {
          "output_type": "stream",
          "name": "stderr",
          "text": [
            "100%|██████████| 1/1 [00:00<00:00,  5.91it/s]\n",
            "100%|██████████| 1/1 [00:00<00:00,  6.38it/s]\n"
          ]
        },
        {
          "output_type": "stream",
          "name": "stdout",
          "text": [
            "Sentence =   Several different ways of computing these values also known as term weights have been developed  Many different methods of calculating these values sometimes known as term weights have been developed  ; similarity =  0.96526635\n"
          ]
        },
        {
          "output_type": "stream",
          "name": "stderr",
          "text": [
            "100%|██████████| 1/1 [00:00<00:00,  7.66it/s]\n",
            "100%|██████████| 1/1 [00:00<00:00,  8.25it/s]\n"
          ]
        },
        {
          "output_type": "stream",
          "name": "stdout",
          "text": [
            "Sentence =   Inheritance means derived a new class from the base class  Inheritance was firstly derived in 1967  ; similarity =  0.5703624\n"
          ]
        },
        {
          "output_type": "stream",
          "name": "stderr",
          "text": [
            "100%|██████████| 1/1 [00:00<00:00,  7.43it/s]\n",
            "100%|██████████| 1/1 [00:00<00:00,  6.16it/s]\n"
          ]
        },
        {
          "output_type": "stream",
          "name": "stdout",
          "text": [
            "Sentence =   The limitations of the vector space model are thus  A Vector space model is an algebraic model for representing text documents as vectors of identifiers  ; similarity =  0.49951282\n"
          ]
        },
        {
          "output_type": "stream",
          "name": "stderr",
          "text": [
            "100%|██████████| 1/1 [00:00<00:00,  6.59it/s]\n",
            "100%|██████████| 1/1 [00:00<00:00,  8.03it/s]\n"
          ]
        },
        {
          "output_type": "stream",
          "name": "stdout",
          "text": [
            "Sentence =   The definition of term depends on the application  Depending on the application the definition of term varies  ; similarity =  0.94501656\n"
          ]
        },
        {
          "output_type": "stream",
          "name": "stderr",
          "text": [
            "100%|██████████| 1/1 [00:00<00:00,  5.86it/s]\n",
            "100%|██████████| 1/1 [00:00<00:00,  6.85it/s]\n"
          ]
        },
        {
          "output_type": "stream",
          "name": "stdout",
          "text": [
            "Sentence =   In probability theory Bayes theorem relates the conditional and marginal probabilities of two random events  Bayes theorem relates the conditional and marginal probabilities of two random events  ; similarity =  0.9714743\n"
          ]
        },
        {
          "output_type": "stream",
          "name": "stderr",
          "text": [
            "100%|██████████| 1/1 [00:00<00:00,  5.77it/s]\n",
            "100%|██████████| 1/1 [00:00<00:00,  6.46it/s]\n"
          ]
        },
        {
          "output_type": "stream",
          "name": "stdout",
          "text": [
            "Sentence =   In vector space model the documents from which the information is to be retrieved are represented as vectors  If a term appears in the document the terms value in the vector is non zero  ; similarity =  0.50501966\n"
          ]
        },
        {
          "output_type": "stream",
          "name": "stderr",
          "text": [
            "100%|██████████| 1/1 [00:00<00:00,  6.28it/s]\n",
            "100%|██████████| 1/1 [00:00<00:00,  6.54it/s]\n"
          ]
        },
        {
          "output_type": "stream",
          "name": "stdout",
          "text": [
            "Sentence =   One of the most popular schemes is tf idf weighting  One of the best known schemes is tf idf weighting see the example below  ; similarity =  0.9458574\n"
          ]
        },
        {
          "output_type": "stream",
          "name": "stderr",
          "text": [
            "100%|██████████| 1/1 [00:00<00:00,  6.30it/s]\n",
            "100%|██████████| 1/1 [00:00<00:00,  6.69it/s]\n"
          ]
        },
        {
          "output_type": "stream",
          "name": "stdout",
          "text": [
            "Sentence =   Bayes Theorem is a simple mathematical formula used for calculating conditional probabilities  Bayes theorem relates the conditional and marginal probabilities of two random events  ; similarity =  0.65848684\n"
          ]
        },
        {
          "output_type": "stream",
          "name": "stderr",
          "text": [
            "100%|██████████| 1/1 [00:00<00:00,  6.72it/s]\n",
            "100%|██████████| 1/1 [00:00<00:00,  6.95it/s]\n"
          ]
        },
        {
          "output_type": "stream",
          "name": "stdout",
          "text": [
            "Sentence =   Thus the program is the best plan for action that is produced  Therefore the program is the optimal plan for action that is produced  ; similarity =  0.89486384\n"
          ]
        },
        {
          "output_type": "stream",
          "name": "stderr",
          "text": [
            "100%|██████████| 1/1 [00:00<00:00,  5.23it/s]\n",
            "100%|██████████| 1/1 [00:00<00:00,  6.25it/s]\n"
          ]
        },
        {
          "output_type": "stream",
          "name": "stdout",
          "text": [
            "Sentence =   It is mainly used to calculate the probability of one event s outcome given that a previous event happened  Here we re going to simply use a probability distribution hence the initial value of 0 25  ; similarity =  0.3631625\n"
          ]
        },
        {
          "output_type": "stream",
          "name": "stderr",
          "text": [
            "100%|██████████| 1/1 [00:00<00:00,  6.31it/s]\n",
            "100%|██████████| 1/1 [00:00<00:00,  6.45it/s]\n"
          ]
        },
        {
          "output_type": "stream",
          "name": "stdout",
          "text": [
            "Sentence =   Solve these problems optimally using this three step process recursively  Recursively use this three step process to compute the optimal path in the subproblem  ; similarity =  0.8387559\n"
          ]
        },
        {
          "output_type": "stream",
          "name": "stderr",
          "text": [
            "100%|██████████| 1/1 [00:00<00:00,  6.85it/s]\n",
            "100%|██████████| 1/1 [00:00<00:00,  6.87it/s]\n"
          ]
        },
        {
          "output_type": "stream",
          "name": "stdout",
          "text": [
            "Sentence =   This can be known as one of the advantages of inheritance  However an object cannot be cast to a class which is no relative of it  ; similarity =  0.18439089\n"
          ]
        },
        {
          "output_type": "stream",
          "name": "stderr",
          "text": [
            "100%|██████████| 1/1 [00:00<00:00,  6.52it/s]\n",
            "100%|██████████| 1/1 [00:00<00:00,  6.66it/s]\n"
          ]
        },
        {
          "output_type": "stream",
          "name": "stdout",
          "text": [
            "Sentence =   The program is the optimal plan for action that is produced  Here by meaning that a program can be an optimal plan for the produced action  ; similarity =  0.8946785\n"
          ]
        },
        {
          "output_type": "stream",
          "name": "stderr",
          "text": [
            "100%|██████████| 1/1 [00:00<00:00,  6.13it/s]\n",
            "100%|██████████| 1/1 [00:00<00:00,  6.29it/s]\n"
          ]
        },
        {
          "output_type": "stream",
          "name": "stdout",
          "text": [
            "Sentence =   Then using this the best overall path can be found thereby demonstrating the dynamic programming principle  However the key in Dynamic Programming is to determine the structure of optimal solutions  ; similarity =  0.64663184\n"
          ]
        },
        {
          "output_type": "stream",
          "name": "stderr",
          "text": [
            "100%|██████████| 1/1 [00:00<00:00,  6.40it/s]\n",
            "100%|██████████| 1/1 [00:00<00:00,  6.79it/s]\n"
          ]
        },
        {
          "output_type": "stream",
          "name": "stdout",
          "text": [
            "Sentence =   The value of a vector is non zero if a term occurs in the document  If a term occurs in the document its value in the vector is non zero  ; similarity =  0.97111636\n"
          ]
        },
        {
          "output_type": "stream",
          "name": "stderr",
          "text": [
            "100%|██████████| 1/1 [00:00<00:00,  5.42it/s]\n",
            "100%|██████████| 1/1 [00:00<00:00,  6.70it/s]\n"
          ]
        },
        {
          "output_type": "stream",
          "name": "stdout",
          "text": [
            "Sentence =   Terms are basically the words or any indexing unit used to identify the contents of a text  One of the most important uses of page rank is its meaning to advertising  ; similarity =  0.50793505\n"
          ]
        },
        {
          "output_type": "stream",
          "name": "stderr",
          "text": [
            "100%|██████████| 1/1 [00:00<00:00,  7.45it/s]\n",
            "100%|██████████| 1/1 [00:00<00:00,  6.99it/s]\n"
          ]
        },
        {
          "output_type": "stream",
          "name": "stdout",
          "text": [
            "Sentence =   The vector space model has some limitations 1  In the vector space model a document is represented as a vector  ; similarity =  0.57249665\n"
          ]
        },
        {
          "output_type": "stream",
          "name": "stderr",
          "text": [
            "100%|██████████| 1/1 [00:00<00:00,  5.08it/s]\n",
            "100%|██████████| 1/1 [00:00<00:00,  6.14it/s]\n"
          ]
        },
        {
          "output_type": "stream",
          "name": "stdout",
          "text": [
            "Sentence =   The PageRank is a recursive algorithm used by Google to determine which webpages are more important than others  The method can be abused when people deliberately link to sites in order to raise a site s PageRank  ; similarity =  0.6710163\n"
          ]
        },
        {
          "output_type": "stream",
          "name": "stderr",
          "text": [
            "100%|██████████| 1/1 [00:00<00:00,  5.44it/s]\n",
            "100%|██████████| 1/1 [00:00<00:00,  7.95it/s]\n"
          ]
        },
        {
          "output_type": "stream",
          "name": "stdout",
          "text": [
            "Sentence =   It is similar to divide and conquer however is differentiated as its subproblems are not independent  These subproblems are not however independent  ; similarity =  0.6853521\n"
          ]
        },
        {
          "output_type": "stream",
          "name": "stderr",
          "text": [
            "100%|██████████| 1/1 [00:00<00:00,  6.77it/s]\n",
            "100%|██████████| 1/1 [00:00<00:00,  6.35it/s]\n"
          ]
        },
        {
          "output_type": "stream",
          "name": "stdout",
          "text": [
            "Sentence =   Inheritance is one of the basic concepts of Object Oriented Programming  In object oriented programming inheritance is also dependant on access level modifiers  ; similarity =  0.8173295\n"
          ]
        },
        {
          "output_type": "stream",
          "name": "stderr",
          "text": [
            "100%|██████████| 1/1 [00:00<00:00,  5.84it/s]\n",
            "100%|██████████| 1/1 [00:00<00:00,  7.37it/s]\n"
          ]
        },
        {
          "output_type": "stream",
          "name": "stdout",
          "text": [
            "Sentence =   Object oriented programming is a style of programming that supports encapsulation inheritance and polymorphism  Inheritance is one of the basic concepts of Object Oriented Programming  ; similarity =  0.8683852\n"
          ]
        },
        {
          "output_type": "stream",
          "name": "stderr",
          "text": [
            "100%|██████████| 1/1 [00:00<00:00,  5.59it/s]\n",
            "100%|██████████| 1/1 [00:00<00:00,  6.76it/s]\n"
          ]
        },
        {
          "output_type": "stream",
          "name": "stdout",
          "text": [
            "Sentence =   As a formal theorem Bayes theorem is valid in all common interpretations of probability  Bayes theorem can be used to compute the probability that a proposed diagnosis is correct  ; similarity =  0.59125733\n"
          ]
        },
        {
          "output_type": "stream",
          "name": "stderr",
          "text": [
            "100%|██████████| 1/1 [00:00<00:00,  6.52it/s]\n",
            "100%|██████████| 1/1 [00:00<00:00,  6.77it/s]\n"
          ]
        },
        {
          "output_type": "stream",
          "name": "stdout",
          "text": [
            "Sentence =   The value of a vector is non zero if a term occurs in the document  The basic idea is to represent each document as a vector of certain weighted word frequencies  ; similarity =  0.49178886\n"
          ]
        },
        {
          "output_type": "stream",
          "name": "stderr",
          "text": [
            "100%|██████████| 1/1 [00:00<00:00,  8.04it/s]\n",
            "100%|██████████| 1/1 [00:00<00:00,  7.44it/s]\n"
          ]
        },
        {
          "output_type": "stream",
          "name": "stdout",
          "text": [
            "Sentence =   Java allows object inheritance  Inheritance is an important feature in object orientated programming  ; similarity =  0.7012241\n"
          ]
        },
        {
          "output_type": "stream",
          "name": "stderr",
          "text": [
            "100%|██████████| 1/1 [00:00<00:00,  6.31it/s]\n",
            "100%|██████████| 1/1 [00:00<00:00,  6.79it/s]\n"
          ]
        },
        {
          "output_type": "stream",
          "name": "stdout",
          "text": [
            "Sentence =   Term frequency This formula counts how many times the term occurs in a document  If a term occurs in the document its value is non zero  ; similarity =  0.5524473\n"
          ]
        },
        {
          "output_type": "stream",
          "name": "stderr",
          "text": [
            "100%|██████████| 1/1 [00:00<00:00,  6.48it/s]\n",
            "100%|██████████| 1/1 [00:00<00:00,  6.14it/s]\n"
          ]
        },
        {
          "output_type": "stream",
          "name": "stdout",
          "text": [
            "Sentence =   A website s page rank is how important it is on the web  A page that is linked to by many pages with high PageRank receives a high rank itself  ; similarity =  0.79584867\n"
          ]
        },
        {
          "output_type": "stream",
          "name": "stderr",
          "text": [
            "100%|██████████| 1/1 [00:00<00:00,  6.52it/s]\n",
            "100%|██████████| 1/1 [00:00<00:00,  7.36it/s]\n"
          ]
        },
        {
          "output_type": "stream",
          "name": "stdout",
          "text": [
            "Sentence =   For instance a patient may be observed to have certain symptoms  For example a patient may be observed to have certain symptoms  ; similarity =  0.99914414\n"
          ]
        },
        {
          "output_type": "stream",
          "name": "stderr",
          "text": [
            "100%|██████████| 1/1 [00:00<00:00,  6.10it/s]\n",
            "100%|██████████| 1/1 [00:00<00:00,  7.44it/s]\n"
          ]
        },
        {
          "output_type": "stream",
          "name": "stdout",
          "text": [
            "Sentence =   To explain further vector space models basically a document is characterized by a vector  A document has representation as a vector  ; similarity =  0.86203414\n"
          ]
        },
        {
          "output_type": "stream",
          "name": "stderr",
          "text": [
            "100%|██████████| 1/1 [00:00<00:00,  6.60it/s]\n",
            "100%|██████████| 1/1 [00:00<00:00,  7.00it/s]\n"
          ]
        },
        {
          "output_type": "stream",
          "name": "stdout",
          "text": [
            "Sentence =   It is used in information filtering indexing relevancy rankings and information retrieval  It was used in the first time in the SMART Information Retrieval System  ; similarity =  0.49420664\n"
          ]
        },
        {
          "output_type": "stream",
          "name": "stderr",
          "text": [
            "100%|██████████| 1/1 [00:00<00:00,  6.25it/s]\n",
            "100%|██████████| 1/1 [00:00<00:00,  8.22it/s]\n"
          ]
        },
        {
          "output_type": "stream",
          "name": "stdout",
          "text": [
            "Sentence =   Programming in this sense means finding an acceptable plan of action an algorithm  Programming means finding a plan of action  ; similarity =  0.7738991\n"
          ]
        },
        {
          "output_type": "stream",
          "name": "stderr",
          "text": [
            "100%|██████████| 1/1 [00:00<00:00,  6.12it/s]\n",
            "100%|██████████| 1/1 [00:00<00:00,  5.98it/s]\n"
          ]
        },
        {
          "output_type": "stream",
          "name": "stdout",
          "text": [
            "Sentence =   The vector space model is one of these methods and it is an algebraic model  A Vector space model is an algebraic model for representing text documents as vectors of identifiers  ; similarity =  0.79364866\n"
          ]
        },
        {
          "output_type": "stream",
          "name": "stderr",
          "text": [
            "100%|██████████| 1/1 [00:00<00:00,  5.98it/s]\n",
            "100%|██████████| 1/1 [00:00<00:00,  6.73it/s]\n"
          ]
        },
        {
          "output_type": "stream",
          "name": "stdout",
          "text": [
            "Sentence =   A document is represented as a vector and each dimension corresponds to a separate term  If a term appears in the document then its value in the vector is non zero  ; similarity =  0.64104736\n"
          ]
        },
        {
          "output_type": "stream",
          "name": "stderr",
          "text": [
            "100%|██████████| 1/1 [00:00<00:00,  5.57it/s]\n",
            "100%|██████████| 1/1 [00:00<00:00,  6.49it/s]\n"
          ]
        },
        {
          "output_type": "stream",
          "name": "stdout",
          "text": [
            "Sentence =   This formula gives more credit to words that appears more frequently but often too much credit  This can be useful when the number of times a word appears is not considered important  ; similarity =  0.52831846\n"
          ]
        },
        {
          "output_type": "stream",
          "name": "stderr",
          "text": [
            "100%|██████████| 1/1 [00:00<00:00,  5.91it/s]\n",
            "100%|██████████| 1/1 [00:00<00:00,  6.42it/s]\n"
          ]
        },
        {
          "output_type": "stream",
          "name": "stdout",
          "text": [
            "Sentence =   The order in which the terms appear in the document is lost in the vector space representation  In the vector space model a document is represented as a vector  ; similarity =  0.691071\n"
          ]
        },
        {
          "output_type": "stream",
          "name": "stderr",
          "text": [
            "100%|██████████| 1/1 [00:00<00:00,  6.27it/s]\n",
            "100%|██████████| 1/1 [00:00<00:00,  6.57it/s]\n"
          ]
        },
        {
          "output_type": "stream",
          "name": "stdout",
          "text": [
            "Sentence =   After this it is using this to pick the best overall path  Then using this the best overall path can be found thereby demonstrating the dynamic programming principle  ; similarity =  0.62407476\n"
          ]
        },
        {
          "output_type": "stream",
          "name": "stderr",
          "text": [
            "100%|██████████| 1/1 [00:00<00:00,  6.00it/s]\n",
            "100%|██████████| 1/1 [00:00<00:00,  8.20it/s]\n"
          ]
        },
        {
          "output_type": "stream",
          "name": "stdout",
          "text": [
            "Sentence =   The order in which terms appear in the document is lost in a vector space representation  A document is represented as a vector  ; similarity =  0.62446064\n"
          ]
        },
        {
          "output_type": "stream",
          "name": "stderr",
          "text": [
            "100%|██████████| 1/1 [00:00<00:00,  5.60it/s]\n",
            "100%|██████████| 1/1 [00:00<00:00,  6.05it/s]\n"
          ]
        },
        {
          "output_type": "stream",
          "name": "stdout",
          "text": [
            "Sentence =   There is also Conditional Probability which is usually interested in the way variables relate to each other  However an object cannot be cast to a class which is no relative of it  ; similarity =  0.078934796\n"
          ]
        },
        {
          "output_type": "stream",
          "name": "stderr",
          "text": [
            "100%|██████████| 1/1 [00:00<00:00,  5.74it/s]\n",
            "100%|██████████| 1/1 [00:00<00:00,  6.99it/s]\n"
          ]
        },
        {
          "output_type": "stream",
          "name": "stdout",
          "text": [
            "Sentence =   P B is the prior or marginal probability of B and acts to normalise the probability  P A B is the conditional probability of A given B  ; similarity =  0.86631626\n"
          ]
        },
        {
          "output_type": "stream",
          "name": "stderr",
          "text": [
            "100%|██████████| 1/1 [00:00<00:00,  5.94it/s]\n",
            "100%|██████████| 1/1 [00:00<00:00,  6.21it/s]\n"
          ]
        },
        {
          "output_type": "stream",
          "name": "stdout",
          "text": [
            "Sentence =   Each object except java lang Object can be cast to an object of one of its superclasses  However an object cannot be cast to a class which is no relative of it  ; similarity =  0.44333887\n"
          ]
        },
        {
          "output_type": "stream",
          "name": "stderr",
          "text": [
            "100%|██████████| 1/1 [00:00<00:00,  6.52it/s]\n",
            "100%|██████████| 1/1 [00:00<00:00,  6.38it/s]\n"
          ]
        },
        {
          "output_type": "stream",
          "name": "stdout",
          "text": [
            "Sentence =   Thus the program is the best plan for action that is produced  After this it is using this to pick the best overall path  ; similarity =  0.4312658\n"
          ]
        },
        {
          "output_type": "stream",
          "name": "stderr",
          "text": [
            "100%|██████████| 1/1 [00:00<00:00,  6.69it/s]\n",
            "100%|██████████| 1/1 [00:00<00:00,  6.61it/s]\n"
          ]
        },
        {
          "output_type": "stream",
          "name": "stdout",
          "text": [
            "Sentence =   One of the most important uses of page rank is its meaning to advertising  One of its uses is calculating posterior probabilities given observations  ; similarity =  0.23949823\n"
          ]
        },
        {
          "output_type": "stream",
          "name": "stderr",
          "text": [
            "100%|██████████| 1/1 [00:00<00:00,  6.46it/s]\n",
            "100%|██████████| 1/1 [00:00<00:00,  5.45it/s]\n"
          ]
        },
        {
          "output_type": "stream",
          "name": "stdout",
          "text": [
            "Sentence =   The key to Dynamic Programming is to find the structure of optimal solutions  Dynamic Programming is a method of solving problems that exhibit the properties of overlapping subproblems and optimal substructure  ; similarity =  0.80178845\n"
          ]
        },
        {
          "output_type": "stream",
          "name": "stderr",
          "text": [
            "100%|██████████| 1/1 [00:00<00:00,  6.18it/s]\n",
            "100%|██████████| 1/1 [00:00<00:00,  6.65it/s]\n"
          ]
        },
        {
          "output_type": "stream",
          "name": "stdout",
          "text": [
            "Sentence =   The basic idea is to represent each document as a vector of certain weighted word frequencies  In the vector space model a document is represented as a vector  ; similarity =  0.68789214\n"
          ]
        },
        {
          "output_type": "stream",
          "name": "stderr",
          "text": [
            "100%|██████████| 1/1 [00:00<00:00,  5.93it/s]\n",
            "100%|██████████| 1/1 [00:00<00:00,  6.21it/s]\n"
          ]
        },
        {
          "output_type": "stream",
          "name": "stdout",
          "text": [
            "Sentence =   It is usually used to calculate posterior probabilities given observations  It is often used to calculate posterior probabilities given observations  ; similarity =  0.98044664\n"
          ]
        },
        {
          "output_type": "stream",
          "name": "stderr",
          "text": [
            "100%|██████████| 1/1 [00:00<00:00,  5.88it/s]\n",
            "100%|██████████| 1/1 [00:00<00:00,  7.15it/s]\n"
          ]
        },
        {
          "output_type": "stream",
          "name": "stdout",
          "text": [
            "Sentence =   Object oriented programming is a style of programming that supports encapsulation inheritance and polymorphism  Inheritance is a basic concept in object oriented programming  ; similarity =  0.8675837\n"
          ]
        },
        {
          "output_type": "stream",
          "name": "stderr",
          "text": [
            "100%|██████████| 1/1 [00:00<00:00,  6.35it/s]\n",
            "100%|██████████| 1/1 [00:00<00:00,  6.71it/s]\n"
          ]
        },
        {
          "output_type": "stream",
          "name": "stdout",
          "text": [
            "Sentence =   The value of a vector is non zero if a term occurs in the document  Term frequency This formula counts how many times the term occurs in a document  ; similarity =  0.51070833\n"
          ]
        },
        {
          "output_type": "stream",
          "name": "stderr",
          "text": [
            "100%|██████████| 1/1 [00:00<00:00,  6.52it/s]\n",
            "100%|██████████| 1/1 [00:00<00:00,  6.98it/s]\n"
          ]
        },
        {
          "output_type": "stream",
          "name": "stdout",
          "text": [
            "Sentence =   A probability is expressed as a numeric value between 0 and 1  5 probability is commonly expressed as a 50 chance of something happening  ; similarity =  0.4411457\n"
          ]
        },
        {
          "output_type": "stream",
          "name": "stderr",
          "text": [
            "100%|██████████| 1/1 [00:00<00:00,  5.37it/s]\n",
            "100%|██████████| 1/1 [00:00<00:00,  6.66it/s]\n"
          ]
        },
        {
          "output_type": "stream",
          "name": "stdout",
          "text": [
            "Sentence =   This means that inheritance is used when types have common factors and these would be put into the superclass  The further down an inheritance tree you get the more specific the classes become  ; similarity =  0.6607259\n"
          ]
        },
        {
          "output_type": "stream",
          "name": "stderr",
          "text": [
            "100%|██████████| 1/1 [00:00<00:00,  5.63it/s]\n",
            "100%|██████████| 1/1 [00:00<00:00,  5.64it/s]\n"
          ]
        },
        {
          "output_type": "stream",
          "name": "stdout",
          "text": [
            "Sentence =   In order to prevent spamming Google releases little information on the way in which a PageRank is calculated  If a term exists in a document its value in the vector is not equal to zero  ; similarity =  0.26338997\n"
          ]
        },
        {
          "output_type": "stream",
          "name": "stderr",
          "text": [
            "100%|██████████| 1/1 [00:00<00:00,  7.31it/s]\n",
            "100%|██████████| 1/1 [00:00<00:00,  7.27it/s]\n"
          ]
        },
        {
          "output_type": "stream",
          "name": "stdout",
          "text": [
            "Sentence =   The vector space model has some limitations 1  The limitations of the vector space model are thus  ; similarity =  0.91936564\n"
          ]
        },
        {
          "output_type": "stream",
          "name": "stderr",
          "text": [
            "100%|██████████| 1/1 [00:00<00:00,  6.56it/s]\n",
            "100%|██████████| 1/1 [00:00<00:00,  6.09it/s]\n"
          ]
        },
        {
          "output_type": "stream",
          "name": "stdout",
          "text": [
            "Sentence =   P A B is the conditional probability of A given B  P A is the probability of the student being a girl which is 2 5  ; similarity =  0.55126476\n"
          ]
        },
        {
          "output_type": "stream",
          "name": "stderr",
          "text": [
            "100%|██████████| 1/1 [00:00<00:00,  5.76it/s]\n",
            "100%|██████████| 1/1 [00:00<00:00,  5.92it/s]\n"
          ]
        },
        {
          "output_type": "stream",
          "name": "stdout",
          "text": [
            "Sentence =   If a term exists in a document its value in the vector is not equal to zero  Finally the order in which the terms appear in the document is lost in the vector space representation  ; similarity =  0.62822706\n"
          ]
        },
        {
          "output_type": "stream",
          "name": "stderr",
          "text": [
            "100%|██████████| 1/1 [00:00<00:00,  6.27it/s]\n",
            "100%|██████████| 1/1 [00:00<00:00,  6.81it/s]\n"
          ]
        },
        {
          "output_type": "stream",
          "name": "stdout",
          "text": [
            "Sentence =   Its applications include information filtering information retrieval indexing and relevancy rankings  It is used in information filtering information retrieval indexing and relevancy rankings  ; similarity =  0.93275833\n"
          ]
        },
        {
          "output_type": "stream",
          "name": "stderr",
          "text": [
            "100%|██████████| 1/1 [00:00<00:00,  5.79it/s]\n",
            "100%|██████████| 1/1 [00:00<00:00,  8.18it/s]\n"
          ]
        },
        {
          "output_type": "stream",
          "name": "stdout",
          "text": [
            "Sentence =   In vector space model the documents from which the information is to be retrieved are represented as vectors  A document can be represented as a vector  ; similarity =  0.78906935\n"
          ]
        },
        {
          "output_type": "stream",
          "name": "stderr",
          "text": [
            "100%|██████████| 1/1 [00:00<00:00,  6.12it/s]\n",
            "100%|██████████| 1/1 [00:00<00:00,  5.42it/s]\n"
          ]
        },
        {
          "output_type": "stream",
          "name": "stdout",
          "text": [
            "Sentence =   This can be useful when the number of times a word appears is not considered important  Occasionally it is advantageous to differentiate between these uses as it is not necessarily noticeable from context  ; similarity =  0.6699755\n"
          ]
        },
        {
          "output_type": "stream",
          "name": "stderr",
          "text": [
            "100%|██████████| 1/1 [00:00<00:00,  7.27it/s]\n",
            "100%|██████████| 1/1 [00:00<00:00,  7.28it/s]\n"
          ]
        },
        {
          "output_type": "stream",
          "name": "stdout",
          "text": [
            "Sentence =   Each dimension corresponds to a separate term  Each document is a vector where each word is a dimension  ; similarity =  0.6742511\n"
          ]
        },
        {
          "output_type": "stream",
          "name": "stderr",
          "text": [
            "100%|██████████| 1/1 [00:00<00:00,  6.42it/s]\n",
            "100%|██████████| 1/1 [00:00<00:00,  6.66it/s]\n"
          ]
        },
        {
          "output_type": "stream",
          "name": "stdout",
          "text": [
            "Sentence =   The easiest way to look at inheritance is as an is a kind of relationship  However an object cannot be cast to a class which is no relative of it  ; similarity =  0.26213703\n"
          ]
        },
        {
          "output_type": "stream",
          "name": "stderr",
          "text": [
            "100%|██████████| 1/1 [00:00<00:00,  5.43it/s]\n",
            "100%|██████████| 1/1 [00:00<00:00,  5.78it/s]\n"
          ]
        },
        {
          "output_type": "stream",
          "name": "stdout",
          "text": [
            "Sentence =   It is mainly used to calculate the probability of one event s outcome given that a previous event happened  It is also called the posterior probability because it is derived from or depends upon the specified value of B  ; similarity =  0.52618074\n"
          ]
        },
        {
          "output_type": "stream",
          "name": "stderr",
          "text": [
            "100%|██████████| 1/1 [00:00<00:00,  6.66it/s]\n",
            "100%|██████████| 1/1 [00:00<00:00,  6.03it/s]\n"
          ]
        },
        {
          "output_type": "stream",
          "name": "stdout",
          "text": [
            "Sentence =   However an object cannot be cast to a class which is no relative of it  Each object except java lang Object can be cast to an object of one of its superclasses  ; similarity =  0.44333887\n"
          ]
        },
        {
          "output_type": "stream",
          "name": "stderr",
          "text": [
            "100%|██████████| 1/1 [00:00<00:00,  5.91it/s]\n",
            "100%|██████████| 1/1 [00:00<00:00,  6.76it/s]\n"
          ]
        },
        {
          "output_type": "stream",
          "name": "stdout",
          "text": [
            "Sentence =   In this classic model the term specific weights in the document vectors are products of local and global parameters  If a term occurs in the document the value will be non zero in the vector  ; similarity =  0.41363555\n"
          ]
        },
        {
          "output_type": "stream",
          "name": "stderr",
          "text": [
            "100%|██████████| 1/1 [00:00<00:00,  6.32it/s]\n",
            "100%|██████████| 1/1 [00:00<00:00,  6.16it/s]\n"
          ]
        },
        {
          "output_type": "stream",
          "name": "stdout",
          "text": [
            "Sentence =   Term frequency This formula counts how many times the term occurs in a document  If a term appears in the document the terms value in the vector is non zero  ; similarity =  0.56158346\n"
          ]
        },
        {
          "output_type": "stream",
          "name": "stderr",
          "text": [
            "100%|██████████| 1/1 [00:00<00:00,  6.09it/s]\n",
            "100%|██████████| 1/1 [00:00<00:00,  6.46it/s]\n"
          ]
        },
        {
          "output_type": "stream",
          "name": "stdout",
          "text": [
            "Sentence =   The basic support provided by inheritance is that it represents by categorization in computer languages  Inheritance provides the support for representation by categorization in computer languages  ; similarity =  0.92912674\n"
          ]
        },
        {
          "output_type": "stream",
          "name": "stderr",
          "text": [
            "100%|██████████| 1/1 [00:00<00:00,  6.27it/s]\n",
            "100%|██████████| 1/1 [00:00<00:00,  6.68it/s]\n"
          ]
        },
        {
          "output_type": "stream",
          "name": "stdout",
          "text": [
            "Sentence =   The order in which terms appear in the document is lost in a vector space representation  A term which occurs in the document has a value in the vector of non zero  ; similarity =  0.64280826\n"
          ]
        },
        {
          "output_type": "stream",
          "name": "stderr",
          "text": [
            "100%|██████████| 1/1 [00:00<00:00,  5.17it/s]\n",
            "100%|██████████| 1/1 [00:00<00:00,  6.97it/s]\n"
          ]
        },
        {
          "output_type": "stream",
          "name": "stdout",
          "text": [
            "Sentence =   The idea of inheritance is to reuse the existing code with little or no modification at all  The further down an inheritance tree you get the more specific the classes become  ; similarity =  0.2614524\n"
          ]
        },
        {
          "output_type": "stream",
          "name": "stderr",
          "text": [
            "100%|██████████| 1/1 [00:00<00:00,  7.59it/s]\n",
            "100%|██████████| 1/1 [00:00<00:00,  7.55it/s]\n"
          ]
        },
        {
          "output_type": "stream",
          "name": "stdout",
          "text": [
            "Sentence =   P A is the prior probability A  What is the probability this student is a girl  ; similarity =  0.20757228\n"
          ]
        },
        {
          "output_type": "stream",
          "name": "stderr",
          "text": [
            "100%|██████████| 1/1 [00:00<00:00,  7.23it/s]\n",
            "100%|██████████| 1/1 [00:00<00:00,  7.80it/s]\n"
          ]
        },
        {
          "output_type": "stream",
          "name": "stdout",
          "text": [
            "Sentence =   Each dimension corresponds to a separate term  Each and every dimension corresponds to a separate term  ; similarity =  0.95764494\n"
          ]
        },
        {
          "output_type": "stream",
          "name": "stderr",
          "text": [
            "100%|██████████| 1/1 [00:00<00:00,  6.13it/s]\n",
            "100%|██████████| 1/1 [00:00<00:00,  6.35it/s]\n"
          ]
        },
        {
          "output_type": "stream",
          "name": "stdout",
          "text": [
            "Sentence =   Dynamic programming can be divided into two main approaches top down and bottom up  Inheritance can be divided into two main processes single inheritance and multiple inheritance  ; similarity =  0.58344215\n"
          ]
        },
        {
          "output_type": "stream",
          "name": "stderr",
          "text": [
            "100%|██████████| 1/1 [00:00<00:00,  7.64it/s]\n",
            "100%|██████████| 1/1 [00:00<00:00,  5.74it/s]\n"
          ]
        },
        {
          "output_type": "stream",
          "name": "stdout",
          "text": [
            "Sentence =   Bayes Theorem Let and be sets  In probability theory Bayes theorem relates the conditional and marginal probabilities of two random events  ; similarity =  0.6494436\n"
          ]
        },
        {
          "output_type": "stream",
          "name": "stderr",
          "text": [
            "100%|██████████| 1/1 [00:00<00:00,  6.22it/s]\n",
            "100%|██████████| 1/1 [00:00<00:00,  8.07it/s]\n"
          ]
        },
        {
          "output_type": "stream",
          "name": "stdout",
          "text": [
            "Sentence =   This method is used as links are seen as an adoursment of a sight  The second method is the use of links  ; similarity =  0.8160858\n"
          ]
        },
        {
          "output_type": "stream",
          "name": "stderr",
          "text": [
            "100%|██████████| 1/1 [00:00<00:00,  6.49it/s]\n",
            "100%|██████████| 1/1 [00:00<00:00,  5.85it/s]\n"
          ]
        },
        {
          "output_type": "stream",
          "name": "stdout",
          "text": [
            "Sentence =   The last point would be to construct an optimal solution from the computed values  Construct an optimal solution using the computed optimal subproblems for the original problem  ; similarity =  0.71172374\n"
          ]
        },
        {
          "output_type": "stream",
          "name": "stderr",
          "text": [
            "100%|██████████| 1/1 [00:00<00:00,  6.11it/s]\n",
            "100%|██████████| 1/1 [00:00<00:00,  6.93it/s]\n"
          ]
        },
        {
          "output_type": "stream",
          "name": "stdout",
          "text": [
            "Sentence =   The basic idea is to represent each document as a vector of certain weighted word frequencies  For each document count the number of occurrences of each word  ; similarity =  0.64807606\n"
          ]
        },
        {
          "output_type": "stream",
          "name": "stderr",
          "text": [
            "100%|██████████| 1/1 [00:00<00:00,  6.25it/s]\n",
            "100%|██████████| 1/1 [00:00<00:00,  6.31it/s]\n"
          ]
        },
        {
          "output_type": "stream",
          "name": "stdout",
          "text": [
            "Sentence =   It doesn t take into account any information about B so it is prior  It is prior in the sense that it does not take into account any information about B  ; similarity =  0.935733\n"
          ]
        },
        {
          "output_type": "stream",
          "name": "stderr",
          "text": [
            "100%|██████████| 1/1 [00:00<00:00,  7.08it/s]\n",
            "100%|██████████| 1/1 [00:00<00:00,  5.59it/s]\n"
          ]
        },
        {
          "output_type": "stream",
          "name": "stdout",
          "text": [
            "Sentence =   With reference to this model documents are represented as vectors  The vector space model are the documents which are represented as bags of words  ; similarity =  0.8375162\n"
          ]
        },
        {
          "output_type": "stream",
          "name": "stderr",
          "text": [
            "100%|██████████| 1/1 [00:00<00:00,  5.74it/s]\n",
            "100%|██████████| 1/1 [00:00<00:00,  8.03it/s]\n"
          ]
        },
        {
          "output_type": "stream",
          "name": "stdout",
          "text": [
            "Sentence =   If a term exists in a document its value in the vector is not equal to zero  A document can be represented as a vector  ; similarity =  0.7432566\n"
          ]
        },
        {
          "output_type": "stream",
          "name": "stderr",
          "text": [
            "100%|██████████| 1/1 [00:00<00:00,  6.26it/s]\n",
            "100%|██████████| 1/1 [00:00<00:00,  7.11it/s]\n"
          ]
        },
        {
          "output_type": "stream",
          "name": "stdout",
          "text": [
            "Sentence =   This can be useful when the number of times a word appears is not considered important  The way that a term is defined depends on the application  ; similarity =  0.43241075\n"
          ]
        },
        {
          "output_type": "stream",
          "name": "stderr",
          "text": [
            "100%|██████████| 1/1 [00:00<00:00,  5.88it/s]\n",
            "100%|██████████| 1/1 [00:00<00:00,  6.04it/s]\n"
          ]
        },
        {
          "output_type": "stream",
          "name": "stdout",
          "text": [
            "Sentence =   The order in which terms appear in the document is lost in a vector space representation  If a term appears in the document the terms value in the vector is non zero  ; similarity =  0.65037054\n"
          ]
        },
        {
          "output_type": "stream",
          "name": "stderr",
          "text": [
            "100%|██████████| 1/1 [00:00<00:00,  6.40it/s]\n",
            "100%|██████████| 1/1 [00:00<00:00,  5.97it/s]\n"
          ]
        },
        {
          "output_type": "stream",
          "name": "stdout",
          "text": [
            "Sentence =   It is therefore used to create relationships between one object and another  A dampening factor is used to counter random surfers who get bored and then switch to other pages  ; similarity =  0.27838373\n"
          ]
        },
        {
          "output_type": "stream",
          "name": "stderr",
          "text": [
            "100%|██████████| 1/1 [00:00<00:00,  6.72it/s]\n",
            "100%|██████████| 1/1 [00:00<00:00,  7.45it/s]\n"
          ]
        },
        {
          "output_type": "stream",
          "name": "stdout",
          "text": [
            "Sentence =   Models based on and extending the vector space model include Generalized vector space model  The vector space model has several disadvantages  ; similarity =  0.65425766\n"
          ]
        },
        {
          "output_type": "stream",
          "name": "stderr",
          "text": [
            "100%|██████████| 1/1 [00:00<00:00,  7.02it/s]\n",
            "100%|██████████| 1/1 [00:00<00:00,  6.70it/s]\n"
          ]
        },
        {
          "output_type": "stream",
          "name": "stdout",
          "text": [
            "Sentence =   The method takes much less time than naive methods  This is a much quicker method than other more naive methods  ; similarity =  0.8029822\n"
          ]
        },
        {
          "output_type": "stream",
          "name": "stderr",
          "text": [
            "100%|██████████| 1/1 [00:00<00:00,  5.57it/s]\n",
            "100%|██████████| 1/1 [00:00<00:00,  6.35it/s]\n"
          ]
        },
        {
          "output_type": "stream",
          "name": "stdout",
          "text": [
            "Sentence =   The theorem is often used when we have observations and wish to compute posterior probabilities  Bayes theorem can be used to compute the probability that a proposed diagnosis is correct  ; similarity =  0.68218064\n"
          ]
        },
        {
          "output_type": "stream",
          "name": "stderr",
          "text": [
            "100%|██████████| 1/1 [00:00<00:00,  7.21it/s]\n",
            "100%|██████████| 1/1 [00:00<00:00,  6.25it/s]\n"
          ]
        },
        {
          "output_type": "stream",
          "name": "stdout",
          "text": [
            "Sentence =   The vector space model has some limitations 1  A possible use for a vector space model is for retrieval and filtering of information  ; similarity =  0.62447196\n"
          ]
        },
        {
          "output_type": "stream",
          "name": "stderr",
          "text": [
            "100%|██████████| 1/1 [00:00<00:00,  7.72it/s]\n",
            "100%|██████████| 1/1 [00:00<00:00,  6.57it/s]\n"
          ]
        },
        {
          "output_type": "stream",
          "name": "stdout",
          "text": [
            "Sentence =   Typically terms are single words keywords or longer phrases  Single words keywords and occasionally longer phrases are used for terms  ; similarity =  0.95460135\n"
          ]
        },
        {
          "output_type": "stream",
          "name": "stderr",
          "text": [
            "100%|██████████| 1/1 [00:00<00:00,  6.90it/s]\n",
            "100%|██████████| 1/1 [00:00<00:00,  6.35it/s]\n"
          ]
        },
        {
          "output_type": "stream",
          "name": "stdout",
          "text": [
            "Sentence =   The vector space model has the following limitations 1  The vector space model are the documents which are represented as bags of words  ; similarity =  0.4714054\n"
          ]
        },
        {
          "output_type": "stream",
          "name": "stderr",
          "text": [
            "100%|██████████| 1/1 [00:00<00:00,  5.90it/s]\n",
            "100%|██████████| 1/1 [00:00<00:00,  6.01it/s]\n"
          ]
        },
        {
          "output_type": "stream",
          "name": "stdout",
          "text": [
            "Sentence =   The idea of inheritance is to reuse the existing code with little or no modification at all  The easiest way to look at inheritance is as an is a kind of relationship  ; similarity =  0.38588467\n"
          ]
        },
        {
          "output_type": "stream",
          "name": "stderr",
          "text": [
            "100%|██████████| 1/1 [00:00<00:00,  5.61it/s]\n",
            "100%|██████████| 1/1 [00:00<00:00,  5.78it/s]\n"
          ]
        },
        {
          "output_type": "stream",
          "name": "stdout",
          "text": [
            "Sentence =   The method can be abused when people deliberately link to sites in order to raise a site s PageRank  Google uses this algorithm to assist intentional surfers in finding the best websites to suit their needs  ; similarity =  0.5855283\n"
          ]
        },
        {
          "output_type": "stream",
          "name": "stderr",
          "text": [
            "100%|██████████| 1/1 [00:00<00:00,  5.72it/s]\n",
            "100%|██████████| 1/1 [00:00<00:00,  6.09it/s]\n"
          ]
        },
        {
          "output_type": "stream",
          "name": "stdout",
          "text": [
            "Sentence =   Vector space representation results in the loss of the order which the terms are in the document  The number of unique words in the vocabulary denotes the dimensionality if words are used for the terms  ; similarity =  0.44578493\n"
          ]
        },
        {
          "output_type": "stream",
          "name": "stderr",
          "text": [
            "100%|██████████| 1/1 [00:00<00:00,  7.80it/s]\n",
            "100%|██████████| 1/1 [00:00<00:00,  6.03it/s]\n"
          ]
        },
        {
          "output_type": "stream",
          "name": "stdout",
          "text": [
            "Sentence =   This is highly used in dynamic programming  Dynamic Programming is a very powerful mathematical technique often utilised in programming for solving optimization problems  ; similarity =  0.80859226\n"
          ]
        },
        {
          "output_type": "stream",
          "name": "stderr",
          "text": [
            "100%|██████████| 1/1 [00:00<00:00,  7.57it/s]\n",
            "100%|██████████| 1/1 [00:00<00:00,  6.12it/s]\n"
          ]
        },
        {
          "output_type": "stream",
          "name": "stdout",
          "text": [
            "Sentence =   Inheritance was firstly derived in 1967  The concept of inheritance was basically formulated for Simula in 1967  ; similarity =  0.64478487\n"
          ]
        },
        {
          "output_type": "stream",
          "name": "stderr",
          "text": [
            "100%|██████████| 1/1 [00:00<00:00,  7.61it/s]\n",
            "100%|██████████| 1/1 [00:00<00:00,  6.86it/s]\n"
          ]
        },
        {
          "output_type": "stream",
          "name": "stdout",
          "text": [
            "Sentence =   A document has representation as a vector  In the vector space model a document is represented as a vector  ; similarity =  0.929267\n"
          ]
        },
        {
          "output_type": "stream",
          "name": "stderr",
          "text": [
            "100%|██████████| 1/1 [00:00<00:00,  6.49it/s]\n",
            "100%|██████████| 1/1 [00:00<00:00,  6.47it/s]\n"
          ]
        },
        {
          "output_type": "stream",
          "name": "stdout",
          "text": [
            "Sentence =   Dangling links to a page which has no links to others  If a page has no incoming links there is no support for that page  ; similarity =  0.75221145\n"
          ]
        },
        {
          "output_type": "stream",
          "name": "stderr",
          "text": [
            "100%|██████████| 1/1 [00:00<00:00,  7.16it/s]\n",
            "100%|██████████| 1/1 [00:00<00:00,  6.95it/s]\n"
          ]
        },
        {
          "output_type": "stream",
          "name": "stdout",
          "text": [
            "Sentence =   The limitations of the vector space model are thus  In the vector space model a document is represented as a vector  ; similarity =  0.47618592\n"
          ]
        },
        {
          "output_type": "stream",
          "name": "stderr",
          "text": [
            "100%|██████████| 1/1 [00:00<00:00,  6.13it/s]\n",
            "100%|██████████| 1/1 [00:00<00:00,  6.78it/s]\n"
          ]
        },
        {
          "output_type": "stream",
          "name": "stdout",
          "text": [
            "Sentence =   tf idf weighting is one of the most well known schemes  One of the best known schemes is tf idf weighting see the example below  ; similarity =  0.93464994\n"
          ]
        },
        {
          "output_type": "stream",
          "name": "stderr",
          "text": [
            "100%|██████████| 1/1 [00:00<00:00,  6.80it/s]\n",
            "100%|██████████| 1/1 [00:00<00:00,  7.29it/s]\n"
          ]
        },
        {
          "output_type": "stream",
          "name": "stdout",
          "text": [
            "Sentence =   P A B is the conditional probability of A given B  P B A is the conditional probability of B given A  ; similarity =  0.98315823\n"
          ]
        },
        {
          "output_type": "stream",
          "name": "stderr",
          "text": [
            "100%|██████████| 1/1 [00:00<00:00,  6.19it/s]\n",
            "100%|██████████| 1/1 [00:00<00:00,  8.31it/s]\n"
          ]
        },
        {
          "output_type": "stream",
          "name": "stdout",
          "text": [
            "Sentence =   As an official theorem Bayes theorem is valid in all universal interpretations of probability  It is valid in all common interpretations of probability  ; similarity =  0.80451894\n"
          ]
        },
        {
          "output_type": "stream",
          "name": "stderr",
          "text": [
            "100%|██████████| 1/1 [00:00<00:00,  4.88it/s]\n",
            "100%|██████████| 1/1 [00:00<00:00,  6.05it/s]\n"
          ]
        },
        {
          "output_type": "stream",
          "name": "stdout",
          "text": [
            "Sentence =   A problem with overlapping subproblems means that the same subproblems may be used to solve many different larger problems  Overlapping subproblems means that the same subproblems are used to solve many different larger problems  ; similarity =  0.9593277\n"
          ]
        },
        {
          "output_type": "stream",
          "name": "stderr",
          "text": [
            "100%|██████████| 1/1 [00:00<00:00,  5.40it/s]\n",
            "100%|██████████| 1/1 [00:00<00:00,  5.77it/s]\n"
          ]
        },
        {
          "output_type": "stream",
          "name": "stdout",
          "text": [
            "Sentence =   In general dynamic programming is used on optimisation problems where the most efficient solution is needed  Dynamic Programming is an algorithm design technique used for optimisation problems such as minimising or maximising  ; similarity =  0.85933614\n"
          ]
        },
        {
          "output_type": "stream",
          "name": "stderr",
          "text": [
            "100%|██████████| 1/1 [00:00<00:00,  6.16it/s]\n",
            "100%|██████████| 1/1 [00:00<00:00,  5.47it/s]\n"
          ]
        },
        {
          "output_type": "stream",
          "name": "stdout",
          "text": [
            "Sentence =   This can be useful when the number of times a word appears is not considered important  It has no relationship to computer programming instead it is a process of finding a satisfactory algorithm  ; similarity =  0.066375956\n"
          ]
        },
        {
          "output_type": "stream",
          "name": "stderr",
          "text": [
            "100%|██████████| 1/1 [00:00<00:00,  5.60it/s]\n",
            "100%|██████████| 1/1 [00:00<00:00,  5.69it/s]\n"
          ]
        },
        {
          "output_type": "stream",
          "name": "stdout",
          "text": [
            "Sentence =   In probability theory Bayes theorem relates the conditional and marginal probabilities of two random events  In probability theory the prior and conditional probabilities of two random events are related by Bayes theorem  ; similarity =  0.957443\n"
          ]
        },
        {
          "output_type": "stream",
          "name": "stderr",
          "text": [
            "100%|██████████| 1/1 [00:00<00:00,  5.73it/s]\n",
            "100%|██████████| 1/1 [00:00<00:00,  6.18it/s]\n"
          ]
        },
        {
          "output_type": "stream",
          "name": "stdout",
          "text": [
            "Sentence =   The order in which the terms appear in the document is lost in the vector space representation  If a term exists in a document its value in the vector is not equal to zero  ; similarity =  0.64817876\n"
          ]
        },
        {
          "output_type": "stream",
          "name": "stderr",
          "text": [
            "100%|██████████| 1/1 [00:00<00:00,  4.99it/s]\n",
            "100%|██████████| 1/1 [00:00<00:00,  6.28it/s]\n"
          ]
        },
        {
          "output_type": "stream",
          "name": "stdout",
          "text": [
            "Sentence =   Dynamic Programming is an algorithm design technique used for optimisation problems such as minimising or maximising  Dynamic Programming is a very powerful mathematical technique often utilised in programming for solving optimization problems  ; similarity =  0.7998574\n"
          ]
        },
        {
          "output_type": "stream",
          "name": "stderr",
          "text": [
            "100%|██████████| 1/1 [00:00<00:00,  5.70it/s]\n",
            "100%|██████████| 1/1 [00:00<00:00,  6.58it/s]\n"
          ]
        },
        {
          "output_type": "stream",
          "name": "stdout",
          "text": [
            "Sentence =   The actual Google PageRank algorithm is much more complex than this but follows the same underlying principles  Since the PageRank is the most important algorithms which is used in the Google engine  ; similarity =  0.7257602\n"
          ]
        },
        {
          "output_type": "stream",
          "name": "stderr",
          "text": [
            "100%|██████████| 1/1 [00:00<00:00,  7.55it/s]\n",
            "100%|██████████| 1/1 [00:00<00:00,  6.46it/s]\n"
          ]
        },
        {
          "output_type": "stream",
          "name": "stdout",
          "text": [
            "Sentence =   This is highly used in dynamic programming  Dynamic programming is a problem solving method which solves recursive problems  ; similarity =  0.6163186\n"
          ]
        },
        {
          "output_type": "stream",
          "name": "stderr",
          "text": [
            "100%|██████████| 1/1 [00:00<00:00,  6.87it/s]\n",
            "100%|██████████| 1/1 [00:00<00:00,  6.39it/s]\n"
          ]
        },
        {
          "output_type": "stream",
          "name": "stdout",
          "text": [
            "Sentence =   This is highly used in dynamic programming  However the key in Dynamic Programming is to determine the structure of optimal solutions  ; similarity =  0.5873311\n"
          ]
        },
        {
          "output_type": "stream",
          "name": "stderr",
          "text": [
            "100%|██████████| 1/1 [00:00<00:00,  6.34it/s]\n",
            "100%|██████████| 1/1 [00:00<00:00,  6.68it/s]\n"
          ]
        },
        {
          "output_type": "stream",
          "name": "stdout",
          "text": [
            "Sentence =   The value of a vector is non zero if a term occurs in the document  When a document is represented as a vector each dimension corresponds to a separate term  ; similarity =  0.65872365\n"
          ]
        },
        {
          "output_type": "stream",
          "name": "stderr",
          "text": [
            "100%|██████████| 1/1 [00:00<00:00,  5.85it/s]\n",
            "100%|██████████| 1/1 [00:00<00:00,  6.31it/s]\n"
          ]
        },
        {
          "output_type": "stream",
          "name": "stdout",
          "text": [
            "Sentence =   The vector space model are the documents which are represented as bags of words  In this classic model the term specific weights in the document vectors are products of local and global parameters  ; similarity =  0.6325787\n"
          ]
        },
        {
          "output_type": "stream",
          "name": "stderr",
          "text": [
            "100%|██████████| 1/1 [00:00<00:00,  6.04it/s]\n",
            "100%|██████████| 1/1 [00:00<00:00,  6.24it/s]\n"
          ]
        },
        {
          "output_type": "stream",
          "name": "stdout",
          "text": [
            "Sentence =   One of the best known schemes is tf idf weighting see the example below  One of the best known schemes is tf idf weighting proposed by Salton Wong and Yang  ; similarity =  0.8288429\n"
          ]
        },
        {
          "output_type": "stream",
          "name": "stderr",
          "text": [
            "100%|██████████| 1/1 [00:00<00:00,  6.44it/s]\n",
            "100%|██████████| 1/1 [00:00<00:00,  5.91it/s]\n"
          ]
        },
        {
          "output_type": "stream",
          "name": "stdout",
          "text": [
            "Sentence =   Since it searches all possibilities it is also very accurate  Occasionally it is advantageous to differentiate between these uses as it is not necessarily noticeable from context  ; similarity =  0.044554476\n"
          ]
        },
        {
          "output_type": "stream",
          "name": "stderr",
          "text": [
            "100%|██████████| 1/1 [00:00<00:00,  5.44it/s]\n",
            "100%|██████████| 1/1 [00:00<00:00,  5.86it/s]\n"
          ]
        },
        {
          "output_type": "stream",
          "name": "stdout",
          "text": [
            "Sentence =   P B is the prior or marginal probability of B and acts to normalise the probability  Later versions of PageRank see the below formulas would assume a probability distribution between 0 and 1  ; similarity =  0.5647326\n"
          ]
        },
        {
          "output_type": "stream",
          "name": "stderr",
          "text": [
            "100%|██████████| 1/1 [00:00<00:00,  5.84it/s]\n",
            "100%|██████████| 1/1 [00:00<00:00,  6.39it/s]\n"
          ]
        },
        {
          "output_type": "stream",
          "name": "stdout",
          "text": [
            "Sentence =   It is therefore used to create relationships between one object and another  It also provides a way to generalize du to the is a relationship between classes  ; similarity =  0.57439613\n"
          ]
        },
        {
          "output_type": "stream",
          "name": "stderr",
          "text": [
            "100%|██████████| 1/1 [00:00<00:00,  5.34it/s]\n",
            "100%|██████████| 1/1 [00:00<00:00,  6.94it/s]\n"
          ]
        },
        {
          "output_type": "stream",
          "name": "stdout",
          "text": [
            "Sentence =   Then using this the best overall path can be found thereby demonstrating the dynamic programming principle  The further down an inheritance tree you get the more specific the classes become  ; similarity =  0.26618245\n"
          ]
        },
        {
          "output_type": "stream",
          "name": "stderr",
          "text": [
            "100%|██████████| 1/1 [00:00<00:00,  5.51it/s]\n",
            "100%|██████████| 1/1 [00:00<00:00,  6.11it/s]\n"
          ]
        },
        {
          "output_type": "stream",
          "name": "stdout",
          "text": [
            "Sentence =   inheritance in object oriented programming is where a new class is formed using classes which have allready been defined  Inheritance in object oriented programming is a way to form new classes using classes that have already been defined  ; similarity =  0.9663439\n"
          ]
        },
        {
          "output_type": "stream",
          "name": "stderr",
          "text": [
            "100%|██████████| 1/1 [00:00<00:00,  5.93it/s]\n",
            "100%|██████████| 1/1 [00:00<00:00,  5.94it/s]\n"
          ]
        },
        {
          "output_type": "stream",
          "name": "stdout",
          "text": [
            "Sentence =   To derive the theorem we begin with the definition of conditional probability  In probability theory Bayes theorem relates the conditional and marginal probabilities of two random events  ; similarity =  0.6284129\n"
          ]
        },
        {
          "output_type": "stream",
          "name": "stderr",
          "text": [
            "100%|██████████| 1/1 [00:00<00:00,  6.86it/s]\n",
            "100%|██████████| 1/1 [00:00<00:00,  6.52it/s]\n"
          ]
        },
        {
          "output_type": "stream",
          "name": "stdout",
          "text": [
            "Sentence =   Each document is a vector where each word is a dimension  When a document is represented as a vector each dimension corresponds to a separate term  ; similarity =  0.86681116\n"
          ]
        },
        {
          "output_type": "stream",
          "name": "stderr",
          "text": [
            "100%|██████████| 1/1 [00:00<00:00,  5.55it/s]\n",
            "100%|██████████| 1/1 [00:00<00:00,  8.78it/s]\n"
          ]
        },
        {
          "output_type": "stream",
          "name": "stdout",
          "text": [
            "Sentence =   The PageRank depends on the PageRank rating and number of all pages that have links to it  of the pages providing the links  ; similarity =  0.6242325\n"
          ]
        },
        {
          "output_type": "stream",
          "name": "stderr",
          "text": [
            "100%|██████████| 1/1 [00:00<00:00,  6.16it/s]\n",
            "100%|██████████| 1/1 [00:00<00:00,  6.47it/s]\n"
          ]
        },
        {
          "output_type": "stream",
          "name": "stdout",
          "text": [
            "Sentence =   Term frequency This formula counts how many times the term occurs in a document  A term which occurs in the document has a value in the vector of non zero  ; similarity =  0.62916845\n"
          ]
        },
        {
          "output_type": "stream",
          "name": "stderr",
          "text": [
            "100%|██████████| 1/1 [00:00<00:00,  5.92it/s]\n",
            "100%|██████████| 1/1 [00:00<00:00,  5.84it/s]\n"
          ]
        },
        {
          "output_type": "stream",
          "name": "stdout",
          "text": [
            "Sentence =   In vector space model the documents from which the information is to be retrieved are represented as vectors  In this classic model the term specific weights in the document vectors are products of local and global parameters  ; similarity =  0.6232061\n"
          ]
        },
        {
          "output_type": "stream",
          "name": "stderr",
          "text": [
            "100%|██████████| 1/1 [00:00<00:00,  7.17it/s]\n",
            "100%|██████████| 1/1 [00:00<00:00,  6.25it/s]\n"
          ]
        },
        {
          "output_type": "stream",
          "name": "stdout",
          "text": [
            "Sentence =   Each item in the vector represents a different keyword  A term which occurs in the document has a value in the vector of non zero  ; similarity =  0.5762091\n"
          ]
        },
        {
          "output_type": "stream",
          "name": "stderr",
          "text": [
            "100%|██████████| 1/1 [00:00<00:00,  6.24it/s]\n",
            "100%|██████████| 1/1 [00:00<00:00,  6.71it/s]\n"
          ]
        },
        {
          "output_type": "stream",
          "name": "stdout",
          "text": [
            "Sentence =   Thus the program is the optimal plan for action that is produced  However the key in Dynamic Programming is to determine the structure of optimal solutions  ; similarity =  0.5608363\n"
          ]
        },
        {
          "output_type": "stream",
          "name": "stderr",
          "text": [
            "100%|██████████| 1/1 [00:00<00:00,  5.68it/s]\n",
            "100%|██████████| 1/1 [00:00<00:00,  6.38it/s]\n"
          ]
        },
        {
          "output_type": "stream",
          "name": "stdout",
          "text": [
            "Sentence =   Pages that are linked to by many high ranking pages will themselves obtain a high rank  A page that is linked to by many pages with high PageRank receives a high rank itself  ; similarity =  0.9052889\n"
          ]
        },
        {
          "output_type": "stream",
          "name": "stderr",
          "text": [
            "100%|██████████| 1/1 [00:00<00:00,  6.05it/s]\n",
            "100%|██████████| 1/1 [00:00<00:00,  6.06it/s]\n"
          ]
        },
        {
          "output_type": "stream",
          "name": "stdout",
          "text": [
            "Sentence =   However the key in Dynamic Programming is to determine the structure of optimal solutions  Construct an optimal solution using the computed optimal subproblems for the original problem  ; similarity =  0.6275387\n"
          ]
        },
        {
          "output_type": "stream",
          "name": "stderr",
          "text": [
            "100%|██████████| 1/1 [00:00<00:00,  5.32it/s]\n",
            "100%|██████████| 1/1 [00:00<00:00,  6.09it/s]\n"
          ]
        },
        {
          "output_type": "stream",
          "name": "stdout",
          "text": [
            "Sentence =   Mathematicians use the word to describe a set of rules which anyone can follow to solve a problem  In order to avoid this we instead save the solutions to problems we have already solved  ; similarity =  0.24234822\n"
          ]
        },
        {
          "output_type": "stream",
          "name": "stderr",
          "text": [
            "100%|██████████| 1/1 [00:00<00:00,  6.16it/s]\n",
            "100%|██████████| 1/1 [00:00<00:00,  7.69it/s]\n"
          ]
        },
        {
          "output_type": "stream",
          "name": "stdout",
          "text": [
            "Sentence =   In the vector space model a document is represented as a vector  LIMITATION There is some limitation of vector space model  ; similarity =  0.5807902\n"
          ]
        },
        {
          "output_type": "stream",
          "name": "stderr",
          "text": [
            "100%|██████████| 1/1 [00:00<00:00,  5.80it/s]\n",
            "100%|██████████| 1/1 [00:00<00:00,  6.89it/s]\n"
          ]
        },
        {
          "output_type": "stream",
          "name": "stdout",
          "text": [
            "Sentence =   P A is the probability of the student being a girl which is 2 5  P B A is the conditional probability of B given A  ; similarity =  0.5736317\n"
          ]
        },
        {
          "output_type": "stream",
          "name": "stderr",
          "text": [
            "100%|██████████| 1/1 [00:00<00:00,  5.98it/s]\n",
            "100%|██████████| 1/1 [00:00<00:00,  6.84it/s]\n"
          ]
        },
        {
          "output_type": "stream",
          "name": "stdout",
          "text": [
            "Sentence =   This can be known as one of the advantages of inheritance  One of the most important uses of page rank is its meaning to advertising  ; similarity =  0.30365863\n"
          ]
        },
        {
          "output_type": "stream",
          "name": "stderr",
          "text": [
            "100%|██████████| 1/1 [00:00<00:00,  5.69it/s]\n",
            "100%|██████████| 1/1 [00:00<00:00,  6.08it/s]\n"
          ]
        },
        {
          "output_type": "stream",
          "name": "stdout",
          "text": [
            "Sentence =   In general dynamic programming is used on optimisation problems where the most efficient solution is needed  Dynamic Programming is a very powerful mathematical technique often utilised in programming for solving optimization problems  ; similarity =  0.7988988\n"
          ]
        },
        {
          "output_type": "stream",
          "name": "stderr",
          "text": [
            "100%|██████████| 1/1 [00:00<00:00,  5.98it/s]\n",
            "100%|██████████| 1/1 [00:00<00:00,  5.55it/s]\n"
          ]
        },
        {
          "output_type": "stream",
          "name": "stdout",
          "text": [
            "Sentence =   Most of these languages provide an extend keyword which is used to subclass another  Inheritance is useful for situations where several classes share common features such as needed functions or data variables  ; similarity =  0.58483493\n"
          ]
        },
        {
          "output_type": "stream",
          "name": "stderr",
          "text": [
            "100%|██████████| 1/1 [00:00<00:00,  7.30it/s]\n",
            "100%|██████████| 1/1 [00:00<00:00,  7.66it/s]\n"
          ]
        },
        {
          "output_type": "stream",
          "name": "stdout",
          "text": [
            "Sentence =   The limitations of the vector space model are thus  However the vector space model has limitations  ; similarity =  0.94884485\n"
          ]
        },
        {
          "output_type": "stream",
          "name": "stderr",
          "text": [
            "100%|██████████| 1/1 [00:00<00:00,  6.39it/s]\n",
            "100%|██████████| 1/1 [00:00<00:00,  6.83it/s]\n"
          ]
        },
        {
          "output_type": "stream",
          "name": "stdout",
          "text": [
            "Sentence =   Bayes theorem is also often known as Bayes law  Bayes theorem is useful in evaluating the result of drug tests  ; similarity =  0.67057586\n"
          ]
        },
        {
          "output_type": "stream",
          "name": "stderr",
          "text": [
            "100%|██████████| 1/1 [00:00<00:00,  5.61it/s]\n",
            "100%|██████████| 1/1 [00:00<00:00,  7.04it/s]\n"
          ]
        },
        {
          "output_type": "stream",
          "name": "stdout",
          "text": [
            "Sentence =   A possible use for a vector space model is for retrieval and filtering of information  LIMITATION There is some limitation of vector space model  ; similarity =  0.64935154\n"
          ]
        },
        {
          "output_type": "stream",
          "name": "stderr",
          "text": [
            "100%|██████████| 1/1 [00:00<00:00,  5.94it/s]\n",
            "100%|██████████| 1/1 [00:00<00:00,  6.47it/s]\n"
          ]
        },
        {
          "output_type": "stream",
          "name": "stdout",
          "text": [
            "Sentence =   A term which occurs in the document has a value in the vector of non zero  The order in which terms appear in the document is lost in a vector space representation  ; similarity =  0.64280826\n"
          ]
        },
        {
          "output_type": "stream",
          "name": "stderr",
          "text": [
            "100%|██████████| 1/1 [00:00<00:00,  5.28it/s]\n",
            "100%|██████████| 1/1 [00:00<00:00,  6.15it/s]\n"
          ]
        },
        {
          "output_type": "stream",
          "name": "stdout",
          "text": [
            "Sentence =   The peropos of inheritance in object oriented programming is to minimize the reuse of existing code without modification  Object oriented programming is a style of programming that supports encapsulation inheritance and polymorphism  ; similarity =  0.65204287\n"
          ]
        },
        {
          "output_type": "stream",
          "name": "stderr",
          "text": [
            "100%|██████████| 1/1 [00:00<00:00,  6.43it/s]\n",
            "100%|██████████| 1/1 [00:00<00:00,  6.11it/s]\n"
          ]
        },
        {
          "output_type": "stream",
          "name": "stdout",
          "text": [
            "Sentence =   Use these optimal solutions to construct an optimal solution for the original problem  The last point would be to construct an optimal solution from the computed values  ; similarity =  0.70561284\n"
          ]
        },
        {
          "output_type": "stream",
          "name": "stderr",
          "text": [
            "100%|██████████| 1/1 [00:00<00:00,  6.35it/s]\n",
            "100%|██████████| 1/1 [00:00<00:00,  6.63it/s]\n"
          ]
        },
        {
          "output_type": "stream",
          "name": "stdout",
          "text": [
            "Sentence =   For instance a finalized schedule of events at an exhibition is sometimes called a program  For example a finalized schedule of events at an exhibition is sometimes called a program  ; similarity =  0.999445\n"
          ]
        },
        {
          "output_type": "stream",
          "name": "stderr",
          "text": [
            "100%|██████████| 1/1 [00:00<00:00,  7.14it/s]\n",
            "100%|██████████| 1/1 [00:00<00:00,  6.60it/s]\n"
          ]
        },
        {
          "output_type": "stream",
          "name": "stdout",
          "text": [
            "Sentence =   Since it searches all possibilities it is also very accurate  It doesn t take into account any information about B so it is prior  ; similarity =  0.016804134\n"
          ]
        },
        {
          "output_type": "stream",
          "name": "stderr",
          "text": [
            "100%|██████████| 1/1 [00:00<00:00,  6.25it/s]\n",
            "100%|██████████| 1/1 [00:00<00:00,  6.12it/s]\n"
          ]
        },
        {
          "output_type": "stream",
          "name": "stdout",
          "text": [
            "Sentence =   For instance a finalized schedule of events at an exhibition is sometimes called a program  For instance a events schedule at an exhibition is sometimes called a program  ; similarity =  0.94562936\n"
          ]
        },
        {
          "output_type": "stream",
          "name": "stderr",
          "text": [
            "100%|██████████| 1/1 [00:00<00:00,  5.56it/s]\n",
            "100%|██████████| 1/1 [00:00<00:00,  5.90it/s]\n"
          ]
        },
        {
          "output_type": "stream",
          "name": "stdout",
          "text": [
            "Sentence =   This meant that the sum of all pages was the total number of pages on the web  A variation of the PageRank method bases the importance of a webpage on how many visits the page gets  ; similarity =  0.5053809\n"
          ]
        },
        {
          "output_type": "stream",
          "name": "stderr",
          "text": [
            "100%|██████████| 1/1 [00:00<00:00,  5.38it/s]\n",
            "100%|██████████| 1/1 [00:00<00:00,  5.90it/s]\n"
          ]
        },
        {
          "output_type": "stream",
          "name": "stdout",
          "text": [
            "Sentence =   The idea of inheritance in OOP refers to the formation of new classes with the already existing classes  The idea of inheritance is to reuse the existing code with little or no modification at all  ; similarity =  0.4331629\n"
          ]
        },
        {
          "output_type": "stream",
          "name": "stderr",
          "text": [
            "100%|██████████| 1/1 [00:00<00:00,  5.98it/s]\n",
            "100%|██████████| 1/1 [00:00<00:00,  8.40it/s]\n"
          ]
        },
        {
          "output_type": "stream",
          "name": "stdout",
          "text": [
            "Sentence =   When a document is represented as a vector each dimension corresponds to a separate term  A document has representation as a vector  ; similarity =  0.82329094\n"
          ]
        },
        {
          "output_type": "stream",
          "name": "stderr",
          "text": [
            "100%|██████████| 1/1 [00:00<00:00,  5.75it/s]\n",
            "100%|██████████| 1/1 [00:00<00:00,  6.33it/s]\n"
          ]
        },
        {
          "output_type": "stream",
          "name": "stdout",
          "text": [
            "Sentence =   The order in which terms appear in the document is lost in a vector space representation  If a term appears in the document then its value in the vector is non zero  ; similarity =  0.6403557\n"
          ]
        },
        {
          "output_type": "stream",
          "name": "stderr",
          "text": [
            "100%|██████████| 1/1 [00:00<00:00,  5.73it/s]\n",
            "100%|██████████| 1/1 [00:00<00:00,  6.68it/s]\n"
          ]
        },
        {
          "output_type": "stream",
          "name": "stdout",
          "text": [
            "Sentence =   In vector space model the documents from which the information is to be retrieved are represented as vectors  The vector space model are the documents which are represented as bags of words  ; similarity =  0.85650426\n"
          ]
        },
        {
          "output_type": "stream",
          "name": "stderr",
          "text": [
            "100%|██████████| 1/1 [00:00<00:00,  6.63it/s]\n",
            "100%|██████████| 1/1 [00:00<00:00,  7.13it/s]\n"
          ]
        },
        {
          "output_type": "stream",
          "name": "stdout",
          "text": [
            "Sentence =   Depending on the application the definition of term varies  The way that a term is defined depends on the application  ; similarity =  0.90343803\n"
          ]
        },
        {
          "output_type": "stream",
          "name": "stderr",
          "text": [
            "100%|██████████| 1/1 [00:00<00:00,  7.28it/s]\n",
            "100%|██████████| 1/1 [00:00<00:00,  7.31it/s]\n"
          ]
        },
        {
          "output_type": "stream",
          "name": "stdout",
          "text": [
            "Sentence =   However animals cannot be treated as fungi  Animals can be treated cast to living things  ; similarity =  0.47240478\n"
          ]
        },
        {
          "output_type": "stream",
          "name": "stderr",
          "text": [
            "100%|██████████| 1/1 [00:00<00:00,  5.44it/s]\n",
            "100%|██████████| 1/1 [00:00<00:00,  5.74it/s]\n"
          ]
        },
        {
          "output_type": "stream",
          "name": "stdout",
          "text": [
            "Sentence =   The PageRank is a recursive algorithm used by Google to determine which webpages are more important than others  Mathematicians use the word to describe a set of rules which anyone can follow to solve a problem  ; similarity =  0.2912488\n"
          ]
        },
        {
          "output_type": "stream",
          "name": "stderr",
          "text": [
            "100%|██████████| 1/1 [00:00<00:00,  5.95it/s]\n",
            "100%|██████████| 1/1 [00:00<00:00,  6.71it/s]\n"
          ]
        },
        {
          "output_type": "stream",
          "name": "stdout",
          "text": [
            "Sentence =   The easiest way to look at inheritance is as an is a kind of relationship  After this it is using this to pick the best overall path  ; similarity =  0.31607264\n"
          ]
        },
        {
          "output_type": "stream",
          "name": "stderr",
          "text": [
            "100%|██████████| 1/1 [00:00<00:00,  5.52it/s]\n",
            "100%|██████████| 1/1 [00:00<00:00,  6.83it/s]\n"
          ]
        },
        {
          "output_type": "stream",
          "name": "stdout",
          "text": [
            "Sentence =   The order in which the terms appear in the document is lost in the vector space representation  A term which occurs in the document has a value in the vector of non zero  ; similarity =  0.6237845\n"
          ]
        },
        {
          "output_type": "stream",
          "name": "stderr",
          "text": [
            "100%|██████████| 1/1 [00:00<00:00,  6.47it/s]\n",
            "100%|██████████| 1/1 [00:00<00:00,  6.21it/s]\n"
          ]
        },
        {
          "output_type": "stream",
          "name": "stdout",
          "text": [
            "Sentence =   One of its uses is calculating posterior probabilities given observations  The theorem is often used when we have observations and wish to compute posterior probabilities  ; similarity =  0.7248836\n"
          ]
        },
        {
          "output_type": "stream",
          "name": "stderr",
          "text": [
            "100%|██████████| 1/1 [00:00<00:00,  6.26it/s]\n",
            "100%|██████████| 1/1 [00:00<00:00,  7.21it/s]\n"
          ]
        },
        {
          "output_type": "stream",
          "name": "stdout",
          "text": [
            "Sentence =   Recursively define the value of an optimal solution 3  Define value of optimal solution recursively  ; similarity =  0.81165564\n"
          ]
        },
        {
          "output_type": "stream",
          "name": "stderr",
          "text": [
            "100%|██████████| 1/1 [00:00<00:00,  5.71it/s]\n",
            "100%|██████████| 1/1 [00:00<00:00,  5.78it/s]\n"
          ]
        },
        {
          "output_type": "stream",
          "name": "stdout",
          "text": [
            "Sentence =   This means that inheritance is used when types have common factors and these would be put into the superclass  If this occurs then all of the non private methods and variables can be used by the most specialised class  ; similarity =  0.4699506\n"
          ]
        },
        {
          "output_type": "stream",
          "name": "stderr",
          "text": [
            "100%|██████████| 1/1 [00:00<00:00,  5.74it/s]\n",
            "100%|██████████| 1/1 [00:00<00:00,  6.38it/s]\n"
          ]
        },
        {
          "output_type": "stream",
          "name": "stdout",
          "text": [
            "Sentence =   To achieve this the programmer has to note generalisations and similarities about various aspects of the program  The word Programming in the name has nothing to do with writing computer programs  ; similarity =  0.2921704\n"
          ]
        },
        {
          "output_type": "stream",
          "name": "stderr",
          "text": [
            "100%|██████████| 1/1 [00:00<00:00,  6.71it/s]\n",
            "100%|██████████| 1/1 [00:00<00:00,  6.47it/s]\n"
          ]
        },
        {
          "output_type": "stream",
          "name": "stdout",
          "text": [
            "Sentence =   The vector space model has several disadvantages  A possible use for a vector space model is for retrieval and filtering of information  ; similarity =  0.6040394\n"
          ]
        },
        {
          "output_type": "stream",
          "name": "stderr",
          "text": [
            "100%|██████████| 1/1 [00:00<00:00,  5.74it/s]\n",
            "100%|██████████| 1/1 [00:00<00:00,  6.97it/s]\n"
          ]
        },
        {
          "output_type": "stream",
          "name": "stdout",
          "text": [
            "Sentence =   The theorem is often used when we have observations and wish to compute posterior probabilities  It is often used to compute posterior probabilities given observations  ; similarity =  0.8166063\n"
          ]
        },
        {
          "output_type": "stream",
          "name": "stderr",
          "text": [
            "100%|██████████| 1/1 [00:00<00:00,  5.93it/s]\n",
            "100%|██████████| 1/1 [00:00<00:00,  6.77it/s]\n"
          ]
        },
        {
          "output_type": "stream",
          "name": "stdout",
          "text": [
            "Sentence =   If a term occurs in the document its value in the vector is non zero  A document is represented as a vector and each dimension corresponds to a separate term  ; similarity =  0.64172\n"
          ]
        },
        {
          "output_type": "stream",
          "name": "stderr",
          "text": [
            "100%|██████████| 1/1 [00:00<00:00,  5.62it/s]\n",
            "100%|██████████| 1/1 [00:00<00:00,  5.75it/s]\n"
          ]
        },
        {
          "output_type": "stream",
          "name": "stdout",
          "text": [
            "Sentence =   The order in which terms appear in the document is lost in a vector space representation  In this classic model the term specific weights in the document vectors are products of local and global parameters  ; similarity =  0.46043447\n"
          ]
        },
        {
          "output_type": "stream",
          "name": "stderr",
          "text": [
            "100%|██████████| 1/1 [00:00<00:00,  5.98it/s]\n",
            "100%|██████████| 1/1 [00:00<00:00,  6.61it/s]\n"
          ]
        },
        {
          "output_type": "stream",
          "name": "stdout",
          "text": [
            "Sentence =   This can be useful when the number of times a word appears is not considered important  However an object cannot be cast to a class which is no relative of it  ; similarity =  0.22845124\n"
          ]
        },
        {
          "output_type": "stream",
          "name": "stderr",
          "text": [
            "100%|██████████| 1/1 [00:00<00:00,  5.62it/s]\n",
            "100%|██████████| 1/1 [00:00<00:00,  6.31it/s]\n"
          ]
        },
        {
          "output_type": "stream",
          "name": "stdout",
          "text": [
            "Sentence =   Vector space representation results in the loss of the order which the terms are in the document  If a term exists in a document its value in the vector is not equal to zero  ; similarity =  0.5944521\n"
          ]
        },
        {
          "output_type": "stream",
          "name": "stderr",
          "text": [
            "100%|██████████| 1/1 [00:00<00:00,  5.36it/s]\n",
            "100%|██████████| 1/1 [00:00<00:00,  7.10it/s]\n"
          ]
        },
        {
          "output_type": "stream",
          "name": "stdout",
          "text": [
            "Sentence =   P B is the prior or marginal probability of B and acts to normalise the probability  P B A is the conditional probability of B given A  ; similarity =  0.85331506\n"
          ]
        },
        {
          "output_type": "stream",
          "name": "stderr",
          "text": [
            "100%|██████████| 1/1 [00:00<00:00,  5.30it/s]\n",
            "100%|██████████| 1/1 [00:00<00:00,  5.97it/s]\n"
          ]
        },
        {
          "output_type": "stream",
          "name": "stdout",
          "text": [
            "Sentence =   In probability theory Bayes theorem relates the conditional and marginal probabilities of two random events  Bayes Theorem is a theorem of probability theory originally stated by the Reverend Thomas Bayes  ; similarity =  0.5923729\n"
          ]
        },
        {
          "output_type": "stream",
          "name": "stderr",
          "text": [
            "100%|██████████| 1/1 [00:00<00:00,  7.21it/s]\n",
            "100%|██████████| 1/1 [00:00<00:00,  7.63it/s]\n"
          ]
        },
        {
          "output_type": "stream",
          "name": "stdout",
          "text": [
            "Sentence =   Each dimension corresponds to a separate term  Every dimension is precisely related to a separate term  ; similarity =  0.8249743\n"
          ]
        },
        {
          "output_type": "stream",
          "name": "stderr",
          "text": [
            "100%|██████████| 1/1 [00:00<00:00,  5.12it/s]\n",
            "100%|██████████| 1/1 [00:00<00:00,  6.71it/s]\n"
          ]
        },
        {
          "output_type": "stream",
          "name": "stdout",
          "text": [
            "Sentence =   In probability theory the prior and conditional probabilities of two random events are related by Bayes theorem  Bayes theorem relates the conditional and marginal probabilities of two random events  ; similarity =  0.9226458\n"
          ]
        },
        {
          "output_type": "stream",
          "name": "stderr",
          "text": [
            "100%|██████████| 1/1 [00:00<00:00,  5.91it/s]\n",
            "100%|██████████| 1/1 [00:00<00:00,  6.60it/s]\n"
          ]
        },
        {
          "output_type": "stream",
          "name": "stdout",
          "text": [
            "Sentence =   Since it is a formal theorem Bayes theorem holds in all popular interpretations of probability  Bayes theorem is useful in evaluating the result of drug tests  ; similarity =  0.50341153\n"
          ]
        },
        {
          "output_type": "stream",
          "name": "stderr",
          "text": [
            "100%|██████████| 1/1 [00:00<00:00,  7.05it/s]\n",
            "100%|██████████| 1/1 [00:00<00:00,  6.97it/s]\n"
          ]
        },
        {
          "output_type": "stream",
          "name": "stdout",
          "text": [
            "Sentence =   Typically terms are keywords single words or longer phrases  Typically terms are single words keywords or longer phrases  ; similarity =  0.9886976\n"
          ]
        },
        {
          "output_type": "stream",
          "name": "stderr",
          "text": [
            "100%|██████████| 1/1 [00:00<00:00,  5.91it/s]\n",
            "100%|██████████| 1/1 [00:00<00:00,  6.58it/s]\n"
          ]
        },
        {
          "output_type": "stream",
          "name": "stdout",
          "text": [
            "Sentence =   In the vector space model a document is represented as a vector  A document is represented as a vector with each dimension corresponding to a separate term  ; similarity =  0.8754587\n"
          ]
        },
        {
          "output_type": "stream",
          "name": "stderr",
          "text": [
            "100%|██████████| 1/1 [00:00<00:00,  6.19it/s]\n",
            "100%|██████████| 1/1 [00:00<00:00,  6.96it/s]\n"
          ]
        },
        {
          "output_type": "stream",
          "name": "stdout",
          "text": [
            "Sentence =   It is usually be used to compute posterior probabilities given observations  It is often used to calculate posterior probabilities given observations  ; similarity =  0.9716966\n"
          ]
        },
        {
          "output_type": "stream",
          "name": "stderr",
          "text": [
            "100%|██████████| 1/1 [00:00<00:00,  5.64it/s]\n",
            "100%|██████████| 1/1 [00:00<00:00,  6.29it/s]\n"
          ]
        },
        {
          "output_type": "stream",
          "name": "stdout",
          "text": [
            "Sentence =   This can be useful when the number of times a word appears is not considered important  False negative matches could be returned when documents share a context but have different term vocabulary  ; similarity =  0.560397\n"
          ]
        },
        {
          "output_type": "stream",
          "name": "stderr",
          "text": [
            "100%|██████████| 1/1 [00:00<00:00,  5.58it/s]\n",
            "100%|██████████| 1/1 [00:00<00:00,  6.69it/s]\n"
          ]
        },
        {
          "output_type": "stream",
          "name": "stdout",
          "text": [
            "Sentence =   As a formal theorem Bayes theorem is valid in all common interpretations of probability  Bayes theorem is useful in evaluating the result of drug tests  ; similarity =  0.45695195\n"
          ]
        },
        {
          "output_type": "stream",
          "name": "stderr",
          "text": [
            "100%|██████████| 1/1 [00:00<00:00,  5.75it/s]\n",
            "100%|██████████| 1/1 [00:00<00:00,  6.54it/s]\n"
          ]
        },
        {
          "output_type": "stream",
          "name": "stdout",
          "text": [
            "Sentence =   The theorem is often used when we have observations and wish to compute posterior probabilities  Bayes Theorem is a mathematical formula used to calculate conditional probabilities  ; similarity =  0.6713818\n"
          ]
        },
        {
          "output_type": "stream",
          "name": "stderr",
          "text": [
            "100%|██████████| 1/1 [00:00<00:00,  6.36it/s]\n",
            "100%|██████████| 1/1 [00:00<00:00,  5.96it/s]\n"
          ]
        },
        {
          "output_type": "stream",
          "name": "stdout",
          "text": [
            "Sentence =   P A B is the conditional probability of A given B  P A is the probability of the student being a girl which is 2 5  ; similarity =  0.55126476\n"
          ]
        },
        {
          "output_type": "stream",
          "name": "stderr",
          "text": [
            "100%|██████████| 1/1 [00:00<00:00,  5.02it/s]\n",
            "100%|██████████| 1/1 [00:00<00:00,  6.18it/s]\n"
          ]
        },
        {
          "output_type": "stream",
          "name": "stdout",
          "text": [
            "Sentence =   To achieve this the programmer has to note generalisations and similarities about various aspects of the program  It is similar to divide and conquer however is differentiated as its subproblems are not independent  ; similarity =  0.3178391\n"
          ]
        },
        {
          "output_type": "stream",
          "name": "stderr",
          "text": [
            "100%|██████████| 1/1 [00:00<00:00,  5.75it/s]\n",
            "100%|██████████| 1/1 [00:00<00:00,  6.62it/s]\n"
          ]
        },
        {
          "output_type": "stream",
          "name": "stdout",
          "text": [
            "Sentence =   Bayes Theorem is a theorem of probability theory originally stated by the Reverend Thomas Bayes  As a formal theorem Bayes theorem is valid in all common interpretations of probability  ; similarity =  0.5819618\n"
          ]
        },
        {
          "output_type": "stream",
          "name": "stderr",
          "text": [
            "100%|██████████| 1/1 [00:00<00:00,  6.39it/s]\n",
            "100%|██████████| 1/1 [00:00<00:00,  6.12it/s]\n"
          ]
        },
        {
          "output_type": "stream",
          "name": "stdout",
          "text": [
            "Sentence =   One can consider fruit to be an abstraction of apple orange etc  It can be considered that fruit is an abstraction of apple orange etc  ; similarity =  0.9898034\n"
          ]
        },
        {
          "output_type": "stream",
          "name": "stderr",
          "text": [
            "100%|██████████| 1/1 [00:00<00:00,  5.85it/s]\n",
            "100%|██████████| 1/1 [00:00<00:00,  5.55it/s]\n"
          ]
        },
        {
          "output_type": "stream",
          "name": "stdout",
          "text": [
            "Sentence =   It is mainly used to calculate the probability of one event s outcome given that a previous event happened  It is also called the subsequent probability because it is derived from or depends upon the specified value of B  ; similarity =  0.5955738\n"
          ]
        },
        {
          "output_type": "stream",
          "name": "stderr",
          "text": [
            "100%|██████████| 1/1 [00:00<00:00,  6.74it/s]\n",
            "100%|██████████| 1/1 [00:00<00:00,  6.28it/s]\n"
          ]
        },
        {
          "output_type": "stream",
          "name": "stdout",
          "text": [
            "Sentence =   This can be known as one of the advantages of inheritance  The easiest way to look at inheritance is as an is a kind of relationship  ; similarity =  0.6715463\n"
          ]
        },
        {
          "output_type": "stream",
          "name": "stderr",
          "text": [
            "100%|██████████| 1/1 [00:00<00:00,  5.40it/s]\n",
            "100%|██████████| 1/1 [00:00<00:00,  6.64it/s]\n"
          ]
        },
        {
          "output_type": "stream",
          "name": "stdout",
          "text": [
            "Sentence =   P B a k a the normalizing constant is the prior or marginal probability of B   P A B is the conditional probability of A given B  ; similarity =  0.8563696\n"
          ]
        },
        {
          "output_type": "stream",
          "name": "stderr",
          "text": [
            "100%|██████████| 1/1 [00:00<00:00,  5.36it/s]\n",
            "100%|██████████| 1/1 [00:00<00:00,  6.29it/s]\n"
          ]
        },
        {
          "output_type": "stream",
          "name": "stdout",
          "text": [
            "Sentence =   In probability theory the prior and conditional probabilities of two random events are related by Bayes theorem  Since it is a formal theorem Bayes theorem holds in all popular interpretations of probability  ; similarity =  0.60471046\n"
          ]
        },
        {
          "output_type": "stream",
          "name": "stderr",
          "text": [
            "100%|██████████| 1/1 [00:00<00:00,  7.49it/s]\n",
            "100%|██████████| 1/1 [00:00<00:00,  5.82it/s]\n"
          ]
        },
        {
          "output_type": "stream",
          "name": "stdout",
          "text": [
            "Sentence =   Bayes Theorem Let and be sets  Bayes Theorem is a simple mathematical formula used for calculating conditional probabilities  ; similarity =  0.64511794\n"
          ]
        },
        {
          "output_type": "stream",
          "name": "stderr",
          "text": [
            "100%|██████████| 1/1 [00:00<00:00,  5.73it/s]\n",
            "100%|██████████| 1/1 [00:00<00:00,  5.59it/s]\n"
          ]
        },
        {
          "output_type": "stream",
          "name": "stdout",
          "text": [
            "Sentence =   In probability theory the prior and conditional probabilities of two random events are related by Bayes theorem  In probability theory Bayes theorem relates the conditional and marginal probabilities of two random events  ; similarity =  0.957443\n"
          ]
        },
        {
          "output_type": "stream",
          "name": "stderr",
          "text": [
            "100%|██████████| 1/1 [00:00<00:00,  5.45it/s]\n",
            "100%|██████████| 1/1 [00:00<00:00,  7.91it/s]\n"
          ]
        },
        {
          "output_type": "stream",
          "name": "stdout",
          "text": [
            "Sentence =   One of the best known schemes is tf idf weighting proposed by Salton Wong and Yang  The most popular is tf idf weighting  ; similarity =  0.5927026\n"
          ]
        },
        {
          "output_type": "stream",
          "name": "stderr",
          "text": [
            "100%|██████████| 1/1 [00:00<00:00,  6.40it/s]\n",
            "100%|██████████| 1/1 [00:00<00:00,  6.70it/s]\n"
          ]
        },
        {
          "output_type": "stream",
          "name": "stdout",
          "text": [
            "Sentence =   The further down an inheritance tree you get the more specific the classes become  The differing application has a direct influence on what the definition of the term means  ; similarity =  0.43267843\n"
          ]
        },
        {
          "output_type": "stream",
          "name": "stderr",
          "text": [
            "100%|██████████| 1/1 [00:00<00:00,  7.35it/s]\n",
            "100%|██████████| 1/1 [00:00<00:00,  6.41it/s]\n"
          ]
        },
        {
          "output_type": "stream",
          "name": "stdout",
          "text": [
            "Sentence =   However the vector space model has limitations  In the vector space model a document is represented as a vector  ; similarity =  0.5226963\n"
          ]
        },
        {
          "output_type": "stream",
          "name": "stderr",
          "text": [
            "100%|██████████| 1/1 [00:00<00:00,  5.93it/s]\n",
            "100%|██████████| 1/1 [00:00<00:00,  6.83it/s]\n"
          ]
        },
        {
          "output_type": "stream",
          "name": "stdout",
          "text": [
            "Sentence =   The vector space model is one of these methods and it is an algebraic model  The vector space model are the documents which are represented as bags of words  ; similarity =  0.58938843\n"
          ]
        },
        {
          "output_type": "stream",
          "name": "stderr",
          "text": [
            "100%|██████████| 1/1 [00:00<00:00,  6.47it/s]\n",
            "100%|██████████| 1/1 [00:00<00:00,  7.85it/s]\n"
          ]
        },
        {
          "output_type": "stream",
          "name": "stdout",
          "text": [
            "Sentence =   P B A is the conditional probability of B given A  P A is the prior probability A  ; similarity =  0.80544376\n"
          ]
        },
        {
          "output_type": "stream",
          "name": "stderr",
          "text": [
            "100%|██████████| 1/1 [00:00<00:00,  5.82it/s]\n",
            "100%|██████████| 1/1 [00:00<00:00,  6.14it/s]\n"
          ]
        },
        {
          "output_type": "stream",
          "name": "stdout",
          "text": [
            "Sentence =   If a term occurs in the document its value in the vector is non zero  A document is represented as a vector and each dimension corresponds to a separate term  ; similarity =  0.64172\n"
          ]
        },
        {
          "output_type": "stream",
          "name": "stderr",
          "text": [
            "100%|██████████| 1/1 [00:00<00:00,  5.53it/s]\n",
            "100%|██████████| 1/1 [00:00<00:00,  7.90it/s]\n"
          ]
        },
        {
          "output_type": "stream",
          "name": "stdout",
          "text": [
            "Sentence =   The algebraic model for representing text documents and objects as vectors of identifiers is called the vector space model  The limitations of the vector space model are thus  ; similarity =  0.5016886\n"
          ]
        },
        {
          "output_type": "stream",
          "name": "stderr",
          "text": [
            "100%|██████████| 1/1 [00:00<00:00,  5.59it/s]\n",
            "100%|██████████| 1/1 [00:00<00:00,  6.25it/s]\n"
          ]
        },
        {
          "output_type": "stream",
          "name": "stdout",
          "text": [
            "Sentence =   In probability theory Bayes theorem relates the conditional and marginal probabilities of two random events  As a formal theorem Bayes theorem is valid in all common interpretations of probability  ; similarity =  0.5195114\n"
          ]
        },
        {
          "output_type": "stream",
          "name": "stderr",
          "text": [
            "100%|██████████| 1/1 [00:00<00:00,  5.62it/s]\n",
            "100%|██████████| 1/1 [00:00<00:00,  5.61it/s]\n"
          ]
        },
        {
          "output_type": "stream",
          "name": "stdout",
          "text": [
            "Sentence =   Mathematicians use the word to describe a set of rules which anyone can follow to solve a problem  In general we can solve a problem with optimal substructure using a three step process 1  ; similarity =  0.42373082\n"
          ]
        },
        {
          "output_type": "stream",
          "name": "stderr",
          "text": [
            "100%|██████████| 1/1 [00:00<00:00,  6.76it/s]\n",
            "100%|██████████| 1/1 [00:00<00:00,  7.57it/s]\n"
          ]
        },
        {
          "output_type": "stream",
          "name": "stdout",
          "text": [
            "Sentence =   Virtual attributes and methods can be shadowed overridden  For example private attributes and methods cannot be inherited  ; similarity =  0.37027973\n"
          ]
        },
        {
          "output_type": "stream",
          "name": "stderr",
          "text": [
            "100%|██████████| 1/1 [00:00<00:00,  6.97it/s]\n",
            "100%|██████████| 1/1 [00:00<00:00,  7.85it/s]\n"
          ]
        },
        {
          "output_type": "stream",
          "name": "stdout",
          "text": [
            "Sentence =   Every dimension relates to a different term  Each dimensions corresponds to a separate terms  ; similarity =  0.8018466\n"
          ]
        },
        {
          "output_type": "stream",
          "name": "stderr",
          "text": [
            "100%|██████████| 1/1 [00:00<00:00,  5.87it/s]\n",
            "100%|██████████| 1/1 [00:00<00:00,  5.49it/s]\n"
          ]
        },
        {
          "output_type": "stream",
          "name": "stdout",
          "text": [
            "Sentence =   If a term occurs in the document the value will be non zero in the vector  The order in which the terms appear in the document is lost in the vector space representation  ; similarity =  0.6006219\n"
          ]
        },
        {
          "output_type": "stream",
          "name": "stderr",
          "text": [
            "100%|██████████| 1/1 [00:00<00:00,  6.48it/s]\n",
            "100%|██████████| 1/1 [00:00<00:00,  6.09it/s]\n"
          ]
        },
        {
          "output_type": "stream",
          "name": "stdout",
          "text": [
            "Sentence =   P B A is the conditional probability of B given A  P B is the prior or marginal probability of B and acts to normalise the probability  ; similarity =  0.85331506\n"
          ]
        },
        {
          "output_type": "stream",
          "name": "stderr",
          "text": [
            "100%|██████████| 1/1 [00:00<00:00,  6.34it/s]\n",
            "100%|██████████| 1/1 [00:00<00:00,  6.85it/s]\n"
          ]
        },
        {
          "output_type": "stream",
          "name": "stdout",
          "text": [
            "Sentence =   It does not take into account any information about B and therefore is considered prior  However an object cannot be cast to a class which is no relative of it  ; similarity =  0.31785297\n"
          ]
        },
        {
          "output_type": "stream",
          "name": "stderr",
          "text": [
            "100%|██████████| 1/1 [00:00<00:00,  5.77it/s]\n",
            "100%|██████████| 1/1 [00:00<00:00,  6.40it/s]\n"
          ]
        },
        {
          "output_type": "stream",
          "name": "stdout",
          "text": [
            "Sentence =   P A is the probability of the student being a girl which is 2 5   P A B is the conditional probability of A given B  ; similarity =  0.55126476\n"
          ]
        },
        {
          "output_type": "stream",
          "name": "stderr",
          "text": [
            "100%|██████████| 1/1 [00:00<00:00,  6.57it/s]\n",
            "100%|██████████| 1/1 [00:00<00:00,  7.30it/s]\n"
          ]
        },
        {
          "output_type": "stream",
          "name": "stdout",
          "text": [
            "Sentence =   P A B is the conditional probability of A given B   P B A is the conditional probability of B given A  ; similarity =  0.98315823\n"
          ]
        },
        {
          "output_type": "stream",
          "name": "stderr",
          "text": [
            "100%|██████████| 1/1 [00:00<00:00,  5.52it/s]\n",
            "100%|██████████| 1/1 [00:00<00:00,  8.04it/s]\n"
          ]
        },
        {
          "output_type": "stream",
          "name": "stdout",
          "text": [
            "Sentence =   Vector space representation results in the loss of the order which the terms are in the document  A document has representation as a vector  ; similarity =  0.6112756\n"
          ]
        },
        {
          "output_type": "stream",
          "name": "stderr",
          "text": [
            "100%|██████████| 1/1 [00:00<00:00,  5.76it/s]\n",
            "100%|██████████| 1/1 [00:00<00:00,  5.28it/s]\n"
          ]
        },
        {
          "output_type": "stream",
          "name": "stdout",
          "text": [
            "Sentence =   The method can be abused when people deliberately link to sites in order to raise a site s PageRank  In order to prevent spamming Google releases little information on the way in which a PageRank is calculated  ; similarity =  0.6284595\n"
          ]
        },
        {
          "output_type": "stream",
          "name": "stderr",
          "text": [
            "100%|██████████| 1/1 [00:00<00:00,  5.20it/s]\n",
            "100%|██████████| 1/1 [00:00<00:00,  6.82it/s]\n"
          ]
        },
        {
          "output_type": "stream",
          "name": "stdout",
          "text": [
            "Sentence =   The algebraic model for representing text documents and objects as vectors of identifiers is called the vector space model  The vector space model are the documents which are represented as bags of words  ; similarity =  0.8157315\n"
          ]
        },
        {
          "output_type": "stream",
          "name": "stderr",
          "text": [
            "100%|██████████| 1/1 [00:00<00:00,  5.56it/s]\n",
            "100%|██████████| 1/1 [00:00<00:00,  6.90it/s]\n"
          ]
        },
        {
          "output_type": "stream",
          "name": "stdout",
          "text": [
            "Sentence =   In order to prevent spamming Google releases little information on the way in which a PageRank is calculated  After this it is using this to pick the best overall path  ; similarity =  0.10216506\n"
          ]
        },
        {
          "output_type": "stream",
          "name": "stderr",
          "text": [
            "100%|██████████| 1/1 [00:00<00:00,  5.80it/s]\n",
            "100%|██████████| 1/1 [00:00<00:00,  6.96it/s]\n"
          ]
        },
        {
          "output_type": "stream",
          "name": "stdout",
          "text": [
            "Sentence =   Inheritance can be used to create a multiple level architecture of classes  This can be known as one of the advantages of inheritance  ; similarity =  0.54790586\n"
          ]
        },
        {
          "output_type": "stream",
          "name": "stderr",
          "text": [
            "100%|██████████| 1/1 [00:00<00:00,  6.15it/s]\n",
            "100%|██████████| 1/1 [00:00<00:00,  6.44it/s]\n"
          ]
        },
        {
          "output_type": "stream",
          "name": "stdout",
          "text": [
            "Sentence =   Many different ways of calculating these values also known as term weights have been developed  Several different ways of computing these values additionally known as term weights have been developed  ; similarity =  0.9724139\n"
          ]
        },
        {
          "output_type": "stream",
          "name": "stderr",
          "text": [
            "100%|██████████| 1/1 [00:00<00:00,  6.49it/s]\n",
            "100%|██████████| 1/1 [00:00<00:00,  7.63it/s]\n"
          ]
        },
        {
          "output_type": "stream",
          "name": "stdout",
          "text": [
            "Sentence =   Recursively define the value of an optimal solution 3  Characterise structure of an optimal solution  ; similarity =  0.6543038\n"
          ]
        },
        {
          "output_type": "stream",
          "name": "stderr",
          "text": [
            "100%|██████████| 1/1 [00:00<00:00,  7.52it/s]\n",
            "100%|██████████| 1/1 [00:00<00:00,  6.99it/s]\n"
          ]
        },
        {
          "output_type": "stream",
          "name": "stdout",
          "text": [
            "Sentence =   The second method is the use of links  The definition of term is dependent on the application  ; similarity =  0.20184466\n"
          ]
        },
        {
          "output_type": "stream",
          "name": "stderr",
          "text": [
            "100%|██████████| 1/1 [00:00<00:00,  5.13it/s]\n",
            "100%|██████████| 1/1 [00:00<00:00,  6.31it/s]\n"
          ]
        },
        {
          "output_type": "stream",
          "name": "stdout",
          "text": [
            "Sentence =   This means that inheritance is used when types have common factors and these would be put into the superclass  It is previous in the sense that it does not take into account any information about B  ; similarity =  0.08809036\n"
          ]
        },
        {
          "output_type": "stream",
          "name": "stderr",
          "text": [
            "100%|██████████| 1/1 [00:00<00:00,  5.64it/s]\n",
            "100%|██████████| 1/1 [00:00<00:00,  5.98it/s]\n"
          ]
        },
        {
          "output_type": "stream",
          "name": "stdout",
          "text": [
            "Sentence =   This meant that the sum of all pages was the total number of pages on the web  of a particular page is roughly based upon the quantity of inbound links as well as the PageRank  ; similarity =  0.5792195\n"
          ]
        },
        {
          "output_type": "stream",
          "name": "stderr",
          "text": [
            "100%|██████████| 1/1 [00:00<00:00,  5.64it/s]\n",
            "100%|██████████| 1/1 [00:00<00:00,  5.29it/s]\n"
          ]
        },
        {
          "output_type": "stream",
          "name": "stdout",
          "text": [
            "Sentence =   Dynamic Programming reduces computation time by solving subproblems in a bottom up way  Dynamic Programming is a method of solving problems that exhibit the properties of overlapping subproblems and optimal substructure  ; similarity =  0.7026658\n"
          ]
        },
        {
          "output_type": "stream",
          "name": "stderr",
          "text": [
            "100%|██████████| 1/1 [00:00<00:00,  6.39it/s]\n",
            "100%|██████████| 1/1 [00:00<00:00,  6.03it/s]\n"
          ]
        },
        {
          "output_type": "stream",
          "name": "stdout",
          "text": [
            "Sentence =   One of the most popular schemes is tf idf weighting  One of the best known schemes is tf idf term frequency inverse document frequency weighting  ; similarity =  0.78503424\n"
          ]
        },
        {
          "output_type": "stream",
          "name": "stderr",
          "text": [
            "100%|██████████| 1/1 [00:00<00:00,  5.81it/s]\n",
            "100%|██████████| 1/1 [00:00<00:00,  6.17it/s]\n"
          ]
        },
        {
          "output_type": "stream",
          "name": "stdout",
          "text": [
            "Sentence =   In general dynamic programming is used on optimisation problems where the most efficient solution is needed  However the key in Dynamic Programming is to determine the structure of optimal solutions  ; similarity =  0.835012\n"
          ]
        },
        {
          "output_type": "stream",
          "name": "stderr",
          "text": [
            "100%|██████████| 1/1 [00:00<00:00,  5.85it/s]\n",
            "100%|██████████| 1/1 [00:00<00:00,  6.27it/s]\n"
          ]
        },
        {
          "output_type": "stream",
          "name": "stdout",
          "text": [
            "Sentence =   Dynamic Programming solves problems by combining the solutions of subproblems  Dynamic Programming reduces computation time by solving subproblems in a bottom up way  ; similarity =  0.7436188\n"
          ]
        },
        {
          "output_type": "stream",
          "name": "stderr",
          "text": [
            "100%|██████████| 1/1 [00:00<00:00,  6.06it/s]\n",
            "100%|██████████| 1/1 [00:00<00:00,  6.42it/s]\n"
          ]
        },
        {
          "output_type": "stream",
          "name": "stdout",
          "text": [
            "Sentence =   It is used in information filtering information retrieval indexing and relevancy rankings  A possible use for a vector space model is for retrieval and filtering of information  ; similarity =  0.69848794\n"
          ]
        },
        {
          "output_type": "stream",
          "name": "stderr",
          "text": [
            "100%|██████████| 1/1 [00:00<00:00,  5.56it/s]\n",
            "100%|██████████| 1/1 [00:00<00:00,  5.92it/s]\n"
          ]
        },
        {
          "output_type": "stream",
          "name": "stdout",
          "text": [
            "Sentence =   The method can be abused when people deliberately link to sites in order to raise a site s PageRank  A dampening factor is used to counter random surfers who get bored and then switch to other pages  ; similarity =  0.51132524\n"
          ]
        },
        {
          "output_type": "stream",
          "name": "stderr",
          "text": [
            "100%|██████████| 1/1 [00:00<00:00,  5.76it/s]\n",
            "100%|██████████| 1/1 [00:00<00:00,  6.69it/s]\n"
          ]
        },
        {
          "output_type": "stream",
          "name": "stdout",
          "text": [
            "Sentence =   If a term occurs in the document its value is non zero  Term frequency This formula counts how many times the term occurs in a document  ; similarity =  0.5524473\n"
          ]
        },
        {
          "output_type": "stream",
          "name": "stderr",
          "text": [
            "100%|██████████| 1/1 [00:00<00:00,  6.43it/s]\n",
            "100%|██████████| 1/1 [00:00<00:00,  6.38it/s]\n"
          ]
        },
        {
          "output_type": "stream",
          "name": "stdout",
          "text": [
            "Sentence =   If the term doesn t occur within the document the value in the vector is zero  Vector space representation results in the loss of the order which the terms are in the document  ; similarity =  0.61716914\n"
          ]
        },
        {
          "output_type": "stream",
          "name": "stderr",
          "text": [
            "100%|██████████| 1/1 [00:00<00:00,  5.58it/s]\n",
            "100%|██████████| 1/1 [00:00<00:00,  5.81it/s]\n"
          ]
        },
        {
          "output_type": "stream",
          "name": "stdout",
          "text": [
            "Sentence =   If the term doesn t occur within the document the value in the vector is zero  The order in which the terms appear in the document is lost in the vector space representation  ; similarity =  0.65855855\n"
          ]
        },
        {
          "output_type": "stream",
          "name": "stderr",
          "text": [
            "100%|██████████| 1/1 [00:00<00:00,  5.35it/s]\n",
            "100%|██████████| 1/1 [00:00<00:00,  6.70it/s]\n"
          ]
        },
        {
          "output_type": "stream",
          "name": "stdout",
          "text": [
            "Sentence =   The algebraic model for representing text documents and objects as vectors of identifiers is called the vector space model  In the vector space model a document is represented as a vector  ; similarity =  0.8309757\n"
          ]
        },
        {
          "output_type": "stream",
          "name": "stderr",
          "text": [
            "100%|██████████| 1/1 [00:00<00:00,  7.31it/s]\n",
            "100%|██████████| 1/1 [00:00<00:00,  7.82it/s]\n"
          ]
        },
        {
          "output_type": "stream",
          "name": "stdout",
          "text": [
            "Sentence =   The vector space model has the following limitations 1  The vector space model has several disadvantages  ; similarity =  0.84079945\n"
          ]
        },
        {
          "output_type": "stream",
          "name": "stderr",
          "text": [
            "100%|██████████| 1/1 [00:00<00:00,  5.86it/s]\n",
            "100%|██████████| 1/1 [00:00<00:00,  5.75it/s]\n"
          ]
        },
        {
          "output_type": "stream",
          "name": "stdout",
          "text": [
            "Sentence =   If the term doesn t occur within the document the value in the vector is zero  The value of a vector is non zero if a term occurs in the document  ; similarity =  0.87470245\n"
          ]
        },
        {
          "output_type": "stream",
          "name": "stderr",
          "text": [
            "100%|██████████| 1/1 [00:00<00:00,  6.88it/s]\n",
            "100%|██████████| 1/1 [00:00<00:00,  6.74it/s]\n"
          ]
        },
        {
          "output_type": "stream",
          "name": "stdout",
          "text": [
            "Sentence =   The second method is the use of links  One of the most important uses of page rank is its meaning to advertising  ; similarity =  0.2949797\n"
          ]
        },
        {
          "output_type": "stream",
          "name": "stderr",
          "text": [
            "100%|██████████| 1/1 [00:00<00:00,  5.77it/s]\n",
            "100%|██████████| 1/1 [00:00<00:00,  5.81it/s]\n"
          ]
        },
        {
          "output_type": "stream",
          "name": "stdout",
          "text": [
            "Sentence =   The easiest way to look at inheritance is as an is a kind of relationship  It also provides a way to generalize du to the is a relationship between classes  ; similarity =  0.44140166\n"
          ]
        },
        {
          "output_type": "stream",
          "name": "stderr",
          "text": [
            "100%|██████████| 1/1 [00:00<00:00,  6.05it/s]\n",
            "100%|██████████| 1/1 [00:00<00:00,  5.77it/s]\n"
          ]
        },
        {
          "output_type": "stream",
          "name": "stdout",
          "text": [
            "Sentence =   Most of these languages provide an extend keyword which is used to subclass another  However an object cannot be cast to a class which is no relative of it  ; similarity =  0.10167323\n"
          ]
        },
        {
          "output_type": "stream",
          "name": "stderr",
          "text": [
            "100%|██████████| 1/1 [00:00<00:00,  7.27it/s]\n",
            "100%|██████████| 1/1 [00:00<00:00,  6.81it/s]\n"
          ]
        },
        {
          "output_type": "stream",
          "name": "stdout",
          "text": [
            "Sentence =   Inheritance is a basic concept in object oriented programming  Inheritance is one of the basic concepts of Object Oriented Programming  ; similarity =  0.98479646\n"
          ]
        },
        {
          "output_type": "stream",
          "name": "stderr",
          "text": [
            "100%|██████████| 1/1 [00:00<00:00,  7.83it/s]\n",
            "100%|██████████| 1/1 [00:00<00:00,  5.81it/s]\n"
          ]
        },
        {
          "output_type": "stream",
          "name": "stdout",
          "text": [
            "Sentence =   Construct an optimal solution from computed values  Construct an optimal solution using the computed optimal subproblems for the original problem  ; similarity =  0.839287\n"
          ]
        },
        {
          "output_type": "stream",
          "name": "stderr",
          "text": [
            "100%|██████████| 1/1 [00:00<00:00,  5.74it/s]\n",
            "100%|██████████| 1/1 [00:00<00:00,  6.19it/s]\n"
          ]
        },
        {
          "output_type": "stream",
          "name": "stdout",
          "text": [
            "Sentence =   Inheritance in object oriented programming is a way to form new classes using classes that have already been defined  Inheritance is a method of forming new classes using predefined classes  ; similarity =  0.8873387\n"
          ]
        },
        {
          "output_type": "stream",
          "name": "stderr",
          "text": [
            "100%|██████████| 1/1 [00:00<00:00,  6.15it/s]\n",
            "100%|██████████| 1/1 [00:00<00:00,  5.41it/s]\n"
          ]
        },
        {
          "output_type": "stream",
          "name": "stdout",
          "text": [
            "Sentence =   It is intended to help reuse existing code with little or no modification  The peropos of inheritance in object oriented programming is to minimize the reuse of existing code without modification  ; similarity =  0.65380824\n"
          ]
        },
        {
          "output_type": "stream",
          "name": "stderr",
          "text": [
            "100%|██████████| 1/1 [00:00<00:00,  5.87it/s]\n",
            "100%|██████████| 1/1 [00:00<00:00,  6.64it/s]\n"
          ]
        },
        {
          "output_type": "stream",
          "name": "stdout",
          "text": [
            "Sentence =   The order in which terms appear in the document is lost in a vector space representation  If a term occurs in the document its value is non zero  ; similarity =  0.5202335\n"
          ]
        },
        {
          "output_type": "stream",
          "name": "stderr",
          "text": [
            "100%|██████████| 1/1 [00:00<00:00,  7.58it/s]\n",
            "100%|██████████| 1/1 [00:00<00:00,  6.33it/s]\n"
          ]
        },
        {
          "output_type": "stream",
          "name": "stdout",
          "text": [
            "Sentence =   A document has representation as a vector  Each document is a vector where each word is a dimension  ; similarity =  0.825731\n"
          ]
        },
        {
          "output_type": "stream",
          "name": "stderr",
          "text": [
            "100%|██████████| 1/1 [00:00<00:00,  5.17it/s]\n",
            "100%|██████████| 1/1 [00:00<00:00,  6.18it/s]\n"
          ]
        },
        {
          "output_type": "stream",
          "name": "stdout",
          "text": [
            "Sentence =   This means that inheritance is used when types have common factors and these would be put into the superclass  It is prior in the sense that it does not take into account any information about B  ; similarity =  0.074012496\n"
          ]
        },
        {
          "output_type": "stream",
          "name": "stderr",
          "text": [
            "100%|██████████| 1/1 [00:00<00:00,  6.45it/s]\n",
            "100%|██████████| 1/1 [00:00<00:00,  7.43it/s]\n"
          ]
        },
        {
          "output_type": "stream",
          "name": "stdout",
          "text": [
            "Sentence =   The vector space model are the documents which are represented as bags of words  However the vector space model has limitations  ; similarity =  0.45889914\n"
          ]
        },
        {
          "output_type": "stream",
          "name": "stderr",
          "text": [
            "100%|██████████| 1/1 [00:00<00:00,  5.61it/s]\n",
            "100%|██████████| 1/1 [00:00<00:00,  5.56it/s]\n"
          ]
        },
        {
          "output_type": "stream",
          "name": "stdout",
          "text": [
            "Sentence =   Most of these languages provide an extend keyword which is used to subclass another  In general dynamic programming is used on optimisation problems where the most efficient solution is needed  ; similarity =  0.3373026\n"
          ]
        },
        {
          "output_type": "stream",
          "name": "stderr",
          "text": [
            "100%|██████████| 1/1 [00:00<00:00,  6.09it/s]\n",
            "100%|██████████| 1/1 [00:00<00:00,  6.80it/s]\n"
          ]
        },
        {
          "output_type": "stream",
          "name": "stdout",
          "text": [
            "Sentence =   A link to a page is seen as a vote of support  A hyperlink to a page counts as a vote of support  ; similarity =  0.94823056\n"
          ]
        },
        {
          "output_type": "stream",
          "name": "stderr",
          "text": [
            "100%|██████████| 1/1 [00:00<00:00,  6.94it/s]\n",
            "100%|██████████| 1/1 [00:00<00:00,  6.02it/s]\n"
          ]
        },
        {
          "output_type": "stream",
          "name": "stdout",
          "text": [
            "Sentence =   With each separate term corresponding to the differing dimensions  A document is represented as a vector with each dimension corresponding to a separate term  ; similarity =  0.7304756\n"
          ]
        },
        {
          "output_type": "stream",
          "name": "stderr",
          "text": [
            "100%|██████████| 1/1 [00:00<00:00,  5.72it/s]\n",
            "100%|██████████| 1/1 [00:00<00:00,  5.47it/s]\n"
          ]
        },
        {
          "output_type": "stream",
          "name": "stdout",
          "text": [
            "Sentence =   If a term exists in a document its value in the vector is not equal to zero  The order in which terms appear in the document is lost in a vector space representation  ; similarity =  0.6713473\n"
          ]
        },
        {
          "output_type": "stream",
          "name": "stderr",
          "text": [
            "100%|██████████| 1/1 [00:00<00:00,  6.53it/s]\n",
            "100%|██████████| 1/1 [00:00<00:00,  5.76it/s]\n"
          ]
        },
        {
          "output_type": "stream",
          "name": "stdout",
          "text": [
            "Sentence =   P B A is the conditional probability of B given A  P B is the prior or marginal probability of B and acts as a normalizing constant  ; similarity =  0.84813803\n"
          ]
        },
        {
          "output_type": "stream",
          "name": "stderr",
          "text": [
            "100%|██████████| 1/1 [00:00<00:00,  5.41it/s]\n",
            "100%|██████████| 1/1 [00:00<00:00,  5.71it/s]\n"
          ]
        },
        {
          "output_type": "stream",
          "name": "stdout",
          "text": [
            "Sentence =   This means that inheritance is used when types have common factors and these would be put into the superclass  The method can be abused when people deliberately link to sites in order to raise a site s PageRank  ; similarity =  0.22077599\n"
          ]
        },
        {
          "output_type": "stream",
          "name": "stderr",
          "text": [
            "100%|██████████| 1/1 [00:00<00:00,  7.05it/s]\n",
            "100%|██████████| 1/1 [00:00<00:00,  6.67it/s]\n"
          ]
        },
        {
          "output_type": "stream",
          "name": "stdout",
          "text": [
            "Sentence =   In Java all attributes and methods are implicitly virtual  For example private attributes and methods cannot be inherited  ; similarity =  0.33425513\n"
          ]
        },
        {
          "output_type": "stream",
          "name": "stderr",
          "text": [
            "100%|██████████| 1/1 [00:00<00:00,  5.35it/s]\n",
            "100%|██████████| 1/1 [00:00<00:00,  6.25it/s]\n"
          ]
        },
        {
          "output_type": "stream",
          "name": "stdout",
          "text": [
            "Sentence =   If a term exists in a document its value in the vector is not equal to zero  However an object cannot be cast to a class which is no relative of it  ; similarity =  0.31059134\n"
          ]
        },
        {
          "output_type": "stream",
          "name": "stderr",
          "text": [
            "100%|██████████| 1/1 [00:00<00:00,  6.09it/s]\n",
            "100%|██████████| 1/1 [00:00<00:00,  6.64it/s]\n"
          ]
        },
        {
          "output_type": "stream",
          "name": "stdout",
          "text": [
            "Sentence =   Bayes Theorem is a mathematical formula used to calculate conditional probabilities  It is usually used to calculate posterior probabilities given observations  ; similarity =  0.53160816\n"
          ]
        },
        {
          "output_type": "stream",
          "name": "stderr",
          "text": [
            "100%|██████████| 1/1 [00:00<00:00,  5.33it/s]\n",
            "100%|██████████| 1/1 [00:00<00:00,  5.69it/s]\n"
          ]
        },
        {
          "output_type": "stream",
          "name": "stdout",
          "text": [
            "Sentence =   This means that inheritance is used when types have common factors and these would be put into the superclass  Terms are basically the words or any indexing unit used to identify the contents of a text  ; similarity =  0.39842033\n"
          ]
        },
        {
          "output_type": "stream",
          "name": "stderr",
          "text": [
            "100%|██████████| 1/1 [00:00<00:00,  6.65it/s]\n",
            "100%|██████████| 1/1 [00:00<00:00,  5.40it/s]\n"
          ]
        },
        {
          "output_type": "stream",
          "name": "stdout",
          "text": [
            "Sentence =   Dynamic Programming solves problems by combining the solutions of subproblems  In computer science dynamic programming is a way of solving problems consist of overlapping subproblems and optimal substructure  ; similarity =  0.872788\n"
          ]
        },
        {
          "output_type": "stream",
          "name": "stderr",
          "text": [
            "100%|██████████| 1/1 [00:00<00:00,  6.20it/s]\n",
            "100%|██████████| 1/1 [00:00<00:00,  6.12it/s]\n"
          ]
        },
        {
          "output_type": "stream",
          "name": "stdout",
          "text": [
            "Sentence =   Furthermore by combining solutions to subproblems DP solves problems  Like divide and conquer Dynamic Programming solves problems by combining solutions to sub problems  ; similarity =  0.68067986\n"
          ]
        },
        {
          "output_type": "stream",
          "name": "stderr",
          "text": [
            "100%|██████████| 1/1 [00:00<00:00,  6.13it/s]\n",
            "100%|██████████| 1/1 [00:00<00:00,  6.58it/s]\n"
          ]
        },
        {
          "output_type": "stream",
          "name": "stdout",
          "text": [
            "Sentence =   It is therefore used to create relationships between one object and another  However an object cannot be cast to a class which is no relative of it  ; similarity =  0.3347189\n"
          ]
        },
        {
          "output_type": "stream",
          "name": "stderr",
          "text": [
            "100%|██████████| 1/1 [00:00<00:00,  6.69it/s]\n",
            "100%|██████████| 1/1 [00:00<00:00,  7.54it/s]\n"
          ]
        },
        {
          "output_type": "stream",
          "name": "stdout",
          "text": [
            "Sentence =   Generate the optimal solution of these computed values Define value of optimal solution recursively  ; similarity =  0.84087384\n"
          ]
        },
        {
          "output_type": "stream",
          "name": "stderr",
          "text": [
            "100%|██████████| 1/1 [00:00<00:00,  5.77it/s]\n",
            "100%|██████████| 1/1 [00:00<00:00,  6.75it/s]\n"
          ]
        },
        {
          "output_type": "stream",
          "name": "stdout",
          "text": [
            "Sentence =   It is used in information filtering information retrieval indexing and relevancy rankings  It was used in the first time in the SMART Information Retrieval System  ; similarity =  0.49943325\n"
          ]
        },
        {
          "output_type": "stream",
          "name": "stderr",
          "text": [
            "100%|██████████| 1/1 [00:00<00:00,  5.93it/s]\n",
            "100%|██████████| 1/1 [00:00<00:00,  6.41it/s]\n"
          ]
        },
        {
          "output_type": "stream",
          "name": "stdout",
          "text": [
            "Sentence =   Instead a new object is made to inherit properties of objects which already exist  For example a program could exist to model different forms of transport  ; similarity =  0.23954432\n"
          ]
        },
        {
          "output_type": "stream",
          "name": "stderr",
          "text": [
            "100%|██████████| 1/1 [00:00<00:00,  5.80it/s]\n",
            "100%|██████████| 1/1 [00:00<00:00,  6.39it/s]\n"
          ]
        },
        {
          "output_type": "stream",
          "name": "stdout",
          "text": [
            "Sentence =   The easiest way to look at inheritance is as an is a kind of relationship  Most of these languages provide an extend keyword which is used to subclass another  ; similarity =  0.2544027\n"
          ]
        },
        {
          "output_type": "stream",
          "name": "stderr",
          "text": [
            "100%|██████████| 1/1 [00:00<00:00,  5.67it/s]\n",
            "100%|██████████| 1/1 [00:00<00:00,  7.34it/s]\n"
          ]
        },
        {
          "output_type": "stream",
          "name": "stdout",
          "text": [
            "Sentence =   P B is the prior or marginal probability of B and acts to normalise the probability   P B A is the conditional probability of B given A  ; similarity =  0.85331506\n"
          ]
        },
        {
          "output_type": "stream",
          "name": "stderr",
          "text": [
            "100%|██████████| 1/1 [00:00<00:00,  5.55it/s]\n",
            "100%|██████████| 1/1 [00:00<00:00,  6.59it/s]\n"
          ]
        },
        {
          "output_type": "stream",
          "name": "stdout",
          "text": [
            "Sentence =   It is used to compute posterior probabilities given observations  It is usually used to calculate posterior probabilities given observations  ; similarity =  0.95684814\n"
          ]
        },
        {
          "output_type": "stream",
          "name": "stderr",
          "text": [
            "100%|██████████| 1/1 [00:00<00:00,  6.50it/s]\n",
            "100%|██████████| 1/1 [00:00<00:00,  7.00it/s]\n"
          ]
        },
        {
          "output_type": "stream",
          "name": "stdout",
          "text": [
            "Sentence =   Inheritance is one of the basic concepts of Object Oriented Programming  Inheritance is an important feature in object orientated programming  ; similarity =  0.894201\n"
          ]
        },
        {
          "output_type": "stream",
          "name": "stderr",
          "text": [
            "100%|██████████| 1/1 [00:00<00:00,  6.45it/s]\n",
            "100%|██████████| 1/1 [00:00<00:00,  5.93it/s]\n"
          ]
        },
        {
          "output_type": "stream",
          "name": "stdout",
          "text": [
            "Sentence =   Dangling links to a page which has no links to others  If there are no links to a web page there is no support for that page  ; similarity =  0.7133369\n"
          ]
        },
        {
          "output_type": "stream",
          "name": "stderr",
          "text": [
            "100%|██████████| 1/1 [00:00<00:00,  5.20it/s]\n",
            "100%|██████████| 1/1 [00:00<00:00,  5.96it/s]\n"
          ]
        },
        {
          "output_type": "stream",
          "name": "stdout",
          "text": [
            "Sentence =   Other possible uses for vector space models are indexing and also to rank the relevancy of differing documents  In vector space model the documents from which the information is to be retrieved are represented as vectors  ; similarity =  0.78583217\n"
          ]
        },
        {
          "output_type": "stream",
          "name": "stderr",
          "text": [
            "100%|██████████| 1/1 [00:00<00:00,  5.81it/s]\n",
            "100%|██████████| 1/1 [00:00<00:00,  5.79it/s]\n"
          ]
        },
        {
          "output_type": "stream",
          "name": "stdout",
          "text": [
            "Sentence =   This can be useful when the number of times a word appears is not considered important  Mathematicians use the word to describe a set of rules which anyone can follow to solve a problem  ; similarity =  0.18416336\n"
          ]
        },
        {
          "output_type": "stream",
          "name": "stderr",
          "text": [
            "100%|██████████| 1/1 [00:00<00:00,  6.02it/s]\n",
            "100%|██████████| 1/1 [00:00<00:00,  7.36it/s]\n"
          ]
        },
        {
          "output_type": "stream",
          "name": "stdout",
          "text": [
            "Sentence =   The last point would be to construct an optimal solution from the computed values  Generalise the structure of an optimal solution 2  ; similarity =  0.5513712\n"
          ]
        },
        {
          "output_type": "stream",
          "name": "stderr",
          "text": [
            "100%|██████████| 1/1 [00:00<00:00,  6.44it/s]\n",
            "100%|██████████| 1/1 [00:00<00:00,  7.82it/s]\n"
          ]
        },
        {
          "output_type": "stream",
          "name": "stdout",
          "text": [
            "Sentence =   Every dimension is precisely related to a separate term  Each dimension corresponds to a separate term  ; similarity =  0.8249743\n"
          ]
        },
        {
          "output_type": "stream",
          "name": "stderr",
          "text": [
            "100%|██████████| 1/1 [00:00<00:00,  5.86it/s]\n",
            "100%|██████████| 1/1 [00:00<00:00,  5.90it/s]\n"
          ]
        },
        {
          "output_type": "stream",
          "name": "stdout",
          "text": [
            "Sentence =   As a formal theorem Bayes theorem is valid in all common interpretations of probability  Bayes Theorem is a theorem of probability theory originally stated by the Reverend Thomas Bayes  ; similarity =  0.5819618\n"
          ]
        },
        {
          "output_type": "stream",
          "name": "stderr",
          "text": [
            "100%|██████████| 1/1 [00:00<00:00,  5.36it/s]\n",
            "100%|██████████| 1/1 [00:00<00:00,  6.17it/s]\n"
          ]
        },
        {
          "output_type": "stream",
          "name": "stdout",
          "text": [
            "Sentence =   This means that inheritance is used when types have common factors and these would be put into the superclass  It does not take into account any information about B and therefore is considered prior  ; similarity =  0.054165274\n"
          ]
        },
        {
          "output_type": "stream",
          "name": "stderr",
          "text": [
            "100%|██████████| 1/1 [00:00<00:00,  5.76it/s]\n",
            "100%|██████████| 1/1 [00:00<00:00,  5.21it/s]"
          ]
        },
        {
          "output_type": "stream",
          "name": "stdout",
          "text": [
            "Sentence =   It is used in information retrieval and was first used in the SMART Information Retrieval System  It is used in information filtering indexing relevancy rankings and information retrieval  ; similarity =  0.622096\n"
          ]
        },
        {
          "output_type": "stream",
          "name": "stderr",
          "text": [
            "\n"
          ]
        }
      ]
    },
    {
      "cell_type": "code",
      "source": [
        "final=[]\n",
        "for i in similar:\n",
        "  final.append(i*5)\n",
        "print(final)"
      ],
      "metadata": {
        "colab": {
          "base_uri": "https://localhost:8080/"
        },
        "id": "LeoMjucJKAsM",
        "outputId": "2fb8fab1-2d89-4879-dff0-41bad8a6f185"
      },
      "execution_count": 15,
      "outputs": [
        {
          "output_type": "stream",
          "name": "stdout",
          "text": [
            "[2.5006967782974243, 4.573294222354889, 2.635263502597809, 1.865079551935196, 4.76899266242981, 3.042626976966858, 4.429100751876831, 4.289515316486359, 4.934639036655426, 3.1101104617118835, 4.1534313559532166, 2.2858984768390656, 4.132817089557648, 3.8804131746292114, 3.205236792564392, 2.905440330505371, 4.2126792669296265, 3.688383996486664, 3.798127770423889, 4.048228859901428, 4.915791153907776, 4.621376097202301, 2.384255826473236, 4.915791153907776, 2.643100321292877, 4.134747684001923, 4.9341365694999695, 4.99332070350647, 4.016164243221283, 4.461769163608551, 3.8796281814575195, 3.473387062549591, 4.586126804351807, 3.6388522386550903, 3.9743661880493164, 2.6416239142417908, 4.882382750511169, 3.4310930967330933, 3.44318687915802, 2.1274830400943756, 4.936424791812897, 3.9573773741722107, 3.7313058972358704, 2.8309905529022217, 3.2343855500221252, 3.002108335494995, 1.433606594800949, 4.893636107444763, 3.1723368167877197, 2.4479220807552338, 2.698136270046234, 3.975841701030731, 3.252423107624054, 2.7568668127059937, 4.72814679145813, 4.798386096954346, 1.8243588507175446, 3.252057135105133, 3.8341477513313293, 3.869495391845703, 3.6383387446403503, 4.331581294536591, 3.307415544986725, 4.790710508823395, 4.027218818664551, 0.7905326038599014, 4.8699504137039185, 4.33195561170578, 2.4342764914035797, 3.825847804546356, 2.437848001718521, 3.1189224123954773, 3.724462389945984, 3.3721688389778137, 4.3843019008636475, 3.784394860267639, 4.266575276851654, 1.4262743294239044, 3.5589537024497986, 4.285449683666229, 4.701888263225555, 4.227235317230225, 4.872438311576843, 4.485836923122406, 4.802579879760742, 2.1173007786273956, 4.882382750511169, 3.9752358198165894, 3.2681241631507874, 3.505464792251587, 1.1209466308355331, 4.513721466064453, 3.799736797809601, 3.5301056504249573, 4.26466166973114, 2.1173974871635437, 4.402166903018951, 3.9939114451408386, 3.8143637776374817, 4.718709290027618, 4.545502066612244, 2.5127124786376953, 2.4640031158924103, 3.1314346194267273, 4.437861144542694, 4.2348650097846985, 2.6950904726982117, 4.387828707695007, 4.166108965873718, 3.0438685417175293, 2.4467530846595764, 1.6054604947566986, 4.295903444290161, 3.2854989171028137, 1.4683766663074493, 3.8804131746292114, 4.538086652755737, 4.104614853858948, 4.420097768306732, 4.748874008655548, 3.5746344923973083, 3.4196144342422485, 4.261003732681274, 3.2771113514900208, 2.678019404411316, 1.424725204706192, 3.558618724346161, 4.83595997095108, 4.410078823566437, 1.925702691078186, 4.21896368265152, 4.2273324728012085, 4.227290451526642, 4.908411800861359, 4.419132471084595, 3.122621774673462, 3.110359311103821, 4.654865264892578, 4.320741593837738, 1.7687004804611206, 2.419634163379669, 4.915791153907776, 4.074788987636566, 2.771185338497162, 3.0803346633911133, 2.6508688926696777, 4.961179792881012, 3.0736613273620605, 4.8767149448394775, 2.5956645607948303, 3.799736797809601, 3.0905315279960632, 4.758840501308441, 3.9586374163627625, 4.721813797950745, 3.881533145904541, 2.8238660097122192, 3.749496042728424, 4.707823097705841, 4.641165137290955, 2.791741192340851, 4.257408976554871, 1.620202362537384, 4.792227745056152, 3.1723368167877197, 4.841737449169159, 4.90423858165741, 4.599535167217255, 1.481214463710785, 3.1576773524284363, 2.75632381439209, 3.38470458984375, 4.027218818664551, 4.027121067047119, 4.705519080162048, 4.646334946155548, 0.5385390296578407, 1.0883767157793045, 4.363157749176025, 4.331581294536591, 2.729765474796295, 4.613229036331177, 2.159045785665512, 4.331581294536591, 4.872438311576843, 4.904557466506958, 3.1607770919799805, 0.8283846825361252, 3.34559828042984, 3.5512810945510864, 3.42676043510437, 1.7057643830776215, 4.588099122047424, 3.044644594192505, 4.875890016555786, 4.541750848293304, 4.19690728187561, 3.0165180563926697, 3.9263859391212463, 2.7662870287895203, 4.447095990180969, 4.691717624664307, 2.7644896507263184, 4.802579879760742, 4.510942101478577, 4.363940060138702, 3.3793240785598755, 4.824840724468231, 3.961789309978485, 3.7098145484924316, 2.0964016020298004, 0.8255963772535324, 3.8554224371910095, 4.539181590080261, 4.901004433631897, 0.6919337064027786, 4.909860193729401, 3.168148398399353, 4.2607685923576355, 4.64846670627594, 4.028105437755585, 0.6204159930348396, 4.752357006072998, 3.4183579683303833, 3.5937434434890747, 4.334055781364441, 4.574942588806152, 3.7936314940452576, 3.4485071897506714, 2.8998324275016785, 3.482186198234558, 2.4104855954647064, 3.881033957004547, 4.893563091754913, 4.898115396499634, 1.6218790411949158, 3.584974706172943, 1.7111237347126007, 3.308546245098114, 4.669156968593597, 2.2615160048007965, 4.983861446380615, 2.3998641967773438, 2.668904960155487, 4.446286559104919, 4.3556830286979675, 2.507672607898712, 4.203997254371643, 4.165193140506744, 4.9616435170173645, 4.434624910354614, 3.848297894001007, 2.4765221774578094, 4.929932653903961, 2.1004830300807953, 4.711706638336182, 4.1939762234687805, 4.640909433364868, 1.2220489233732224, 2.2041022777557373, 4.3282246589660645, 4.581728577613831, 2.553541660308838, 3.6523178219795227, 4.057449698448181, 0.6447776407003403, 3.5759153962135315, 0.703069344162941, 4.291156530380249, 1.535239964723587, 4.900472164154053, 4.932633638381958, 4.555018842220306, 0.8811285346746445, 4.042791724205017, 3.190199136734009, 4.95036244392395, 3.1847286224365234, 2.384255826473236, 3.2839691638946533, 2.7119258046150208, 3.1752488017082214, 4.00824099779129, 3.134235143661499, 4.809682667255402, 2.4103204905986786, 4.458725154399872, 3.3830267190933228, 4.432697594165802, 3.1881579756736755, 2.69721657037735, 3.711595833301544, 2.8309905529022217, 3.5937434434890747, 3.352714478969574, 4.526444375514984, 2.7437952160835266, 2.437848001718521, 3.0749639868736267, 3.314114809036255, 3.1345486640930176, 4.001353681087494, 4.362357258796692, 2.240523397922516, 4.989992678165436, 4.267542362213135, 3.2924342155456543, 3.2790493965148926, 1.8572750687599182, 3.572326898574829, 3.4998315572738647, 2.8547659516334534, 4.741152822971344, 3.125006854534149, 4.905134439468384, 4.460876286029816, 1.0066793113946915, 0.8923503011465073, 4.798386096954346, 3.252423107624054, 1.3676168024539948, 1.911786049604416, 4.702900052070618, 3.6589157581329346, 4.520645439624786, 1.9344335794448853, 0.7080952078104019, 1.450023353099823, 2.8970161080360413, 4.007305800914764, 3.7356767058372498, 4.12268728017807, 2.853219211101532, 2.8204837441444397, 1.2406352907419205, 3.996099829673767, 2.2570420801639557, 4.753250181674957, 2.8774017095565796, 2.767408788204193, 3.9743661880493164, 3.9752358198165894, 2.6390308141708374, 4.484656751155853, 4.8767149448394775, 4.735191762447357, 3.1510990858078003, 4.066486954689026, 3.3214515447616577, 4.221276640892029, 2.67758309841156, 1.7926274240016937, 4.915791153907776, 3.1205320358276367, 0.6995805352926254, 4.14194643497467, 4.166108965873718, 1.8993012607097626, 4.8122140765190125, 2.013554573059082, 4.915791153907776, 4.161471724510193, 4.275866150856018, 3.1963855028152466, 2.3884879052639008, 4.146645367145538, 4.915791153907776, 2.9912549257278442, 4.950507283210754, 2.291809469461441, 4.342453181743622, 4.358431398868561, 4.539380967617035, 4.372450411319733, 0.8741100132465363, 2.4350331723690033, 3.817729353904724, 4.32610958814621, 2.732347548007965, 4.942918121814728, 4.85737144947052, 2.5408154726028442, 4.978915452957153, 3.672761023044586, 2.4076125025749207, 4.436693489551544, 4.2410847544670105, 4.160354733467102, 4.798409938812256, 1.717970222234726, 3.0165180563926697, 3.0856692790985107, 3.94400417804718, 3.012095093727112, 4.773006737232208, 2.313018888235092, 4.296680688858032, 2.362023890018463, 3.455304503440857, 0.8834114670753479, 3.555550277233124, 3.649827539920807, 4.826914668083191, 4.459556043148041, 0.9685391187667847, 3.9284083247184753, 4.586126804351807, 4.027121067047119, 3.4998315572738647, 4.769723415374756, 3.2828468084335327, 3.5679376125335693, 4.873513579368591, 4.311458468437195, 0.7910410314798355, 2.75632381439209, 3.3691248297691345, 2.2231943905353546, 4.149780869483948, 4.0397438406944275, 4.32610958814621, 4.925058484077454, 3.7236326932907104, 4.544968008995056, 4.967440068721771, 4.924787878990173, 2.248189151287079, 3.0040159821510315, 4.624946713447571, 3.9929357171058655, 4.466076195240021, 3.373095691204071, 2.3974019289016724, 3.481414318084717, 2.869724929332733, 3.997706174850464, 2.536870837211609, 2.623937726020813, 0.09076016023755074, 2.3172909021377563, 4.285449683666229, 2.447897046804428, 3.300078809261322, 4.375000894069672, 4.309515058994293, 1.6971011459827423, 3.242008090019226, -0.31463623046875, 2.652016580104828, 4.85737144947052, 3.9193621277809143, 4.3024104833602905, 4.868661463260651, 3.6488714814186096, 4.651662111282349, 3.755539655685425, 2.4901366233825684, 1.3433365523815155, 2.477607876062393, 4.9588218331336975, 3.01395982503891, 4.358431398868561, 3.9969047904014587, 2.8049901127815247, 4.74396675825119, 4.315317869186401, 3.2927092909812927, 4.785422682762146, 4.2342692613601685, 1.245591640472412, 4.79409784078598, 2.937946319580078, 3.743351697921753, 2.9229307174682617, 4.499779939651489, 4.240690171718597, 3.7273135781288147, 3.9749038219451904, 4.125701189041138, 2.949419915676117, 3.6054494976997375, 3.7285667657852173, 3.9273440837860107, 4.102317988872528, 2.7274826169013977, 2.131911963224411, 2.5760307908058167, 3.276245892047882, 2.868158519268036, 4.173972904682159, 3.3549106121063232, 0.28460126370191574, 4.682537019252777, 4.309855401515961, 4.769723415374756, 2.7972984313964844, 4.2200228571891785, 3.3838123083114624, 3.8386428356170654, 3.1976503133773804, 4.240690171718597, 3.3950290083885193, 1.5222012996673584, 4.5998165011405945, 2.4336716532707214, 4.003792405128479, 2.2847597301006317, 3.3567366003990173, 3.747926652431488, 4.672908186912537, 4.360371232032776, 1.3838177919387817, 4.01491105556488, 3.4050253033638, 2.956286668777466, 1.4642202854156494, 4.997225105762482, 1.8277156352996826, 4.831719398498535, 4.362357258796692, 3.7178266048431396, 4.509625732898712, 3.3574584126472473, 4.145722985267639, 3.7303951382637024, 4.132785499095917, 4.6503326296806335, 4.778231978416443, 4.834105670452118, 3.127892315387726, 3.3593979477882385, 3.8386428356170654, 4.661356806755066, 4.515983462333679, 3.2629743218421936, 4.661528468132019, 4.104614853858948, 4.989992678165436, 2.3197515308856964, 4.74422425031662, 3.933388590812683, 3.6010846495628357, 2.3913757503032684, 4.883376359939575, 4.923982322216034, 4.3890380859375, 0.7443428784608841, 3.1845811009407043, 4.047963619232178, 3.6093786358833313, 2.4952608346939087, 4.2126792669296265, 4.386451840400696, 4.281848073005676, 4.949016869068146, 1.5645644068717957, 3.1125789880752563, 4.517190158367157, 1.4469042420387268, 4.915791153907776, 1.4708980917930603, 3.0830663442611694, 0.8069705963134766, 3.4196144342422485, 3.6110830307006836, 2.458944320678711, 2.8160741925239563, 3.2293808460235596, 2.534058690071106, 2.2735877335071564, 3.7303951382637024, 2.8039923310279846, 3.4387078881263733, 4.637669920921326, 4.382880926132202, 1.4786487817764282, 4.399431943893433, 3.0803346633911133, 2.865135669708252, 4.437851011753082, 4.686629772186279, 3.2593992352485657, 4.934639036655426, 1.834275871515274, 4.749240875244141, 3.179408013820648, 1.052740141749382, 3.1752488017082214, 4.134747684001923, 4.9491965770721436, 4.792227745056152, 4.374933838844299, 3.3299362659454346, 1.8802034854888916, 2.791741192340851, 4.945726990699768, 4.165193140506744, 3.555588126182556, 4.786808490753174, 4.088614583015442, 2.102552652359009, 4.358431398868561, 1.3299548625946045, 3.1874406337738037, 4.51756477355957, 1.4859695732593536, 4.862069487571716, 4.613229036331177, 2.845887243747711, 0.9890967607498169, 3.919021785259247, 4.176487028598785, 4.390156865119934, 3.6488714814186096, 2.670709192752838, 4.240690171718597, 3.204270601272583, 4.557947814464569, 4.943841397762299, 3.8412418961524963, 2.4471691250801086, 3.4504902362823486, 4.282521307468414, 3.010619878768921, 3.4208062291145325, 1.7377474904060364, 3.2293808460235596, 0.5616617947816849, 2.7352750301361084, 3.748069703578949, 2.2231943905353546, 3.2507488131523132, 3.4465622901916504, 2.4943071603775024, 4.498150944709778, 3.926055133342743, 4.289478063583374, 0.9433804452419281, 4.041241109371185, 3.8237151503562927, 3.9733675122261047, 3.3013126254081726, 1.6576649248600006, 3.4033992886543274, 1.7147886753082275, 4.2126792669296265, 3.8804131746292114, 4.514369964599609, 3.846714198589325, 4.629340767860413, 1.262553483247757, 3.9636707305908203, 2.125893384218216, 4.588099122047424, 2.98745334148407, 4.696139991283417, 1.6031807661056519, 2.99096941947937, 4.758450388908386, 0.30082114040851593, 3.784768581390381, 2.5954845547676086, 3.5666844248771667, 4.659799635410309, 0.9570436924695969, 4.240690171718597, 2.2835983335971832, 1.908862143754959, 3.946521282196045, 4.365508854389191, 2.198953479528427, 4.432697594165802, 3.1905943155288696, 4.522563815116882, 3.4420767426490784, 2.790842056274414, 3.8237151503562927, 4.551400542259216, 0.8787737041711807, 1.5467864274978638, 3.8804131746292114, 4.826914668083191, 3.755539655685425, 3.5421177744865417, 3.216114342212677, 4.527503252029419, 4.474403560161591, 4.238566160202026, 4.057449698448181, 4.029615223407745, 4.932633638381958, 2.0437459647655487, 0.7929976284503937, 4.719183146953583, 2.732248902320862, 4.309855401515961, 2.7866044640541077, 4.126959145069122, 4.967440068721771, 3.2635483145713806, 4.824840724468231, 2.812897264957428, 2.6497313380241394, 1.3391827046871185, 3.833368718624115, 4.426195025444031, 4.975394308567047, 3.924877345561981, 4.3419259786605835, 3.2635483145713806, 4.881006479263306, 1.2601016461849213, 4.678665101528168, 4.273479878902435, 4.858483076095581, 3.8242241740226746, 4.273470938205719, 4.3024104833602905, 4.471083283424377, 2.9845499992370605, 3.2681265473365784, 3.4470030665397644, 4.318797588348389, 4.515851736068726, 4.041147232055664, 3.505464792251587, 4.416528344154358, 1.2949605286121368, 4.083031415939331, 4.754491746425629, 3.3031320571899414, 3.985678553581238, 1.8067286908626556, 2.9900509119033813, 1.5674039721488953, 3.995284140110016, 3.9896658062934875, 3.262222409248352, 2.7437952160835266, 1.1793751269578934, 4.237389862537384, 2.9760995507240295, 4.550006985664368, 3.2685455679893494, 0.9646154195070267, 1.147300899028778, 0.6362821906805038, 0.8415760844945908, 3.2936182618141174, 0.4404465854167938, 1.4592872560024261, 4.952256679534912, 2.1879328787326813, 4.819929301738739, 4.027218818664551, 4.637669920921326, 0.34507252275943756, 4.885818958282471, 4.697366952896118, 4.6640729904174805, 1.9840729236602783, 3.349291980266571, 2.506040036678314, 4.093564450740814, 4.037538468837738, 3.1985989212989807, 4.78274792432785, 4.266575276851654, 4.041147232055664, 4.975394308567047, 3.435351848602295, 3.120373785495758, -0.015823347494006157, 3.1952890753746033, 3.7353622913360596, 4.9434879422187805, 4.915791153907776, 2.4788427352905273, 3.0287814140319824, 3.003109395503998, 4.510942101478577, 4.753283858299255, 3.378283679485321, 4.920630753040314, 3.4016191959381104, 4.745806455612183, 4.748874008655548, 4.522563815116882, 4.146645367145538, 1.9958354532718658, 4.3656522035598755, 4.0626877546310425, 4.915791153907776, 3.3865126967430115, 2.543085515499115, 3.6338016390800476, 2.2913864254951477, 3.0563178658485413, 1.4104840159416199, 4.690243303775787, 1.6927053034305573, 1.7948168516159058, 4.136500358581543, 4.915791153907776, 1.6598263382911682, 2.9312744736671448, 3.3329686522483826, 3.619115948677063, 4.037538468837738, 4.308156073093414, 2.6073575019836426, 3.5280641913414, 1.1358236521482468, 4.954144358634949, 4.548095166683197, 3.231724798679352, 4.309515058994293, 2.5673043727874756, 3.204270601272583, 4.674603343009949, 4.544968008995056, 2.594934403896332, 2.860288918018341, 2.271149158477783, 1.5102070569992065, 3.798127770423889, 4.515983462333679, 3.085845708847046, 3.413121998310089, 2.9644814133644104, 2.1658144891262054, 4.240767955780029, 3.3742979168891907, 3.762536644935608, 3.565894663333893, 3.6075878143310547, 3.0053532123565674, 2.278826981782913, 3.8699302077293396, 4.81207549571991, 4.426557421684265, 3.6453792452812195, 3.3593979477882385, 4.261003732681274, 1.2736572325229645, 4.905134439468384, 4.052779376506805, 4.595730006694794, 4.022594690322876, 3.2927927374839783, 2.644006907939911, 3.192826807498932, 2.5543752312660217, 2.746173143386841, 3.313875198364258, 4.315317869186401, 2.7381598949432373, 0.876283124089241, 1.60026416182518, 4.758840501308441, 4.027218818664551, 1.9116337597370148, 4.612160325050354, 3.8237151503562927, 4.78424072265625, 0.9532896429300308, 2.39299476146698, 1.6617919504642487, 3.748280704021454, 3.8259157538414, 2.6724088191986084, 0.8921066671609879, 2.6622870564460754, 4.100698232650757, 4.309855401515961, 2.237382233142853, 3.997088372707367, 2.1238312125205994, 2.8511732816696167, 4.915791153907776, 3.1465166807174683, 3.784794509410858, 1.5959453582763672, 3.84229838848114, 3.2446518540382385, 4.826331734657288, 1.375749111175537, 3.3707797527313232, 3.6532267928123474, 4.822326898574829, 4.361080229282379, 1.97580948472023, 4.467967450618744, 3.7496405839920044, 3.777815103530884, 3.0902445316314697, 3.6968961358070374, 2.185744494199753, 3.4043914079666138, 1.912626326084137, 4.373512268066406, 3.072245419025421, 4.9616435170173645, 4.599019885063171, 3.201778531074524, 3.332442343235016, 3.2239213585853577, 2.6550161838531494, 3.965965509414673, 3.814138174057007, 1.4514051377773285, 1.8804572522640228, 3.2854989171028137, 1.0334213823080063, 3.1963855028152466, 3.8613778352737427, 3.7610572576522827, 2.812376916408539, 4.785809516906738, 4.645633697509766, 4.029884338378906, 3.1031963229179382, 2.982955276966095, 4.3282246589660645, 0.8919163793325424, 4.281848073005676, 4.752719402313232, 2.9575997591018677, 4.041241109371185, 3.6653289198875427, 2.146833688020706, 4.822326898574829, 3.0900898575782776, 3.943893313407898, 3.7098145484924316, 4.320741593837738, 4.416324496269226, 1.2258362025022507, 3.701009750366211, 2.6995548605918884, 3.2713398337364197, 3.8588833808898926, 3.4208062291145325, 3.354739248752594, 2.996726334095001, 4.496520459651947, 4.342453181743622, 4.2129674553871155, 1.3957008719444275, 2.0998723804950714, 3.2987311482429504, 4.796638488769531, 2.550320029258728, 1.2239006161689758, 4.920739829540253, 4.905134439468384, 4.909860193729401, 3.380640745162964, 4.377293586730957, 3.416457176208496, 3.8237151503562927, 4.868661463260651, 0.792405977845192, 1.645222008228302, 4.2599183320999146, 3.9743661880493164, 2.5630074739456177, 3.9078909158706665, 3.042626976966858, 1.0994626581668854, 4.416528344154358, 3.187103569507599, 4.776706695556641, 3.881033957004547, 2.3205208778381348, 4.581728577613831, 4.407708644866943, 4.871635437011719, 1.9857528805732727, 2.674565017223358, 4.314728379249573, 1.0944728553295135, 3.5534384846687317, 3.0321484804153442, 4.509625732898712, 4.513509273529053, 2.450612336397171, 3.813799023628235, 2.565767765045166, 1.2107060849666595, 0.49297213554382324, 3.0029377341270447, 4.697366952896118, 3.9896342158317566, 4.2126792669296265, 2.0343388617038727, 4.888328015804291, 1.589220017194748, 4.281848073005676, 3.850012719631195, 1.5344512462615967, 3.0863600969314575, 1.3798202574253082, 2.3998641967773438, 3.030422329902649, 1.356210708618164, 1.7936903238296509, 3.3379265666007996, 3.4673532843589783, 2.868158519268036, 2.2838015854358673, 1.3533161580562592, 4.125088751316071, 3.7581053376197815, 2.384255826473236, 2.437848001718521, 4.924956262111664, 4.826331734657288, 2.851811945438385, 2.4975641071796417, 4.725082814693451, 4.85737144947052, 2.5250983238220215, 4.729287028312683, 3.2924342155456543, 4.474319219589233, 1.8158124387264252, 4.193779528141022, 0.9219544380903244, 4.473392367362976, 3.2331591844558716, 4.855581820011139, 2.539675235748291, 2.862483263015747, 3.3550813794136047, 3.42676043510437, 4.086647629737854, 4.3419259786605835, 2.956286668777466, 2.458944320678711, 3.506120443344116, 2.7622365951538086, 3.9792433381080627, 4.995720684528351, 4.3101707100868225, 2.4710331857204437, 3.869495391845703, 3.9682433009147644, 3.205236792564392, 2.64159232378006, 3.455354869365692, 3.120373785495758, 3.1223031878471375, 0.39467398077249527, 4.331581294536591, 2.2166943550109863, 2.15632900595665, 1.1974911391735077, 4.008942246437073, 3.4394606947898865, 4.902233183383942, 4.33791846036911, 2.553541660308838, 2.205728441476822, 3.303629457950592, 1.316949874162674, 4.59682822227478, 2.75632381439209, 3.141135275363922, 4.663791656494141, 3.945346772670746, 3.3498775959014893, 3.371255397796631, 1.3106851279735565, 2.630903720855713, 2.2166943550109863, 2.0681777596473694, 2.807917296886444, 4.645633697509766, 3.214041292667389, 1.3072620332241058, 1.037861406803131, 4.788224697113037, 2.9172107577323914, 3.247218132019043, 4.0804290771484375, 3.558618724346161, 3.24038028717041, 4.678665101528168, 4.187580943107605, 3.716283142566681, 2.162053734064102, 3.2518526911735535, 1.391918659210205, 3.271288275718689, 4.01491105556488, 3.410903215408325, 3.122359812259674, 4.773006737232208, 2.3570269346237183, 1.9294233620166779, 2.9276415705680847, 2.2289246320724487, 4.042961299419403, 3.2239243388175964, 4.646334946155548, 3.7610572576522827, 2.3809295892715454, 4.6732497215271, 4.915791153907776, 4.022594690322876, 4.796638488769531, 4.296680688858032, 0.33187977969646454, 4.787214994430542, 3.24089378118515, 3.9992868900299072, 3.628801107406616, 3.0815929174423218, 2.936655580997467, 3.2936182618141174, 3.1628933548927307, 4.144214391708374, 0.22277237847447395, 2.823663055896759, 2.871980667114258, 1.3309122622013092, 4.831719398498535, 3.1420645117759705, 4.334055781364441, 3.1211623549461365, 3.1458422541618347, 3.1160303950309753, 2.881045639514923, 2.8041815757751465, 4.526444375514984, 3.137693405151367, 1.2117411196231842, 2.903951108455658, 2.868158519268036, 1.518293172121048, 3.994494080543518, 2.924174666404724, 4.74422425031662, 3.352879285812378, 3.246757686138153, 3.214041292667389, 3.260214328765869, 3.5280641913414, 4.997225105762482, 0.08402067236602306, 4.72814679145813, 2.5269046425819397, 2.1658144891262054, 4.116454720497131, 3.201778531074524, 4.282521307468414, 4.517190158367157, 2.362023890018463, 1.4562439918518066, 1.5803632140159607, 3.1189224123954773, 3.624418079853058, 4.058278203010559, 2.3497529327869415, 1.460852026939392, 3.020196855068207, 4.083031415939331, 3.2085999846458435, 2.3021723330020905, 1.142256185412407, 2.9722604155540466, 4.266575276851654, 2.961864471435547, 4.124871492385864, 4.613229036331177, 2.5170576572418213, 4.9434879422187805, 4.377293586730957, 4.858483076095581, 2.8019851446151733, 2.2847597301006317, 3.356908857822418, 2.75632381439209, 1.589195430278778, 2.9098090529441833, 4.949016869068146, 2.977868914604187, 3.3577314019203186, 4.281848073005676, 3.0235522985458374, 3.225589692592621, 4.787214994430542, 2.963513135910034, 2.1633921563625336, 2.61348158121109, 2.946942150592804, 4.027218818664551, 3.2085999846458435, 2.508442997932434, 2.597557008266449, 2.118654102087021, 1.8513986468315125, 4.009233117103577, 3.003109395503998, 4.266575276851654, 1.5892648696899414, 2.75632381439209, 4.915791153907776, 3.0563780665397644, 3.1422975659370422, 4.078657627105713, 0.5108252912759781, 2.739529311656952, 4.862069487571716, 3.2715189456939697, 1.009223312139511, 0.44045180082321167, 2.8960976004600525, 3.513329029083252, 3.925171196460724, 4.1750600934028625, 3.7180939316749573, 3.4924396872520447, 2.5566262006759644, 2.7622365951538086, 3.085845708847046, 3.2927927374839783, 4.154878556728363, 4.203997254371643, 4.373512268066406, 1.4748984575271606, 2.2070083022117615, 0.5083661526441574, 4.923982322216034, 4.196434915065765, 4.436693489551544, 3.2690411806106567, 2.6011675596237183, 4.128654897212982, 0.3700624778866768, 2.294495701789856, 1.686512976884842, 4.741152822971344, 3.652378022670746, 3.3567366003990173, 4.240690171718597, 1.1038799583911896, 1.671275645494461, 1.5529567003250122, 2.6580408215522766, 1.9921016693115234, 4.363940060138702, 3.4033992886543274, 1.6735945641994476, 4.2043691873550415, 2.497166246175766, 1.1977215856313705, 1.2720134854316711, 4.266575276851654, 4.78424072265625, 4.471004903316498, 3.5666844248771667, 3.9291608333587646, 0.9208168089389801, 2.756856083869934, 4.124871492385864, 2.9098090529441833, 0.2708263695240021, 3.110480010509491]\n"
          ]
        }
      ]
    },
    {
      "cell_type": "code",
      "source": [
        "!pip install simcse"
      ],
      "metadata": {
        "colab": {
          "base_uri": "https://localhost:8080/",
          "height": 1000
        },
        "id": "mai4eiY103RU",
        "outputId": "0682b41e-ec81-41e1-e1db-198a699771fc"
      },
      "execution_count": 5,
      "outputs": [
        {
          "output_type": "stream",
          "name": "stdout",
          "text": [
            "Looking in indexes: https://pypi.org/simple, https://us-python.pkg.dev/colab-wheels/public/simple/\n",
            "Collecting simcse\n",
            "  Downloading simcse-0.4.tar.gz (18 kB)\n",
            "Requirement already satisfied: tqdm in /usr/local/lib/python3.7/dist-packages (from simcse) (4.64.1)\n",
            "Requirement already satisfied: scikit-learn in /usr/local/lib/python3.7/dist-packages (from simcse) (1.0.2)\n",
            "Collecting scipy<1.6,>=1.5.4\n",
            "  Downloading scipy-1.5.4-cp37-cp37m-manylinux1_x86_64.whl (25.9 MB)\n",
            "\u001b[K     |████████████████████████████████| 25.9 MB 1.3 MB/s \n",
            "\u001b[?25hCollecting transformers\n",
            "  Downloading transformers-4.23.1-py3-none-any.whl (5.3 MB)\n",
            "\u001b[K     |████████████████████████████████| 5.3 MB 40.2 MB/s \n",
            "\u001b[?25hRequirement already satisfied: torch in /usr/local/lib/python3.7/dist-packages (from simcse) (1.12.1+cu113)\n",
            "Collecting numpy<1.20,>=1.19.5\n",
            "  Downloading numpy-1.19.5-cp37-cp37m-manylinux2010_x86_64.whl (14.8 MB)\n",
            "\u001b[K     |████████████████████████████████| 14.8 MB 32.8 MB/s \n",
            "\u001b[?25hRequirement already satisfied: setuptools in /usr/local/lib/python3.7/dist-packages (from simcse) (57.4.0)\n",
            "Requirement already satisfied: threadpoolctl>=2.0.0 in /usr/local/lib/python3.7/dist-packages (from scikit-learn->simcse) (3.1.0)\n",
            "Requirement already satisfied: joblib>=0.11 in /usr/local/lib/python3.7/dist-packages (from scikit-learn->simcse) (1.2.0)\n",
            "Requirement already satisfied: typing-extensions in /usr/local/lib/python3.7/dist-packages (from torch->simcse) (4.1.1)\n",
            "Requirement already satisfied: requests in /usr/local/lib/python3.7/dist-packages (from transformers->simcse) (2.23.0)\n",
            "Collecting tokenizers!=0.11.3,<0.14,>=0.11.1\n",
            "  Downloading tokenizers-0.13.1-cp37-cp37m-manylinux_2_17_x86_64.manylinux2014_x86_64.whl (7.6 MB)\n",
            "\u001b[K     |████████████████████████████████| 7.6 MB 41.0 MB/s \n",
            "\u001b[?25hRequirement already satisfied: importlib-metadata in /usr/local/lib/python3.7/dist-packages (from transformers->simcse) (5.0.0)\n",
            "Collecting huggingface-hub<1.0,>=0.10.0\n",
            "  Downloading huggingface_hub-0.10.1-py3-none-any.whl (163 kB)\n",
            "\u001b[K     |████████████████████████████████| 163 kB 59.4 MB/s \n",
            "\u001b[?25hRequirement already satisfied: filelock in /usr/local/lib/python3.7/dist-packages (from transformers->simcse) (3.8.0)\n",
            "Requirement already satisfied: regex!=2019.12.17 in /usr/local/lib/python3.7/dist-packages (from transformers->simcse) (2022.6.2)\n",
            "Requirement already satisfied: pyyaml>=5.1 in /usr/local/lib/python3.7/dist-packages (from transformers->simcse) (6.0)\n",
            "Requirement already satisfied: packaging>=20.0 in /usr/local/lib/python3.7/dist-packages (from transformers->simcse) (21.3)\n",
            "Requirement already satisfied: pyparsing!=3.0.5,>=2.0.2 in /usr/local/lib/python3.7/dist-packages (from packaging>=20.0->transformers->simcse) (3.0.9)\n",
            "Requirement already satisfied: zipp>=0.5 in /usr/local/lib/python3.7/dist-packages (from importlib-metadata->transformers->simcse) (3.9.0)\n",
            "Requirement already satisfied: idna<3,>=2.5 in /usr/local/lib/python3.7/dist-packages (from requests->transformers->simcse) (2.10)\n",
            "Requirement already satisfied: certifi>=2017.4.17 in /usr/local/lib/python3.7/dist-packages (from requests->transformers->simcse) (2022.9.24)\n",
            "Requirement already satisfied: chardet<4,>=3.0.2 in /usr/local/lib/python3.7/dist-packages (from requests->transformers->simcse) (3.0.4)\n",
            "Requirement already satisfied: urllib3!=1.25.0,!=1.25.1,<1.26,>=1.21.1 in /usr/local/lib/python3.7/dist-packages (from requests->transformers->simcse) (1.24.3)\n",
            "Building wheels for collected packages: simcse\n",
            "  Building wheel for simcse (setup.py) ... \u001b[?25l\u001b[?25hdone\n",
            "  Created wheel for simcse: filename=simcse-0.4-py3-none-any.whl size=15033 sha256=9e90e4857c42bb0e5853029711026e367e4b6b7cbe08cc92037cf88c7707d41e\n",
            "  Stored in directory: /root/.cache/pip/wheels/29/b0/58/448de751ccbe2a0e75c054e34416e7a5a1aead371d5d163450\n",
            "Successfully built simcse\n",
            "Installing collected packages: numpy, tokenizers, scipy, huggingface-hub, transformers, simcse\n",
            "  Attempting uninstall: numpy\n",
            "    Found existing installation: numpy 1.21.6\n",
            "    Uninstalling numpy-1.21.6:\n",
            "      Successfully uninstalled numpy-1.21.6\n",
            "  Attempting uninstall: scipy\n",
            "    Found existing installation: scipy 1.7.3\n",
            "    Uninstalling scipy-1.7.3:\n",
            "      Successfully uninstalled scipy-1.7.3\n",
            "\u001b[31mERROR: pip's dependency resolver does not currently take into account all the packages that are installed. This behaviour is the source of the following dependency conflicts.\n",
            "xarray-einstats 0.2.2 requires numpy>=1.21, but you have numpy 1.19.5 which is incompatible.\n",
            "tensorflow 2.9.2 requires numpy>=1.20, but you have numpy 1.19.5 which is incompatible.\n",
            "jaxlib 0.3.20+cuda11.cudnn805 requires numpy>=1.20, but you have numpy 1.19.5 which is incompatible.\n",
            "jax 0.3.21 requires numpy>=1.20, but you have numpy 1.19.5 which is incompatible.\n",
            "cmdstanpy 1.0.7 requires numpy>=1.21, but you have numpy 1.19.5 which is incompatible.\u001b[0m\n",
            "Successfully installed huggingface-hub-0.10.1 numpy-1.19.5 scipy-1.5.4 simcse-0.4 tokenizers-0.13.1 transformers-4.23.1\n"
          ]
        },
        {
          "output_type": "display_data",
          "data": {
            "application/vnd.colab-display-data+json": {
              "pip_warning": {
                "packages": [
                  "numpy"
                ]
              }
            }
          },
          "metadata": {}
        }
      ]
    },
    {
      "cell_type": "code",
      "source": [],
      "metadata": {
        "id": "IsxH5X8iQ-7g"
      },
      "execution_count": null,
      "outputs": []
    }
  ]
}