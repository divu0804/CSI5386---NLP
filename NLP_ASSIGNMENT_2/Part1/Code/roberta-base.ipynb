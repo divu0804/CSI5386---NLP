{
  "cells": [
    {
      "cell_type": "code",
      "execution_count": 3,
      "metadata": {
        "colab": {
          "base_uri": "https://localhost:8080/"
        },
        "id": "OqAzOjgGojeE",
        "outputId": "d1042756-dc54-46bf-f3ca-e56510f886ef"
      },
      "outputs": [
        {
          "output_type": "stream",
          "name": "stdout",
          "text": [
            "Error: Failed to call git rev-parse --git-dir --show-toplevel: \"fatal: not a git repository (or any of the parent directories): .git\\n\"\n",
            "Git LFS initialized.\n",
            "Looking in indexes: https://pypi.org/simple, https://us-python.pkg.dev/colab-wheels/public/simple/\n",
            "Requirement already satisfied: transformers in /usr/local/lib/python3.7/dist-packages (4.24.0)\n",
            "Requirement already satisfied: regex!=2019.12.17 in /usr/local/lib/python3.7/dist-packages (from transformers) (2022.6.2)\n",
            "Requirement already satisfied: pyyaml>=5.1 in /usr/local/lib/python3.7/dist-packages (from transformers) (6.0)\n",
            "Requirement already satisfied: requests in /usr/local/lib/python3.7/dist-packages (from transformers) (2.23.0)\n",
            "Requirement already satisfied: packaging>=20.0 in /usr/local/lib/python3.7/dist-packages (from transformers) (21.3)\n",
            "Requirement already satisfied: huggingface-hub<1.0,>=0.10.0 in /usr/local/lib/python3.7/dist-packages (from transformers) (0.11.1)\n",
            "Requirement already satisfied: tokenizers!=0.11.3,<0.14,>=0.11.1 in /usr/local/lib/python3.7/dist-packages (from transformers) (0.13.2)\n",
            "Requirement already satisfied: importlib-metadata in /usr/local/lib/python3.7/dist-packages (from transformers) (4.13.0)\n",
            "Requirement already satisfied: filelock in /usr/local/lib/python3.7/dist-packages (from transformers) (3.8.0)\n",
            "Requirement already satisfied: tqdm>=4.27 in /usr/local/lib/python3.7/dist-packages (from transformers) (4.64.1)\n",
            "Requirement already satisfied: numpy>=1.17 in /usr/local/lib/python3.7/dist-packages (from transformers) (1.21.6)\n",
            "Requirement already satisfied: typing-extensions>=3.7.4.3 in /usr/local/lib/python3.7/dist-packages (from huggingface-hub<1.0,>=0.10.0->transformers) (4.1.1)\n",
            "Requirement already satisfied: pyparsing!=3.0.5,>=2.0.2 in /usr/local/lib/python3.7/dist-packages (from packaging>=20.0->transformers) (3.0.9)\n",
            "Requirement already satisfied: zipp>=0.5 in /usr/local/lib/python3.7/dist-packages (from importlib-metadata->transformers) (3.10.0)\n",
            "Requirement already satisfied: chardet<4,>=3.0.2 in /usr/local/lib/python3.7/dist-packages (from requests->transformers) (3.0.4)\n",
            "Requirement already satisfied: certifi>=2017.4.17 in /usr/local/lib/python3.7/dist-packages (from requests->transformers) (2022.9.24)\n",
            "Requirement already satisfied: idna<3,>=2.5 in /usr/local/lib/python3.7/dist-packages (from requests->transformers) (2.10)\n",
            "Requirement already satisfied: urllib3!=1.25.0,!=1.25.1,<1.26,>=1.21.1 in /usr/local/lib/python3.7/dist-packages (from requests->transformers) (1.24.3)\n",
            "Cloning into 'cuad'...\n",
            "remote: Enumerating objects: 30, done.\u001b[K\n",
            "remote: Total 30 (delta 0), reused 0 (delta 0), pack-reused 30\u001b[K\n",
            "Unpacking objects: 100% (30/30), done.\n"
          ]
        }
      ],
      "source": [
        "!git lfs install\n",
        "!pip install transformers\n",
        "#clone the github code from the site\n",
        "!git clone https://github.com/TheAtticusProject/cuad.git"
      ]
    },
    {
      "cell_type": "code",
      "execution_count": 4,
      "metadata": {
        "id": "p_Ust5rAoypD",
        "colab": {
          "base_uri": "https://localhost:8080/"
        },
        "outputId": "eb297f1b-57fd-46c8-f397-35ec9a4c74a9"
      },
      "outputs": [
        {
          "output_type": "stream",
          "name": "stdout",
          "text": [
            "Archive:  /content/roberta-base.zip\n",
            "   creating: /content/roberta-base/roberta-base/\n",
            "  inflating: /content/roberta-base/roberta-base/special_tokens_map.json  \n",
            "  inflating: /content/roberta-base/roberta-base/tokenizer_config.json  \n",
            "  inflating: /content/roberta-base/roberta-base/pytorch_model.bin  \n",
            "  inflating: /content/roberta-base/roberta-base/training_args.bin  \n",
            "  inflating: /content/roberta-base/roberta-base/vocab.json  \n",
            "  inflating: /content/roberta-base/roberta-base/predictions_.json  \n",
            "  inflating: /content/roberta-base/roberta-base/merges.txt  \n",
            "  inflating: /content/roberta-base/roberta-base/nbest_predictions_.json  \n",
            "  inflating: /content/roberta-base/roberta-base/null_odds_.json  \n",
            "  inflating: /content/roberta-base/roberta-base/config.json  \n"
          ]
        }
      ],
      "source": [
        "!unzip /content/roberta-base.zip -d /content/roberta-base"
      ]
    },
    {
      "cell_type": "code",
      "source": [
        "!unzip /content/cuad/data.zip -d /content/cuad/data"
      ],
      "metadata": {
        "colab": {
          "base_uri": "https://localhost:8080/"
        },
        "id": "bVujFYPoyvj0",
        "outputId": "892652bf-4426-4da1-c4c7-b3cb57d481cb"
      },
      "execution_count": 5,
      "outputs": [
        {
          "output_type": "stream",
          "name": "stdout",
          "text": [
            "Archive:  /content/cuad/data.zip\n",
            "replace /content/cuad/data/CUADv1.json? [y]es, [n]o, [A]ll, [N]one, [r]ename: y\n",
            "  inflating: /content/cuad/data/CUADv1.json  \n",
            "replace /content/cuad/data/test.json? [y]es, [n]o, [A]ll, [N]one, [r]ename: y\n",
            "  inflating: /content/cuad/data/test.json  \n",
            "replace /content/cuad/data/train_separate_questions.json? [y]es, [n]o, [A]ll, [N]one, [r]ename: y\n",
            "  inflating: /content/cuad/data/train_separate_questions.json  \n"
          ]
        }
      ]
    },
    {
      "cell_type": "code",
      "source": [
        "import json\n",
        "\n",
        "#read training data \n",
        "with open(\"/content/cuad/data/train_separate_questions.json\",\"r\") as file:\n",
        "  train_file = json.load(file)\n",
        "\n",
        "#save the 16 file of training data in train_file\n",
        "train_file[\"data\"]=train_file[\"data\"][0:16]\n",
        "with open(\"/content/cuad/data/training_dataset.json\",\"w\") as file:\n",
        "  json.dump(train_file, file)\n",
        "\n",
        "#read the test file\n",
        "with open(\"/content/cuad/data/test.json\",\"r\") as file:\n",
        "  test_file=json.load(file)\n",
        "\n",
        "#save 4 files in testing_dataset.json\n",
        "test_file[\"data\"]=test_file[\"data\"][0:4]\n",
        "with open(\"/content/cuad/data/testing_dataset.json\",\"w\") as file:\n",
        "  json.dump(test_file,file)"
      ],
      "metadata": {
        "id": "EFTNvaMgy39o"
      },
      "execution_count": 6,
      "outputs": []
    },
    {
      "cell_type": "code",
      "source": [
        "!python /content/cuad/evaluate.py"
      ],
      "metadata": {
        "colab": {
          "base_uri": "https://localhost:8080/"
        },
        "id": "eveTkbbxzHfZ",
        "outputId": "15b77cf7-a3e0-4675-9e59-3739c76c9ccd"
      },
      "execution_count": 7,
      "outputs": [
        {
          "output_type": "stream",
          "name": "stdout",
          "text": [
            "AUPR: 0.426, Precision at 80% Recall: 0.311, Precision at 90% Recall: 0.000\n"
          ]
        }
      ]
    },
    {
      "cell_type": "code",
      "source": [],
      "metadata": {
        "id": "TmBwlATQz4cp"
      },
      "execution_count": null,
      "outputs": []
    }
  ],
  "metadata": {
    "colab": {
      "provenance": []
    },
    "gpuClass": "standard",
    "kernelspec": {
      "display_name": "Python 3",
      "name": "python3"
    },
    "language_info": {
      "name": "python"
    }
  },
  "nbformat": 4,
  "nbformat_minor": 0
}